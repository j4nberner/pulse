{
 "cells": [
  {
   "cell_type": "code",
   "execution_count": 2,
   "id": "f3ca0d90",
   "metadata": {},
   "outputs": [],
   "source": [
    "import os\n",
    "\n",
    "from xai_sdk import Client\n",
    "from xai_sdk.chat import system, user"
   ]
  },
  {
   "cell_type": "code",
   "execution_count": null,
   "id": "4db4f7d4",
   "metadata": {},
   "outputs": [
    {
     "name": "stdout",
     "output_type": "stream",
     "text": [
      "Reasoning Content:\n",
      "\n",
      "Final Response:\n",
      "101 multiplied by 3 is 303. If you have more calculations or questions, feel free to ask!\n",
      "Number of completion tokens:\n",
      "22\n",
      "Number of reasoning tokens:\n",
      "133\n"
     ]
    }
   ],
   "source": [
    "client = Client(\n",
    "    api_key=\"\",\n",
    "    timeout=3600,  # Override default timeout with longer timeout for reasoning models\n",
    ")\n",
    "\n",
    "chat = client.chat.create(\n",
    "    model=\"grok-4\",\n",
    "    messages=[system(\"You are a highly intelligent AI assistant.\")],\n",
    ")\n",
    "chat.append(user(\"What is 101*3?\"))\n",
    "\n",
    "response = chat.sample()\n",
    "\n",
    "print(\"Reasoning Content:\")\n",
    "print(response.reasoning_content)\n",
    "\n",
    "print(\"Final Response:\")\n",
    "print(response.content)\n",
    "\n",
    "print(\"Number of completion tokens:\")\n",
    "print(response.usage.completion_tokens)\n",
    "\n",
    "print(\"Number of reasoning tokens:\")\n",
    "print(response.usage.reasoning_tokens)"
   ]
  },
  {
   "cell_type": "code",
   "execution_count": 5,
   "id": "b62acc0e",
   "metadata": {},
   "outputs": [
    {
     "data": {
      "text/plain": [
       "messages {\n",
       "  content {\n",
       "    text: \"You are a highly intelligent AI assistant.\"\n",
       "  }\n",
       "  role: ROLE_SYSTEM\n",
       "}\n",
       "messages {\n",
       "  content {\n",
       "    text: \"What is 101*3?\"\n",
       "  }\n",
       "  role: ROLE_USER\n",
       "}\n",
       "model: \"grok-4\""
      ]
     },
     "execution_count": 5,
     "metadata": {},
     "output_type": "execute_result"
    }
   ],
   "source": [
    "chat"
   ]
  },
  {
   "cell_type": "code",
   "execution_count": 4,
   "id": "30aff1ef",
   "metadata": {},
   "outputs": [
    {
     "data": {
      "text/plain": [
       "id: \"73b9be92-b2e8-a740-e74c-1df5f23948d2\"\n",
       "choices {\n",
       "  finish_reason: REASON_STOP\n",
       "  message {\n",
       "    content: \"101 multiplied by 3 is 303. If you have more calculations or questions, feel free to ask!\"\n",
       "    role: ROLE_ASSISTANT\n",
       "  }\n",
       "}\n",
       "created {\n",
       "  seconds: 1752731181\n",
       "  nanos: 190762973\n",
       "}\n",
       "model: \"grok-4-0709\"\n",
       "system_fingerprint: \"fp_ff08cddfd3\"\n",
       "usage {\n",
       "  completion_tokens: 22\n",
       "  prompt_tokens: 26\n",
       "  total_tokens: 181\n",
       "  prompt_text_tokens: 26\n",
       "  reasoning_tokens: 133\n",
       "  cached_prompt_text_tokens: 5\n",
       "}"
      ]
     },
     "execution_count": 4,
     "metadata": {},
     "output_type": "execute_result"
    }
   ],
   "source": [
    "response"
   ]
  }
 ],
 "metadata": {
  "kernelspec": {
   "display_name": ".venv",
   "language": "python",
   "name": "python3"
  },
  "language_info": {
   "codemirror_mode": {
    "name": "ipython",
    "version": 3
   },
   "file_extension": ".py",
   "mimetype": "text/x-python",
   "name": "python",
   "nbconvert_exporter": "python",
   "pygments_lexer": "ipython3",
   "version": "3.12.2"
  }
 },
 "nbformat": 4,
 "nbformat_minor": 5
}
