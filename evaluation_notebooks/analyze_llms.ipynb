{
 "cells": [
  {
   "cell_type": "markdown",
   "id": "6932b6d6",
   "metadata": {},
   "source": [
    "# Analyze and compare all LLMs\n",
    "---"
   ]
  },
  {
   "cell_type": "markdown",
   "id": "9b9e5fa3",
   "metadata": {},
   "source": [
    "This notebook loads all Pulse LLMs and compares the best versions of them. "
   ]
  },
  {
   "cell_type": "code",
   "execution_count": 1,
   "id": "94cebeae",
   "metadata": {},
   "outputs": [],
   "source": [
    "import pandas as pd\n",
    "import numpy as np\n",
    "import os\n",
    "import sys\n",
    "import json\n",
    "import matplotlib.pyplot as plt\n",
    "sys.path.append(r\"C:\\Users\\janbe\\Documents\\GitHub Repos\\pulse\")\n",
    "from src.eval.llm_analyzer import LLMAnalyzer"
   ]
  },
  {
   "cell_type": "code",
   "execution_count": null,
   "id": "075b9714",
   "metadata": {},
   "outputs": [],
   "source": [
    "# Path to LLM output folder\n",
    "outputfolder_path_list = [\n",
    "    r\"C:\\Users\\janbe\\Documents\\GitHub Repos\\pulse\\output_to_keep\\results_benchmark\\results_output\\jsons\",\n",
    "    r\"C:\\Users\\janbe\\Documents\\GitHub Repos\\pulse\\output_to_keep\\results_benchmark\\results_output\\llms\",\n",
    "]"
   ]
  },
  {
   "cell_type": "code",
   "execution_count": 3,
   "id": "56265703",
   "metadata": {},
   "outputs": [],
   "source": [
    "# model_list = []\n",
    "# #list all models in the output folder\n",
    "# for output_folder in outputfolder_path_list:\n",
    "#     # List all child folders (directories) in the output folder\n",
    "#     child_folders = [\n",
    "#         name for name in os.listdir(output_folder)\n",
    "#         if os.path.isdir(os.path.join(output_folder, name))\n",
    "#     ]\n",
    "#     model_list.extend(child_folders)"
   ]
  },
  {
   "cell_type": "code",
   "execution_count": 4,
   "id": "e906ee8b",
   "metadata": {},
   "outputs": [
    {
     "data": {
      "text/plain": [
       "['deepseekr1llama8b_results.json',\n",
       " 'gemini2p5flash_results.json',\n",
       " 'gemma3_results.json',\n",
       " 'gpt4o_results.json',\n",
       " 'llama3p18b_results.json',\n",
       " 'medgemma_results.json',\n",
       " 'mistral7b_results.json',\n",
       " 'o3_results.json']"
      ]
     },
     "execution_count": 4,
     "metadata": {},
     "output_type": "execute_result"
    }
   ],
   "source": [
    "model_list = os.listdir(outputfolder_path_list[0])\n",
    "model_list"
   ]
  },
  {
   "cell_type": "code",
   "execution_count": 5,
   "id": "df929877",
   "metadata": {},
   "outputs": [
    {
     "data": {
      "application/vnd.microsoft.datawrangler.viewer.v0+json": {
       "columns": [
        {
         "name": "index",
         "rawType": "object",
         "type": "string"
        },
        {
         "name": "deepseekr1llama8b_results.json",
         "rawType": "object",
         "type": "unknown"
        },
        {
         "name": "gemini2p5flash_results.json",
         "rawType": "object",
         "type": "unknown"
        },
        {
         "name": "gemma3_results.json",
         "rawType": "object",
         "type": "unknown"
        },
        {
         "name": "gpt4o_results.json",
         "rawType": "object",
         "type": "unknown"
        },
        {
         "name": "llama3p18b_results.json",
         "rawType": "object",
         "type": "unknown"
        },
        {
         "name": "medgemma_results.json",
         "rawType": "object",
         "type": "unknown"
        },
        {
         "name": "mistral7b_results.json",
         "rawType": "object",
         "type": "unknown"
        },
        {
         "name": "o3_results.json",
         "rawType": "object",
         "type": "unknown"
        }
       ],
       "ref": "a524b348-b08b-40a8-8087-fc0d5cc66f2e",
       "rows": [
        [
         "prompting_id",
         "liu_2023_few_shot_preprocessor",
         "clinical_workflow_agent_preprocessor",
         "hybrid_agent_incomplete",
         "sarvari_2024_aggregation_preprocessor",
         "collaborative_reasoning_agent_preprocessor",
         "liu_2023_few_shot_preprocessor",
         "collaborative_reasoning_agent_preprocessor",
         "hybrid_reasoning_agent_preprocessor_incomplete"
        ],
        [
         "metric_value",
         "41.657962962962955",
         "50.08656790123457",
         "41.5022962962963",
         "49.895222222222216",
         "47.66454166666667",
         "33.57022222222222",
         "33.093666666666664",
         "54.94935714285715"
        ],
        [
         "metrics_report_path",
         "C:\\Users\\janbe\\Documents\\GitHub Repos\\pulse\\output_to_keep\\results_benchmark\\results_output\\jsons\\deepseekr1llama8b_results.json",
         "C:\\Users\\janbe\\Documents\\GitHub Repos\\pulse\\output_to_keep\\results_benchmark\\results_output\\jsons\\gemini2p5flash_results.json",
         "C:\\Users\\janbe\\Documents\\GitHub Repos\\pulse\\output_to_keep\\results_benchmark\\results_output\\jsons\\gemma3_results.json",
         "C:\\Users\\janbe\\Documents\\GitHub Repos\\pulse\\output_to_keep\\results_benchmark\\results_output\\jsons\\gpt4o_results.json",
         "C:\\Users\\janbe\\Documents\\GitHub Repos\\pulse\\output_to_keep\\results_benchmark\\results_output\\jsons\\llama3p18b_results.json",
         "C:\\Users\\janbe\\Documents\\GitHub Repos\\pulse\\output_to_keep\\results_benchmark\\results_output\\jsons\\medgemma_results.json",
         "C:\\Users\\janbe\\Documents\\GitHub Repos\\pulse\\output_to_keep\\results_benchmark\\results_output\\jsons\\mistral7b_results.json",
         "C:\\Users\\janbe\\Documents\\GitHub Repos\\pulse\\output_to_keep\\results_benchmark\\results_output\\jsons\\o3_results.json"
        ]
       ],
       "shape": {
        "columns": 8,
        "rows": 3
       }
      },
      "text/html": [
       "<div>\n",
       "<style scoped>\n",
       "    .dataframe tbody tr th:only-of-type {\n",
       "        vertical-align: middle;\n",
       "    }\n",
       "\n",
       "    .dataframe tbody tr th {\n",
       "        vertical-align: top;\n",
       "    }\n",
       "\n",
       "    .dataframe thead th {\n",
       "        text-align: right;\n",
       "    }\n",
       "</style>\n",
       "<table border=\"1\" class=\"dataframe\">\n",
       "  <thead>\n",
       "    <tr style=\"text-align: right;\">\n",
       "      <th></th>\n",
       "      <th>deepseekr1llama8b_results.json</th>\n",
       "      <th>gemini2p5flash_results.json</th>\n",
       "      <th>gemma3_results.json</th>\n",
       "      <th>gpt4o_results.json</th>\n",
       "      <th>llama3p18b_results.json</th>\n",
       "      <th>medgemma_results.json</th>\n",
       "      <th>mistral7b_results.json</th>\n",
       "      <th>o3_results.json</th>\n",
       "    </tr>\n",
       "  </thead>\n",
       "  <tbody>\n",
       "    <tr>\n",
       "      <th>prompting_id</th>\n",
       "      <td>liu_2023_few_shot_preprocessor</td>\n",
       "      <td>clinical_workflow_agent_preprocessor</td>\n",
       "      <td>hybrid_agent_incomplete</td>\n",
       "      <td>sarvari_2024_aggregation_preprocessor</td>\n",
       "      <td>collaborative_reasoning_agent_preprocessor</td>\n",
       "      <td>liu_2023_few_shot_preprocessor</td>\n",
       "      <td>collaborative_reasoning_agent_preprocessor</td>\n",
       "      <td>hybrid_reasoning_agent_preprocessor_incomplete</td>\n",
       "    </tr>\n",
       "    <tr>\n",
       "      <th>metric_value</th>\n",
       "      <td>41.657963</td>\n",
       "      <td>50.086568</td>\n",
       "      <td>41.502296</td>\n",
       "      <td>49.895222</td>\n",
       "      <td>47.664542</td>\n",
       "      <td>33.570222</td>\n",
       "      <td>33.093667</td>\n",
       "      <td>54.949357</td>\n",
       "    </tr>\n",
       "    <tr>\n",
       "      <th>metrics_report_path</th>\n",
       "      <td>C:\\Users\\janbe\\Documents\\GitHub Repos\\pulse\\ou...</td>\n",
       "      <td>C:\\Users\\janbe\\Documents\\GitHub Repos\\pulse\\ou...</td>\n",
       "      <td>C:\\Users\\janbe\\Documents\\GitHub Repos\\pulse\\ou...</td>\n",
       "      <td>C:\\Users\\janbe\\Documents\\GitHub Repos\\pulse\\ou...</td>\n",
       "      <td>C:\\Users\\janbe\\Documents\\GitHub Repos\\pulse\\ou...</td>\n",
       "      <td>C:\\Users\\janbe\\Documents\\GitHub Repos\\pulse\\ou...</td>\n",
       "      <td>C:\\Users\\janbe\\Documents\\GitHub Repos\\pulse\\ou...</td>\n",
       "      <td>C:\\Users\\janbe\\Documents\\GitHub Repos\\pulse\\ou...</td>\n",
       "    </tr>\n",
       "  </tbody>\n",
       "</table>\n",
       "</div>"
      ],
      "text/plain": [
       "                                        deepseekr1llama8b_results.json  \\\n",
       "prompting_id                            liu_2023_few_shot_preprocessor   \n",
       "metric_value                                                 41.657963   \n",
       "metrics_report_path  C:\\Users\\janbe\\Documents\\GitHub Repos\\pulse\\ou...   \n",
       "\n",
       "                                           gemini2p5flash_results.json  \\\n",
       "prompting_id                      clinical_workflow_agent_preprocessor   \n",
       "metric_value                                                 50.086568   \n",
       "metrics_report_path  C:\\Users\\janbe\\Documents\\GitHub Repos\\pulse\\ou...   \n",
       "\n",
       "                                                   gemma3_results.json  \\\n",
       "prompting_id                                   hybrid_agent_incomplete   \n",
       "metric_value                                                 41.502296   \n",
       "metrics_report_path  C:\\Users\\janbe\\Documents\\GitHub Repos\\pulse\\ou...   \n",
       "\n",
       "                                                    gpt4o_results.json  \\\n",
       "prompting_id                     sarvari_2024_aggregation_preprocessor   \n",
       "metric_value                                                 49.895222   \n",
       "metrics_report_path  C:\\Users\\janbe\\Documents\\GitHub Repos\\pulse\\ou...   \n",
       "\n",
       "                                               llama3p18b_results.json  \\\n",
       "prompting_id                collaborative_reasoning_agent_preprocessor   \n",
       "metric_value                                                 47.664542   \n",
       "metrics_report_path  C:\\Users\\janbe\\Documents\\GitHub Repos\\pulse\\ou...   \n",
       "\n",
       "                                                 medgemma_results.json  \\\n",
       "prompting_id                            liu_2023_few_shot_preprocessor   \n",
       "metric_value                                                 33.570222   \n",
       "metrics_report_path  C:\\Users\\janbe\\Documents\\GitHub Repos\\pulse\\ou...   \n",
       "\n",
       "                                                mistral7b_results.json  \\\n",
       "prompting_id                collaborative_reasoning_agent_preprocessor   \n",
       "metric_value                                                 33.093667   \n",
       "metrics_report_path  C:\\Users\\janbe\\Documents\\GitHub Repos\\pulse\\ou...   \n",
       "\n",
       "                                                       o3_results.json  \n",
       "prompting_id            hybrid_reasoning_agent_preprocessor_incomplete  \n",
       "metric_value                                                 54.949357  \n",
       "metrics_report_path  C:\\Users\\janbe\\Documents\\GitHub Repos\\pulse\\ou...  "
      ]
     },
     "execution_count": 5,
     "metadata": {},
     "output_type": "execute_result"
    }
   ],
   "source": [
    "best_approach = LLMAnalyzer.find_best_prompting_id(\n",
    "    outputfolder_path_list[0], model_list, metric=\"task_dataset_score\"\n",
    ")\n",
    "best_approach"
   ]
  },
  {
   "cell_type": "code",
   "execution_count": 41,
   "id": "3e6cbcb8",
   "metadata": {},
   "outputs": [
    {
     "name": "stdout",
     "output_type": "stream",
     "text": [
      "Model: deepseekr1llama8b_results.json, Prompting ID: liu_2023_few_shot_preprocessor\n",
      "Model: gemini2p5flash_results.json, Prompting ID: clinical_workflow_agent_preprocessor\n",
      "Model: gemma3_results.json, Prompting ID: hybrid_agent_incomplete\n",
      "Model: gpt4o_results.json, Prompting ID: sarvari_2024_aggregation_preprocessor\n",
      "Model: llama3p18b_results.json, Prompting ID: collaborative_reasoning_agent_preprocessor\n",
      "Model: medgemma_results.json, Prompting ID: liu_2023_few_shot_preprocessor\n",
      "Model: mistral7b_results.json, Prompting ID: collaborative_reasoning_agent_preprocessor\n",
      "Model: o3_results.json, Prompting ID: hybrid_reasoning_agent_preprocessor_incomplete\n"
     ]
    },
    {
     "data": {
      "application/vnd.microsoft.datawrangler.viewer.v0+json": {
       "columns": [
        {
         "name": "index",
         "rawType": "int64",
         "type": "integer"
        },
        {
         "name": "results",
         "rawType": "object",
         "type": "unknown"
        }
       ],
       "ref": "3dba943d-3f39-4812-8f1a-7a5de5634c29",
       "rows": [
        [
         "0",
         "{'model_id': 'deepseekr1llama8b', 'task_id': 'aki', 'dataset': 'eicu', 'run_id': '20250626_123125', 'prompting_id': 'liu_2023_few_shot_preprocessor', 'metrics_summary': {'overall': {'auroc': 0.501, 'auprc': 0.335, 'normalized_auprc': 1.081, 'specificity': 0.863, 'f1_score': 0.223, 'accuracy': 0.646, 'balanced_accuracy': 0.513, 'precision': 0.35, 'recall': 0.164, 'mcc': 0.518, 'kappa': 0.032, 'minpse': 0.31, 'task_dataset_score': 45.1}, 'task_pulse_scores': {'aki': [45.09966225469213, 41.386290791272636, 47.56999071156182], 'mortality': [31.289952904650374, 59.668561152336736, 49.292300775020614], 'sepsis': [33.978112105450016, 37.869343769251735, 30.08793316677272]}, 'dataset_pulse_scores': {'eicu': [45.09966225469213, 31.289952904650374, 33.978112105450016], 'miiv': [47.56999071156182, 49.292300775020614, 30.08793316677272], 'hirid': [41.386290791272636, 59.668561152336736, 37.869343769251735]}, 'overall_pulse_scores': {'overall_score': 41.80468307011208, 'overall_aki': 44.6853145858422, 'overall_eicu': 36.7892424215975, 'overall_mortality': 46.750271610669245, 'overall_hirid': 46.308065237620376, 'overall_sepsis': 33.97846301382483, 'overall_miiv': 42.31674155111838}}}"
        ],
        [
         "1",
         "{'model_id': 'deepseekr1llama8b', 'task_id': 'aki', 'dataset': 'hirid', 'run_id': '20250626_123125', 'prompting_id': 'liu_2023_few_shot_preprocessor', 'metrics_summary': {'overall': {'auroc': 0.528, 'auprc': 0.187, 'normalized_auprc': 1.156, 'specificity': 0.889, 'f1_score': 0.182, 'accuracy': 0.771, 'balanced_accuracy': 0.523, 'precision': 0.216, 'recall': 0.157, 'mcc': 0.527, 'kappa': 0.052, 'minpse': 0.189, 'task_dataset_score': 41.386}, 'task_pulse_scores': {'aki': [45.09966225469213, 41.386290791272636, 47.56999071156182], 'mortality': [31.289952904650374, 59.668561152336736, 49.292300775020614], 'sepsis': [33.978112105450016, 37.869343769251735, 30.08793316677272]}, 'dataset_pulse_scores': {'eicu': [45.09966225469213, 31.289952904650374, 33.978112105450016], 'miiv': [47.56999071156182, 49.292300775020614, 30.08793316677272], 'hirid': [41.386290791272636, 59.668561152336736, 37.869343769251735]}, 'overall_pulse_scores': {'overall_score': 41.80468307011208, 'overall_aki': 44.6853145858422, 'overall_eicu': 36.7892424215975, 'overall_mortality': 46.750271610669245, 'overall_hirid': 46.308065237620376, 'overall_sepsis': 33.97846301382483, 'overall_miiv': 42.31674155111838}}}"
        ],
        [
         "2",
         "{'model_id': 'deepseekr1llama8b', 'task_id': 'aki', 'dataset': 'miiv', 'run_id': '20250626_123125', 'prompting_id': 'liu_2023_few_shot_preprocessor', 'metrics_summary': {'overall': {'auroc': 0.565, 'auprc': 0.314, 'normalized_auprc': 1.35, 'specificity': 0.902, 'f1_score': 0.233, 'accuracy': 0.733, 'balanced_accuracy': 0.538, 'precision': 0.351, 'recall': 0.175, 'mcc': 0.551, 'kappa': 0.093, 'minpse': 0.249, 'task_dataset_score': 47.57}, 'task_pulse_scores': {'aki': [45.09966225469213, 41.386290791272636, 47.56999071156182], 'mortality': [31.289952904650374, 59.668561152336736, 49.292300775020614], 'sepsis': [33.978112105450016, 37.869343769251735, 30.08793316677272]}, 'dataset_pulse_scores': {'eicu': [45.09966225469213, 31.289952904650374, 33.978112105450016], 'miiv': [47.56999071156182, 49.292300775020614, 30.08793316677272], 'hirid': [41.386290791272636, 59.668561152336736, 37.869343769251735]}, 'overall_pulse_scores': {'overall_score': 41.80468307011208, 'overall_aki': 44.6853145858422, 'overall_eicu': 36.7892424215975, 'overall_mortality': 46.750271610669245, 'overall_hirid': 46.308065237620376, 'overall_sepsis': 33.97846301382483, 'overall_miiv': 42.31674155111838}}}"
        ],
        [
         "3",
         "{'model_id': 'deepseekr1llama8b', 'task_id': 'mortality', 'dataset': 'eicu', 'run_id': '20250626_123125', 'prompting_id': 'liu_2023_few_shot_preprocessor', 'metrics_summary': {'overall': {'auroc': 0.454, 'auprc': 0.058, 'normalized_auprc': 0.833, 'specificity': 0.634, 'f1_score': 0.093, 'accuracy': 0.61, 'balanced_accuracy': 0.46, 'precision': 0.056, 'recall': 0.286, 'mcc': 0.479, 'kappa': -0.027, 'minpse': 0.078, 'task_dataset_score': 31.29}, 'task_pulse_scores': {'aki': [45.09966225469213, 41.386290791272636, 47.56999071156182], 'mortality': [31.289952904650374, 59.668561152336736, 49.292300775020614], 'sepsis': [33.978112105450016, 37.869343769251735, 30.08793316677272]}, 'dataset_pulse_scores': {'eicu': [45.09966225469213, 31.289952904650374, 33.978112105450016], 'miiv': [47.56999071156182, 49.292300775020614, 30.08793316677272], 'hirid': [41.386290791272636, 59.668561152336736, 37.869343769251735]}, 'overall_pulse_scores': {'overall_score': 41.80468307011208, 'overall_aki': 44.6853145858422, 'overall_eicu': 36.7892424215975, 'overall_mortality': 46.750271610669245, 'overall_hirid': 46.308065237620376, 'overall_sepsis': 33.97846301382483, 'overall_miiv': 42.31674155111838}}}"
        ],
        [
         "4",
         "{'model_id': 'deepseekr1llama8b', 'task_id': 'mortality', 'dataset': 'hirid', 'run_id': '20250626_123125', 'prompting_id': 'liu_2023_few_shot_preprocessor', 'metrics_summary': {'overall': {'auroc': 0.756, 'auprc': 0.416, 'normalized_auprc': 3.78, 'specificity': 0.685, 'f1_score': 0.375, 'accuracy': 0.7, 'balanced_accuracy': 0.752, 'precision': 0.243, 'recall': 0.818, 'mcc': 0.663, 'kappa': 0.247, 'minpse': 0.333, 'task_dataset_score': 59.669}, 'task_pulse_scores': {'aki': [45.09966225469213, 41.386290791272636, 47.56999071156182], 'mortality': [31.289952904650374, 59.668561152336736, 49.292300775020614], 'sepsis': [33.978112105450016, 37.869343769251735, 30.08793316677272]}, 'dataset_pulse_scores': {'eicu': [45.09966225469213, 31.289952904650374, 33.978112105450016], 'miiv': [47.56999071156182, 49.292300775020614, 30.08793316677272], 'hirid': [41.386290791272636, 59.668561152336736, 37.869343769251735]}, 'overall_pulse_scores': {'overall_score': 41.80468307011208, 'overall_aki': 44.6853145858422, 'overall_eicu': 36.7892424215975, 'overall_mortality': 46.750271610669245, 'overall_hirid': 46.308065237620376, 'overall_sepsis': 33.97846301382483, 'overall_miiv': 42.31674155111838}}}"
        ],
        [
         "5",
         "{'model_id': 'deepseekr1llama8b', 'task_id': 'mortality', 'dataset': 'miiv', 'run_id': '20250626_123125', 'prompting_id': 'liu_2023_few_shot_preprocessor', 'metrics_summary': {'overall': {'auroc': 0.589, 'auprc': 0.319, 'normalized_auprc': 2.657, 'specificity': 0.807, 'f1_score': 0.294, 'accuracy': 0.76, 'balanced_accuracy': 0.612, 'precision': 0.227, 'recall': 0.417, 'mcc': 0.588, 'kappa': 0.164, 'minpse': 0.263, 'task_dataset_score': 49.292}, 'task_pulse_scores': {'aki': [45.09966225469213, 41.386290791272636, 47.56999071156182], 'mortality': [31.289952904650374, 59.668561152336736, 49.292300775020614], 'sepsis': [33.978112105450016, 37.869343769251735, 30.08793316677272]}, 'dataset_pulse_scores': {'eicu': [45.09966225469213, 31.289952904650374, 33.978112105450016], 'miiv': [47.56999071156182, 49.292300775020614, 30.08793316677272], 'hirid': [41.386290791272636, 59.668561152336736, 37.869343769251735]}, 'overall_pulse_scores': {'overall_score': 41.80468307011208, 'overall_aki': 44.6853145858422, 'overall_eicu': 36.7892424215975, 'overall_mortality': 46.750271610669245, 'overall_hirid': 46.308065237620376, 'overall_sepsis': 33.97846301382483, 'overall_miiv': 42.31674155111838}}}"
        ],
        [
         "6",
         "{'model_id': 'deepseekr1llama8b', 'task_id': 'sepsis', 'dataset': 'eicu', 'run_id': '20250626_123125', 'prompting_id': 'liu_2023_few_shot_preprocessor', 'metrics_summary': {'overall': {'auroc': 0.486, 'auprc': 0.045, 'normalized_auprc': 0.931, 'specificity': 0.852, 'f1_score': 0.053, 'accuracy': 0.816, 'balanced_accuracy': 0.479, 'precision': 0.035, 'recall': 0.106, 'mcc': 0.487, 'kappa': -0.021, 'minpse': 0.085, 'task_dataset_score': 33.978}, 'task_pulse_scores': {'aki': [45.09966225469213, 41.386290791272636, 47.56999071156182], 'mortality': [31.289952904650374, 59.668561152336736, 49.292300775020614], 'sepsis': [33.978112105450016, 37.869343769251735, 30.08793316677272]}, 'dataset_pulse_scores': {'eicu': [45.09966225469213, 31.289952904650374, 33.978112105450016], 'miiv': [47.56999071156182, 49.292300775020614, 30.08793316677272], 'hirid': [41.386290791272636, 59.668561152336736, 37.869343769251735]}, 'overall_pulse_scores': {'overall_score': 41.80468307011208, 'overall_aki': 44.6853145858422, 'overall_eicu': 36.7892424215975, 'overall_mortality': 46.750271610669245, 'overall_hirid': 46.308065237620376, 'overall_sepsis': 33.97846301382483, 'overall_miiv': 42.31674155111838}}}"
        ],
        [
         "7",
         "{'model_id': 'deepseekr1llama8b', 'task_id': 'sepsis', 'dataset': 'hirid', 'run_id': '20250626_123125', 'prompting_id': 'liu_2023_few_shot_preprocessor', 'metrics_summary': {'overall': {'auroc': 0.543, 'auprc': 0.084, 'normalized_auprc': 1.116, 'specificity': 0.807, 'f1_score': 0.122, 'accuracy': 0.763, 'balanced_accuracy': 0.513, 'precision': 0.085, 'recall': 0.219, 'mcc': 0.509, 'kappa': 0.015, 'minpse': 0.137, 'task_dataset_score': 37.869}, 'task_pulse_scores': {'aki': [45.09966225469213, 41.386290791272636, 47.56999071156182], 'mortality': [31.289952904650374, 59.668561152336736, 49.292300775020614], 'sepsis': [33.978112105450016, 37.869343769251735, 30.08793316677272]}, 'dataset_pulse_scores': {'eicu': [45.09966225469213, 31.289952904650374, 33.978112105450016], 'miiv': [47.56999071156182, 49.292300775020614, 30.08793316677272], 'hirid': [41.386290791272636, 59.668561152336736, 37.869343769251735]}, 'overall_pulse_scores': {'overall_score': 41.80468307011208, 'overall_aki': 44.6853145858422, 'overall_eicu': 36.7892424215975, 'overall_mortality': 46.750271610669245, 'overall_hirid': 46.308065237620376, 'overall_sepsis': 33.97846301382483, 'overall_miiv': 42.31674155111838}}}"
        ],
        [
         "8",
         "{'model_id': 'deepseekr1llama8b', 'task_id': 'sepsis', 'dataset': 'miiv', 'run_id': '20250626_123125', 'prompting_id': 'liu_2023_few_shot_preprocessor', 'metrics_summary': {'overall': {'auroc': 0.392, 'auprc': 0.019, 'normalized_auprc': 0.766, 'specificity': 0.866, 'f1_score': 0.026, 'accuracy': 0.846, 'balanced_accuracy': 0.473, 'precision': 0.015, 'recall': 0.08, 'mcc': 0.488, 'kappa': -0.018, 'minpse': 0.029, 'task_dataset_score': 30.088}, 'task_pulse_scores': {'aki': [45.09966225469213, 41.386290791272636, 47.56999071156182], 'mortality': [31.289952904650374, 59.668561152336736, 49.292300775020614], 'sepsis': [33.978112105450016, 37.869343769251735, 30.08793316677272]}, 'dataset_pulse_scores': {'eicu': [45.09966225469213, 31.289952904650374, 33.978112105450016], 'miiv': [47.56999071156182, 49.292300775020614, 30.08793316677272], 'hirid': [41.386290791272636, 59.668561152336736, 37.869343769251735]}, 'overall_pulse_scores': {'overall_score': 41.80468307011208, 'overall_aki': 44.6853145858422, 'overall_eicu': 36.7892424215975, 'overall_mortality': 46.750271610669245, 'overall_hirid': 46.308065237620376, 'overall_sepsis': 33.97846301382483, 'overall_miiv': 42.31674155111838}}}"
        ],
        [
         "9",
         "{'model_id': 'deepseekr1llama8b', 'task_id': 'aki', 'dataset': 'eicu', 'run_id': '20250623_234009', 'prompting_id': 'sarvari_2024_aggregation_preprocessor', 'metrics_summary': {'overall': {'auroc': 0.546, 'auprc': 0.379, 'normalized_auprc': 1.224, 'specificity': 0.916, 'f1_score': 0.234, 'accuracy': 0.681, 'balanced_accuracy': 0.537, 'precision': 0.457, 'recall': 0.157, 'mcc': 0.555, 'kappa': 0.09, 'minpse': 0.31, 'task_dataset_score': 49.145}, 'task_pulse_scores': {'aki': [49.14514782186325, 39.79130372036221, 42.806324438320495], 'mortality': [38.62082073782055, 43.85961943179457, 44.762904938387315], 'sepsis': [32.38278150320692, 37.35218300563892, 37.09946522870681]}, 'dataset_pulse_scores': {'eicu': [49.14514782186325, 38.62082073782055, 32.38278150320692], 'miiv': [42.806324438320495, 44.762904938387315, 37.09946522870681], 'hirid': [39.79130372036221, 43.85961943179457, 37.35218300563892]}, 'overall_pulse_scores': {'overall_score': 40.64672786956678, 'overall_aki': 43.914258660181986, 'overall_eicu': 40.04958335429691, 'overall_mortality': 42.414448369334146, 'overall_hirid': 40.334368719265235, 'overall_sepsis': 35.61147657918422, 'overall_miiv': 41.55623153513821}}}"
        ],
        [
         "10",
         "{'model_id': 'deepseekr1llama8b', 'task_id': 'aki', 'dataset': 'hirid', 'run_id': '20250623_234009', 'prompting_id': 'sarvari_2024_aggregation_preprocessor', 'metrics_summary': {'overall': {'auroc': 0.516, 'auprc': 0.178, 'normalized_auprc': 1.097, 'specificity': 0.926, 'f1_score': 0.112, 'accuracy': 0.789, 'balanced_accuracy': 0.504, 'precision': 0.176, 'recall': 0.082, 'mcc': 0.505, 'kappa': 0.01, 'minpse': 0.17, 'task_dataset_score': 39.791}, 'task_pulse_scores': {'aki': [49.14514782186325, 39.79130372036221, 42.806324438320495], 'mortality': [38.62082073782055, 43.85961943179457, 44.762904938387315], 'sepsis': [32.38278150320692, 37.35218300563892, 37.09946522870681]}, 'dataset_pulse_scores': {'eicu': [49.14514782186325, 38.62082073782055, 32.38278150320692], 'miiv': [42.806324438320495, 44.762904938387315, 37.09946522870681], 'hirid': [39.79130372036221, 43.85961943179457, 37.35218300563892]}, 'overall_pulse_scores': {'overall_score': 40.64672786956678, 'overall_aki': 43.914258660181986, 'overall_eicu': 40.04958335429691, 'overall_mortality': 42.414448369334146, 'overall_hirid': 40.334368719265235, 'overall_sepsis': 35.61147657918422, 'overall_miiv': 41.55623153513821}}}"
        ],
        [
         "11",
         "{'model_id': 'deepseekr1llama8b', 'task_id': 'aki', 'dataset': 'miiv', 'run_id': '20250623_234009', 'prompting_id': 'sarvari_2024_aggregation_preprocessor', 'metrics_summary': {'overall': {'auroc': 0.524, 'auprc': 0.26, 'normalized_auprc': 1.118, 'specificity': 0.911, 'f1_score': 0.144, 'accuracy': 0.723, 'balanced_accuracy': 0.506, 'precision': 0.256, 'recall': 0.1, 'mcc': 0.509, 'kappa': 0.015, 'minpse': 0.233, 'task_dataset_score': 42.806}, 'task_pulse_scores': {'aki': [49.14514782186325, 39.79130372036221, 42.806324438320495], 'mortality': [38.62082073782055, 43.85961943179457, 44.762904938387315], 'sepsis': [32.38278150320692, 37.35218300563892, 37.09946522870681]}, 'dataset_pulse_scores': {'eicu': [49.14514782186325, 38.62082073782055, 32.38278150320692], 'miiv': [42.806324438320495, 44.762904938387315, 37.09946522870681], 'hirid': [39.79130372036221, 43.85961943179457, 37.35218300563892]}, 'overall_pulse_scores': {'overall_score': 40.64672786956678, 'overall_aki': 43.914258660181986, 'overall_eicu': 40.04958335429691, 'overall_mortality': 42.414448369334146, 'overall_hirid': 40.334368719265235, 'overall_sepsis': 35.61147657918422, 'overall_miiv': 41.55623153513821}}}"
        ],
        [
         "12",
         "{'model_id': 'deepseekr1llama8b', 'task_id': 'mortality', 'dataset': 'eicu', 'run_id': '20250623_234009', 'prompting_id': 'sarvari_2024_aggregation_preprocessor', 'metrics_summary': {'overall': {'auroc': 0.535, 'auprc': 0.079, 'normalized_auprc': 1.135, 'specificity': 0.839, 'f1_score': 0.167, 'accuracy': 0.8, 'balanced_accuracy': 0.562, 'precision': 0.118, 'recall': 0.286, 'mcc': 0.542, 'kappa': 0.075, 'minpse': 0.143, 'task_dataset_score': 38.621}, 'task_pulse_scores': {'aki': [49.14514782186325, 39.79130372036221, 42.806324438320495], 'mortality': [38.62082073782055, 43.85961943179457, 44.762904938387315], 'sepsis': [32.38278150320692, 37.35218300563892, 37.09946522870681]}, 'dataset_pulse_scores': {'eicu': [49.14514782186325, 38.62082073782055, 32.38278150320692], 'miiv': [42.806324438320495, 44.762904938387315, 37.09946522870681], 'hirid': [39.79130372036221, 43.85961943179457, 37.35218300563892]}, 'overall_pulse_scores': {'overall_score': 40.64672786956678, 'overall_aki': 43.914258660181986, 'overall_eicu': 40.04958335429691, 'overall_mortality': 42.414448369334146, 'overall_hirid': 40.334368719265235, 'overall_sepsis': 35.61147657918422, 'overall_miiv': 41.55623153513821}}}"
        ],
        [
         "13",
         "{'model_id': 'deepseekr1llama8b', 'task_id': 'mortality', 'dataset': 'hirid', 'run_id': '20250623_234009', 'prompting_id': 'sarvari_2024_aggregation_preprocessor', 'metrics_summary': {'overall': {'auroc': 0.608, 'auprc': 0.127, 'normalized_auprc': 1.153, 'specificity': 0.629, 'f1_score': 0.275, 'accuracy': 0.63, 'balanced_accuracy': 0.633, 'precision': 0.175, 'recall': 0.636, 'mcc': 0.585, 'kappa': 0.123, 'minpse': 0.179, 'task_dataset_score': 43.86}, 'task_pulse_scores': {'aki': [49.14514782186325, 39.79130372036221, 42.806324438320495], 'mortality': [38.62082073782055, 43.85961943179457, 44.762904938387315], 'sepsis': [32.38278150320692, 37.35218300563892, 37.09946522870681]}, 'dataset_pulse_scores': {'eicu': [49.14514782186325, 38.62082073782055, 32.38278150320692], 'miiv': [42.806324438320495, 44.762904938387315, 37.09946522870681], 'hirid': [39.79130372036221, 43.85961943179457, 37.35218300563892]}, 'overall_pulse_scores': {'overall_score': 40.64672786956678, 'overall_aki': 43.914258660181986, 'overall_eicu': 40.04958335429691, 'overall_mortality': 42.414448369334146, 'overall_hirid': 40.334368719265235, 'overall_sepsis': 35.61147657918422, 'overall_miiv': 41.55623153513821}}}"
        ],
        [
         "14",
         "{'model_id': 'deepseekr1llama8b', 'task_id': 'mortality', 'dataset': 'miiv', 'run_id': '20250623_234009', 'prompting_id': 'sarvari_2024_aggregation_preprocessor', 'metrics_summary': {'overall': {'auroc': 0.56, 'auprc': 0.261, 'normalized_auprc': 2.173, 'specificity': 0.818, 'f1_score': 0.194, 'accuracy': 0.75, 'balanced_accuracy': 0.534, 'precision': 0.158, 'recall': 0.25, 'mcc': 0.528, 'kappa': 0.054, 'minpse': 0.2, 'task_dataset_score': 44.763}, 'task_pulse_scores': {'aki': [49.14514782186325, 39.79130372036221, 42.806324438320495], 'mortality': [38.62082073782055, 43.85961943179457, 44.762904938387315], 'sepsis': [32.38278150320692, 37.35218300563892, 37.09946522870681]}, 'dataset_pulse_scores': {'eicu': [49.14514782186325, 38.62082073782055, 32.38278150320692], 'miiv': [42.806324438320495, 44.762904938387315, 37.09946522870681], 'hirid': [39.79130372036221, 43.85961943179457, 37.35218300563892]}, 'overall_pulse_scores': {'overall_score': 40.64672786956678, 'overall_aki': 43.914258660181986, 'overall_eicu': 40.04958335429691, 'overall_mortality': 42.414448369334146, 'overall_hirid': 40.334368719265235, 'overall_sepsis': 35.61147657918422, 'overall_miiv': 41.55623153513821}}}"
        ],
        [
         "15",
         "{'model_id': 'deepseekr1llama8b', 'task_id': 'sepsis', 'dataset': 'eicu', 'run_id': '20250623_234009', 'prompting_id': 'sarvari_2024_aggregation_preprocessor', 'metrics_summary': {'overall': {'auroc': 0.467, 'auprc': 0.041, 'normalized_auprc': 0.856, 'specificity': 0.563, 'f1_score': 0.072, 'accuracy': 0.553, 'balanced_accuracy': 0.462, 'precision': 0.04, 'recall': 0.362, 'mcc': 0.484, 'kappa': -0.016, 'minpse': 0.049, 'task_dataset_score': 32.383}, 'task_pulse_scores': {'aki': [49.14514782186325, 39.79130372036221, 42.806324438320495], 'mortality': [38.62082073782055, 43.85961943179457, 44.762904938387315], 'sepsis': [32.38278150320692, 37.35218300563892, 37.09946522870681]}, 'dataset_pulse_scores': {'eicu': [49.14514782186325, 38.62082073782055, 32.38278150320692], 'miiv': [42.806324438320495, 44.762904938387315, 37.09946522870681], 'hirid': [39.79130372036221, 43.85961943179457, 37.35218300563892]}, 'overall_pulse_scores': {'overall_score': 40.64672786956678, 'overall_aki': 43.914258660181986, 'overall_eicu': 40.04958335429691, 'overall_mortality': 42.414448369334146, 'overall_hirid': 40.334368719265235, 'overall_sepsis': 35.61147657918422, 'overall_miiv': 41.55623153513821}}}"
        ],
        [
         "16",
         "{'model_id': 'deepseekr1llama8b', 'task_id': 'sepsis', 'dataset': 'hirid', 'run_id': '20250623_234009', 'prompting_id': 'sarvari_2024_aggregation_preprocessor', 'metrics_summary': {'overall': {'auroc': 0.543, 'auprc': 0.083, 'normalized_auprc': 1.102, 'specificity': 0.714, 'f1_score': 0.141, 'accuracy': 0.686, 'balanced_accuracy': 0.528, 'precision': 0.089, 'recall': 0.342, 'mcc': 0.517, 'kappa': 0.025, 'minpse': 0.094, 'task_dataset_score': 37.352}, 'task_pulse_scores': {'aki': [49.14514782186325, 39.79130372036221, 42.806324438320495], 'mortality': [38.62082073782055, 43.85961943179457, 44.762904938387315], 'sepsis': [32.38278150320692, 37.35218300563892, 37.09946522870681]}, 'dataset_pulse_scores': {'eicu': [49.14514782186325, 38.62082073782055, 32.38278150320692], 'miiv': [42.806324438320495, 44.762904938387315, 37.09946522870681], 'hirid': [39.79130372036221, 43.85961943179457, 37.35218300563892]}, 'overall_pulse_scores': {'overall_score': 40.64672786956678, 'overall_aki': 43.914258660181986, 'overall_eicu': 40.04958335429691, 'overall_mortality': 42.414448369334146, 'overall_hirid': 40.334368719265235, 'overall_sepsis': 35.61147657918422, 'overall_miiv': 41.55623153513821}}}"
        ],
        [
         "17",
         "{'model_id': 'deepseekr1llama8b', 'task_id': 'sepsis', 'dataset': 'miiv', 'run_id': '20250623_234009', 'prompting_id': 'sarvari_2024_aggregation_preprocessor', 'metrics_summary': {'overall': {'auroc': 0.581, 'auprc': 0.029, 'normalized_auprc': 1.133, 'specificity': 0.504, 'f1_score': 0.069, 'accuracy': 0.509, 'balanced_accuracy': 0.612, 'precision': 0.036, 'recall': 0.72, 'mcc': 0.535, 'kappa': 0.022, 'minpse': 0.038, 'task_dataset_score': 37.099}, 'task_pulse_scores': {'aki': [49.14514782186325, 39.79130372036221, 42.806324438320495], 'mortality': [38.62082073782055, 43.85961943179457, 44.762904938387315], 'sepsis': [32.38278150320692, 37.35218300563892, 37.09946522870681]}, 'dataset_pulse_scores': {'eicu': [49.14514782186325, 38.62082073782055, 32.38278150320692], 'miiv': [42.806324438320495, 44.762904938387315, 37.09946522870681], 'hirid': [39.79130372036221, 43.85961943179457, 37.35218300563892]}, 'overall_pulse_scores': {'overall_score': 40.64672786956678, 'overall_aki': 43.914258660181986, 'overall_eicu': 40.04958335429691, 'overall_mortality': 42.414448369334146, 'overall_hirid': 40.334368719265235, 'overall_sepsis': 35.61147657918422, 'overall_miiv': 41.55623153513821}}}"
        ],
        [
         "18",
         "{'model_id': 'deepseekr1llama8b', 'task_id': 'aki', 'dataset': 'eicu', 'run_id': '20250625_173823', 'prompting_id': 'zhu_2024a_cot_preprocessor', 'metrics_summary': {'overall': {'auroc': 0.571, 'auprc': 0.371, 'normalized_auprc': 1.197, 'specificity': 0.685, 'f1_score': 0.418, 'accuracy': 0.612, 'balanced_accuracy': 0.567, 'precision': 0.39, 'recall': 0.449, 'mcc': 0.565, 'kappa': 0.129, 'minpse': 0.403, 'task_dataset_score': 49.894}, 'task_pulse_scores': {'aki': [49.89442484774994, 42.98601788246328, 47.497186582290986], 'mortality': [42.87784711603634, 45.7697006847413, 58.6328387398111], 'sepsis': [33.46777892646236, 39.105936235022504, 30.046884760286854]}, 'dataset_pulse_scores': {'eicu': [49.89442484774994, 42.87784711603634, 33.46777892646236], 'miiv': [47.497186582290986, 58.6328387398111, 30.046884760286854], 'hirid': [42.98601788246328, 45.7697006847413, 39.105936235022504]}, 'overall_pulse_scores': {'overall_score': 43.36429064165163, 'overall_aki': 46.79254310416807, 'overall_eicu': 42.08001696341621, 'overall_mortality': 49.09346218019625, 'overall_hirid': 42.62055160074237, 'overall_sepsis': 34.206866640590576, 'overall_miiv': 45.39230336079631}}}"
        ],
        [
         "19",
         "{'model_id': 'deepseekr1llama8b', 'task_id': 'aki', 'dataset': 'hirid', 'run_id': '20250625_173823', 'prompting_id': 'zhu_2024a_cot_preprocessor', 'metrics_summary': {'overall': {'auroc': 0.543, 'auprc': 0.211, 'normalized_auprc': 1.304, 'specificity': 0.785, 'f1_score': 0.255, 'accuracy': 0.708, 'balanced_accuracy': 0.547, 'precision': 0.217, 'recall': 0.308, 'mcc': 0.541, 'kappa': 0.08, 'minpse': 0.233, 'task_dataset_score': 42.986}, 'task_pulse_scores': {'aki': [49.89442484774994, 42.98601788246328, 47.497186582290986], 'mortality': [42.87784711603634, 45.7697006847413, 58.6328387398111], 'sepsis': [33.46777892646236, 39.105936235022504, 30.046884760286854]}, 'dataset_pulse_scores': {'eicu': [49.89442484774994, 42.87784711603634, 33.46777892646236], 'miiv': [47.497186582290986, 58.6328387398111, 30.046884760286854], 'hirid': [42.98601788246328, 45.7697006847413, 39.105936235022504]}, 'overall_pulse_scores': {'overall_score': 43.36429064165163, 'overall_aki': 46.79254310416807, 'overall_eicu': 42.08001696341621, 'overall_mortality': 49.09346218019625, 'overall_hirid': 42.62055160074237, 'overall_sepsis': 34.206866640590576, 'overall_miiv': 45.39230336079631}}}"
        ],
        [
         "20",
         "{'model_id': 'deepseekr1llama8b', 'task_id': 'aki', 'dataset': 'miiv', 'run_id': '20250625_173823', 'prompting_id': 'zhu_2024a_cot_preprocessor', 'metrics_summary': {'overall': {'auroc': 0.566, 'auprc': 0.316, 'normalized_auprc': 1.356, 'specificity': 0.713, 'f1_score': 0.348, 'accuracy': 0.642, 'balanced_accuracy': 0.562, 'precision': 0.302, 'recall': 0.41, 'mcc': 0.556, 'kappa': 0.109, 'minpse': 0.328, 'task_dataset_score': 47.497}, 'task_pulse_scores': {'aki': [49.89442484774994, 42.98601788246328, 47.497186582290986], 'mortality': [42.87784711603634, 45.7697006847413, 58.6328387398111], 'sepsis': [33.46777892646236, 39.105936235022504, 30.046884760286854]}, 'dataset_pulse_scores': {'eicu': [49.89442484774994, 42.87784711603634, 33.46777892646236], 'miiv': [47.497186582290986, 58.6328387398111, 30.046884760286854], 'hirid': [42.98601788246328, 45.7697006847413, 39.105936235022504]}, 'overall_pulse_scores': {'overall_score': 43.36429064165163, 'overall_aki': 46.79254310416807, 'overall_eicu': 42.08001696341621, 'overall_mortality': 49.09346218019625, 'overall_hirid': 42.62055160074237, 'overall_sepsis': 34.206866640590576, 'overall_miiv': 45.39230336079631}}}"
        ],
        [
         "21",
         "{'model_id': 'deepseekr1llama8b', 'task_id': 'mortality', 'dataset': 'eicu', 'run_id': '20250625_173823', 'prompting_id': 'zhu_2024a_cot_preprocessor', 'metrics_summary': {'overall': {'auroc': 0.684, 'auprc': 0.075, 'normalized_auprc': 1.074, 'specificity': 0.28, 'f1_score': 0.15, 'accuracy': 0.32, 'balanced_accuracy': 0.568, 'precision': 0.082, 'recall': 0.857, 'mcc': 0.539, 'kappa': 0.026, 'minpse': 0.136, 'task_dataset_score': 42.878}, 'task_pulse_scores': {'aki': [49.89442484774994, 42.98601788246328, 47.497186582290986], 'mortality': [42.87784711603634, 45.7697006847413, 58.6328387398111], 'sepsis': [33.46777892646236, 39.105936235022504, 30.046884760286854]}, 'dataset_pulse_scores': {'eicu': [49.89442484774994, 42.87784711603634, 33.46777892646236], 'miiv': [47.497186582290986, 58.6328387398111, 30.046884760286854], 'hirid': [42.98601788246328, 45.7697006847413, 39.105936235022504]}, 'overall_pulse_scores': {'overall_score': 43.36429064165163, 'overall_aki': 46.79254310416807, 'overall_eicu': 42.08001696341621, 'overall_mortality': 49.09346218019625, 'overall_hirid': 42.62055160074237, 'overall_sepsis': 34.206866640590576, 'overall_miiv': 45.39230336079631}}}"
        ],
        [
         "22",
         "{'model_id': 'deepseekr1llama8b', 'task_id': 'mortality', 'dataset': 'hirid', 'run_id': '20250625_173823', 'prompting_id': 'zhu_2024a_cot_preprocessor', 'metrics_summary': {'overall': {'auroc': 0.644, 'auprc': 0.195, 'normalized_auprc': 1.769, 'specificity': 0.056, 'f1_score': 0.208, 'accuracy': 0.16, 'balanced_accuracy': 0.528, 'precision': 0.116, 'recall': 1.0, 'mcc': 0.54, 'kappa': 0.013, 'minpse': 0.149, 'task_dataset_score': 45.77}, 'task_pulse_scores': {'aki': [49.89442484774994, 42.98601788246328, 47.497186582290986], 'mortality': [42.87784711603634, 45.7697006847413, 58.6328387398111], 'sepsis': [33.46777892646236, 39.105936235022504, 30.046884760286854]}, 'dataset_pulse_scores': {'eicu': [49.89442484774994, 42.87784711603634, 33.46777892646236], 'miiv': [47.497186582290986, 58.6328387398111, 30.046884760286854], 'hirid': [42.98601788246328, 45.7697006847413, 39.105936235022504]}, 'overall_pulse_scores': {'overall_score': 43.36429064165163, 'overall_aki': 46.79254310416807, 'overall_eicu': 42.08001696341621, 'overall_mortality': 49.09346218019625, 'overall_hirid': 42.62055160074237, 'overall_sepsis': 34.206866640590576, 'overall_miiv': 45.39230336079631}}}"
        ],
        [
         "23",
         "{'model_id': 'deepseekr1llama8b', 'task_id': 'mortality', 'dataset': 'miiv', 'run_id': '20250625_173823', 'prompting_id': 'zhu_2024a_cot_preprocessor', 'metrics_summary': {'overall': {'auroc': 0.703, 'auprc': 0.503, 'normalized_auprc': 4.19, 'specificity': 0.239, 'f1_score': 0.244, 'accuracy': 0.32, 'balanced_accuracy': 0.578, 'precision': 0.141, 'recall': 0.917, 'mcc': 0.561, 'kappa': 0.046, 'minpse': 0.243, 'task_dataset_score': 58.633}, 'task_pulse_scores': {'aki': [49.89442484774994, 42.98601788246328, 47.497186582290986], 'mortality': [42.87784711603634, 45.7697006847413, 58.6328387398111], 'sepsis': [33.46777892646236, 39.105936235022504, 30.046884760286854]}, 'dataset_pulse_scores': {'eicu': [49.89442484774994, 42.87784711603634, 33.46777892646236], 'miiv': [47.497186582290986, 58.6328387398111, 30.046884760286854], 'hirid': [42.98601788246328, 45.7697006847413, 39.105936235022504]}, 'overall_pulse_scores': {'overall_score': 43.36429064165163, 'overall_aki': 46.79254310416807, 'overall_eicu': 42.08001696341621, 'overall_mortality': 49.09346218019625, 'overall_hirid': 42.62055160074237, 'overall_sepsis': 34.206866640590576, 'overall_miiv': 45.39230336079631}}}"
        ],
        [
         "24",
         "{'model_id': 'deepseekr1llama8b', 'task_id': 'sepsis', 'dataset': 'eicu', 'run_id': '20250625_173823', 'prompting_id': 'zhu_2024a_cot_preprocessor', 'metrics_summary': {'overall': {'auroc': 0.487, 'auprc': 0.043, 'normalized_auprc': 0.9, 'specificity': 0.386, 'f1_score': 0.08, 'accuracy': 0.394, 'balanced_accuracy': 0.47, 'precision': 0.043, 'recall': 0.553, 'mcc': 0.487, 'kappa': -0.009, 'minpse': 0.05, 'task_dataset_score': 33.468}, 'task_pulse_scores': {'aki': [49.89442484774994, 42.98601788246328, 47.497186582290986], 'mortality': [42.87784711603634, 45.7697006847413, 58.6328387398111], 'sepsis': [33.46777892646236, 39.105936235022504, 30.046884760286854]}, 'dataset_pulse_scores': {'eicu': [49.89442484774994, 42.87784711603634, 33.46777892646236], 'miiv': [47.497186582290986, 58.6328387398111, 30.046884760286854], 'hirid': [42.98601788246328, 45.7697006847413, 39.105936235022504]}, 'overall_pulse_scores': {'overall_score': 43.36429064165163, 'overall_aki': 46.79254310416807, 'overall_eicu': 42.08001696341621, 'overall_mortality': 49.09346218019625, 'overall_hirid': 42.62055160074237, 'overall_sepsis': 34.206866640590576, 'overall_miiv': 45.39230336079631}}}"
        ],
        [
         "25",
         "{'model_id': 'deepseekr1llama8b', 'task_id': 'sepsis', 'dataset': 'hirid', 'run_id': '20250625_173823', 'prompting_id': 'zhu_2024a_cot_preprocessor', 'metrics_summary': {'overall': {'auroc': 0.58, 'auprc': 0.097, 'normalized_auprc': 1.281, 'specificity': 0.431, 'f1_score': 0.146, 'accuracy': 0.446, 'balanced_accuracy': 0.53, 'precision': 0.083, 'recall': 0.63, 'mcc': 0.516, 'kappa': 0.015, 'minpse': 0.186, 'task_dataset_score': 39.106}, 'task_pulse_scores': {'aki': [49.89442484774994, 42.98601788246328, 47.497186582290986], 'mortality': [42.87784711603634, 45.7697006847413, 58.6328387398111], 'sepsis': [33.46777892646236, 39.105936235022504, 30.046884760286854]}, 'dataset_pulse_scores': {'eicu': [49.89442484774994, 42.87784711603634, 33.46777892646236], 'miiv': [47.497186582290986, 58.6328387398111, 30.046884760286854], 'hirid': [42.98601788246328, 45.7697006847413, 39.105936235022504]}, 'overall_pulse_scores': {'overall_score': 43.36429064165163, 'overall_aki': 46.79254310416807, 'overall_eicu': 42.08001696341621, 'overall_mortality': 49.09346218019625, 'overall_hirid': 42.62055160074237, 'overall_sepsis': 34.206866640590576, 'overall_miiv': 45.39230336079631}}}"
        ],
        [
         "26",
         "{'model_id': 'deepseekr1llama8b', 'task_id': 'sepsis', 'dataset': 'miiv', 'run_id': '20250625_173823', 'prompting_id': 'zhu_2024a_cot_preprocessor', 'metrics_summary': {'overall': {'auroc': 0.419, 'auprc': 0.019, 'normalized_auprc': 0.771, 'specificity': 0.442, 'f1_score': 0.035, 'accuracy': 0.441, 'balanced_accuracy': 0.421, 'precision': 0.018, 'recall': 0.4, 'mcc': 0.475, 'kappa': -0.014, 'minpse': 0.025, 'task_dataset_score': 30.047}, 'task_pulse_scores': {'aki': [49.89442484774994, 42.98601788246328, 47.497186582290986], 'mortality': [42.87784711603634, 45.7697006847413, 58.6328387398111], 'sepsis': [33.46777892646236, 39.105936235022504, 30.046884760286854]}, 'dataset_pulse_scores': {'eicu': [49.89442484774994, 42.87784711603634, 33.46777892646236], 'miiv': [47.497186582290986, 58.6328387398111, 30.046884760286854], 'hirid': [42.98601788246328, 45.7697006847413, 39.105936235022504]}, 'overall_pulse_scores': {'overall_score': 43.36429064165163, 'overall_aki': 46.79254310416807, 'overall_eicu': 42.08001696341621, 'overall_mortality': 49.09346218019625, 'overall_hirid': 42.62055160074237, 'overall_sepsis': 34.206866640590576, 'overall_miiv': 45.39230336079631}}}"
        ],
        [
         "27",
         "{'model_id': 'deepseekr1llama8b', 'task_id': 'aki', 'dataset': 'eicu', 'run_id': '20250623_053338', 'prompting_id': 'zhu_2024b_one_shot_preprocessor', 'metrics_summary': {'overall': {'auroc': 0.583, 'auprc': 0.407, 'normalized_auprc': 1.314, 'specificity': 0.788, 'f1_score': 0.367, 'accuracy': 0.646, 'balanced_accuracy': 0.56, 'precision': 0.412, 'recall': 0.331, 'mcc': 0.564, 'kappa': 0.126, 'minpse': 0.383, 'task_dataset_score': 51.785}, 'task_pulse_scores': {'aki': [51.785293803140384, 42.96913533714309, 50.57971795588958], 'mortality': [49.84345530228669, 45.32805557179854, 43.2062947292818], 'sepsis': [34.40697592441447, 39.05158229463108, 34.83852595380303]}, 'dataset_pulse_scores': {'eicu': [51.785293803140384, 49.84345530228669, 34.40697592441447], 'miiv': [50.57971795588958, 43.2062947292818, 34.83852595380303], 'hirid': [42.96913533714309, 45.32805557179854, 39.05158229463108]}, 'overall_pulse_scores': {'overall_score': 43.55655965248762, 'overall_aki': 48.44471569872436, 'overall_eicu': 45.34524167661385, 'overall_mortality': 46.12593520112234, 'overall_hirid': 42.44959106785757, 'overall_sepsis': 36.099028057616195, 'overall_miiv': 42.874846212991464}}}"
        ],
        [
         "28",
         "{'model_id': 'deepseekr1llama8b', 'task_id': 'aki', 'dataset': 'hirid', 'run_id': '20250623_053338', 'prompting_id': 'zhu_2024b_one_shot_preprocessor', 'metrics_summary': {'overall': {'auroc': 0.547, 'auprc': 0.216, 'normalized_auprc': 1.335, 'specificity': 0.82, 'f1_score': 0.22, 'accuracy': 0.726, 'balanced_accuracy': 0.53, 'precision': 0.204, 'recall': 0.239, 'mcc': 0.528, 'kappa': 0.055, 'minpse': 0.216, 'task_dataset_score': 42.969}, 'task_pulse_scores': {'aki': [51.785293803140384, 42.96913533714309, 50.57971795588958], 'mortality': [49.84345530228669, 45.32805557179854, 43.2062947292818], 'sepsis': [34.40697592441447, 39.05158229463108, 34.83852595380303]}, 'dataset_pulse_scores': {'eicu': [51.785293803140384, 49.84345530228669, 34.40697592441447], 'miiv': [50.57971795588958, 43.2062947292818, 34.83852595380303], 'hirid': [42.96913533714309, 45.32805557179854, 39.05158229463108]}, 'overall_pulse_scores': {'overall_score': 43.55655965248762, 'overall_aki': 48.44471569872436, 'overall_eicu': 45.34524167661385, 'overall_mortality': 46.12593520112234, 'overall_hirid': 42.44959106785757, 'overall_sepsis': 36.099028057616195, 'overall_miiv': 42.874846212991464}}}"
        ],
        [
         "29",
         "{'model_id': 'deepseekr1llama8b', 'task_id': 'aki', 'dataset': 'miiv', 'run_id': '20250623_053338', 'prompting_id': 'zhu_2024b_one_shot_preprocessor', 'metrics_summary': {'overall': {'auroc': 0.574, 'auprc': 0.359, 'normalized_auprc': 1.541, 'specificity': 0.873, 'f1_score': 0.325, 'accuracy': 0.734, 'balanced_accuracy': 0.574, 'precision': 0.396, 'recall': 0.275, 'mcc': 0.585, 'kappa': 0.166, 'minpse': 0.328, 'task_dataset_score': 50.58}, 'task_pulse_scores': {'aki': [51.785293803140384, 42.96913533714309, 50.57971795588958], 'mortality': [49.84345530228669, 45.32805557179854, 43.2062947292818], 'sepsis': [34.40697592441447, 39.05158229463108, 34.83852595380303]}, 'dataset_pulse_scores': {'eicu': [51.785293803140384, 49.84345530228669, 34.40697592441447], 'miiv': [50.57971795588958, 43.2062947292818, 34.83852595380303], 'hirid': [42.96913533714309, 45.32805557179854, 39.05158229463108]}, 'overall_pulse_scores': {'overall_score': 43.55655965248762, 'overall_aki': 48.44471569872436, 'overall_eicu': 45.34524167661385, 'overall_mortality': 46.12593520112234, 'overall_hirid': 42.44959106785757, 'overall_sepsis': 36.099028057616195, 'overall_miiv': 42.874846212991464}}}"
        ],
        [
         "30",
         "{'model_id': 'deepseekr1llama8b', 'task_id': 'mortality', 'dataset': 'eicu', 'run_id': '20250623_053338', 'prompting_id': 'zhu_2024b_one_shot_preprocessor', 'metrics_summary': {'overall': {'auroc': 0.657, 'auprc': 0.276, 'normalized_auprc': 3.94, 'specificity': 0.753, 'f1_score': 0.235, 'accuracy': 0.74, 'balanced_accuracy': 0.662, 'precision': 0.148, 'recall': 0.571, 'mcc': 0.593, 'kappa': 0.14, 'minpse': 0.25, 'task_dataset_score': 49.843}, 'task_pulse_scores': {'aki': [51.785293803140384, 42.96913533714309, 50.57971795588958], 'mortality': [49.84345530228669, 45.32805557179854, 43.2062947292818], 'sepsis': [34.40697592441447, 39.05158229463108, 34.83852595380303]}, 'dataset_pulse_scores': {'eicu': [51.785293803140384, 49.84345530228669, 34.40697592441447], 'miiv': [50.57971795588958, 43.2062947292818, 34.83852595380303], 'hirid': [42.96913533714309, 45.32805557179854, 39.05158229463108]}, 'overall_pulse_scores': {'overall_score': 43.55655965248762, 'overall_aki': 48.44471569872436, 'overall_eicu': 45.34524167661385, 'overall_mortality': 46.12593520112234, 'overall_hirid': 42.44959106785757, 'overall_sepsis': 36.099028057616195, 'overall_miiv': 42.874846212991464}}}"
        ],
        [
         "31",
         "{'model_id': 'deepseekr1llama8b', 'task_id': 'mortality', 'dataset': 'hirid', 'run_id': '20250623_053338', 'prompting_id': 'zhu_2024b_one_shot_preprocessor', 'metrics_summary': {'overall': {'auroc': 0.624, 'auprc': 0.14, 'normalized_auprc': 1.271, 'specificity': 0.742, 'f1_score': 0.3, 'accuracy': 0.72, 'balanced_accuracy': 0.644, 'precision': 0.207, 'recall': 0.545, 'mcc': 0.599, 'kappa': 0.167, 'minpse': 0.207, 'task_dataset_score': 45.328}, 'task_pulse_scores': {'aki': [51.785293803140384, 42.96913533714309, 50.57971795588958], 'mortality': [49.84345530228669, 45.32805557179854, 43.2062947292818], 'sepsis': [34.40697592441447, 39.05158229463108, 34.83852595380303]}, 'dataset_pulse_scores': {'eicu': [51.785293803140384, 49.84345530228669, 34.40697592441447], 'miiv': [50.57971795588958, 43.2062947292818, 34.83852595380303], 'hirid': [42.96913533714309, 45.32805557179854, 39.05158229463108]}, 'overall_pulse_scores': {'overall_score': 43.55655965248762, 'overall_aki': 48.44471569872436, 'overall_eicu': 45.34524167661385, 'overall_mortality': 46.12593520112234, 'overall_hirid': 42.44959106785757, 'overall_sepsis': 36.099028057616195, 'overall_miiv': 42.874846212991464}}}"
        ],
        [
         "32",
         "{'model_id': 'deepseekr1llama8b', 'task_id': 'mortality', 'dataset': 'miiv', 'run_id': '20250623_053338', 'prompting_id': 'zhu_2024b_one_shot_preprocessor', 'metrics_summary': {'overall': {'auroc': 0.544, 'auprc': 0.213, 'normalized_auprc': 1.773, 'specificity': 0.557, 'f1_score': 0.241, 'accuracy': 0.56, 'balanced_accuracy': 0.57, 'precision': 0.152, 'recall': 0.583, 'mcc': 0.546, 'kappa': 0.063, 'minpse': 0.154, 'task_dataset_score': 43.206}, 'task_pulse_scores': {'aki': [51.785293803140384, 42.96913533714309, 50.57971795588958], 'mortality': [49.84345530228669, 45.32805557179854, 43.2062947292818], 'sepsis': [34.40697592441447, 39.05158229463108, 34.83852595380303]}, 'dataset_pulse_scores': {'eicu': [51.785293803140384, 49.84345530228669, 34.40697592441447], 'miiv': [50.57971795588958, 43.2062947292818, 34.83852595380303], 'hirid': [42.96913533714309, 45.32805557179854, 39.05158229463108]}, 'overall_pulse_scores': {'overall_score': 43.55655965248762, 'overall_aki': 48.44471569872436, 'overall_eicu': 45.34524167661385, 'overall_mortality': 46.12593520112234, 'overall_hirid': 42.44959106785757, 'overall_sepsis': 36.099028057616195, 'overall_miiv': 42.874846212991464}}}"
        ],
        [
         "33",
         "{'model_id': 'deepseekr1llama8b', 'task_id': 'sepsis', 'dataset': 'eicu', 'run_id': '20250623_053338', 'prompting_id': 'zhu_2024b_one_shot_preprocessor', 'metrics_summary': {'overall': {'auroc': 0.495, 'auprc': 0.045, 'normalized_auprc': 0.941, 'specificity': 0.804, 'f1_score': 0.067, 'accuracy': 0.773, 'balanced_accuracy': 0.487, 'precision': 0.042, 'recall': 0.17, 'mcc': 0.493, 'kappa': -0.011, 'minpse': 0.052, 'task_dataset_score': 34.407}, 'task_pulse_scores': {'aki': [51.785293803140384, 42.96913533714309, 50.57971795588958], 'mortality': [49.84345530228669, 45.32805557179854, 43.2062947292818], 'sepsis': [34.40697592441447, 39.05158229463108, 34.83852595380303]}, 'dataset_pulse_scores': {'eicu': [51.785293803140384, 49.84345530228669, 34.40697592441447], 'miiv': [50.57971795588958, 43.2062947292818, 34.83852595380303], 'hirid': [42.96913533714309, 45.32805557179854, 39.05158229463108]}, 'overall_pulse_scores': {'overall_score': 43.55655965248762, 'overall_aki': 48.44471569872436, 'overall_eicu': 45.34524167661385, 'overall_mortality': 46.12593520112234, 'overall_hirid': 42.44959106785757, 'overall_sepsis': 36.099028057616195, 'overall_miiv': 42.874846212991464}}}"
        ],
        [
         "34",
         "{'model_id': 'deepseekr1llama8b', 'task_id': 'sepsis', 'dataset': 'hirid', 'run_id': '20250623_053338', 'prompting_id': 'zhu_2024b_one_shot_preprocessor', 'metrics_summary': {'overall': {'auroc': 0.569, 'auprc': 0.085, 'normalized_auprc': 1.128, 'specificity': 0.698, 'f1_score': 0.155, 'accuracy': 0.675, 'balanced_accuracy': 0.547, 'precision': 0.097, 'recall': 0.397, 'mcc': 0.527, 'kappa': 0.039, 'minpse': 0.127, 'task_dataset_score': 39.052}, 'task_pulse_scores': {'aki': [51.785293803140384, 42.96913533714309, 50.57971795588958], 'mortality': [49.84345530228669, 45.32805557179854, 43.2062947292818], 'sepsis': [34.40697592441447, 39.05158229463108, 34.83852595380303]}, 'dataset_pulse_scores': {'eicu': [51.785293803140384, 49.84345530228669, 34.40697592441447], 'miiv': [50.57971795588958, 43.2062947292818, 34.83852595380303], 'hirid': [42.96913533714309, 45.32805557179854, 39.05158229463108]}, 'overall_pulse_scores': {'overall_score': 43.55655965248762, 'overall_aki': 48.44471569872436, 'overall_eicu': 45.34524167661385, 'overall_mortality': 46.12593520112234, 'overall_hirid': 42.44959106785757, 'overall_sepsis': 36.099028057616195, 'overall_miiv': 42.874846212991464}}}"
        ],
        [
         "35",
         "{'model_id': 'deepseekr1llama8b', 'task_id': 'sepsis', 'dataset': 'miiv', 'run_id': '20250623_053338', 'prompting_id': 'zhu_2024b_one_shot_preprocessor', 'metrics_summary': {'overall': {'auroc': 0.503, 'auprc': 0.026, 'normalized_auprc': 1.038, 'specificity': 0.741, 'f1_score': 0.063, 'accuracy': 0.731, 'balanced_accuracy': 0.55, 'precision': 0.035, 'recall': 0.36, 'mcc': 0.518, 'kappa': 0.018, 'minpse': 0.049, 'task_dataset_score': 34.839}, 'task_pulse_scores': {'aki': [51.785293803140384, 42.96913533714309, 50.57971795588958], 'mortality': [49.84345530228669, 45.32805557179854, 43.2062947292818], 'sepsis': [34.40697592441447, 39.05158229463108, 34.83852595380303]}, 'dataset_pulse_scores': {'eicu': [51.785293803140384, 49.84345530228669, 34.40697592441447], 'miiv': [50.57971795588958, 43.2062947292818, 34.83852595380303], 'hirid': [42.96913533714309, 45.32805557179854, 39.05158229463108]}, 'overall_pulse_scores': {'overall_score': 43.55655965248762, 'overall_aki': 48.44471569872436, 'overall_eicu': 45.34524167661385, 'overall_mortality': 46.12593520112234, 'overall_hirid': 42.44959106785757, 'overall_sepsis': 36.099028057616195, 'overall_miiv': 42.874846212991464}}}"
        ],
        [
         "36",
         "{'model_id': 'deepseekr1llama8b', 'task_id': 'aki', 'dataset': 'eicu', 'run_id': '20250620_211315', 'prompting_id': 'zhu_2024b_zero_shot', 'metrics_summary': {'overall': {'auroc': 0.584, 'auprc': 0.401, 'normalized_auprc': 1.295, 'specificity': 0.8, 'f1_score': 0.348, 'accuracy': 0.646, 'balanced_accuracy': 0.552, 'precision': 0.406, 'recall': 0.305, 'mcc': 0.557, 'kappa': 0.112, 'minpse': 0.402, 'task_dataset_score': 51.116}, 'task_pulse_scores': {'aki': [51.11632845158168, 40.83141578499358, 48.714726390771176], 'mortality': [48.725050257865846, 39.75475018250834, 59.03636223097286], 'sepsis': [35.02659201084466, 40.213631981495354, 33.4398048668324]}, 'dataset_pulse_scores': {'eicu': [51.11632845158168, 48.725050257865846, 35.02659201084466], 'miiv': [48.714726390771176, 59.03636223097286, 33.4398048668324], 'hirid': [40.83141578499358, 39.75475018250834, 40.213631981495354]}, 'overall_pulse_scores': {'overall_score': 44.09540690642954, 'overall_aki': 46.88749020911548, 'overall_eicu': 44.9559902400974, 'overall_mortality': 49.17205422378235, 'overall_hirid': 40.266599316332425, 'overall_sepsis': 36.226676286390806, 'overall_miiv': 47.063631162858805}}}"
        ],
        [
         "37",
         "{'model_id': 'deepseekr1llama8b', 'task_id': 'aki', 'dataset': 'hirid', 'run_id': '20250620_211315', 'prompting_id': 'zhu_2024b_zero_shot', 'metrics_summary': {'overall': {'auroc': 0.504, 'auprc': 0.198, 'normalized_auprc': 1.224, 'specificity': 0.859, 'f1_score': 0.208, 'accuracy': 0.753, 'balanced_accuracy': 0.53, 'precision': 0.216, 'recall': 0.201, 'mcc': 0.531, 'kappa': 0.062, 'minpse': 0.208, 'task_dataset_score': 40.831}, 'task_pulse_scores': {'aki': [51.11632845158168, 40.83141578499358, 48.714726390771176], 'mortality': [48.725050257865846, 39.75475018250834, 59.03636223097286], 'sepsis': [35.02659201084466, 40.213631981495354, 33.4398048668324]}, 'dataset_pulse_scores': {'eicu': [51.11632845158168, 48.725050257865846, 35.02659201084466], 'miiv': [48.714726390771176, 59.03636223097286, 33.4398048668324], 'hirid': [40.83141578499358, 39.75475018250834, 40.213631981495354]}, 'overall_pulse_scores': {'overall_score': 44.09540690642954, 'overall_aki': 46.88749020911548, 'overall_eicu': 44.9559902400974, 'overall_mortality': 49.17205422378235, 'overall_hirid': 40.266599316332425, 'overall_sepsis': 36.226676286390806, 'overall_miiv': 47.063631162858805}}}"
        ],
        [
         "38",
         "{'model_id': 'deepseekr1llama8b', 'task_id': 'aki', 'dataset': 'miiv', 'run_id': '20250620_211315', 'prompting_id': 'zhu_2024b_zero_shot', 'metrics_summary': {'overall': {'auroc': 0.577, 'auprc': 0.322, 'normalized_auprc': 1.384, 'specificity': 0.838, 'f1_score': 0.329, 'accuracy': 0.713, 'balanced_accuracy': 0.57, 'precision': 0.361, 'recall': 0.301, 'mcc': 0.575, 'kappa': 0.148, 'minpse': 0.336, 'task_dataset_score': 48.715}, 'task_pulse_scores': {'aki': [51.11632845158168, 40.83141578499358, 48.714726390771176], 'mortality': [48.725050257865846, 39.75475018250834, 59.03636223097286], 'sepsis': [35.02659201084466, 40.213631981495354, 33.4398048668324]}, 'dataset_pulse_scores': {'eicu': [51.11632845158168, 48.725050257865846, 35.02659201084466], 'miiv': [48.714726390771176, 59.03636223097286, 33.4398048668324], 'hirid': [40.83141578499358, 39.75475018250834, 40.213631981495354]}, 'overall_pulse_scores': {'overall_score': 44.09540690642954, 'overall_aki': 46.88749020911548, 'overall_eicu': 44.9559902400974, 'overall_mortality': 49.17205422378235, 'overall_hirid': 40.266599316332425, 'overall_sepsis': 36.226676286390806, 'overall_miiv': 47.063631162858805}}}"
        ],
        [
         "39",
         "{'model_id': 'deepseekr1llama8b', 'task_id': 'mortality', 'dataset': 'eicu', 'run_id': '20250620_211315', 'prompting_id': 'zhu_2024b_zero_shot', 'metrics_summary': {'overall': {'auroc': 0.747, 'auprc': 0.126, 'normalized_auprc': 1.802, 'specificity': 0.559, 'f1_score': 0.222, 'accuracy': 0.58, 'balanced_accuracy': 0.708, 'precision': 0.128, 'recall': 0.857, 'mcc': 0.606, 'kappa': 0.114, 'minpse': 0.2, 'task_dataset_score': 48.725}, 'task_pulse_scores': {'aki': [51.11632845158168, 40.83141578499358, 48.714726390771176], 'mortality': [48.725050257865846, 39.75475018250834, 59.03636223097286], 'sepsis': [35.02659201084466, 40.213631981495354, 33.4398048668324]}, 'dataset_pulse_scores': {'eicu': [51.11632845158168, 48.725050257865846, 35.02659201084466], 'miiv': [48.714726390771176, 59.03636223097286, 33.4398048668324], 'hirid': [40.83141578499358, 39.75475018250834, 40.213631981495354]}, 'overall_pulse_scores': {'overall_score': 44.09540690642954, 'overall_aki': 46.88749020911548, 'overall_eicu': 44.9559902400974, 'overall_mortality': 49.17205422378235, 'overall_hirid': 40.266599316332425, 'overall_sepsis': 36.226676286390806, 'overall_miiv': 47.063631162858805}}}"
        ],
        [
         "40",
         "{'model_id': 'deepseekr1llama8b', 'task_id': 'mortality', 'dataset': 'hirid', 'run_id': '20250620_211315', 'prompting_id': 'zhu_2024b_zero_shot', 'metrics_summary': {'overall': {'auroc': 0.552, 'auprc': 0.089, 'normalized_auprc': 0.81, 'specificity': 0.326, 'f1_score': 0.225, 'accuracy': 0.38, 'balanced_accuracy': 0.572, 'precision': 0.13, 'recall': 0.818, 'mcc': 0.549, 'kappa': 0.044, 'minpse': 0.14, 'task_dataset_score': 39.755}, 'task_pulse_scores': {'aki': [51.11632845158168, 40.83141578499358, 48.714726390771176], 'mortality': [48.725050257865846, 39.75475018250834, 59.03636223097286], 'sepsis': [35.02659201084466, 40.213631981495354, 33.4398048668324]}, 'dataset_pulse_scores': {'eicu': [51.11632845158168, 48.725050257865846, 35.02659201084466], 'miiv': [48.714726390771176, 59.03636223097286, 33.4398048668324], 'hirid': [40.83141578499358, 39.75475018250834, 40.213631981495354]}, 'overall_pulse_scores': {'overall_score': 44.09540690642954, 'overall_aki': 46.88749020911548, 'overall_eicu': 44.9559902400974, 'overall_mortality': 49.17205422378235, 'overall_hirid': 40.266599316332425, 'overall_sepsis': 36.226676286390806, 'overall_miiv': 47.063631162858805}}}"
        ],
        [
         "41",
         "{'model_id': 'deepseekr1llama8b', 'task_id': 'mortality', 'dataset': 'miiv', 'run_id': '20250620_211315', 'prompting_id': 'zhu_2024b_zero_shot', 'metrics_summary': {'overall': {'auroc': 0.741, 'auprc': 0.457, 'normalized_auprc': 3.806, 'specificity': 0.477, 'f1_score': 0.294, 'accuracy': 0.52, 'balanced_accuracy': 0.655, 'precision': 0.179, 'recall': 0.833, 'mcc': 0.602, 'kappa': 0.12, 'minpse': 0.286, 'task_dataset_score': 59.036}, 'task_pulse_scores': {'aki': [51.11632845158168, 40.83141578499358, 48.714726390771176], 'mortality': [48.725050257865846, 39.75475018250834, 59.03636223097286], 'sepsis': [35.02659201084466, 40.213631981495354, 33.4398048668324]}, 'dataset_pulse_scores': {'eicu': [51.11632845158168, 48.725050257865846, 35.02659201084466], 'miiv': [48.714726390771176, 59.03636223097286, 33.4398048668324], 'hirid': [40.83141578499358, 39.75475018250834, 40.213631981495354]}, 'overall_pulse_scores': {'overall_score': 44.09540690642954, 'overall_aki': 46.88749020911548, 'overall_eicu': 44.9559902400974, 'overall_mortality': 49.17205422378235, 'overall_hirid': 40.266599316332425, 'overall_sepsis': 36.226676286390806, 'overall_miiv': 47.063631162858805}}}"
        ],
        [
         "42",
         "{'model_id': 'deepseekr1llama8b', 'task_id': 'sepsis', 'dataset': 'eicu', 'run_id': '20250620_211315', 'prompting_id': 'zhu_2024b_zero_shot', 'metrics_summary': {'overall': {'auroc': 0.514, 'auprc': 0.045, 'normalized_auprc': 0.945, 'specificity': 0.553, 'f1_score': 0.087, 'accuracy': 0.548, 'balanced_accuracy': 0.5, 'precision': 0.048, 'recall': 0.447, 'mcc': 0.5, 'kappa': -0.0, 'minpse': 0.061, 'task_dataset_score': 35.027}, 'task_pulse_scores': {'aki': [51.11632845158168, 40.83141578499358, 48.714726390771176], 'mortality': [48.725050257865846, 39.75475018250834, 59.03636223097286], 'sepsis': [35.02659201084466, 40.213631981495354, 33.4398048668324]}, 'dataset_pulse_scores': {'eicu': [51.11632845158168, 48.725050257865846, 35.02659201084466], 'miiv': [48.714726390771176, 59.03636223097286, 33.4398048668324], 'hirid': [40.83141578499358, 39.75475018250834, 40.213631981495354]}, 'overall_pulse_scores': {'overall_score': 44.09540690642954, 'overall_aki': 46.88749020911548, 'overall_eicu': 44.9559902400974, 'overall_mortality': 49.17205422378235, 'overall_hirid': 40.266599316332425, 'overall_sepsis': 36.226676286390806, 'overall_miiv': 47.063631162858805}}}"
        ],
        [
         "43",
         "{'model_id': 'deepseekr1llama8b', 'task_id': 'sepsis', 'dataset': 'hirid', 'run_id': '20250620_211315', 'prompting_id': 'zhu_2024b_zero_shot', 'metrics_summary': {'overall': {'auroc': 0.571, 'auprc': 0.112, 'normalized_auprc': 1.488, 'specificity': 0.58, 'f1_score': 0.164, 'accuracy': 0.578, 'balanced_accuracy': 0.564, 'precision': 0.096, 'recall': 0.548, 'mcc': 0.534, 'kappa': 0.041, 'minpse': 0.117, 'task_dataset_score': 40.214}, 'task_pulse_scores': {'aki': [51.11632845158168, 40.83141578499358, 48.714726390771176], 'mortality': [48.725050257865846, 39.75475018250834, 59.03636223097286], 'sepsis': [35.02659201084466, 40.213631981495354, 33.4398048668324]}, 'dataset_pulse_scores': {'eicu': [51.11632845158168, 48.725050257865846, 35.02659201084466], 'miiv': [48.714726390771176, 59.03636223097286, 33.4398048668324], 'hirid': [40.83141578499358, 39.75475018250834, 40.213631981495354]}, 'overall_pulse_scores': {'overall_score': 44.09540690642954, 'overall_aki': 46.88749020911548, 'overall_eicu': 44.9559902400974, 'overall_mortality': 49.17205422378235, 'overall_hirid': 40.266599316332425, 'overall_sepsis': 36.226676286390806, 'overall_miiv': 47.063631162858805}}}"
        ],
        [
         "44",
         "{'model_id': 'deepseekr1llama8b', 'task_id': 'sepsis', 'dataset': 'miiv', 'run_id': '20250620_211315', 'prompting_id': 'zhu_2024b_zero_shot', 'metrics_summary': {'overall': {'auroc': 0.5, 'auprc': 0.023, 'normalized_auprc': 0.912, 'specificity': 0.572, 'f1_score': 0.04, 'accuracy': 0.567, 'balanced_accuracy': 0.466, 'precision': 0.021, 'recall': 0.36, 'mcc': 0.489, 'kappa': -0.008, 'minpse': 0.028, 'task_dataset_score': 33.44}, 'task_pulse_scores': {'aki': [51.11632845158168, 40.83141578499358, 48.714726390771176], 'mortality': [48.725050257865846, 39.75475018250834, 59.03636223097286], 'sepsis': [35.02659201084466, 40.213631981495354, 33.4398048668324]}, 'dataset_pulse_scores': {'eicu': [51.11632845158168, 48.725050257865846, 35.02659201084466], 'miiv': [48.714726390771176, 59.03636223097286, 33.4398048668324], 'hirid': [40.83141578499358, 39.75475018250834, 40.213631981495354]}, 'overall_pulse_scores': {'overall_score': 44.09540690642954, 'overall_aki': 46.88749020911548, 'overall_eicu': 44.9559902400974, 'overall_mortality': 49.17205422378235, 'overall_hirid': 40.266599316332425, 'overall_sepsis': 36.226676286390806, 'overall_miiv': 47.063631162858805}}}"
        ],
        [
         "45",
         "{'model_id': 'deepseekr1llama8b', 'task_id': 'aki', 'dataset': 'eicu', 'run_id': '20250627_201905', 'prompting_id': 'zhu_2024c_categorization_summary_agent_preprocessor', 'metrics_summary': {'overall': {'auroc': 0.549, 'auprc': 0.361, 'normalized_auprc': 1.166, 'specificity': 0.134, 'f1_score': 0.474, 'accuracy': 0.374, 'balanced_accuracy': 0.521, 'precision': 0.32, 'recall': 0.908, 'mcc': 0.53, 'kappa': 0.028, 'minpse': 0.327, 'task_dataset_score': 46.96}, 'task_pulse_scores': {'aki': [46.96041158929678, 35.63852180962397, 41.212761540072115], 'mortality': [35.75503153565048, 30.672851898569544, 34.306248082905206], 'sepsis': [35.97639398300966, 37.053249380986124, 30.746232850791696]}, 'dataset_pulse_scores': {'eicu': [46.96041158929678, 35.75503153565048, 35.97639398300966], 'miiv': [41.212761540072115, 34.306248082905206, 30.746232850791696], 'hirid': [35.63852180962397, 30.672851898569544, 37.053249380986124]}, 'overall_pulse_scores': {'overall_score': 36.48018918565617, 'overall_aki': 41.27056497966429, 'overall_eicu': 39.563945702652305, 'overall_mortality': 33.57804383904175, 'overall_hirid': 34.45487436305988, 'overall_sepsis': 34.59195873826249, 'overall_miiv': 35.42174749125634}}}"
        ],
        [
         "46",
         "{'model_id': 'deepseekr1llama8b', 'task_id': 'aki', 'dataset': 'hirid', 'run_id': '20250627_201905', 'prompting_id': 'zhu_2024c_categorization_summary_agent_preprocessor', 'metrics_summary': {'overall': {'auroc': 0.468, 'auprc': 0.168, 'normalized_auprc': 1.037, 'specificity': 0.061, 'f1_score': 0.269, 'accuracy': 0.199, 'balanced_accuracy': 0.486, 'precision': 0.158, 'recall': 0.912, 'mcc': 0.48, 'kappa': -0.009, 'minpse': 0.189, 'task_dataset_score': 35.639}, 'task_pulse_scores': {'aki': [46.96041158929678, 35.63852180962397, 41.212761540072115], 'mortality': [35.75503153565048, 30.672851898569544, 34.306248082905206], 'sepsis': [35.97639398300966, 37.053249380986124, 30.746232850791696]}, 'dataset_pulse_scores': {'eicu': [46.96041158929678, 35.75503153565048, 35.97639398300966], 'miiv': [41.212761540072115, 34.306248082905206, 30.746232850791696], 'hirid': [35.63852180962397, 30.672851898569544, 37.053249380986124]}, 'overall_pulse_scores': {'overall_score': 36.48018918565617, 'overall_aki': 41.27056497966429, 'overall_eicu': 39.563945702652305, 'overall_mortality': 33.57804383904175, 'overall_hirid': 34.45487436305988, 'overall_sepsis': 34.59195873826249, 'overall_miiv': 35.42174749125634}}}"
        ],
        [
         "47",
         "{'model_id': 'deepseekr1llama8b', 'task_id': 'aki', 'dataset': 'miiv', 'run_id': '20250627_201905', 'prompting_id': 'zhu_2024c_categorization_summary_agent_preprocessor', 'metrics_summary': {'overall': {'auroc': 0.506, 'auprc': 0.232, 'normalized_auprc': 0.998, 'specificity': 0.127, 'f1_score': 0.383, 'accuracy': 0.311, 'balanced_accuracy': 0.522, 'precision': 0.242, 'recall': 0.917, 'mcc': 0.529, 'kappa': 0.022, 'minpse': 0.242, 'task_dataset_score': 41.213}, 'task_pulse_scores': {'aki': [46.96041158929678, 35.63852180962397, 41.212761540072115], 'mortality': [35.75503153565048, 30.672851898569544, 34.306248082905206], 'sepsis': [35.97639398300966, 37.053249380986124, 30.746232850791696]}, 'dataset_pulse_scores': {'eicu': [46.96041158929678, 35.75503153565048, 35.97639398300966], 'miiv': [41.212761540072115, 34.306248082905206, 30.746232850791696], 'hirid': [35.63852180962397, 30.672851898569544, 37.053249380986124]}, 'overall_pulse_scores': {'overall_score': 36.48018918565617, 'overall_aki': 41.27056497966429, 'overall_eicu': 39.563945702652305, 'overall_mortality': 33.57804383904175, 'overall_hirid': 34.45487436305988, 'overall_sepsis': 34.59195873826249, 'overall_miiv': 35.42174749125634}}}"
        ],
        [
         "48",
         "{'model_id': 'deepseekr1llama8b', 'task_id': 'mortality', 'dataset': 'eicu', 'run_id': '20250627_201905', 'prompting_id': 'zhu_2024c_categorization_summary_agent_preprocessor', 'metrics_summary': {'overall': {'auroc': 0.528, 'auprc': 0.068, 'normalized_auprc': 0.973, 'specificity': 0.011, 'f1_score': 0.132, 'accuracy': 0.08, 'balanced_accuracy': 0.505, 'precision': 0.071, 'recall': 1.0, 'mcc': 0.514, 'kappa': 0.002, 'minpse': 0.091, 'task_dataset_score': 35.755}, 'task_pulse_scores': {'aki': [46.96041158929678, 35.63852180962397, 41.212761540072115], 'mortality': [35.75503153565048, 30.672851898569544, 34.306248082905206], 'sepsis': [35.97639398300966, 37.053249380986124, 30.746232850791696]}, 'dataset_pulse_scores': {'eicu': [46.96041158929678, 35.75503153565048, 35.97639398300966], 'miiv': [41.212761540072115, 34.306248082905206, 30.746232850791696], 'hirid': [35.63852180962397, 30.672851898569544, 37.053249380986124]}, 'overall_pulse_scores': {'overall_score': 36.48018918565617, 'overall_aki': 41.27056497966429, 'overall_eicu': 39.563945702652305, 'overall_mortality': 33.57804383904175, 'overall_hirid': 34.45487436305988, 'overall_sepsis': 34.59195873826249, 'overall_miiv': 35.42174749125634}}}"
        ],
        [
         "49",
         "{'model_id': 'deepseekr1llama8b', 'task_id': 'mortality', 'dataset': 'hirid', 'run_id': '20250627_201905', 'prompting_id': 'zhu_2024c_categorization_summary_agent_preprocessor', 'metrics_summary': {'overall': {'auroc': 0.496, 'auprc': 0.099, 'normalized_auprc': 0.904, 'specificity': 0.0, 'f1_score': 0.182, 'accuracy': 0.1, 'balanced_accuracy': 0.455, 'precision': 0.101, 'recall': 0.909, 'mcc': 0.357, 'kappa': -0.02, 'minpse': 0.16, 'task_dataset_score': 30.673}, 'task_pulse_scores': {'aki': [46.96041158929678, 35.63852180962397, 41.212761540072115], 'mortality': [35.75503153565048, 30.672851898569544, 34.306248082905206], 'sepsis': [35.97639398300966, 37.053249380986124, 30.746232850791696]}, 'dataset_pulse_scores': {'eicu': [46.96041158929678, 35.75503153565048, 35.97639398300966], 'miiv': [41.212761540072115, 34.306248082905206, 30.746232850791696], 'hirid': [35.63852180962397, 30.672851898569544, 37.053249380986124]}, 'overall_pulse_scores': {'overall_score': 36.48018918565617, 'overall_aki': 41.27056497966429, 'overall_eicu': 39.563945702652305, 'overall_mortality': 33.57804383904175, 'overall_hirid': 34.45487436305988, 'overall_sepsis': 34.59195873826249, 'overall_miiv': 35.42174749125634}}}"
        ]
       ],
       "shape": {
        "columns": 1,
        "rows": 401
       }
      },
      "text/html": [
       "<div>\n",
       "<style scoped>\n",
       "    .dataframe tbody tr th:only-of-type {\n",
       "        vertical-align: middle;\n",
       "    }\n",
       "\n",
       "    .dataframe tbody tr th {\n",
       "        vertical-align: top;\n",
       "    }\n",
       "\n",
       "    .dataframe thead th {\n",
       "        text-align: right;\n",
       "    }\n",
       "</style>\n",
       "<table border=\"1\" class=\"dataframe\">\n",
       "  <thead>\n",
       "    <tr style=\"text-align: right;\">\n",
       "      <th></th>\n",
       "      <th>results</th>\n",
       "    </tr>\n",
       "  </thead>\n",
       "  <tbody>\n",
       "    <tr>\n",
       "      <th>0</th>\n",
       "      <td>{'model_id': 'deepseekr1llama8b', 'task_id': '...</td>\n",
       "    </tr>\n",
       "    <tr>\n",
       "      <th>1</th>\n",
       "      <td>{'model_id': 'deepseekr1llama8b', 'task_id': '...</td>\n",
       "    </tr>\n",
       "    <tr>\n",
       "      <th>2</th>\n",
       "      <td>{'model_id': 'deepseekr1llama8b', 'task_id': '...</td>\n",
       "    </tr>\n",
       "    <tr>\n",
       "      <th>3</th>\n",
       "      <td>{'model_id': 'deepseekr1llama8b', 'task_id': '...</td>\n",
       "    </tr>\n",
       "    <tr>\n",
       "      <th>4</th>\n",
       "      <td>{'model_id': 'deepseekr1llama8b', 'task_id': '...</td>\n",
       "    </tr>\n",
       "    <tr>\n",
       "      <th>...</th>\n",
       "      <td>...</td>\n",
       "    </tr>\n",
       "    <tr>\n",
       "      <th>9</th>\n",
       "      <td>{'model_id': 'o3', 'task_id': 'mortality', 'da...</td>\n",
       "    </tr>\n",
       "    <tr>\n",
       "      <th>10</th>\n",
       "      <td>{'model_id': 'o3', 'task_id': 'mortality', 'da...</td>\n",
       "    </tr>\n",
       "    <tr>\n",
       "      <th>11</th>\n",
       "      <td>{'model_id': 'o3', 'task_id': 'sepsis', 'datas...</td>\n",
       "    </tr>\n",
       "    <tr>\n",
       "      <th>12</th>\n",
       "      <td>{'model_id': 'o3', 'task_id': 'sepsis', 'datas...</td>\n",
       "    </tr>\n",
       "    <tr>\n",
       "      <th>13</th>\n",
       "      <td>{'model_id': 'o3', 'task_id': 'sepsis', 'datas...</td>\n",
       "    </tr>\n",
       "  </tbody>\n",
       "</table>\n",
       "<p>401 rows × 1 columns</p>\n",
       "</div>"
      ],
      "text/plain": [
       "                                              results\n",
       "0   {'model_id': 'deepseekr1llama8b', 'task_id': '...\n",
       "1   {'model_id': 'deepseekr1llama8b', 'task_id': '...\n",
       "2   {'model_id': 'deepseekr1llama8b', 'task_id': '...\n",
       "3   {'model_id': 'deepseekr1llama8b', 'task_id': '...\n",
       "4   {'model_id': 'deepseekr1llama8b', 'task_id': '...\n",
       "..                                                ...\n",
       "9   {'model_id': 'o3', 'task_id': 'mortality', 'da...\n",
       "10  {'model_id': 'o3', 'task_id': 'mortality', 'da...\n",
       "11  {'model_id': 'o3', 'task_id': 'sepsis', 'datas...\n",
       "12  {'model_id': 'o3', 'task_id': 'sepsis', 'datas...\n",
       "13  {'model_id': 'o3', 'task_id': 'sepsis', 'datas...\n",
       "\n",
       "[401 rows x 1 columns]"
      ]
     },
     "execution_count": 41,
     "metadata": {},
     "output_type": "execute_result"
    }
   ],
   "source": [
    "df_all_metrics = pd.DataFrame()\n",
    "for model in best_approach.columns:\n",
    "    if best_approach[model] is not None:\n",
    "        metrics_report_path = best_approach[model][\"metrics_report_path\"]\n",
    "        prompting_id = best_approach[model][\"prompting_id\"]\n",
    "        print(f\"Model: {model}, Prompting ID: {prompting_id}\")\n",
    "        \n",
    "        # Load the metrics report\n",
    "        df_temp = LLMAnalyzer.load_metrics_report_as_df(metrics_report_path)\n",
    "        df_all_metrics = pd.concat([df_all_metrics, df_temp])\n",
    "    else:\n",
    "        print(f\"No valid report found for model: {model}\")\n",
    "df_all_metrics"
   ]
  },
  {
   "cell_type": "code",
   "execution_count": 47,
   "id": "0ce72005",
   "metadata": {},
   "outputs": [],
   "source": [
    "results = df_all_metrics['results']"
   ]
  },
  {
   "cell_type": "code",
   "execution_count": 49,
   "id": "6fea59e5",
   "metadata": {},
   "outputs": [
    {
     "name": "stdout",
     "output_type": "stream",
     "text": [
      "deepseekr1llama8b\n",
      "deepseekr1llama8b\n",
      "deepseekr1llama8b\n",
      "deepseekr1llama8b\n",
      "deepseekr1llama8b\n",
      "deepseekr1llama8b\n",
      "deepseekr1llama8b\n",
      "deepseekr1llama8b\n",
      "deepseekr1llama8b\n",
      "deepseekr1llama8b\n",
      "deepseekr1llama8b\n",
      "deepseekr1llama8b\n",
      "deepseekr1llama8b\n",
      "deepseekr1llama8b\n",
      "deepseekr1llama8b\n",
      "deepseekr1llama8b\n",
      "deepseekr1llama8b\n",
      "deepseekr1llama8b\n",
      "deepseekr1llama8b\n",
      "deepseekr1llama8b\n",
      "deepseekr1llama8b\n",
      "deepseekr1llama8b\n",
      "deepseekr1llama8b\n",
      "deepseekr1llama8b\n",
      "deepseekr1llama8b\n",
      "deepseekr1llama8b\n",
      "deepseekr1llama8b\n",
      "deepseekr1llama8b\n",
      "deepseekr1llama8b\n",
      "deepseekr1llama8b\n",
      "deepseekr1llama8b\n",
      "deepseekr1llama8b\n",
      "deepseekr1llama8b\n",
      "deepseekr1llama8b\n",
      "deepseekr1llama8b\n",
      "deepseekr1llama8b\n",
      "deepseekr1llama8b\n",
      "deepseekr1llama8b\n",
      "deepseekr1llama8b\n",
      "deepseekr1llama8b\n",
      "deepseekr1llama8b\n",
      "deepseekr1llama8b\n",
      "deepseekr1llama8b\n",
      "deepseekr1llama8b\n",
      "deepseekr1llama8b\n",
      "deepseekr1llama8b\n",
      "deepseekr1llama8b\n",
      "deepseekr1llama8b\n",
      "deepseekr1llama8b\n",
      "deepseekr1llama8b\n",
      "deepseekr1llama8b\n",
      "deepseekr1llama8b\n",
      "deepseekr1llama8b\n",
      "deepseekr1llama8b\n",
      "gemini2p5flash\n",
      "gemini2p5flash\n",
      "gemini2p5flash\n",
      "gemini2p5flash\n",
      "gemini2p5flash\n",
      "gemini2p5flash\n",
      "gemini2p5flash\n",
      "gemini2p5flash\n",
      "gemini2p5flash\n",
      "gemini2p5flash\n",
      "gemini2p5flash\n",
      "gemini2p5flash\n",
      "gemini2p5flash\n",
      "gemini2p5flash\n",
      "gemini2p5flash\n",
      "gemini2p5flash\n",
      "gemini2p5flash\n",
      "gemini2p5flash\n",
      "gemini2p5flash\n",
      "gemini2p5flash\n",
      "gemini2p5flash\n",
      "gemini2p5flash\n",
      "gemini2p5flash\n",
      "gemini2p5flash\n",
      "gemini2p5flash\n",
      "gemini2p5flash\n",
      "gemini2p5flash\n",
      "gemini2p5flash\n",
      "gemini2p5flash\n",
      "gemini2p5flash\n",
      "gemini2p5flash\n",
      "gemini2p5flash\n",
      "gemini2p5flash\n",
      "gemini2p5flash\n",
      "gemini2p5flash\n",
      "gemini2p5flash\n",
      "gemini2p5flash\n",
      "gemini2p5flash\n",
      "gemini2p5flash\n",
      "gemini2p5flash\n",
      "gemini2p5flash\n",
      "gemini2p5flash\n",
      "gemini2p5flash\n",
      "gemini2p5flash\n",
      "gemini2p5flash\n",
      "gemini2p5flash\n",
      "gemini2p5flash\n",
      "gemini2p5flash\n",
      "gemini2p5flash\n",
      "gemini2p5flash\n",
      "gemini2p5flash\n",
      "gemini2p5flash\n",
      "gemini2p5flash\n",
      "gemini2p5flash\n",
      "gemini2p5flash\n",
      "gemini2p5flash\n",
      "gemini2p5flash\n",
      "gemini2p5flash\n",
      "gemini2p5flash\n",
      "gemini2p5flash\n",
      "gemini2p5flash\n",
      "gemini2p5flash\n",
      "gemini2p5flash\n",
      "gemini2p5flash\n",
      "gemini2p5flash\n",
      "gemini2p5flash\n",
      "gemini2p5flash\n",
      "gemini2p5flash\n",
      "gemini2p5flash\n",
      "gemini2p5flash\n",
      "gemini2p5flash\n",
      "gemini2p5flash\n",
      "gemini2p5flash\n",
      "gemini2p5flash\n",
      "gemini2p5flash\n",
      "gemini2p5flash\n",
      "gemini2p5flash\n",
      "gemini2p5flash\n",
      "gemini2p5flash\n",
      "gemini2p5flash\n",
      "gemini2p5flash\n",
      "gemma3\n",
      "gemma3\n",
      "gemma3\n",
      "gemma3\n",
      "gemma3\n",
      "gemma3\n",
      "gemma3\n",
      "gemma3\n",
      "gemma3\n",
      "gemma3\n",
      "gemma3\n",
      "gemma3\n",
      "gemma3\n",
      "gemma3\n",
      "gemma3\n",
      "gemma3\n",
      "gemma3\n",
      "gemma3\n",
      "gemma3\n",
      "gemma3\n",
      "gemma3\n",
      "gemma3\n",
      "gemma3\n",
      "gemma3\n",
      "gemma3\n",
      "gemma3\n",
      "gemma3\n",
      "gemma3\n",
      "gemma3\n",
      "gemma3\n",
      "gemma3\n",
      "gemma3\n",
      "gemma3\n",
      "gemma3\n",
      "gemma3\n",
      "gemma3\n",
      "gemma3\n",
      "gemma3\n",
      "gemma3\n",
      "gemma3\n",
      "gemma3\n",
      "gemma3\n",
      "gemma3\n",
      "gemma3\n",
      "gemma3\n",
      "gemma3\n",
      "gemma3\n",
      "gemma3\n",
      "gemma3\n",
      "gemma3\n",
      "gemma3\n",
      "gemma3\n",
      "gemma3\n",
      "gemma3\n",
      "gpt4o\n",
      "gpt4o\n",
      "gpt4o\n",
      "gpt4o\n",
      "gpt4o\n",
      "gpt4o\n",
      "gpt4o\n",
      "gpt4o\n",
      "gpt4o\n",
      "gpt4o\n",
      "gpt4o\n",
      "gpt4o\n",
      "gpt4o\n",
      "gpt4o\n",
      "gpt4o\n",
      "gpt4o\n",
      "gpt4o\n",
      "gpt4o\n",
      "llama3p18b\n",
      "llama3p18b\n",
      "llama3p18b\n",
      "llama3p18b\n",
      "llama3p18b\n",
      "llama3p18b\n",
      "llama3p18b\n",
      "llama3p18b\n",
      "llama3p18b\n",
      "llama3p18b\n",
      "llama3p18b\n",
      "llama3p18b\n",
      "llama3p18b\n",
      "llama3p18b\n",
      "llama3p18b\n",
      "llama3p18b\n",
      "llama3p18b\n",
      "llama3p18b\n",
      "llama3p18b\n",
      "llama3p18b\n",
      "llama3p18b\n",
      "llama3p18b\n",
      "llama3p18b\n",
      "llama3p18b\n",
      "llama3p18b\n",
      "llama3p18b\n",
      "llama3p18b\n",
      "llama3p18b\n",
      "llama3p18b\n",
      "llama3p18b\n",
      "llama3p18b\n",
      "llama3p18b\n",
      "llama3p18b\n",
      "llama3p18b\n",
      "llama3p18b\n",
      "llama3p18b\n",
      "llama3p18b\n",
      "llama3p18b\n",
      "llama3p18b\n",
      "llama3p18b\n",
      "llama3p18b\n",
      "llama3p18b\n",
      "llama3p18b\n",
      "llama3p18b\n",
      "llama3p18b\n",
      "llama3p18b\n",
      "llama3p18b\n",
      "llama3p18b\n",
      "llama3p18b\n",
      "llama3p18b\n",
      "llama3p18b\n",
      "llama3p18b\n",
      "llama3p18b\n",
      "llama3p18b\n",
      "llama3p18b\n",
      "llama3p18b\n",
      "llama3p18b\n",
      "llama3p18b\n",
      "llama3p18b\n",
      "llama3p18b\n",
      "llama3p18b\n",
      "llama3p18b\n",
      "llama3p18b\n",
      "llama3p18b\n",
      "llama3p18b\n",
      "llama3p18b\n",
      "llama3p18b\n",
      "llama3p18b\n",
      "llama3p18b\n",
      "llama3p18b\n",
      "llama3p18b\n",
      "llama3p18b\n",
      "medgemma\n",
      "medgemma\n",
      "medgemma\n",
      "medgemma\n",
      "medgemma\n",
      "medgemma\n",
      "medgemma\n",
      "medgemma\n",
      "medgemma\n",
      "medgemma\n",
      "medgemma\n",
      "medgemma\n",
      "medgemma\n",
      "medgemma\n",
      "medgemma\n",
      "medgemma\n",
      "medgemma\n",
      "medgemma\n",
      "medgemma\n",
      "medgemma\n",
      "medgemma\n",
      "medgemma\n",
      "medgemma\n",
      "medgemma\n",
      "medgemma\n",
      "medgemma\n",
      "medgemma\n",
      "medgemma\n",
      "medgemma\n",
      "medgemma\n",
      "medgemma\n",
      "medgemma\n",
      "medgemma\n",
      "medgemma\n",
      "medgemma\n",
      "medgemma\n",
      "medgemma\n",
      "medgemma\n",
      "medgemma\n",
      "medgemma\n",
      "medgemma\n",
      "medgemma\n",
      "medgemma\n",
      "medgemma\n",
      "medgemma\n",
      "mistral7b\n",
      "mistral7b\n",
      "mistral7b\n",
      "mistral7b\n",
      "mistral7b\n",
      "mistral7b\n",
      "mistral7b\n",
      "mistral7b\n",
      "mistral7b\n",
      "mistral7b\n",
      "mistral7b\n",
      "mistral7b\n",
      "mistral7b\n",
      "mistral7b\n",
      "mistral7b\n",
      "mistral7b\n",
      "mistral7b\n",
      "mistral7b\n",
      "mistral7b\n",
      "mistral7b\n",
      "mistral7b\n",
      "mistral7b\n",
      "mistral7b\n",
      "mistral7b\n",
      "mistral7b\n",
      "mistral7b\n",
      "mistral7b\n",
      "mistral7b\n",
      "mistral7b\n",
      "mistral7b\n",
      "mistral7b\n",
      "mistral7b\n",
      "mistral7b\n",
      "mistral7b\n",
      "mistral7b\n",
      "mistral7b\n",
      "mistral7b\n",
      "mistral7b\n",
      "mistral7b\n",
      "mistral7b\n",
      "mistral7b\n",
      "mistral7b\n",
      "mistral7b\n",
      "mistral7b\n",
      "mistral7b\n",
      "mistral7b\n",
      "mistral7b\n",
      "mistral7b\n",
      "mistral7b\n",
      "mistral7b\n",
      "mistral7b\n",
      "mistral7b\n",
      "mistral7b\n",
      "mistral7b\n",
      "mistral7b\n",
      "mistral7b\n",
      "mistral7b\n",
      "mistral7b\n",
      "mistral7b\n",
      "mistral7b\n",
      "mistral7b\n",
      "mistral7b\n",
      "mistral7b\n",
      "o3\n",
      "o3\n",
      "o3\n",
      "o3\n",
      "o3\n",
      "o3\n",
      "o3\n",
      "o3\n",
      "o3\n",
      "o3\n",
      "o3\n",
      "o3\n",
      "o3\n",
      "o3\n"
     ]
    }
   ],
   "source": [
    "plot_dict = {\"model\":{},\"dataset\":{},\"task\":{},\"task_dataset\":{}}\n",
    "for row in results:\n",
    "    plot_dict[\"model\"] = row[\"model_id\"]\n",
    "    plot_dict[\"model\"] = row[\"model_id\"]"
   ]
  },
  {
   "cell_type": "code",
   "execution_count": null,
   "id": "8175bb56",
   "metadata": {},
   "outputs": [],
   "source": []
  },
  {
   "cell_type": "code",
   "execution_count": null,
   "metadata": {},
   "outputs": [],
   "source": []
  },
  {
   "cell_type": "code",
   "execution_count": null,
   "id": "26c8cc0f",
   "metadata": {},
   "outputs": [],
   "source": []
  },
  {
   "cell_type": "code",
   "execution_count": null,
   "id": "53426a73",
   "metadata": {},
   "outputs": [],
   "source": []
  },
  {
   "cell_type": "code",
   "execution_count": null,
   "id": "30e7ac89",
   "metadata": {},
   "outputs": [],
   "source": []
  },
  {
   "cell_type": "code",
   "execution_count": null,
   "id": "d0803f62",
   "metadata": {},
   "outputs": [],
   "source": []
  },
  {
   "cell_type": "code",
   "execution_count": null,
   "metadata": {},
   "outputs": [],
   "source": []
  },
  {
   "cell_type": "code",
   "execution_count": null,
   "metadata": {},
   "outputs": [],
   "source": []
  },
  {
   "cell_type": "code",
   "execution_count": null,
   "id": "3bdd717b",
   "metadata": {},
   "outputs": [],
   "source": []
  },
  {
   "cell_type": "code",
   "execution_count": 12,
   "id": "c2479c97",
   "metadata": {},
   "outputs": [
    {
     "ename": "KeyError",
     "evalue": "'model_id'",
     "output_type": "error",
     "traceback": [
      "\u001b[31m---------------------------------------------------------------------------\u001b[39m",
      "\u001b[31mKeyError\u001b[39m                                  Traceback (most recent call last)",
      "\u001b[32m~\\AppData\\Local\\Temp\\ipykernel_15904\\31109091.py\u001b[39m in \u001b[36m?\u001b[39m\u001b[34m()\u001b[39m\n\u001b[32m----> \u001b[39m\u001b[32m1\u001b[39m LLMAnalyzer.plot_metrics(df_all_metrics, group=[\u001b[33m'model_id'\u001b[39m], title_prefix=\u001b[33m''\u001b[39m)\n",
      "\u001b[32m~\\Documents\\GitHub Repos\\pulse\\src\\eval\\llm_analyzer.py\u001b[39m in \u001b[36m?\u001b[39m\u001b[34m(df, group, metrics, title_prefix, figsize, save_path, dpi, style)\u001b[39m\n\u001b[32m    839\u001b[39m                 df[\u001b[33m\"task_id\"\u001b[39m], categories=task_order, ordered=\u001b[38;5;28;01mTrue\u001b[39;00m\n\u001b[32m    840\u001b[39m             )\n\u001b[32m    841\u001b[39m             df = df.sort_values(by=group)\n\u001b[32m    842\u001b[39m         \u001b[38;5;28;01melse\u001b[39;00m:\n\u001b[32m--> \u001b[39m\u001b[32m843\u001b[39m             df = df.sort_values(by=group)\n\u001b[32m    844\u001b[39m \n\u001b[32m    845\u001b[39m         \u001b[38;5;66;03m# Set style for better presentation\u001b[39;00m\n\u001b[32m    846\u001b[39m         plt.style.use(style)\n",
      "\u001b[32mc:\\Users\\janbe\\Documents\\GitHub Repos\\pulse\\.venv\\Lib\\site-packages\\pandas\\core\\frame.py\u001b[39m in \u001b[36m?\u001b[39m\u001b[34m(self, by, axis, ascending, inplace, kind, na_position, ignore_index, key)\u001b[39m\n\u001b[32m   7185\u001b[39m             )\n\u001b[32m   7186\u001b[39m         \u001b[38;5;28;01melif\u001b[39;00m len(by):\n\u001b[32m   7187\u001b[39m             \u001b[38;5;66;03m# len(by) == 1\u001b[39;00m\n\u001b[32m   7188\u001b[39m \n\u001b[32m-> \u001b[39m\u001b[32m7189\u001b[39m             k = self._get_label_or_level_values(by[\u001b[32m0\u001b[39m], axis=axis)\n\u001b[32m   7190\u001b[39m \n\u001b[32m   7191\u001b[39m             \u001b[38;5;66;03m# need to rewrap column in Series to apply key function\u001b[39;00m\n\u001b[32m   7192\u001b[39m             \u001b[38;5;28;01mif\u001b[39;00m key \u001b[38;5;28;01mis\u001b[39;00m \u001b[38;5;28;01mnot\u001b[39;00m \u001b[38;5;28;01mNone\u001b[39;00m:\n",
      "\u001b[32mc:\\Users\\janbe\\Documents\\GitHub Repos\\pulse\\.venv\\Lib\\site-packages\\pandas\\core\\generic.py\u001b[39m in \u001b[36m?\u001b[39m\u001b[34m(self, key, axis)\u001b[39m\n\u001b[32m   1907\u001b[39m             values = self.xs(key, axis=other_axes[\u001b[32m0\u001b[39m])._values\n\u001b[32m   1908\u001b[39m         \u001b[38;5;28;01melif\u001b[39;00m self._is_level_reference(key, axis=axis):\n\u001b[32m   1909\u001b[39m             values = self.axes[axis].get_level_values(key)._values\n\u001b[32m   1910\u001b[39m         \u001b[38;5;28;01melse\u001b[39;00m:\n\u001b[32m-> \u001b[39m\u001b[32m1911\u001b[39m             \u001b[38;5;28;01mraise\u001b[39;00m KeyError(key)\n\u001b[32m   1912\u001b[39m \n\u001b[32m   1913\u001b[39m         \u001b[38;5;66;03m# Check for duplicates\u001b[39;00m\n\u001b[32m   1914\u001b[39m         \u001b[38;5;28;01mif\u001b[39;00m values.ndim > \u001b[32m1\u001b[39m:\n",
      "\u001b[31mKeyError\u001b[39m: 'model_id'"
     ]
    }
   ],
   "source": [
    "LLMAnalyzer.plot_metrics(df_all_metrics, group=['model_id'], title_prefix='')"
   ]
  },
  {
   "cell_type": "code",
   "execution_count": 7,
   "id": "896b3b34",
   "metadata": {},
   "outputs": [
    {
     "name": "stderr",
     "output_type": "stream",
     "text": [
      "C:\\Users\\janbe\\Documents\\GitHub Repos\\pulse\\src\\eval\\llm_analyzer.py:719: FutureWarning: The default of observed=False is deprecated and will be changed to True in a future version of pandas. Pass observed=False to retain current behavior or observed=True to adopt the future default and silence this warning.\n",
      "  agg_df = plot_df.groupby([\"Group\", \"Metric\"], as_index=False).agg(\n"
     ]
    },
    {
     "data": {
      "image/png": "[encoded data removed]",
      "text/plain": [
       "<Figure size 1200x800 with 1 Axes>"
      ]
     },
     "metadata": {},
     "output_type": "display_data"
    }
   ],
   "source": [
    "LLMAnalyzer.plot_metrics(\n",
    "    df_all_metrics, group=[\"task_id\", \"model_id\"], title_prefix=\"\", metrics=[\"MCC\", \"AUPRC\"]\n",
    ")"
   ]
  },
  {
   "cell_type": "code",
   "execution_count": null,
   "id": "96b5bebf",
   "metadata": {},
   "outputs": [],
   "source": []
  },
  {
   "cell_type": "code",
   "execution_count": null,
   "id": "f134ecc8",
   "metadata": {},
   "outputs": [],
   "source": []
  },
  {
   "cell_type": "code",
   "execution_count": null,
   "id": "ed13480e",
   "metadata": {},
   "outputs": [],
   "source": []
  }
 ],
 "metadata": {
  "kernelspec": {
   "display_name": ".venv",
   "language": "python",
   "name": "python3"
  },
  "language_info": {
   "codemirror_mode": {
    "name": "ipython",
    "version": 3
   },
   "file_extension": ".py",
   "mimetype": "text/x-python",
   "name": "python",
   "nbconvert_exporter": "python",
   "pygments_lexer": "ipython3",
   "version": "3.12.2"
  }
 },
 "nbformat": 4,
 "nbformat_minor": 5
}
