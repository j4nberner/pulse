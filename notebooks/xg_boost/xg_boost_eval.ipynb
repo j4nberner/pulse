{
 "cells": [
  {
   "cell_type": "code",
   "execution_count": 12,
   "id": "06f41db0",
   "metadata": {},
   "outputs": [],
   "source": [
    "# https://wandb.ai/berner/PULSE/runs/yfjwwql5?nw=nwuserj4nberner"
   ]
  },
  {
   "cell_type": "code",
   "execution_count": 2,
   "id": "c632450a",
   "metadata": {},
   "outputs": [],
   "source": [
    "import pandas as pandas\n",
    "import numpy as np\n",
    "import matplotlib.pyplot as plt"
   ]
  },
  {
   "cell_type": "code",
   "execution_count": 3,
   "id": "a9809657",
   "metadata": {},
   "outputs": [],
   "source": [
    "df_n_estimators = pandas.read_csv(\"wandb_export_2025-04-29T08_22_49.925+02_00.csv\")"
   ]
  },
  {
   "cell_type": "code",
   "execution_count": 4,
   "id": "f29f95f6",
   "metadata": {},
   "outputs": [
    {
     "data": {
      "application/vnd.microsoft.datawrangler.viewer.v0+json": {
       "columns": [
        {
         "name": "index",
         "rawType": "int64",
         "type": "integer"
        },
        {
         "name": "Step",
         "rawType": "int64",
         "type": "integer"
        },
        {
         "name": "XGBoostModel_sepsis_hirid_n_estimator_tuning - val_loss",
         "rawType": "float64",
         "type": "float"
        },
        {
         "name": "XGBoostModel_sepsis_hirid_n_estimator_tuning - val_loss__MIN",
         "rawType": "float64",
         "type": "float"
        },
        {
         "name": "XGBoostModel_sepsis_hirid_n_estimator_tuning - val_loss__MAX",
         "rawType": "float64",
         "type": "float"
        }
       ],
       "conversionMethod": "pd.DataFrame",
       "ref": "e14839b0-87cb-43f0-9bdf-769a37f54093",
       "rows": [
        [
         "0",
         "1",
         "0.7067004178694772",
         "0.7067004178694772",
         "0.7067004178694772"
        ],
        [
         "1",
         "2",
         "0.7237050349638778",
         "0.7237050349638778",
         "0.7237050349638778"
        ],
        [
         "2",
         "3",
         "0.7310442870908845",
         "0.7310442870908845",
         "0.7310442870908845"
        ],
        [
         "3",
         "4",
         "0.7377592398603182",
         "0.7377592398603182",
         "0.7377592398603182"
        ],
        [
         "4",
         "5",
         "0.7382664835517057",
         "0.7382664835517057",
         "0.7382664835517057"
        ]
       ],
       "shape": {
        "columns": 4,
        "rows": 5
       }
      },
      "text/html": [
       "<div>\n",
       "<style scoped>\n",
       "    .dataframe tbody tr th:only-of-type {\n",
       "        vertical-align: middle;\n",
       "    }\n",
       "\n",
       "    .dataframe tbody tr th {\n",
       "        vertical-align: top;\n",
       "    }\n",
       "\n",
       "    .dataframe thead th {\n",
       "        text-align: right;\n",
       "    }\n",
       "</style>\n",
       "<table border=\"1\" class=\"dataframe\">\n",
       "  <thead>\n",
       "    <tr style=\"text-align: right;\">\n",
       "      <th></th>\n",
       "      <th>Step</th>\n",
       "      <th>XGBoostModel_sepsis_hirid_n_estimator_tuning - val_loss</th>\n",
       "      <th>XGBoostModel_sepsis_hirid_n_estimator_tuning - val_loss__MIN</th>\n",
       "      <th>XGBoostModel_sepsis_hirid_n_estimator_tuning - val_loss__MAX</th>\n",
       "    </tr>\n",
       "  </thead>\n",
       "  <tbody>\n",
       "    <tr>\n",
       "      <th>0</th>\n",
       "      <td>1</td>\n",
       "      <td>0.706700</td>\n",
       "      <td>0.706700</td>\n",
       "      <td>0.706700</td>\n",
       "    </tr>\n",
       "    <tr>\n",
       "      <th>1</th>\n",
       "      <td>2</td>\n",
       "      <td>0.723705</td>\n",
       "      <td>0.723705</td>\n",
       "      <td>0.723705</td>\n",
       "    </tr>\n",
       "    <tr>\n",
       "      <th>2</th>\n",
       "      <td>3</td>\n",
       "      <td>0.731044</td>\n",
       "      <td>0.731044</td>\n",
       "      <td>0.731044</td>\n",
       "    </tr>\n",
       "    <tr>\n",
       "      <th>3</th>\n",
       "      <td>4</td>\n",
       "      <td>0.737759</td>\n",
       "      <td>0.737759</td>\n",
       "      <td>0.737759</td>\n",
       "    </tr>\n",
       "    <tr>\n",
       "      <th>4</th>\n",
       "      <td>5</td>\n",
       "      <td>0.738266</td>\n",
       "      <td>0.738266</td>\n",
       "      <td>0.738266</td>\n",
       "    </tr>\n",
       "  </tbody>\n",
       "</table>\n",
       "</div>"
      ],
      "text/plain": [
       "   Step  XGBoostModel_sepsis_hirid_n_estimator_tuning - val_loss  \\\n",
       "0     1                                           0.706700         \n",
       "1     2                                           0.723705         \n",
       "2     3                                           0.731044         \n",
       "3     4                                           0.737759         \n",
       "4     5                                           0.738266         \n",
       "\n",
       "   XGBoostModel_sepsis_hirid_n_estimator_tuning - val_loss__MIN  \\\n",
       "0                                           0.706700              \n",
       "1                                           0.723705              \n",
       "2                                           0.731044              \n",
       "3                                           0.737759              \n",
       "4                                           0.738266              \n",
       "\n",
       "   XGBoostModel_sepsis_hirid_n_estimator_tuning - val_loss__MAX  \n",
       "0                                           0.706700             \n",
       "1                                           0.723705             \n",
       "2                                           0.731044             \n",
       "3                                           0.737759             \n",
       "4                                           0.738266             "
      ]
     },
     "execution_count": 4,
     "metadata": {},
     "output_type": "execute_result"
    }
   ],
   "source": [
    "df_n_estimators.head()"
   ]
  },
  {
   "cell_type": "code",
   "execution_count": 8,
   "id": "fb5542c5",
   "metadata": {},
   "outputs": [
    {
     "data": {
      "text/plain": [
       "np.float64(0.791542432433103)"
      ]
     },
     "execution_count": 8,
     "metadata": {},
     "output_type": "execute_result"
    }
   ],
   "source": [
    "df_n_estimators.iloc[:, 1].max()"
   ]
  },
  {
   "cell_type": "code",
   "execution_count": 11,
   "id": "fa3d307d",
   "metadata": {},
   "outputs": [
    {
     "data": {
      "text/plain": [
       "<matplotlib.collections.LineCollection at 0x17c6ef50b60>"
      ]
     },
     "execution_count": 11,
     "metadata": {},
     "output_type": "execute_result"
    },
    {
     "data": {
      "image/png": "[encoded data removed]",
      "text/plain": [
       "<Figure size 1000x600 with 1 Axes>"
      ]
     },
     "metadata": {},
     "output_type": "display_data"
    }
   ],
   "source": [
    "plt.figure(figsize=(10, 6))\n",
    "plt.title(\"n_estimators tuning\")\n",
    "plt.xlabel(\"n_estimators\")\n",
    "plt.ylabel(\"auc\")\n",
    "plt.grid()\n",
    "plt.plot(df_n_estimators.iloc[:, 0], df_n_estimators.iloc[:, 1])\n",
    "plt.vlines(\n",
    "    x=80,\n",
    "    ymin=df_n_estimators.iloc[:, 1].min(),\n",
    "    ymax=df_n_estimators.iloc[:, 1].max(),\n",
    "    color=\"red\",\n",
    "    linestyles=\"--\",\n",
    "    alpha=0.5,\n",
    ")"
   ]
  }
 ],
 "metadata": {
  "kernelspec": {
   "display_name": "Python 3",
   "language": "python",
   "name": "python3"
  },
  "language_info": {
   "codemirror_mode": {
    "name": "ipython",
    "version": 3
   },
   "file_extension": ".py",
   "mimetype": "text/x-python",
   "name": "python",
   "nbconvert_exporter": "python",
   "pygments_lexer": "ipython3",
   "version": "3.12.2"
  }
 },
 "nbformat": 4,
 "nbformat_minor": 5
}
