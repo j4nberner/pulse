{
 "cells": [
  {
   "cell_type": "code",
   "execution_count": null,
   "id": "a8403269",
   "metadata": {},
   "outputs": [],
   "source": [
    "import yaml\n",
    "from openai import AzureOpenAI\n",
    "import pandas as pd\n",
    "import torch\n",
    "from torch import softmax"
   ]
  },
  {
   "cell_type": "code",
   "execution_count": 30,
   "id": "6a040607",
   "metadata": {},
   "outputs": [],
   "source": [
    "with open(\"../secrets/azure_keys.yaml\", \"r\") as file:\n",
    "    secrets = yaml.safe_load(file)\n",
    "    gpt4o_config = secrets[\"azure_gpt-4o_deployment\"]"
   ]
  },
  {
   "cell_type": "code",
   "execution_count": 31,
   "id": "6d2d6cae",
   "metadata": {},
   "outputs": [],
   "source": [
    "client = AzureOpenAI(\n",
    "    api_version=gpt4o_config[\"api_version\"],\n",
    "    azure_endpoint=gpt4o_config[\"endpoint_uri\"],\n",
    "    api_key=gpt4o_config[\"api_key\"],\n",
    ")\n",
    "deployment = gpt4o_config[\"deployment\"]"
   ]
  },
  {
   "cell_type": "code",
   "execution_count": 70,
   "id": "3cf54e00",
   "metadata": {},
   "outputs": [],
   "source": [
    "system_message = (\n",
    "    \"You are a helpful assistant and medical professional that analyzes ICU time-series \"\n",
    "    \"data and determines the most likely diagnosis.\\n\\n\"\n",
    "    \"Be specific and check the values against reference values.\\n\"\n",
    "    \"Return the result strictly in this JSON format.\\n\"\n",
    "    \"Example:\\n\"\n",
    "    \"{\\n\"\n",
    "    '  \"diagnosis\": \"<aki or not-aki>\",\\n'\n",
    "    '  \"classification\": \"<a float value between 0 and 1 representing the probability of your diagnosis>\",\\n'\n",
    "    '  \"explanation\": \"<a brief explanation for the prediction. state reference values and check against provided features>\"\\n'\n",
    "    \"}\\n\\n\"\n",
    ")"
   ]
  },
  {
   "cell_type": "code",
   "execution_count": 71,
   "id": "7cf4ff2d",
   "metadata": {},
   "outputs": [],
   "source": [
    "user_message = (\n",
    "    \"Suggest a diagnosis of aki for the following patient data.\\n\"\n",
    "    \"Patient data:\\n\\n\"\n",
    "    \"Patient Info — index: 0, age: 91.0, sex: Female, height: 165.1, weight: 79.4\\n\"\n",
    "    \"Albumin (unit: g/dL): min=3.070, max=3.070, mean=3.070\\n\"\n",
    "    \"Alkaline Phosphatase (unit: U/L): min=116.680, max=116.680, mean=116.680\\n\"\n",
    "    \"Alanine Aminotransferase (ALT) (unit: U/L): min=157.960, max=157.960, mean=157.960\\n\"\n",
    "    \"Aspartate Aminotransferase (AST) (unit: U/L): min=216.220, max=216.220, mean=216.220\\n\"\n",
    "    \"Base Excess (unit: mmol/L): min=-0.540, max=-0.540, mean=-0.540\\n\"\n",
    "    \"Bicarbonate (unit: mmol/L): min=24.030, max=24.030, mean=24.030\\n\"\n",
    "    \"Total Bilirubin (unit: mg/dL): min=1.950, max=2.790, mean=2.370\\n\"\n",
    "    \"Band Neutrophils (unit: %): min=5.000, max=5.000, mean=5.000\\n\"\n",
    "    \"Blood Urea Nitrogen (BUN) (unit: mg/dL): min=22.600, max=22.600, mean=22.600\\n\"\n",
    "    \"Calcium (unit: mg/dL): min=8.330, max=8.330, mean=8.330\\n\"\n",
    "    \"Ionized Calcium (unit: mmol/L): min=1.130, max=1.130, mean=1.130\\n\"\n",
    "    \"Creatine Kinase (CK) (unit: U/L): min=1367.040, max=1367.040, mean=1367.040\\n\"\n",
    "    \"Creatine Kinase-MB (CK-MB) (unit: ng/mL): min=23.420, max=23.420, mean=23.420\\n\"\n",
    "    \"Chloride (unit: mmol/L): min=104.510, max=104.510, mean=104.510\\n\"\n",
    "    \"Creatinine (unit: mg/dL): min=1.040, max=1.040, mean=1.040\\n\"\n",
    "    \"C-Reactive Protein (CRP) (unit: mg/L): min=79.480, max=79.480, mean=79.480\\n\"\n",
    "    \"Diastolic Blood Pressure (unit: mmHg): min=40.000, max=54.000, mean=46.833\\n\"\n",
    "    \"Fibrinogen (unit: mg/dL): min=277.650, max=277.650, mean=277.650\\n\"\n",
    "    \"Fraction of Inspired Oxygen (FiO2) (unit: %): min=35.000, max=35.000, mean=35.000\\n\"\n",
    "    \"Glucose (unit: mg/dL): min=140.370, max=140.370, mean=140.370\\n\"\n",
    "    \"Hemoglobin (unit: g/dL): min=10.250, max=10.250, mean=10.250\\n\"\n",
    "    \"Heart Rate (unit: bpm): min=69.000, max=81.000, mean=72.000\\n\"\n",
    "    \"inr (unit: ): min=1.470, max=1.470, mean=1.470\\n\"\n",
    "    \"Potassium (unit: mmol/L): min=4.090, max=4.090, mean=4.090\\n\"\n",
    "    \"Lactate (unit: mmol/L): min=2.420, max=2.420, mean=2.420\\n\"\n",
    "    \"Lymphocytes (unit: %): min=13.370, max=13.370, mean=13.370\\n\"\n",
    "    \"Mean Arterial Pressure (MAP) (unit: mmHg): min=58.000, max=72.500, mean=64.583\\n\"\n",
    "    \"Mean Corpuscular Hemoglobin (MCH) (unit: pg): min=30.030, max=30.030, mean=30.030\\n\"\n",
    "    \"Mean Corpuscular Hemoglobin Concentration (MCHC) (unit: g/dL): min=33.080, max=33.080, mean=33.080\\n\"\n",
    "    \"Mean Corpuscular Volume (MCV) (unit: fL): min=90.860, max=90.860, mean=90.860\\n\"\n",
    "    \"Methemoglobin (unit: %): min=1.310, max=1.310, mean=1.310\\n\"\n",
    "    \"Magnesium (unit: mg/dL): min=2.050, max=2.050, mean=2.050\\n\"\n",
    "    \"Sodium (unit: mmol/L): min=138.880, max=138.880, mean=138.880\\n\"\n",
    "    \"Neutrophils (unit: %): min=76.840, max=76.840, mean=76.840\\n\"\n",
    "    \"Oxygen Saturation (unit: %): min=91.500, max=97.000, mean=94.667\\n\"\n",
    "    \"Partial Pressure of Carbon Dioxide (PaCO2) (unit: mmHg): min=42.440, max=42.440, mean=42.440\\n\"\n",
    "    \"pH Level (unit: /): min=7.380, max=7.380, mean=7.380\\n\"\n",
    "    \"Phosphate (unit: mg/dL): min=3.300, max=3.300, mean=3.300\\n\"\n",
    "    \"Platelets (unit: 1000/µL): min=196.570, max=196.570, mean=196.570\\n\"\n",
    "    \"Partial Pressure of Oxygen (PaO2) (unit: mmHg): min=150.250, max=150.250, mean=150.250\\n\"\n",
    "    \"Partial Thromboplastin Time (PTT) (unit: sec): min=40.540, max=40.540, mean=40.540\\n\"\n",
    "    \"Respiratory Rate (unit: breaths/min): min=14.000, max=22.000, mean=17.750\\n\"\n",
    "    \"Systolic Blood Pressure (unit: mmHg): min=103.000, max=140.000, mean=123.333\\n\"\n",
    "    \"Temperature (unit: °C): min=36.222, max=36.278, mean=36.269\\n\"\n",
    "    \"Troponin T (unit: ng/mL): min=0.930, max=0.930, mean=0.930\\n\"\n",
    "    \"Urine Output (unit: mL/h): min=80.000, max=200.000, mean=116.667\\n\"\n",
    "    \"White Blood Cell Count (WBC) (unit: 1000/µL): min=11.890, max=11.890, mean=11.890\\n\"\n",
    ")"
   ]
  },
  {
   "cell_type": "code",
   "execution_count": 72,
   "id": "2f9179d9",
   "metadata": {},
   "outputs": [
    {
     "name": "stdout",
     "output_type": "stream",
     "text": [
      "```json\n",
      "{\n",
      "  \"diagnosis\": \"not-aki\",\n",
      "  \"classification\": 0.2,\n",
      "  \"explanation\": \"The patient has a creatinine level of 1.040 mg/dL, which is within the normal range for adult females (0.6–1.1 mg/dL). Urine output is 116.667 mL/h on average, which does not meet the criteria for oliguria (<0.5 mL/kg/h for more than six hours). Blood Urea Nitrogen (BUN) is elevated at 22.600 mg/dL (normal range: 6–20 mg/dL), but this alone does not meet the diagnostic criteria for AKI without significantly elevated creatinine or markedly reduced urine output. Other laboratory values such as electrolytes (Potassium, Sodium) and pH are within acceptable ranges, with no evidence of acid-base imbalance. Thus, the likelihood of acute kidney injury (AKI) is low.\"\n",
      "}\n",
      "```\n"
     ]
    }
   ],
   "source": [
    "response = client.chat.completions.create(\n",
    "    messages=[\n",
    "        {\n",
    "            \"role\": \"developer\",\n",
    "            \"content\": system_message,\n",
    "        },\n",
    "        {\n",
    "            \"role\": \"user\",\n",
    "            \"content\": user_message,\n",
    "        },\n",
    "    ],\n",
    "    max_tokens=10000,\n",
    "    temperature=1.0,\n",
    "    top_p=1.0,\n",
    "    model=deployment,\n",
    "    logprobs=True,\n",
    "    top_logprobs=5\n",
    ")\n",
    "\n",
    "print(response.choices[0].message.content)"
   ]
  },
  {
   "cell_type": "code",
   "execution_count": null,
   "id": "c496030a",
   "metadata": {},
   "outputs": [
    {
     "data": {
      "application/vnd.microsoft.datawrangler.viewer.v0+json": {
       "columns": [
        {
         "name": "index",
         "rawType": "int64",
         "type": "integer"
        },
        {
         "name": "token",
         "rawType": "object",
         "type": "string"
        },
        {
         "name": "logprob",
         "rawType": "float64",
         "type": "float"
        },
        {
         "name": "top_logprobs",
         "rawType": "object",
         "type": "unknown"
        }
       ],
       "conversionMethod": "pd.DataFrame",
       "ref": "dabe6116-e43b-45da-8114-3591817109b5",
       "rows": [
        [
         "0",
         "```",
         "-0.048646413",
         "[TopLogprob(token='```', bytes=[96, 96, 96], logprob=-0.048646413), TopLogprob(token='{\\n', bytes=[123, 10], logprob=-3.0486465), TopLogprob(token='Based', bytes=[66, 97, 115, 101, 100], logprob=-10.548646), TopLogprob(token='Here', bytes=[72, 101, 114, 101], logprob=-10.798646), TopLogprob(token='``', bytes=[96, 96], logprob=-12.548646)]"
        ],
        [
         "1",
         "json",
         "-4.3202e-07",
         "[TopLogprob(token='json', bytes=[106, 115, 111, 110], logprob=-4.3202e-07), TopLogprob(token='JSON', bytes=[74, 83, 79, 78], logprob=-14.75), TopLogprob(token='python', bytes=[112, 121, 116, 104, 111, 110], logprob=-20.0), TopLogprob(token=' \\n', bytes=[32, 10], logprob=-20.25), TopLogprob(token=' json', bytes=[32, 106, 115, 111, 110], logprob=-21.125)]"
        ],
        [
         "2",
         "\n",
         "-5.5122365e-07",
         "[TopLogprob(token='\\n', bytes=[10], logprob=-5.5122365e-07), TopLogprob(token=' \\n', bytes=[32, 10], logprob=-15.000001), TopLogprob(token='  \\n', bytes=[32, 32, 10], logprob=-15.875001), TopLogprob(token='   \\n', bytes=[32, 32, 32, 10], logprob=-19.125), TopLogprob(token='\\r\\n', bytes=[13, 10], logprob=-20.125)]"
        ],
        [
         "3",
         "{\n",
         "0.0",
         "[TopLogprob(token='{\\n', bytes=[123, 10], logprob=0.0), TopLogprob(token='{', bytes=[123], logprob=-17.25), TopLogprob(token=' {\\n', bytes=[32, 123, 10], logprob=-22.125), TopLogprob(token='{\\r\\n', bytes=[123, 13, 10], logprob=-22.875), TopLogprob(token='{\\n\\n', bytes=[123, 10, 10], logprob=-24.875)]"
        ],
        [
         "4",
         " ",
         "-3.2929079e-06",
         "[TopLogprob(token=' ', bytes=[32], logprob=-3.2929079e-06), TopLogprob(token='   ', bytes=[32, 32, 32], logprob=-12.875003), TopLogprob(token='  ', bytes=[32, 32], logprob=-14.375003), TopLogprob(token=' \"', bytes=[32, 34], logprob=-15.750003), TopLogprob(token='\\t', bytes=[9], logprob=-16.750004)]"
        ],
        [
         "5",
         " \"",
         "0.0",
         "[TopLogprob(token=' \"', bytes=[32, 34], logprob=0.0), TopLogprob(token=' “', bytes=[32, 226, 128, 156], logprob=-19.625), TopLogprob(token='<|end|>', bytes=None, logprob=-20.25), TopLogprob(token=' ', bytes=[32], logprob=-21.25), TopLogprob(token=' \\u200b', bytes=[32, 226, 128, 139], logprob=-23.4375)]"
        ],
        [
         "6",
         "diagn",
         "0.0",
         "[TopLogprob(token='diagn', bytes=[100, 105, 97, 103, 110], logprob=0.0), TopLogprob(token='classification', bytes=[99, 108, 97, 115, 115, 105, 102, 105, 99, 97, 116, 105, 111, 110], logprob=-21.625), TopLogprob(token='diag', bytes=[100, 105, 97, 103], logprob=-21.875), TopLogprob(token=' diagnosis', bytes=[32, 100, 105, 97, 103, 110, 111, 115, 105, 115], logprob=-22.75), TopLogprob(token='analysis', bytes=[97, 110, 97, 108, 121, 115, 105, 115], logprob=-22.75)]"
        ],
        [
         "7",
         "osis",
         "0.0",
         "[TopLogprob(token='osis', bytes=[111, 115, 105, 115], logprob=0.0), TopLogprob(token='ysis', bytes=[121, 115, 105, 115], logprob=-19.75), TopLogprob(token='osi', bytes=[111, 115, 105], logprob=-20.75), TopLogprob(token='os', bytes=[111, 115], logprob=-21.625), TopLogprob(token='ostic', bytes=[111, 115, 116, 105, 99], logprob=-22.25)]"
        ],
        [
         "8",
         "\":",
         "-1.9361265e-07",
         "[TopLogprob(token='\":', bytes=[34, 58], logprob=-1.9361265e-07), TopLogprob(token='\":\"', bytes=[34, 58, 34], logprob=-15.875), TopLogprob(token='\"', bytes=[34], logprob=-19.625), TopLogprob(token='<|end|>', bytes=None, logprob=-21.125), TopLogprob(token='”:', bytes=[226, 128, 157, 58], logprob=-22.5)]"
        ],
        [
         "9",
         " \"",
         "0.0",
         "[TopLogprob(token=' \"', bytes=[32, 34], logprob=0.0), TopLogprob(token=' \"<', bytes=[32, 34, 60], logprob=-17.375), TopLogprob(token=' ', bytes=[32], logprob=-19.375), TopLogprob(token=' “', bytes=[32, 226, 128, 156], logprob=-20.375), TopLogprob(token=' null', bytes=[32, 110, 117, 108, 108], logprob=-22.625)]"
        ],
        [
         "10",
         "not",
         "-0.00020556684",
         "[TopLogprob(token='not', bytes=[110, 111, 116], logprob=-0.00020556684), TopLogprob(token='aki', bytes=[97, 107, 105], logprob=-8.500206), TopLogprob(token='no', bytes=[110, 111], logprob=-13.625206), TopLogprob(token='non', bytes=[110, 111, 110], logprob=-14.500206), TopLogprob(token='Not', bytes=[78, 111, 116], logprob=-16.250206)]"
        ],
        [
         "11",
         "-",
         "0.0",
         "[TopLogprob(token='-', bytes=[45], logprob=0.0), TopLogprob(token=' aki', bytes=[32, 97, 107, 105], logprob=-18.5), TopLogprob(token='-ak', bytes=[45, 97, 107], logprob=-19.0), TopLogprob(token='-A', bytes=[45, 65], logprob=-20.375), TopLogprob(token='_', bytes=[95], logprob=-21.0)]"
        ],
        [
         "12",
         "aki",
         "0.0",
         "[TopLogprob(token='aki', bytes=[97, 107, 105], logprob=0.0), TopLogprob(token='ami', bytes=[97, 109, 105], logprob=-19.875), TopLogprob(token='ki', bytes=[107, 105], logprob=-21.5), TopLogprob(token='akin', bytes=[97, 107, 105, 110], logprob=-21.5), TopLogprob(token='eki', bytes=[101, 107, 105], logprob=-21.5)]"
        ],
        [
         "13",
         "\",\n",
         "-4.8425554e-06",
         "[TopLogprob(token='\",\\n', bytes=[34, 44, 10], logprob=-4.8425554e-06), TopLogprob(token='\",', bytes=[34, 44], logprob=-12.250005), TopLogprob(token='\",\\r\\n', bytes=[34, 44, 13, 10], logprob=-22.375006), TopLogprob(token=' \",\\n', bytes=[32, 34, 44, 10], logprob=-23.500006), TopLogprob(token='\"', bytes=[34], logprob=-24.375006)]"
        ],
        [
         "14",
         " ",
         "-1.9361265e-07",
         "[TopLogprob(token=' ', bytes=[32], logprob=-1.9361265e-07), TopLogprob(token='  ', bytes=[32, 32], logprob=-16.625), TopLogprob(token='   ', bytes=[32, 32, 32], logprob=-17.125), TopLogprob(token=' \"', bytes=[32, 34], logprob=-17.1875), TopLogprob(token='\"', bytes=[34], logprob=-18.4375)]"
        ],
        [
         "15",
         " \"",
         "0.0",
         "[TopLogprob(token=' \"', bytes=[32, 34], logprob=0.0), TopLogprob(token=' ', bytes=[32], logprob=-20.28125), TopLogprob(token='<|end|>', bytes=None, logprob=-20.71875), TopLogprob(token=' “', bytes=[32, 226, 128, 156], logprob=-22.734375), TopLogprob(token=' \"_', bytes=[32, 34, 95], logprob=-22.875)]"
        ],
        [
         "16",
         "classification",
         "0.0",
         "[TopLogprob(token='classification', bytes=[99, 108, 97, 115, 115, 105, 102, 105, 99, 97, 116, 105, 111, 110], logprob=0.0), TopLogprob(token='class', bytes=[99, 108, 97, 115, 115], logprob=-20.375), TopLogprob(token='diagn', bytes=[100, 105, 97, 103, 110], logprob=-21.75), TopLogprob(token='classifier', bytes=[99, 108, 97, 115, 115, 105, 102, 105, 101, 114], logprob=-22.625), TopLogprob(token=' classification', bytes=[32, 99, 108, 97, 115, 115, 105, 102, 105, 99, 97, 116, 105, 111, 110], logprob=-23.625)]"
        ],
        [
         "17",
         "\":",
         "0.0",
         "[TopLogprob(token='\":', bytes=[34, 58], logprob=0.0), TopLogprob(token='\":\"', bytes=[34, 58, 34], logprob=-17.0), TopLogprob(token='\"', bytes=[34], logprob=-20.125), TopLogprob(token=':', bytes=[58], logprob=-21.75), TopLogprob(token=\"':\", bytes=[39, 58], logprob=-22.125)]"
        ],
        [
         "18",
         " \"",
         "0.0",
         "[TopLogprob(token=' \"', bytes=[32, 34], logprob=0.0), TopLogprob(token=' ', bytes=[32], logprob=-19.875), TopLogprob(token='<|end|>', bytes=None, logprob=-21.75), TopLogprob(token=' \"<', bytes=[32, 34, 60], logprob=-23.75), TopLogprob(token=' “', bytes=[32, 226, 128, 156], logprob=-23.875)]"
        ],
        [
         "19",
         "no",
         "0.0",
         "[TopLogprob(token='no', bytes=[110, 111], logprob=0.0), TopLogprob(token='No', bytes=[78, 111], logprob=-24.75), TopLogprob(token='not', bytes=[110, 111, 116], logprob=-25.75), TopLogprob(token='NO', bytes=[78, 79], logprob=-26.125), TopLogprob(token='non', bytes=[110, 111, 110], logprob=-26.5)]"
        ]
       ],
       "shape": {
        "columns": 3,
        "rows": 20
       }
      },
      "text/html": [
       "<div>\n",
       "<style scoped>\n",
       "    .dataframe tbody tr th:only-of-type {\n",
       "        vertical-align: middle;\n",
       "    }\n",
       "\n",
       "    .dataframe tbody tr th {\n",
       "        vertical-align: top;\n",
       "    }\n",
       "\n",
       "    .dataframe thead th {\n",
       "        text-align: right;\n",
       "    }\n",
       "</style>\n",
       "<table border=\"1\" class=\"dataframe\">\n",
       "  <thead>\n",
       "    <tr style=\"text-align: right;\">\n",
       "      <th></th>\n",
       "      <th>token</th>\n",
       "      <th>logprob</th>\n",
       "      <th>top_logprobs</th>\n",
       "    </tr>\n",
       "  </thead>\n",
       "  <tbody>\n",
       "    <tr>\n",
       "      <th>0</th>\n",
       "      <td>```</td>\n",
       "      <td>-4.864641e-02</td>\n",
       "      <td>[TopLogprob(token='```', bytes=[96, 96, 96], l...</td>\n",
       "    </tr>\n",
       "    <tr>\n",
       "      <th>1</th>\n",
       "      <td>json</td>\n",
       "      <td>-4.320200e-07</td>\n",
       "      <td>[TopLogprob(token='json', bytes=[106, 115, 111...</td>\n",
       "    </tr>\n",
       "    <tr>\n",
       "      <th>2</th>\n",
       "      <td>\\n</td>\n",
       "      <td>-5.512237e-07</td>\n",
       "      <td>[TopLogprob(token='\\n', bytes=[10], logprob=-5...</td>\n",
       "    </tr>\n",
       "    <tr>\n",
       "      <th>3</th>\n",
       "      <td>{\\n</td>\n",
       "      <td>0.000000e+00</td>\n",
       "      <td>[TopLogprob(token='{\\n', bytes=[123, 10], logp...</td>\n",
       "    </tr>\n",
       "    <tr>\n",
       "      <th>4</th>\n",
       "      <td></td>\n",
       "      <td>-3.292908e-06</td>\n",
       "      <td>[TopLogprob(token=' ', bytes=[32], logprob=-3....</td>\n",
       "    </tr>\n",
       "    <tr>\n",
       "      <th>5</th>\n",
       "      <td>\"</td>\n",
       "      <td>0.000000e+00</td>\n",
       "      <td>[TopLogprob(token=' \"', bytes=[32, 34], logpro...</td>\n",
       "    </tr>\n",
       "    <tr>\n",
       "      <th>6</th>\n",
       "      <td>diagn</td>\n",
       "      <td>0.000000e+00</td>\n",
       "      <td>[TopLogprob(token='diagn', bytes=[100, 105, 97...</td>\n",
       "    </tr>\n",
       "    <tr>\n",
       "      <th>7</th>\n",
       "      <td>osis</td>\n",
       "      <td>0.000000e+00</td>\n",
       "      <td>[TopLogprob(token='osis', bytes=[111, 115, 105...</td>\n",
       "    </tr>\n",
       "    <tr>\n",
       "      <th>8</th>\n",
       "      <td>\":</td>\n",
       "      <td>-1.936127e-07</td>\n",
       "      <td>[TopLogprob(token='\":', bytes=[34, 58], logpro...</td>\n",
       "    </tr>\n",
       "    <tr>\n",
       "      <th>9</th>\n",
       "      <td>\"</td>\n",
       "      <td>0.000000e+00</td>\n",
       "      <td>[TopLogprob(token=' \"', bytes=[32, 34], logpro...</td>\n",
       "    </tr>\n",
       "    <tr>\n",
       "      <th>10</th>\n",
       "      <td>not</td>\n",
       "      <td>-2.055668e-04</td>\n",
       "      <td>[TopLogprob(token='not', bytes=[110, 111, 116]...</td>\n",
       "    </tr>\n",
       "    <tr>\n",
       "      <th>11</th>\n",
       "      <td>-</td>\n",
       "      <td>0.000000e+00</td>\n",
       "      <td>[TopLogprob(token='-', bytes=[45], logprob=0.0...</td>\n",
       "    </tr>\n",
       "    <tr>\n",
       "      <th>12</th>\n",
       "      <td>aki</td>\n",
       "      <td>0.000000e+00</td>\n",
       "      <td>[TopLogprob(token='aki', bytes=[97, 107, 105],...</td>\n",
       "    </tr>\n",
       "    <tr>\n",
       "      <th>13</th>\n",
       "      <td>\",\\n</td>\n",
       "      <td>-4.842555e-06</td>\n",
       "      <td>[TopLogprob(token='\",\\n', bytes=[34, 44, 10], ...</td>\n",
       "    </tr>\n",
       "    <tr>\n",
       "      <th>14</th>\n",
       "      <td></td>\n",
       "      <td>-1.936127e-07</td>\n",
       "      <td>[TopLogprob(token=' ', bytes=[32], logprob=-1....</td>\n",
       "    </tr>\n",
       "    <tr>\n",
       "      <th>15</th>\n",
       "      <td>\"</td>\n",
       "      <td>0.000000e+00</td>\n",
       "      <td>[TopLogprob(token=' \"', bytes=[32, 34], logpro...</td>\n",
       "    </tr>\n",
       "    <tr>\n",
       "      <th>16</th>\n",
       "      <td>classification</td>\n",
       "      <td>0.000000e+00</td>\n",
       "      <td>[TopLogprob(token='classification', bytes=[99,...</td>\n",
       "    </tr>\n",
       "    <tr>\n",
       "      <th>17</th>\n",
       "      <td>\":</td>\n",
       "      <td>0.000000e+00</td>\n",
       "      <td>[TopLogprob(token='\":', bytes=[34, 58], logpro...</td>\n",
       "    </tr>\n",
       "    <tr>\n",
       "      <th>18</th>\n",
       "      <td>\"</td>\n",
       "      <td>0.000000e+00</td>\n",
       "      <td>[TopLogprob(token=' \"', bytes=[32, 34], logpro...</td>\n",
       "    </tr>\n",
       "    <tr>\n",
       "      <th>19</th>\n",
       "      <td>no</td>\n",
       "      <td>0.000000e+00</td>\n",
       "      <td>[TopLogprob(token='no', bytes=[110, 111], logp...</td>\n",
       "    </tr>\n",
       "  </tbody>\n",
       "</table>\n",
       "</div>"
      ],
      "text/plain": [
       "             token       logprob  \\\n",
       "0              ``` -4.864641e-02   \n",
       "1             json -4.320200e-07   \n",
       "2               \\n -5.512237e-07   \n",
       "3              {\\n  0.000000e+00   \n",
       "4                  -3.292908e-06   \n",
       "5                \"  0.000000e+00   \n",
       "6            diagn  0.000000e+00   \n",
       "7             osis  0.000000e+00   \n",
       "8               \": -1.936127e-07   \n",
       "9                \"  0.000000e+00   \n",
       "10             not -2.055668e-04   \n",
       "11               -  0.000000e+00   \n",
       "12             aki  0.000000e+00   \n",
       "13            \",\\n -4.842555e-06   \n",
       "14                 -1.936127e-07   \n",
       "15               \"  0.000000e+00   \n",
       "16  classification  0.000000e+00   \n",
       "17              \":  0.000000e+00   \n",
       "18               \"  0.000000e+00   \n",
       "19              no  0.000000e+00   \n",
       "\n",
       "                                         top_logprobs  \n",
       "0   [TopLogprob(token='```', bytes=[96, 96, 96], l...  \n",
       "1   [TopLogprob(token='json', bytes=[106, 115, 111...  \n",
       "2   [TopLogprob(token='\\n', bytes=[10], logprob=-5...  \n",
       "3   [TopLogprob(token='{\\n', bytes=[123, 10], logp...  \n",
       "4   [TopLogprob(token=' ', bytes=[32], logprob=-3....  \n",
       "5   [TopLogprob(token=' \"', bytes=[32, 34], logpro...  \n",
       "6   [TopLogprob(token='diagn', bytes=[100, 105, 97...  \n",
       "7   [TopLogprob(token='osis', bytes=[111, 115, 105...  \n",
       "8   [TopLogprob(token='\":', bytes=[34, 58], logpro...  \n",
       "9   [TopLogprob(token=' \"', bytes=[32, 34], logpro...  \n",
       "10  [TopLogprob(token='not', bytes=[110, 111, 116]...  \n",
       "11  [TopLogprob(token='-', bytes=[45], logprob=0.0...  \n",
       "12  [TopLogprob(token='aki', bytes=[97, 107, 105],...  \n",
       "13  [TopLogprob(token='\",\\n', bytes=[34, 44, 10], ...  \n",
       "14  [TopLogprob(token=' ', bytes=[32], logprob=-1....  \n",
       "15  [TopLogprob(token=' \"', bytes=[32, 34], logpro...  \n",
       "16  [TopLogprob(token='classification', bytes=[99,...  \n",
       "17  [TopLogprob(token='\":', bytes=[34, 58], logpro...  \n",
       "18  [TopLogprob(token=' \"', bytes=[32, 34], logpro...  \n",
       "19  [TopLogprob(token='no', bytes=[110, 111], logp...  "
      ]
     },
     "execution_count": 38,
     "metadata": {},
     "output_type": "execute_result"
    }
   ],
   "source": [
    "# Extract relevant data from logprobs_content\n",
    "logprobs_content = response.choices[0].logprobs.content\n",
    "logprobs_data = [\n",
    "    {\n",
    "        \"token\": token_logprob.token,\n",
    "        \"logprob\": token_logprob.logprob,\n",
    "        \"top_logprobs\": token_logprob.top_logprobs,\n",
    "    }\n",
    "    for token_logprob in logprobs_content\n",
    "]\n",
    "\n",
    "# Create a DataFrame\n",
    "logprobs_df = pd.DataFrame(logprobs_data)\n",
    "logprobs_df.head(20)"
   ]
  },
  {
   "cell_type": "code",
   "execution_count": null,
   "id": "0ad65ee9",
   "metadata": {},
   "outputs": [],
   "source": [
    "# Convert logprob column to tensor and apply softmax\n",
    "logprobs_df[\"probability\"] = logprobs_df[\"logprob\"].apply(\n",
    "\tlambda x: softmax(torch.tensor([x]), dim=0).item()\n",
    ")\n",
    "# Convert top_logprobs to DataFrame\n",
    "logprobs_df[\"top_logprobs_logits\"] = None\n",
    "for i in range(len(logprobs_df)):\n",
    "    logprob_list = []\n",
    "    for j in range(len(logprobs_df[\"top_logprobs\"][i])):\n",
    "        logprob_list.append(logprobs_df[\"top_logprobs\"][i][j].logprob)\n",
    "    logprobs_df[\"top_logprobs_logits\"][i] = logprob_list"
   ]
  },
  {
   "cell_type": "code",
   "execution_count": 69,
   "id": "05abef32",
   "metadata": {},
   "outputs": [
    {
     "data": {
      "application/vnd.microsoft.datawrangler.viewer.v0+json": {
       "columns": [
        {
         "name": "index",
         "rawType": "int64",
         "type": "integer"
        },
        {
         "name": "token",
         "rawType": "object",
         "type": "string"
        },
        {
         "name": "logprob",
         "rawType": "float64",
         "type": "float"
        },
        {
         "name": "top_logprobs",
         "rawType": "object",
         "type": "unknown"
        },
        {
         "name": "top_logprobs_lists",
         "rawType": "object",
         "type": "unknown"
        },
        {
         "name": "top_logprobs_probs",
         "rawType": "object",
         "type": "unknown"
        }
       ],
       "conversionMethod": "pd.DataFrame",
       "ref": "8c1c8257-d502-425e-8709-e49d81cdf155",
       "rows": [
        [
         "0",
         "```",
         "-0.048646413",
         "[TopLogprob(token='```', bytes=[96, 96, 96], logprob=-0.048646413), TopLogprob(token='{\\n', bytes=[123, 10], logprob=-3.0486465), TopLogprob(token='Based', bytes=[66, 97, 115, 101, 100], logprob=-10.548646), TopLogprob(token='Here', bytes=[72, 101, 114, 101], logprob=-10.798646), TopLogprob(token='``', bytes=[96, 96], logprob=-12.548646)]",
         "[-0.048646413, -3.0486465, -10.548646, -10.798646, -12.548646]",
         "[0.9525263055646706, 0.04742348817149348, 2.622920320014203e-05, 2.0427323991609613e-05, 3.5497366441618896e-06]"
        ],
        [
         "1",
         "json",
         "-4.3202e-07",
         "[TopLogprob(token='json', bytes=[106, 115, 111, 110], logprob=-4.3202e-07), TopLogprob(token='JSON', bytes=[74, 83, 79, 78], logprob=-14.75), TopLogprob(token='python', bytes=[112, 121, 116, 104, 111, 110], logprob=-20.0), TopLogprob(token=' \\n', bytes=[32, 10], logprob=-20.25), TopLogprob(token=' json', bytes=[32, 106, 115, 111, 110], logprob=-21.125)]",
         "[-4.3202e-07, -14.75, -20.0, -20.25, -21.125]",
         "[0.9999996028780911, 3.927863682555673e-07, 2.0611536943687207e-09, 1.6052281112048784e-09, 6.691586324815829e-10]"
        ],
        [
         "2",
         "\n",
         "-5.5122365e-07",
         "[TopLogprob(token='\\n', bytes=[10], logprob=-5.5122365e-07), TopLogprob(token=' \\n', bytes=[32, 10], logprob=-15.000001), TopLogprob(token='  \\n', bytes=[32, 32, 10], logprob=-15.875001), TopLogprob(token='   \\n', bytes=[32, 32, 32, 10], logprob=-19.125), TopLogprob(token='\\r\\n', bytes=[13, 10], logprob=-20.125)]",
         "[-5.5122365e-07, -15.000001, -15.875001, -19.125, -20.125]",
         "[0.9999995598155925, 3.0590204856675866e-07, 1.275189457893322e-07, 4.944451050966234e-09, 1.8189618895290086e-09]"
        ],
        [
         "3",
         "{\n",
         "0.0",
         "[TopLogprob(token='{\\n', bytes=[123, 10], logprob=0.0), TopLogprob(token='{', bytes=[123], logprob=-17.25), TopLogprob(token=' {\\n', bytes=[32, 123, 10], logprob=-22.125), TopLogprob(token='{\\r\\n', bytes=[123, 13, 10], logprob=-22.875), TopLogprob(token='{\\n\\n', bytes=[123, 10, 10], logprob=-24.875)]",
         "[0.0, -17.25, -22.125, -22.875, -24.875]",
         "[0.9999999673799445, 3.2241866320835826e-08, 2.461696871514693e-10, 1.1628232650907362e-10, 1.5737101593517756e-11]"
        ],
        [
         "4",
         " ",
         "-3.2929079e-06",
         "[TopLogprob(token=' ', bytes=[32], logprob=-3.2929079e-06), TopLogprob(token='   ', bytes=[32, 32, 32], logprob=-12.875003), TopLogprob(token='  ', bytes=[32, 32], logprob=-14.375003), TopLogprob(token=' \"', bytes=[32, 34], logprob=-15.750003), TopLogprob(token='\\t', bytes=[9], logprob=-16.750004)]",
         "[-3.2929079e-06, -12.875003, -14.375003, -15.750003, -16.750004]",
         "[0.9999966695647478, 2.561280990954953e-06, 5.714990376969076e-07, 1.444975856940877e-07, 5.315763791809894e-08]"
        ],
        [
         "5",
         " \"",
         "0.0",
         "[TopLogprob(token=' \"', bytes=[32, 34], logprob=0.0), TopLogprob(token=' “', bytes=[32, 226, 128, 156], logprob=-19.625), TopLogprob(token='<|end|>', bytes=None, logprob=-20.25), TopLogprob(token=' ', bytes=[32], logprob=-21.25), TopLogprob(token=' \\u200b', bytes=[32, 226, 128, 139], logprob=-23.4375)]",
         "[0.0, -19.625, -20.25, -21.25, -23.4375]",
         "[0.9999999947390252, 2.99896080907985e-09, 1.6052280467405474e-09, 5.905303967876385e-10, 6.625567427731783e-11]"
        ],
        [
         "6",
         "diagn",
         "0.0",
         "[TopLogprob(token='diagn', bytes=[100, 105, 97, 103, 110], logprob=0.0), TopLogprob(token='classification', bytes=[99, 108, 97, 115, 115, 105, 102, 105, 99, 97, 116, 105, 111, 110], logprob=-21.625), TopLogprob(token='diag', bytes=[100, 105, 97, 103], logprob=-21.875), TopLogprob(token=' diagnosis', bytes=[32, 100, 105, 97, 103, 110, 111, 115, 105, 115], logprob=-22.75), TopLogprob(token='analysis', bytes=[97, 110, 97, 108, 121, 115, 105, 115], logprob=-22.75)]",
         "[0.0, -21.625, -21.875, -22.75, -22.75]",
         "[0.9999999990145167, 4.0586521224759596e-10, 3.160881451198697e-10, 1.3176514257110232e-10, 1.3176514257110232e-10]"
        ],
        [
         "7",
         "osis",
         "0.0",
         "[TopLogprob(token='osis', bytes=[111, 115, 105, 115], logprob=0.0), TopLogprob(token='ysis', bytes=[121, 115, 105, 115], logprob=-19.75), TopLogprob(token='osi', bytes=[111, 115, 105], logprob=-20.75), TopLogprob(token='os', bytes=[111, 115], logprob=-21.625), TopLogprob(token='ostic', bytes=[111, 115, 116, 105, 99], logprob=-22.25)]",
         "[0.0, -19.75, -20.75, -21.625, -22.25]",
         "[0.9999999957566972, 2.6465736276789036e-09, 9.73620027169592e-10, 4.058652109253603e-10, 2.1724399258606966e-10]"
        ],
        [
         "8",
         "\":",
         "-1.9361265e-07",
         "[TopLogprob(token='\":', bytes=[34, 58], logprob=-1.9361265e-07), TopLogprob(token='\":\"', bytes=[34, 58, 34], logprob=-15.875), TopLogprob(token='\"', bytes=[34], logprob=-19.625), TopLogprob(token='<|end|>', bytes=None, logprob=-21.125), TopLogprob(token='”:', bytes=[226, 128, 157, 58], logprob=-22.5)]",
         "[-1.9361265e-07, -15.875, -19.625, -21.125, -22.5]",
         "[0.9999998686436237, 1.2751906708759403e-07, 2.9989610115614117e-09, 6.691586507885949e-10, 1.6918980279463782e-10]"
        ],
        [
         "9",
         " \"",
         "0.0",
         "[TopLogprob(token=' \"', bytes=[32, 34], logprob=0.0), TopLogprob(token=' \"<', bytes=[32, 34, 60], logprob=-17.375), TopLogprob(token=' ', bytes=[32], logprob=-19.375), TopLogprob(token=' “', bytes=[32, 226, 128, 156], logprob=-20.375), TopLogprob(token=' null', bytes=[32, 110, 117, 108, 108], logprob=-22.625)]",
         "[0.0, -17.375, -19.375, -20.375, -22.625]",
         "[0.9999999661299928, 2.8453347126118896e-08, 3.85074179234296e-09, 1.4166087386626463e-09, 1.4930946256260367e-10]"
        ],
        [
         "10",
         "not",
         "-0.00020556684",
         "[TopLogprob(token='not', bytes=[110, 111, 116], logprob=-0.00020556684), TopLogprob(token='aki', bytes=[97, 107, 105], logprob=-8.500206), TopLogprob(token='no', bytes=[110, 111], logprob=-13.625206), TopLogprob(token='non', bytes=[110, 111, 110], logprob=-14.500206), TopLogprob(token='Not', bytes=[78, 111, 116], logprob=-16.250206)]",
         "[-0.00020556684, -8.500206, -13.625206, -14.500206, -16.250206]",
         "[0.999794771989794, 0.0002034265234858802, 1.209618324718519e-06, 5.042439378822956e-07, 8.762445754678781e-08]"
        ],
        [
         "11",
         "-",
         "0.0",
         "[TopLogprob(token='-', bytes=[45], logprob=0.0), TopLogprob(token=' aki', bytes=[32, 97, 107, 105], logprob=-18.5), TopLogprob(token='-ak', bytes=[45, 97, 107], logprob=-19.0), TopLogprob(token='-A', bytes=[45, 65], logprob=-20.375), TopLogprob(token='_', bytes=[95], logprob=-21.0)]",
         "[0.0, -18.5, -19.0, -20.375, -21.0]",
         "[0.9999999829848892, 9.237449504794365e-09, 5.602796342205065e-09, 1.4166087625394407e-09, 7.5825602988938e-10]"
        ],
        [
         "12",
         "aki",
         "0.0",
         "[TopLogprob(token='aki', bytes=[97, 107, 105], logprob=0.0), TopLogprob(token='ami', bytes=[97, 109, 105], logprob=-19.875), TopLogprob(token='ki', bytes=[107, 105], logprob=-21.5), TopLogprob(token='akin', bytes=[97, 107, 105, 110], logprob=-21.5), TopLogprob(token='eki', bytes=[101, 107, 105], logprob=-21.5)]",
         "[0.0, -19.875, -21.5, -21.5, -21.5]",
         "[0.9999999962846906, 2.3355930301218866e-09, 4.599055361565403e-10, 4.599055361565403e-10, 4.599055361565403e-10]"
        ],
        [
         "13",
         "\",\n",
         "-4.8425554e-06",
         "[TopLogprob(token='\",\\n', bytes=[34, 44, 10], logprob=-4.8425554e-06), TopLogprob(token='\",', bytes=[34, 44], logprob=-12.250005), TopLogprob(token='\",\\r\\n', bytes=[34, 44, 13, 10], logprob=-22.375006), TopLogprob(token=' \",\\n', bytes=[32, 34, 44, 10], logprob=-23.500006), TopLogprob(token='\"', bytes=[34], logprob=-24.375006)]",
         "[-4.8425554e-06, -12.250005, -22.375006, -23.500006, -24.375006]",
         "[0.9999952146263569, 4.785093740167134e-06, 1.9171601203683666e-10, 6.224107633986209e-11, 2.594594078999914e-11]"
        ],
        [
         "14",
         " ",
         "-1.9361265e-07",
         "[TopLogprob(token=' ', bytes=[32], logprob=-1.9361265e-07), TopLogprob(token='  ', bytes=[32, 32], logprob=-16.625), TopLogprob(token='   ', bytes=[32, 32, 32], logprob=-17.125), TopLogprob(token=' \"', bytes=[32, 34], logprob=-17.1875), TopLogprob(token='\"', bytes=[34], logprob=-18.4375)]",
         "[-1.9361265e-07, -16.625, -17.125, -17.1875, -18.4375]",
         "[0.9999998590749292, 6.023574155253947e-08, 3.653482406214146e-08, 3.432129097156778e-08, 9.833214497788503e-09]"
        ],
        [
         "15",
         " \"",
         "0.0",
         "[TopLogprob(token=' \"', bytes=[32, 34], logprob=0.0), TopLogprob(token=' ', bytes=[32], logprob=-20.28125), TopLogprob(token='<|end|>', bytes=None, logprob=-20.71875), TopLogprob(token=' “', bytes=[32, 226, 128, 156], logprob=-22.734375), TopLogprob(token=' \"_', bytes=[32, 34, 95], logprob=-22.875)]",
         "[0.0, -20.28125, -20.71875, -22.734375, -22.875]",
         "[0.9999999971895113, 1.5558403756270498e-09, 1.0045260458806228e-09, 1.3384014139393613e-10, 1.1628232997539952e-10]"
        ],
        [
         "16",
         "classification",
         "0.0",
         "[TopLogprob(token='classification', bytes=[99, 108, 97, 115, 115, 105, 102, 105, 99, 97, 116, 105, 111, 110], logprob=0.0), TopLogprob(token='class', bytes=[99, 108, 97, 115, 115], logprob=-20.375), TopLogprob(token='diagn', bytes=[100, 105, 97, 103, 110], logprob=-21.75), TopLogprob(token='classifier', bytes=[99, 108, 97, 115, 115, 105, 102, 105, 101, 114], logprob=-22.625), TopLogprob(token=' classification', bytes=[32, 99, 108, 97, 115, 115, 105, 102, 105, 99, 97, 116, 105, 111, 110], logprob=-23.625)]",
         "[0.0, -20.375, -21.75, -22.625, -23.625]",
         "[0.999999998020979, 1.4166087838396976e-09, 3.581747923194827e-10, 1.4930946732422984e-10, 5.4927883400843405e-11]"
        ],
        [
         "17",
         "\":",
         "0.0",
         "[TopLogprob(token='\":', bytes=[34, 58], logprob=0.0), TopLogprob(token='\":\"', bytes=[34, 58, 34], logprob=-17.0), TopLogprob(token='\"', bytes=[34], logprob=-20.125), TopLogprob(token=':', bytes=[58], logprob=-21.75), TopLogprob(token=\"':\", bytes=[39, 58], logprob=-22.125)]",
         "[0.0, -17.0, -20.125, -21.75, -22.125]",
         "[0.9999999561773184, 4.139937537361994e-08, 1.818961607841267e-09, 3.581747773321382e-10, 2.461696843937223e-10]"
        ],
        [
         "18",
         " \"",
         "0.0",
         "[TopLogprob(token=' \"', bytes=[32, 34], logprob=0.0), TopLogprob(token=' ', bytes=[32], logprob=-19.875), TopLogprob(token='<|end|>', bytes=None, logprob=-21.75), TopLogprob(token=' \"<', bytes=[32, 34, 60], logprob=-23.75), TopLogprob(token=' “', bytes=[32, 226, 128, 156], logprob=-23.875)]",
         "[0.0, -19.875, -21.75, -23.75, -23.875]",
         "[0.9999999972149807, 2.3355930322946655e-09, 3.5817479203079437e-10, 4.84736869277024e-11, 4.277787857055276e-11]"
        ],
        [
         "19",
         "no",
         "0.0",
         "[TopLogprob(token='no', bytes=[110, 111], logprob=0.0), TopLogprob(token='No', bytes=[78, 111], logprob=-24.75), TopLogprob(token='not', bytes=[110, 111, 116], logprob=-25.75), TopLogprob(token='NO', bytes=[78, 79], logprob=-26.125), TopLogprob(token='non', bytes=[110, 111, 110], logprob=-26.5)]",
         "[0.0, -24.75, -25.75, -26.125, -26.5]",
         "[0.9999999999679996, 1.7832472907575744e-11, 6.560200167943849e-12, 4.5087552421505434e-12, 3.098819138622662e-12]"
        ],
        [
         "20",
         "\",\n",
         "-1.9361265e-07",
         "[TopLogprob(token='\",\\n', bytes=[34, 44, 10], logprob=-1.9361265e-07), TopLogprob(token='\",', bytes=[34, 44], logprob=-16.0), TopLogprob(token=' if', bytes=[32, 105, 102], logprob=-20.0), TopLogprob(token='\",\\n\\n', bytes=[34, 44, 10, 10], logprob=-20.875), TopLogprob(token='\",\\r\\n', bytes=[34, 44, 13, 10], logprob=-21.0)]",
         "[-1.9361265e-07, -16.0, -20.0, -20.875, -21.0]",
         "[0.9999998837861901, 1.1253518342935061e-07, 2.0611537819694483e-09, 8.592167284197803e-10, 7.582561014793256e-10]"
        ],
        [
         "21",
         " ",
         "-1.9361265e-07",
         "[TopLogprob(token=' ', bytes=[32], logprob=-1.9361265e-07), TopLogprob(token=' \"', bytes=[32, 34], logprob=-16.75), TopLogprob(token='  ', bytes=[32, 32], logprob=-17.125), TopLogprob(token='\"', bytes=[34], logprob=-17.5), TopLogprob(token='   ', bytes=[32, 32, 32], logprob=-18.25)]",
         "[-1.9361265e-07, -16.75, -17.125, -17.5, -18.25]",
         "[0.9999998733362051, 5.315785610310124e-08, 3.653482458317474e-08, 2.5109993238524844e-08, 1.1861120945432169e-08]"
        ],
        [
         "22",
         " \"",
         "0.0",
         "[TopLogprob(token=' \"', bytes=[32, 34], logprob=0.0), TopLogprob(token='<|end|>', bytes=None, logprob=-20.6875), TopLogprob(token=' ', bytes=[32], logprob=-22.3125), TopLogprob(token=' “', bytes=[32, 226, 128, 156], logprob=-24.03125), TopLogprob(token=' {\\n', bytes=[32, 123, 10], logprob=-24.5625)]",
         "[0.0, -20.6875, -22.3125, -24.03125, -24.5625]",
         "[0.999999998701405, 1.03641312706542e-09, 2.040818450540691e-10, 3.658985860183468e-11, 2.1510068215853433e-11]"
        ],
        [
         "23",
         "ex",
         "-1.9361265e-07",
         "[TopLogprob(token='ex', bytes=[101, 120], logprob=-1.9361265e-07), TopLogprob(token='expl', bytes=[101, 120, 112, 108], logprob=-16.5), TopLogprob(token='diagn', bytes=[100, 105, 97, 103, 110], logprob=-20.375), TopLogprob(token='analysis', bytes=[97, 110, 97, 108, 121, 115, 105, 115], logprob=-21.25), TopLogprob(token='exp', bytes=[101, 120, 112], logprob=-21.5)]",
         "[-1.9361265e-07, -16.5, -20.375, -21.25, -21.5]",
         "[0.9999999292769127, 6.825604215130315e-08, 1.416608960729637e-09, 5.905304724644293e-10, 4.599055943828242e-10]"
        ],
        [
         "24",
         "planation",
         "0.0",
         "[TopLogprob(token='planation', bytes=[112, 108, 97, 110, 97, 116, 105, 111, 110], logprob=0.0), TopLogprob(token='amination', bytes=[97, 109, 105, 110, 97, 116, 105, 111, 110], logprob=-17.0), TopLogprob(token='plan', bytes=[112, 108, 97, 110], logprob=-18.625), TopLogprob(token='clamation', bytes=[99, 108, 97, 109, 97, 116, 105, 111, 110], logprob=-18.75), TopLogprob(token='plant', bytes=[112, 108, 97, 110, 116], logprob=-19.375)]",
         "[0.0, -17.0, -18.625, -18.75, -19.375]",
         "[0.9999999394037308, 4.139937467920386e-08, 8.152020220488126e-09, 7.194132594387761e-09, 3.8507416894270225e-09]"
        ],
        [
         "25",
         "\":",
         "0.0",
         "[TopLogprob(token='\":', bytes=[34, 58], logprob=0.0), TopLogprob(token='\":\"', bytes=[34, 58, 34], logprob=-18.625), TopLogprob(token='\":\\n', bytes=[34, 58, 10], logprob=-19.5), TopLogprob(token='\"', bytes=[34], logprob=-20.75), TopLogprob(token='<|end|>', bytes=None, logprob=-21.125)]",
         "[0.0, -18.625, -19.5, -20.75, -21.125]",
         "[0.9999999868069331, 8.152020606920013e-09, 3.3982677746614964e-09, 9.736200184559223e-10, 6.691586003010238e-10]"
        ],
        [
         "26",
         " \"",
         "-1.9361265e-07",
         "[TopLogprob(token=' \"', bytes=[32, 34], logprob=-1.9361265e-07), TopLogprob(token=' \\n', bytes=[32, 10], logprob=-16.5), TopLogprob(token=' \"<', bytes=[32, 34, 60], logprob=-17.875), TopLogprob(token=' {\\n', bytes=[32, 123, 10], logprob=-18.125), TopLogprob(token=' \"\\n', bytes=[32, 34, 10], logprob=-18.25)]",
         "[-1.9361265e-07, -16.5, -17.875, -18.125, -18.25]",
         "[0.9999998891845988, 6.825603941476028e-08, 1.7257829416860836e-08, 1.3440411063963945e-08, 1.1861121133411908e-08]"
        ],
        [
         "27",
         "Ac",
         "-0.20256966",
         "[TopLogprob(token='Ac', bytes=[65, 99], logprob=-0.20256966), TopLogprob(token='The', bytes=[84, 104, 101], logprob=-1.8275697), TopLogprob(token='Based', bytes=[66, 97, 115, 101, 100], logprob=-4.2025695), TopLogprob(token='To', bytes=[84, 111], logprob=-5.4525695), TopLogprob(token='AK', bytes=[65, 75], logprob=-6.9525695)]",
         "[-0.20256966, -1.8275697, -4.2025695, -5.4525695, -6.9525695]",
         "[0.8185679311872112, 0.161185576151082, 0.0149925970323385, 0.004295450967156831, 0.0009584446622114316]"
        ],
        [
         "28",
         "ute",
         "0.0",
         "[TopLogprob(token='ute', bytes=[117, 116, 101], logprob=0.0), TopLogprob(token='quired', bytes=[113, 117, 105, 114, 101, 100], logprob=-20.5), TopLogprob(token='ure', bytes=[117, 114, 101], logprob=-22.375), TopLogprob(token='id', bytes=[105, 100], logprob=-22.5), TopLogprob(token='ue', bytes=[117, 101], logprob=-23.25)]",
         "[0.0, -20.5, -22.375, -22.5, -23.25]",
         "[0.9999999983090206, 1.2501528642727599e-09, 1.9171715105164146e-10, 1.691897919754166e-10, 7.991959879439693e-11]"
        ],
        [
         "29",
         " Kidney",
         "-0.31326258",
         "[TopLogprob(token=' Kidney', bytes=[32, 75, 105, 100, 110, 101, 121], logprob=-0.31326258), TopLogprob(token=' kidney', bytes=[32, 107, 105, 100, 110, 101, 121], logprob=-1.3132626), TopLogprob(token=' Kid', bytes=[32, 75, 105, 100], logprob=-14.188263), TopLogprob(token=' renal', bytes=[32, 114, 101, 110, 97, 108], logprob=-16.188263), TopLogprob(token=' K', bytes=[32, 75], logprob=-17.938263)]",
         "[-0.31326258, -1.3132626, -14.188263, -16.188263, -17.938263]",
         "[0.731057998987813, 0.2689412027527254, 6.888358071198242e-07, 9.322378906008212e-08, 1.6199865448362934e-08]"
        ],
        [
         "30",
         " Injury",
         "-1.9361265e-07",
         "[TopLogprob(token=' Injury', bytes=[32, 73, 110, 106, 117, 114, 121], logprob=-1.9361265e-07), TopLogprob(token=' injury', bytes=[32, 105, 110, 106, 117, 114, 121], logprob=-16.0), TopLogprob(token=' Ins', bytes=[32, 73, 110, 115], logprob=-17.125), TopLogprob(token=' Infection', bytes=[32, 73, 110, 102, 101, 99, 116, 105, 111, 110], logprob=-17.125), TopLogprob(token=' Inj', bytes=[32, 73, 110, 106], logprob=-17.375)]",
         "[-1.9361265e-07, -16.0, -17.125, -17.125, -17.375]",
         "[0.9999997859418374, 1.1253517241841716e-07, 3.653482139023644e-08, 3.653482139023644e-08, 2.8453347508090048e-08]"
        ],
        [
         "31",
         " (",
         "-0.00013131031",
         "[TopLogprob(token=' (', bytes=[32, 40], logprob=-0.00013131031), TopLogprob(token=' is', bytes=[32, 105, 115], logprob=-9.125132), TopLogprob(token=' diagnosis', bytes=[32, 100, 105, 97, 103, 110, 111, 115, 105, 115], logprob=-10.875132), TopLogprob(token=' typically', bytes=[32, 116, 121, 112, 105, 99, 97, 108, 108, 121], logprob=-13.625132), TopLogprob(token=' requires', bytes=[32, 114, 101, 113, 117, 105, 114, 101, 115], logprob=-14.375132)]",
         "[-0.00013131031, -9.125132, -10.875132, -13.625132, -14.375132]",
         "[0.9998704012432191, 0.00010889458031036159, 1.892304064091273e-05, 1.2097095157011556e-06, 5.714263137497572e-07]"
        ],
        [
         "32",
         "AK",
         "-1.9361265e-07",
         "[TopLogprob(token='AK', bytes=[65, 75], logprob=-1.9361265e-07), TopLogprob(token='aki', bytes=[97, 107, 105], logprob=-16.125), TopLogprob(token=' AK', bytes=[32, 65, 75], logprob=-18.25), TopLogprob(token='CK', bytes=[67, 75], logprob=-20.25), TopLogprob(token='AKE', bytes=[65, 75, 69], logprob=-21.375)]",
         "[-1.9361265e-07, -16.125, -18.25, -20.25, -21.375]",
         "[0.9999998867005582, 9.931195109762281e-08, 1.1861121103948398e-08, 1.6052281841066205e-09, 5.211412906433776e-10]"
        ],
        [
         "33",
         "I",
         "0.0",
         "[TopLogprob(token='I', bytes=[73], logprob=0.0), TopLogprob(token='i', bytes=[105], logprob=-20.125), TopLogprob(token=')', bytes=[41], logprob=-24.25), TopLogprob(token='IN', bytes=[73, 78], logprob=-25.375), TopLogprob(token=' I', bytes=[32, 73], logprob=-26.75)]",
         "[0.0, -20.125, -24.25, -25.375, -26.75]",
         "[0.9999999981396792, 1.8189616841691937e-09, 2.940077733814985e-11, 9.545034905083802e-12, 2.413362767343585e-12]"
        ],
        [
         "34",
         ")",
         "-1.6240566e-06",
         "[TopLogprob(token=')', bytes=[41], logprob=-1.6240566e-06), TopLogprob(token='),', bytes=[41, 44], logprob=-13.625002), TopLogprob(token=\")'\", bytes=[41, 39], logprob=-15.812502), TopLogprob(token=')is', bytes=[41, 105, 115], logprob=-15.875002), TopLogprob(token='):', bytes=[41, 58], logprob=-17.375002)]",
         "[-1.6240566e-06, -13.625002, -15.812502, -15.875002, -17.375002]",
         "[0.9999984984199329, 1.2098648757509676e-06, 1.3574307700904058e-07, 1.2751881972878834e-07, 2.8453294668023394e-08]"
        ],
        [
         "35",
         " is",
         "-0.18172376",
         "[TopLogprob(token=' is', bytes=[32, 105, 115], logprob=-0.18172376), TopLogprob(token=' diagnosis', bytes=[32, 100, 105, 97, 103, 110, 111, 115, 105, 115], logprob=-1.9317237), TopLogprob(token=' typically', bytes=[32, 116, 121, 112, 105, 99, 97, 108, 108, 121], logprob=-4.4317236), TopLogprob(token=' diagnostic', bytes=[32, 100, 105, 97, 103, 110, 111, 115, 116, 105, 99], logprob=-6.1817236), TopLogprob(token=' can', bytes=[32, 99, 97, 110], logprob=-6.3067236)]",
         "[-0.18172376, -1.9317237, -4.4317236, -6.1817236, -6.3067236]",
         "[0.8384306886110746, 0.14569741581166334, 0.011959573372363272, 0.0020782622269005045, 0.001834059977998259]"
        ],
        [
         "36",
         " typically",
         "-0.33885372",
         "[TopLogprob(token=' typically', bytes=[32, 116, 121, 112, 105, 99, 97, 108, 108, 121], logprob=-0.33885372), TopLogprob(token=' primarily', bytes=[32, 112, 114, 105, 109, 97, 114, 105, 108, 121], logprob=-2.4638538), TopLogprob(token=' commonly', bytes=[32, 99, 111, 109, 109, 111, 110, 108, 121], logprob=-2.7138538), TopLogprob(token=' often', bytes=[32, 111, 102, 116, 101, 110], logprob=-3.0888538), TopLogprob(token=' diagnosed', bytes=[32, 100, 105, 97, 103, 110, 111, 115, 101, 100], logprob=-3.0888538)]",
         "[-0.33885372, -2.4638538, -2.7138538, -3.0888538, -3.0888538]",
         "[0.7460998640572403, 0.08910891425903877, 0.06939809220358208, 0.047696564740069315, 0.047696564740069315]"
        ],
        [
         "37",
         " diagnosed",
         "-0.14466643",
         "[TopLogprob(token=' diagnosed', bytes=[32, 100, 105, 97, 103, 110, 111, 115, 101, 100], logprob=-0.14466643), TopLogprob(token=' indicated', bytes=[32, 105, 110, 100, 105, 99, 97, 116, 101, 100], logprob=-3.3946664), TopLogprob(token=' characterized', bytes=[32, 99, 104, 97, 114, 97, 99, 116, 101, 114, 105, 122, 101, 100], logprob=-3.5196664), TopLogprob(token=' identified', bytes=[32, 105, 100, 101, 110, 116, 105, 102, 105, 101, 100], logprob=-3.7696664), TopLogprob(token=' assessed', bytes=[32, 97, 115, 115, 101, 115, 115, 101, 100], logprob=-4.1446667)]",
         "[-0.14466643, -3.3946664, -3.5196664, -3.7696664, -4.1446667]",
         "[0.894488737904678, 0.03468309326714348, 0.030607722380306752, 0.023837318157815066, 0.01638312829005644]"
        ],
        [
         "38",
         " based",
         "-0.2370405",
         "[TopLogprob(token=' based', bytes=[32, 98, 97, 115, 101, 100], logprob=-0.2370405), TopLogprob(token=' using', bytes=[32, 117, 115, 105, 110, 103], logprob=-1.7370405), TopLogprob(token=' by', bytes=[32, 98, 121], logprob=-4.2370405), TopLogprob(token=' when', bytes=[32, 119, 104, 101, 110], logprob=-4.2370405), TopLogprob(token=' with', bytes=[32, 119, 105, 116, 104], logprob=-6.1120405)]",
         "[-0.2370405, -1.7370405, -4.2370405, -4.2370405, -6.1120405]",
         "[0.7920351474789246, 0.17672692930015765, 0.014506629748409302, 0.014506629748409302, 0.0022246637240989618]"
        ],
        [
         "39",
         " on",
         "-1.4617256e-05",
         "[TopLogprob(token=' on', bytes=[32, 111, 110], logprob=-1.4617256e-05), TopLogprob(token=' upon', bytes=[32, 117, 112, 111, 110], logprob=-11.625014), TopLogprob(token=' primarily', bytes=[32, 112, 114, 105, 109, 97, 114, 105, 108, 121], logprob=-12.500014), TopLogprob(token=' either', bytes=[32, 101, 105, 116, 104, 101, 114], logprob=-13.375014), TopLogprob(token=' mainly', bytes=[32, 109, 97, 105, 110, 108, 121], logprob=-16.375015)]",
         "[-1.4617256e-05, -11.625014, -12.500014, -13.375014, -16.375015]",
         "[0.9999857029218788, 8.939653929057898e-06, 3.726602192093989e-06, 1.553478916334657e-06, 7.734308367246634e-08]"
        ],
        [
         "40",
         " elevated",
         "-0.8499485",
         "[TopLogprob(token=' elevated', bytes=[32, 101, 108, 101, 118, 97, 116, 101, 100], logprob=-0.8499485), TopLogprob(token=' an', bytes=[32, 97, 110], logprob=-2.0999484), TopLogprob(token=' criteria', bytes=[32, 99, 114, 105, 116, 101, 114, 105, 97], logprob=-2.0999484), TopLogprob(token=' a', bytes=[32, 97], logprob=-2.5999484), TopLogprob(token=' changes', bytes=[32, 99, 104, 97, 110, 103, 101, 115], logprob=-2.8499484)]",
         "[-0.8499485, -2.0999484, -2.0999484, -2.5999484, -2.8499484]",
         "[0.531316058417146, 0.152224614607822, 0.152224614607822, 0.09232889592258363, 0.07190581644462637]"
        ],
        [
         "41",
         " serum",
         "-0.48462456",
         "[TopLogprob(token=' serum', bytes=[32, 115, 101, 114, 117, 109], logprob=-0.48462456), TopLogprob(token=' creat', bytes=[32, 99, 114, 101, 97, 116], logprob=-0.98462456), TopLogprob(token=' levels', bytes=[32, 108, 101, 118, 101, 108, 115], logprob=-5.2346244), TopLogprob(token=' Creat', bytes=[32, 67, 114, 101, 97, 116], logprob=-5.8596244), TopLogprob(token=' blood', bytes=[32, 98, 108, 111, 111, 100], logprob=-6.2346244)]",
         "[-0.48462456, -0.98462456, -5.2346244, -5.8596244, -6.2346244]",
         "[0.6161444420259292, 0.37371049490025926, 0.005330694766416266, 0.002853315295670675, 0.001961053011724748]"
        ],
        [
         "42",
         " creat",
         "-0.0013269031",
         "[TopLogprob(token=' creat', bytes=[32, 99, 114, 101, 97, 116], logprob=-0.0013269031), TopLogprob(token=' Creat', bytes=[32, 67, 114, 101, 97, 116], logprob=-6.626327), TopLogprob(token=' levels', bytes=[32, 108, 101, 118, 101, 108, 115], logprob=-13.876327), TopLogprob(token=' Cr', bytes=[32, 67, 114], logprob=-17.251328), TopLogprob(token=' markers', bytes=[32, 109, 97, 114, 107, 101, 114, 115], logprob=-17.501328)]",
         "[-0.0013269031, -6.626327, -13.876327, -17.251328, -17.501328]",
         "[0.9986739807620422, 0.0013250209662563658, 9.409959549146793e-07, 3.2199078716974805e-08, 2.5076667718957784e-08]"
        ],
        [
         "43",
         "inine",
         "0.0",
         "[TopLogprob(token='inine', bytes=[105, 110, 105, 110, 101], logprob=0.0), TopLogprob(token='ine', bytes=[105, 110, 101], logprob=-19.0), TopLogprob(token='in', bytes=[105, 110], logprob=-25.125), TopLogprob(token='anine', bytes=[97, 110, 105, 110, 101], logprob=-25.625), TopLogprob(token='inin', bytes=[105, 110, 105, 110], logprob=-25.875)]",
         "[0.0, -19.0, -25.125, -25.625, -25.875]",
         "[0.9999999943717246, 5.602796406003187e-09, 1.2256067375118961e-11, 7.433680630513386e-12, 5.78935629614656e-12]"
        ],
        [
         "44",
         " levels",
         "-0.15361524",
         "[TopLogprob(token=' levels', bytes=[32, 108, 101, 118, 101, 108, 115], logprob=-0.15361524), TopLogprob(token=' (', bytes=[32, 40], logprob=-3.0286152), TopLogprob(token=' (>', bytes=[32, 40, 62], logprob=-3.2786152), TopLogprob(token=' or', bytes=[32, 111, 114], logprob=-3.4036152), TopLogprob(token=' and', bytes=[32, 97, 110, 100], logprob=-4.653615)]",
         "[-0.15361524, -3.0286152, -3.2786152, -3.4036152, -4.653615]",
         "[0.8693865881363141, 0.049047437000908765, 0.03819818234395314, 0.033709777602900226, 0.009658014915923899]"
        ],
        [
         "45",
         " or",
         "-1.16738",
         "[TopLogprob(token=' or', bytes=[32, 111, 114], logprob=-1.16738), TopLogprob(token=' (', bytes=[32, 40], logprob=-1.29238), TopLogprob(token=' (>', bytes=[32, 40, 62], logprob=-1.41738), TopLogprob(token=' and', bytes=[32, 97, 110, 100], logprob=-2.4173799), TopLogprob(token=',', bytes=[44], logprob=-2.6673799)]",
         "[-1.16738, -1.29238, -1.41738, -2.4173799, -2.6673799]",
         "[0.3153646250547878, 0.27830830479560253, 0.24560621694568874, 0.09035348687356026, 0.07036736633036064]"
        ],
        [
         "46",
         " significantly",
         "-2.474496",
         "[TopLogprob(token=' reduced', bytes=[32, 114, 101, 100, 117, 99, 101, 100], logprob=-0.4744959), TopLogprob(token=' decreased', bytes=[32, 100, 101, 99, 114, 101, 97, 115, 101, 100], logprob=-1.4744959), TopLogprob(token=' significantly', bytes=[32, 115, 105, 103, 110, 105, 102, 105, 99, 97, 110, 116, 108, 121], logprob=-2.474496), TopLogprob(token=' a', bytes=[32, 97], logprob=-2.974496), TopLogprob(token=' significant', bytes=[32, 115, 105, 103, 110, 105, 102, 105, 99, 97, 110, 116], logprob=-4.974496)]",
         "[-0.4744959, -1.4744959, -2.474496, -2.974496, -4.974496]",
         "[0.6264060087221538, 0.23044189243513954, 0.08477482613404573, 0.05141853122210655, 0.0069587414865544]"
        ],
        [
         "47",
         " reduced",
         "-0.12868026",
         "[TopLogprob(token=' reduced', bytes=[32, 114, 101, 100, 117, 99, 101, 100], logprob=-0.12868026), TopLogprob(token=' decreased', bytes=[32, 100, 101, 99, 114, 101, 97, 115, 101, 100], logprob=-2.1286802), TopLogprob(token=' diminished', bytes=[32, 100, 105, 109, 105, 110, 105, 115, 104, 101, 100], logprob=-7.00368), TopLogprob(token=' low', bytes=[32, 108, 111, 119], logprob=-7.12868), TopLogprob(token=' lowered', bytes=[32, 108, 111, 119, 101, 114, 101, 100], logprob=-11.12868)]",
         "[-0.12868026, -2.1286802, -7.00368, -7.12868, -11.12868]",
         "[0.879277662504952, 0.11899729863857213, 0.0009085557686064501, 0.0008017976516205585, 1.4685436248917244e-05]"
        ],
        [
         "48",
         " urine",
         "-0.0003396343",
         "[TopLogprob(token=' urine', bytes=[32, 117, 114, 105, 110, 101], logprob=-0.0003396343), TopLogprob(token=' urinary', bytes=[32, 117, 114, 105, 110, 97, 114, 121], logprob=-8.0003395), TopLogprob(token=' Ur', bytes=[32, 85, 114], logprob=-13.1253395), TopLogprob(token=' kidney', bytes=[32, 107, 105, 100, 110, 101, 121], logprob=-14.0003395), TopLogprob(token=' hourly', bytes=[32, 104, 111, 117, 114, 108, 121], logprob=-14.1253395)]",
         "[-0.0003396343, -8.0003395, -13.1253395, -14.0003395, -14.1253395]",
         "[0.9996610921401053, 0.00033534898201857986, 1.994057937354126e-06, 8.312470191214016e-07, 7.335729196573148e-07]"
        ],
        [
         "49",
         " output",
         "-6.6306106e-06",
         "[TopLogprob(token=' output', bytes=[32, 111, 117, 116, 112, 117, 116], logprob=-6.6306106e-06), TopLogprob(token=' outputs', bytes=[32, 111, 117, 116, 112, 117, 116, 115], logprob=-12.125007), TopLogprob(token=' production', bytes=[32, 112, 114, 111, 100, 117, 99, 116, 105, 111, 110], logprob=-13.750007), TopLogprob(token=' volume', bytes=[32, 118, 111, 108, 117, 109, 101], logprob=-16.875006), TopLogprob(token='-output', bytes=[45, 111, 117, 116, 112, 117, 116], logprob=-18.687506)]",
         "[-6.6306106e-06, -12.125007, -13.750007, -16.875006, -18.687506]",
         "[0.9999934555230576, 5.422210881947117e-06, 1.067696628074617e-06, 4.6911362788989755e-08, 7.658069458402188e-09]"
        ]
       ],
       "shape": {
        "columns": 5,
        "rows": 183
       }
      },
      "text/html": [
       "<div>\n",
       "<style scoped>\n",
       "    .dataframe tbody tr th:only-of-type {\n",
       "        vertical-align: middle;\n",
       "    }\n",
       "\n",
       "    .dataframe tbody tr th {\n",
       "        vertical-align: top;\n",
       "    }\n",
       "\n",
       "    .dataframe thead th {\n",
       "        text-align: right;\n",
       "    }\n",
       "</style>\n",
       "<table border=\"1\" class=\"dataframe\">\n",
       "  <thead>\n",
       "    <tr style=\"text-align: right;\">\n",
       "      <th></th>\n",
       "      <th>token</th>\n",
       "      <th>logprob</th>\n",
       "      <th>top_logprobs</th>\n",
       "      <th>top_logprobs_lists</th>\n",
       "      <th>top_logprobs_probs</th>\n",
       "    </tr>\n",
       "  </thead>\n",
       "  <tbody>\n",
       "    <tr>\n",
       "      <th>0</th>\n",
       "      <td>```</td>\n",
       "      <td>-0.04864641</td>\n",
       "      <td>[TopLogprob(token='```', bytes=[96, 96, 96], l...</td>\n",
       "      <td>[-0.048646413, -3.0486465, -10.548646, -10.798...</td>\n",
       "      <td>[0.9525263055646706, 0.04742348817149348, 2.62...</td>\n",
       "    </tr>\n",
       "    <tr>\n",
       "      <th>1</th>\n",
       "      <td>json</td>\n",
       "      <td>-0.00000043</td>\n",
       "      <td>[TopLogprob(token='json', bytes=[106, 115, 111...</td>\n",
       "      <td>[-4.3202e-07, -14.75, -20.0, -20.25, -21.125]</td>\n",
       "      <td>[0.9999996028780911, 3.927863682555673e-07, 2....</td>\n",
       "    </tr>\n",
       "    <tr>\n",
       "      <th>2</th>\n",
       "      <td>\\n</td>\n",
       "      <td>-0.00000055</td>\n",
       "      <td>[TopLogprob(token='\\n', bytes=[10], logprob=-5...</td>\n",
       "      <td>[-5.5122365e-07, -15.000001, -15.875001, -19.1...</td>\n",
       "      <td>[0.9999995598155925, 3.0590204856675866e-07, 1...</td>\n",
       "    </tr>\n",
       "    <tr>\n",
       "      <th>3</th>\n",
       "      <td>{\\n</td>\n",
       "      <td>0.00000000</td>\n",
       "      <td>[TopLogprob(token='{\\n', bytes=[123, 10], logp...</td>\n",
       "      <td>[0.0, -17.25, -22.125, -22.875, -24.875]</td>\n",
       "      <td>[0.9999999673799445, 3.2241866320835826e-08, 2...</td>\n",
       "    </tr>\n",
       "    <tr>\n",
       "      <th>4</th>\n",
       "      <td></td>\n",
       "      <td>-0.00000329</td>\n",
       "      <td>[TopLogprob(token=' ', bytes=[32], logprob=-3....</td>\n",
       "      <td>[-3.2929079e-06, -12.875003, -14.375003, -15.7...</td>\n",
       "      <td>[0.9999966695647478, 2.561280990954953e-06, 5....</td>\n",
       "    </tr>\n",
       "    <tr>\n",
       "      <th>...</th>\n",
       "      <td>...</td>\n",
       "      <td>...</td>\n",
       "      <td>...</td>\n",
       "      <td>...</td>\n",
       "      <td>...</td>\n",
       "    </tr>\n",
       "    <tr>\n",
       "      <th>178</th>\n",
       "      <td>kidney</td>\n",
       "      <td>-2.34647100</td>\n",
       "      <td>[TopLogprob(token=' AK', bytes=[32, 65, 75], l...</td>\n",
       "      <td>[-0.22147098, -2.346471, -3.221471, -3.721471,...</td>\n",
       "      <td>[0.8132628209299555, 0.09713039074202238, 0.04...</td>\n",
       "    </tr>\n",
       "    <tr>\n",
       "      <th>179</th>\n",
       "      <td>injury</td>\n",
       "      <td>-0.44135475</td>\n",
       "      <td>[TopLogprob(token=' injury', bytes=[32, 105, 1...</td>\n",
       "      <td>[-0.44135475, -1.1913548, -3.6913548, -3.69135...</td>\n",
       "      <td>[0.6442873739747746, 0.30433979060203536, 0.02...</td>\n",
       "    </tr>\n",
       "    <tr>\n",
       "      <th>180</th>\n",
       "      <td>.\"\\n</td>\n",
       "      <td>-0.29979340</td>\n",
       "      <td>[TopLogprob(token='.\"\\n', bytes=[46, 34, 10], ...</td>\n",
       "      <td>[-0.2997934, -1.5497934, -4.0497932, -4.299793...</td>\n",
       "      <td>[0.743769984879595, 0.21309366842863503, 0.017...</td>\n",
       "    </tr>\n",
       "    <tr>\n",
       "      <th>181</th>\n",
       "      <td>}\\n</td>\n",
       "      <td>0.00000000</td>\n",
       "      <td>[TopLogprob(token='}\\n', bytes=[125, 10], logp...</td>\n",
       "      <td>[0.0, -16.875, -20.0, -20.375, -21.875]</td>\n",
       "      <td>[0.9999999492945119, 4.6911637839666563e-08, 2...</td>\n",
       "    </tr>\n",
       "    <tr>\n",
       "      <th>182</th>\n",
       "      <td>```</td>\n",
       "      <td>-0.00000150</td>\n",
       "      <td>[TopLogprob(token='```', bytes=[96, 96, 96], l...</td>\n",
       "      <td>[-1.504853e-06, -13.500002, -22.250002, -26.75...</td>\n",
       "      <td>[0.9999986288223518, 1.3709565277304476e-06, 2...</td>\n",
       "    </tr>\n",
       "  </tbody>\n",
       "</table>\n",
       "<p>183 rows × 5 columns</p>\n",
       "</div>"
      ],
      "text/plain": [
       "       token     logprob                                       top_logprobs  \\\n",
       "0        ``` -0.04864641  [TopLogprob(token='```', bytes=[96, 96, 96], l...   \n",
       "1       json -0.00000043  [TopLogprob(token='json', bytes=[106, 115, 111...   \n",
       "2         \\n -0.00000055  [TopLogprob(token='\\n', bytes=[10], logprob=-5...   \n",
       "3        {\\n  0.00000000  [TopLogprob(token='{\\n', bytes=[123, 10], logp...   \n",
       "4            -0.00000329  [TopLogprob(token=' ', bytes=[32], logprob=-3....   \n",
       "..       ...         ...                                                ...   \n",
       "178   kidney -2.34647100  [TopLogprob(token=' AK', bytes=[32, 65, 75], l...   \n",
       "179   injury -0.44135475  [TopLogprob(token=' injury', bytes=[32, 105, 1...   \n",
       "180     .\"\\n -0.29979340  [TopLogprob(token='.\"\\n', bytes=[46, 34, 10], ...   \n",
       "181      }\\n  0.00000000  [TopLogprob(token='}\\n', bytes=[125, 10], logp...   \n",
       "182      ``` -0.00000150  [TopLogprob(token='```', bytes=[96, 96, 96], l...   \n",
       "\n",
       "                                    top_logprobs_lists  \\\n",
       "0    [-0.048646413, -3.0486465, -10.548646, -10.798...   \n",
       "1        [-4.3202e-07, -14.75, -20.0, -20.25, -21.125]   \n",
       "2    [-5.5122365e-07, -15.000001, -15.875001, -19.1...   \n",
       "3             [0.0, -17.25, -22.125, -22.875, -24.875]   \n",
       "4    [-3.2929079e-06, -12.875003, -14.375003, -15.7...   \n",
       "..                                                 ...   \n",
       "178  [-0.22147098, -2.346471, -3.221471, -3.721471,...   \n",
       "179  [-0.44135475, -1.1913548, -3.6913548, -3.69135...   \n",
       "180  [-0.2997934, -1.5497934, -4.0497932, -4.299793...   \n",
       "181            [0.0, -16.875, -20.0, -20.375, -21.875]   \n",
       "182  [-1.504853e-06, -13.500002, -22.250002, -26.75...   \n",
       "\n",
       "                                    top_logprobs_probs  \n",
       "0    [0.9525263055646706, 0.04742348817149348, 2.62...  \n",
       "1    [0.9999996028780911, 3.927863682555673e-07, 2....  \n",
       "2    [0.9999995598155925, 3.0590204856675866e-07, 1...  \n",
       "3    [0.9999999673799445, 3.2241866320835826e-08, 2...  \n",
       "4    [0.9999966695647478, 2.561280990954953e-06, 5....  \n",
       "..                                                 ...  \n",
       "178  [0.8132628209299555, 0.09713039074202238, 0.04...  \n",
       "179  [0.6442873739747746, 0.30433979060203536, 0.02...  \n",
       "180  [0.743769984879595, 0.21309366842863503, 0.017...  \n",
       "181  [0.9999999492945119, 4.6911637839666563e-08, 2...  \n",
       "182  [0.9999986288223518, 1.3709565277304476e-06, 2...  \n",
       "\n",
       "[183 rows x 5 columns]"
      ]
     },
     "execution_count": 69,
     "metadata": {},
     "output_type": "execute_result"
    }
   ],
   "source": [
    "from scipy.special import softmax\n",
    "pd.options.display.float_format = \"{:.8f}\".format\n",
    "logprobs_df[\"top_logprobs_probs\"] = [softmax(x).tolist() for x in logprobs_df[\"top_logprobs_lists\"]]\n",
    "# logprobs_df[\"top_logprobs_probs\"] = logprobs_df[\"top_logprobs_probs\"].apply(\n",
    "#     lambda probs: [round(prob, 8) for prob in probs]\n",
    "# )\n",
    "logprobs_df"
   ]
  },
  {
   "cell_type": "code",
   "execution_count": null,
   "id": "09486d81",
   "metadata": {},
   "outputs": [],
   "source": [
    "[\n",
    "    TopLogprob(token=\"no\", bytes=[110, 111], logprob=0.0),\n",
    "    TopLogprob(token=\"No\", bytes=[78, 111], logprob=-24.75),\n",
    "    TopLogprob(token=\"not\", bytes=[110, 111, 116], logprob=-25.75),\n",
    "    TopLogprob(token=\"NO\", bytes=[78, 79], logprob=-26.125),\n",
    "    TopLogprob(token=\"non\", bytes=[110, 111, 110], logprob=-26.5),\n",
    "]"
   ]
  }
 ],
 "metadata": {
  "kernelspec": {
   "display_name": ".venv",
   "language": "python",
   "name": "python3"
  },
  "language_info": {
   "codemirror_mode": {
    "name": "ipython",
    "version": 3
   },
   "file_extension": ".py",
   "mimetype": "text/x-python",
   "name": "python",
   "nbconvert_exporter": "python",
   "pygments_lexer": "ipython3",
   "version": "3.12.2"
  }
 },
 "nbformat": 4,
 "nbformat_minor": 5
}
