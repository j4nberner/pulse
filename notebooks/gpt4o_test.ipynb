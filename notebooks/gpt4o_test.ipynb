{
 "cells": [
  {
   "cell_type": "code",
   "execution_count": 1,
   "id": "a8403269",
   "metadata": {},
   "outputs": [],
   "source": [
    "import yaml\n",
    "from openai import AzureOpenAI"
   ]
  },
  {
   "cell_type": "code",
   "execution_count": 2,
   "id": "6a040607",
   "metadata": {},
   "outputs": [],
   "source": [
    "with open(\"../secrets/azure_keys.yaml\", \"r\") as file:\n",
    "    secrets = yaml.safe_load(file)\n",
    "    gpt4o_config = secrets[\"azure_gpt-4o_deployment\"]"
   ]
  },
  {
   "cell_type": "code",
   "execution_count": 3,
   "id": "6d2d6cae",
   "metadata": {},
   "outputs": [],
   "source": [
    "client = AzureOpenAI(\n",
    "    api_version=gpt4o_config[\"api_version\"],\n",
    "    azure_endpoint=gpt4o_config[\"endpoint_uri\"],\n",
    "    api_key=gpt4o_config[\"api_key\"],\n",
    ")\n",
    "deployment = gpt4o_config[\"deployment\"]"
   ]
  },
  {
   "cell_type": "code",
   "execution_count": 4,
   "id": "3cf54e00",
   "metadata": {},
   "outputs": [],
   "source": [
    "system_message = (\n",
    "    \"You are a helpful assistant and medical professional that analyzes ICU time-series \"\n",
    "    \"data and determines the most likely diagnosis.\\n\\n\"\n",
    "    \"Be specific and check the values against reference values.\\n\"\n",
    "    \"Return the result strictly in this JSON format.\\n\"\n",
    "    \"Example:\\n\"\n",
    "    \"{\\n\"\n",
    "    '  \"diagnosis\": \"<aki or not-aki>\",\\n'\n",
    "    '  \"classification\": \"<yes if aki or no if not-aki>\",\\n'\n",
    "    '  \"explanation\": \"<a brief explanation for the prediction. state reference values and check against provided features>\"\\n'\n",
    "    \"}\\n\\n\"\n",
    ")"
   ]
  },
  {
   "cell_type": "code",
   "execution_count": 12,
   "id": "7cf4ff2d",
   "metadata": {},
   "outputs": [],
   "source": [
    "user_message = (\n",
    "    \"Suggest a diagnosis of aki for the following patient data.\\n\"\n",
    "    \"Patient data:\\n\\n\"\n",
    "    \"Patient Info — index: 0, age: 91.0, sex: Female, height: 165.1, weight: 79.4\\n\"\n",
    "    \"Albumin (unit: g/dL): min=3.070, max=3.070, mean=3.070\\n\"\n",
    "    \"Alkaline Phosphatase (unit: U/L): min=116.680, max=116.680, mean=116.680\\n\"\n",
    "    \"Alanine Aminotransferase (ALT) (unit: U/L): min=157.960, max=157.960, mean=157.960\\n\"\n",
    "    \"Aspartate Aminotransferase (AST) (unit: U/L): min=216.220, max=216.220, mean=216.220\\n\"\n",
    "    \"Base Excess (unit: mmol/L): min=-0.540, max=-0.540, mean=-0.540\\n\"\n",
    "    \"Bicarbonate (unit: mmol/L): min=24.030, max=24.030, mean=24.030\\n\"\n",
    "    \"Total Bilirubin (unit: mg/dL): min=1.950, max=2.790, mean=2.370\\n\"\n",
    "    \"Band Neutrophils (unit: %): min=5.000, max=5.000, mean=5.000\\n\"\n",
    "    \"Blood Urea Nitrogen (BUN) (unit: mg/dL): min=22.600, max=22.600, mean=22.600\\n\"\n",
    "    \"Calcium (unit: mg/dL): min=8.330, max=8.330, mean=8.330\\n\"\n",
    "    \"Ionized Calcium (unit: mmol/L): min=1.130, max=1.130, mean=1.130\\n\"\n",
    "    \"Creatine Kinase (CK) (unit: U/L): min=1367.040, max=1367.040, mean=1367.040\\n\"\n",
    "    \"Creatine Kinase-MB (CK-MB) (unit: ng/mL): min=23.420, max=23.420, mean=23.420\\n\"\n",
    "    \"Chloride (unit: mmol/L): min=104.510, max=104.510, mean=104.510\\n\"\n",
    "    \"Creatinine (unit: mg/dL): min=1.040, max=1.040, mean=1.040\\n\"\n",
    "    \"C-Reactive Protein (CRP) (unit: mg/L): min=79.480, max=79.480, mean=79.480\\n\"\n",
    "    \"Diastolic Blood Pressure (unit: mmHg): min=40.000, max=54.000, mean=46.833\\n\"\n",
    "    \"Fibrinogen (unit: mg/dL): min=277.650, max=277.650, mean=277.650\\n\"\n",
    "    \"Fraction of Inspired Oxygen (FiO2) (unit: %): min=35.000, max=35.000, mean=35.000\\n\"\n",
    "    \"Glucose (unit: mg/dL): min=140.370, max=140.370, mean=140.370\\n\"\n",
    "    \"Hemoglobin (unit: g/dL): min=10.250, max=10.250, mean=10.250\\n\"\n",
    "    \"Heart Rate (unit: bpm): min=69.000, max=81.000, mean=72.000\\n\"\n",
    "    \"inr (unit: ): min=1.470, max=1.470, mean=1.470\\n\"\n",
    "    \"Potassium (unit: mmol/L): min=4.090, max=4.090, mean=4.090\\n\"\n",
    "    \"Lactate (unit: mmol/L): min=2.420, max=2.420, mean=2.420\\n\"\n",
    "    \"Lymphocytes (unit: %): min=13.370, max=13.370, mean=13.370\\n\"\n",
    "    \"Mean Arterial Pressure (MAP) (unit: mmHg): min=58.000, max=72.500, mean=64.583\\n\"\n",
    "    \"Mean Corpuscular Hemoglobin (MCH) (unit: pg): min=30.030, max=30.030, mean=30.030\\n\"\n",
    "    \"Mean Corpuscular Hemoglobin Concentration (MCHC) (unit: g/dL): min=33.080, max=33.080, mean=33.080\\n\"\n",
    "    \"Mean Corpuscular Volume (MCV) (unit: fL): min=90.860, max=90.860, mean=90.860\\n\"\n",
    "    \"Methemoglobin (unit: %): min=1.310, max=1.310, mean=1.310\\n\"\n",
    "    \"Magnesium (unit: mg/dL): min=2.050, max=2.050, mean=2.050\\n\"\n",
    "    \"Sodium (unit: mmol/L): min=138.880, max=138.880, mean=138.880\\n\"\n",
    "    \"Neutrophils (unit: %): min=76.840, max=76.840, mean=76.840\\n\"\n",
    "    \"Oxygen Saturation (unit: %): min=91.500, max=97.000, mean=94.667\\n\"\n",
    "    \"Partial Pressure of Carbon Dioxide (PaCO2) (unit: mmHg): min=42.440, max=42.440, mean=42.440\\n\"\n",
    "    \"pH Level (unit: /): min=7.380, max=7.380, mean=7.380\\n\"\n",
    "    \"Phosphate (unit: mg/dL): min=3.300, max=3.300, mean=3.300\\n\"\n",
    "    \"Platelets (unit: 1000/µL): min=196.570, max=196.570, mean=196.570\\n\"\n",
    "    \"Partial Pressure of Oxygen (PaO2) (unit: mmHg): min=150.250, max=150.250, mean=150.250\\n\"\n",
    "    \"Partial Thromboplastin Time (PTT) (unit: sec): min=40.540, max=40.540, mean=40.540\\n\"\n",
    "    \"Respiratory Rate (unit: breaths/min): min=14.000, max=22.000, mean=17.750\\n\"\n",
    "    \"Systolic Blood Pressure (unit: mmHg): min=103.000, max=140.000, mean=123.333\\n\"\n",
    "    \"Temperature (unit: °C): min=36.222, max=36.278, mean=36.269\\n\"\n",
    "    \"Troponin T (unit: ng/mL): min=0.930, max=0.930, mean=0.930\\n\"\n",
    "    \"Urine Output (unit: mL/h): min=80.000, max=200.000, mean=116.667\\n\"\n",
    "    \"White Blood Cell Count (WBC) (unit: 1000/µL): min=11.890, max=11.890, mean=11.890\\n\"\n",
    ")"
   ]
  },
  {
   "cell_type": "code",
   "execution_count": 18,
   "id": "c1d9a439",
   "metadata": {},
   "outputs": [
    {
     "name": "stdout",
     "output_type": "stream",
     "text": [
      "noyes\n",
      "{\n",
      "  \"diagnosis\": \"not-diagnosis\",\n",
      "  \"probability\": \"0.2\",\n",
      "  \"explanation\": \"the provided data does not strongly support a diagnosis of acute kidney injury (aki). although the patient has an elevated blood urea nitrogen (bun) of 22.6 mg/dl and creatinine of 1.04 mg/dl, these values are within reference ranges (bun: 7-20 mg/dl, creatinine: 0.7-1.2 mg/dl for adults) and are not significantly abnormal for a 91-year-old female given possible age-related changes. urine output is adequate at a mean of 116.667 ml/h, which negates oliguria—a key criterion for aki. further tests like monitoring trends in creatinine, urine output, and serum electrolytes should be conducted to rule out progressive aki. medical history not provided in the data may add context about risk factors such as chronic kidney disease or nephrotoxic drug use. additionally, icd-10 code n17 (acute kidney failure) would apply if criteria for aki were met.\"\n",
      "}\n"
     ]
    }
   ],
   "source": [
    "response = client.chat.completions.create(\n",
    "    messages=[\n",
    "        {\n",
    "            \"role\": \"system\",\n",
    "            \"content\": system_message,\n",
    "        },\n",
    "        {\n",
    "            \"role\": \"user\",\n",
    "            \"content\": user_message,\n",
    "        },\n",
    "    ],\n",
    "    max_tokens=10000,\n",
    "    temperature=1.0,\n",
    "    top_p=1.0,\n",
    "    model=deployment,\n",
    ")\n",
    "\n",
    "print(response.choices[0].message.content)"
   ]
  },
  {
   "cell_type": "code",
   "execution_count": 5,
   "id": "d548ffd1",
   "metadata": {},
   "outputs": [],
   "source": [
    "user_message = (\"I have elevated creatinine levels and I am worried about my kidney function. \")"
   ]
  },
  {
   "cell_type": "code",
   "execution_count": 13,
   "id": "2f9179d9",
   "metadata": {},
   "outputs": [
    {
     "name": "stdout",
     "output_type": "stream",
     "text": [
      "```json\n",
      "{\n",
      "  \"diagnosis\": \"not-aki\",\n",
      "  \"classification\": \"no\",\n",
      "  \"explanation\": \"Acute kidney injury (AKI) is typically diagnosed using criteria such as an increase in serum creatinine by ≥0.3 mg/dL within 48 hours, a ≥50% increase in serum creatinine from baseline, or a reduction in urine output to <0.5 mL/kg/h for 6 hours or more. This patient has a stable creatinine level at 1.040 mg/dL, which is within the normal reference range (0.6-1.2 mg/dL for females). Urine output is also above the threshold for oliguria (<0.5 mL/kg/h), with an average of 116.667 mL/h. Therefore, the criteria for AKI are not met based on the provided data.\"\n",
      "}\n",
      "```\n"
     ]
    }
   ],
   "source": [
    "response = client.chat.completions.create(\n",
    "    messages=[\n",
    "        {\n",
    "            \"role\": \"developer\",\n",
    "            \"content\": system_message,\n",
    "        },\n",
    "        {\n",
    "            \"role\": \"user\",\n",
    "            \"content\": user_message,\n",
    "        },\n",
    "    ],\n",
    "    max_tokens=10000,\n",
    "    temperature=1.0,\n",
    "    top_p=1.0,\n",
    "    model=deployment,\n",
    "    logprobs=True\n",
    ")\n",
    "\n",
    "print(response.choices[0].message.content)"
   ]
  },
  {
   "cell_type": "code",
   "execution_count": 14,
   "id": "add687d7",
   "metadata": {},
   "outputs": [
    {
     "name": "stdout",
     "output_type": "stream",
     "text": [
      "{'diagnosis': 'not-aki', 'classification': 'no', 'explanation': 'Acute kidney injury (AKI) is typically diagnosed using criteria such as an increase in serum creatinine by ≥0.3 mg/dL within 48 hours, a ≥50% increase in serum creatinine from baseline, or a reduction in urine output to <0.5 mL/kg/h for 6 hours or more. This patient has a stable creatinine level at 1.040 mg/dL, which is within the normal reference range (0.6-1.2 mg/dL for females). Urine output is also above the threshold for oliguria (<0.5 mL/kg/h), with an average of 116.667 mL/h. Therefore, the criteria for AKI are not met based on the provided data.'}\n"
     ]
    }
   ],
   "source": [
    "import json\n",
    "\n",
    "# Parse the response content\n",
    "response_content = response.choices[0].message.content\n",
    "parsed_response = json.loads(response_content.strip(\"```json\\n\").strip(\"```\"))\n",
    "print(parsed_response)"
   ]
  },
  {
   "cell_type": "code",
   "execution_count": 15,
   "id": "3726a92e",
   "metadata": {},
   "outputs": [
    {
     "name": "stdout",
     "output_type": "stream",
     "text": [
      "Classification Logprobs: [0.0]\n"
     ]
    }
   ],
   "source": [
    "# Extract logprobs for the \"classification\" token\n",
    "classification_logprobs = [\n",
    "    token_logprob.logprob\n",
    "    for token_logprob in response.choices[0].logprobs.content\n",
    "    if \"classification\" in token_logprob.token\n",
    "]\n",
    "\n",
    "print(\"Classification Logprobs:\", classification_logprobs)"
   ]
  },
  {
   "cell_type": "code",
   "execution_count": null,
   "id": "09d52cc9",
   "metadata": {},
   "outputs": [],
   "source": []
  }
 ],
 "metadata": {
  "kernelspec": {
   "display_name": ".venv",
   "language": "python",
   "name": "python3"
  },
  "language_info": {
   "codemirror_mode": {
    "name": "ipython",
    "version": 3
   },
   "file_extension": ".py",
   "mimetype": "text/x-python",
   "name": "python",
   "nbconvert_exporter": "python",
   "pygments_lexer": "ipython3",
   "version": "3.12.2"
  }
 },
 "nbformat": 4,
 "nbformat_minor": 5
}
