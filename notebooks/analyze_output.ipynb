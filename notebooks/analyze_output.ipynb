{
 "cells": [
  {
   "cell_type": "code",
   "execution_count": 1,
   "id": "1d299e03",
   "metadata": {},
   "outputs": [],
   "source": [
    "import pandas as pd\n",
    "import numpy as np\n",
    "import matplotlib.pyplot as plt\n",
    "import os\n",
    "import re\n",
    "import glob\n",
    "import sys\n",
    "sys.path.append(r\"C:\\Users\\janbe\\Documents\\GitHub Repos\\pulse\")\n",
    "from src.eval.metrics import calculate_mcc"
   ]
  },
  {
   "cell_type": "code",
   "execution_count": 2,
   "id": "84947757",
   "metadata": {},
   "outputs": [],
   "source": [
    "def categorize_files(outputfolder_path_list):\n",
    "    \"\"\"\n",
    "    Categorize files in the output folders into metrics report files, metadata files, and log files.\n",
    "\n",
    "    Args:\n",
    "        outputfolder_path_list (list): List of output folder paths.\n",
    "\n",
    "    Returns:\n",
    "        dict: A dictionary containing categorized files.\n",
    "    \"\"\"\n",
    "    file_list = []\n",
    "    for outputfolder_path in outputfolder_path_list:\n",
    "        file_list.extend(glob.glob(os.path.join(outputfolder_path, \"*\")))\n",
    "\n",
    "    categorized_files = {\n",
    "        \"metrics_report_files\": [f for f in file_list if \"metrics_report\" in f],\n",
    "        \"metadata_files\": [f for f in file_list if \"metadata\" in f],\n",
    "        \"log_files\": [f for f in file_list if \"log\" in f],\n",
    "        \"prediction_files\": [f for f in file_list if \"predictions\" in f],\n",
    "    }\n",
    "\n",
    "    print(\"Metrics Report Files:\")\n",
    "    for file in categorized_files[\"metrics_report_files\"]:\n",
    "        print(file)\n",
    "    print(\"\\nMetadata Files:\")\n",
    "    for file in categorized_files[\"metadata_files\"]:\n",
    "        print(file)\n",
    "    print(\"\\nLog Files:\")\n",
    "    for file in categorized_files[\"log_files\"]:\n",
    "        print(file)\n",
    "    print(\"\\nPrediction Files:\")\n",
    "    for file in categorized_files[\"prediction_files\"]:\n",
    "        print(file)\n",
    "\n",
    "    return categorized_files\n",
    "    "
   ]
  },
  {
   "cell_type": "code",
   "execution_count": 3,
   "id": "757f1816",
   "metadata": {},
   "outputs": [],
   "source": [
    "def get_predictions_by_model_task_dataset(df, model, task, dataset):\n",
    "    \"\"\"\n",
    "    Filter predictions DataFrame by model, task, and dataset.\n",
    "\n",
    "    Args:\n",
    "        df (DataFrame): DataFrame containing predictions.\n",
    "        model (str): Model name to filter by.\n",
    "        task (str): Task name to filter by.\n",
    "        dataset (str): Dataset name to filter by.\n",
    "\n",
    "    Returns:\n",
    "        DataFrame: Filtered DataFrame with predictions.\n",
    "    \"\"\"\n",
    "    return df[(df['model'] == model) & (df['task'] == task) & (df['dataset'] == dataset)]"
   ]
  },
  {
   "cell_type": "code",
   "execution_count": 4,
   "id": "cdb516a2",
   "metadata": {},
   "outputs": [],
   "source": [
    "def get_predictions_by_task_dataset(df, task, dataset):\n",
    "    \"\"\"\n",
    "    Filter predictions DataFrame by task and dataset.\n",
    "\n",
    "    Args:\n",
    "        df (DataFrame): DataFrame containing predictions.\n",
    "        task (str): Task name to filter by.\n",
    "        dataset (str): Dataset name to filter by.\n",
    "\n",
    "    Returns:\n",
    "        DataFrame: Filtered DataFrame with predictions.\n",
    "    \"\"\"\n",
    "    return df[(df[\"task\"] == task) & (df[\"dataset\"] == dataset)]\n",
    "\n",
    "\n"
   ]
  },
  {
   "cell_type": "code",
   "execution_count": 5,
   "id": "35361757",
   "metadata": {},
   "outputs": [],
   "source": [
    "def get_predictions_by_model(df, model):\n",
    "    \"\"\"\n",
    "    Filter predictions DataFrame by model.\n",
    "\n",
    "    Args:\n",
    "        df (DataFrame): DataFrame containing predictions.\n",
    "        model (str): Model name to filter by.\n",
    "\n",
    "    Returns:\n",
    "        DataFrame: Filtered DataFrame with predictions.\n",
    "    \"\"\"\n",
    "    return df[df[\"model\"] == model]\n",
    "\n",
    "\n"
   ]
  },
  {
   "cell_type": "code",
   "execution_count": 6,
   "id": "4604521d",
   "metadata": {},
   "outputs": [],
   "source": [
    "def get_predictions_by_dataset(df, dataset):\n",
    "    \"\"\"\n",
    "    Filter predictions DataFrame by dataset.\n",
    "\n",
    "    Args:\n",
    "        df (DataFrame): DataFrame containing predictions.\n",
    "        dataset (str): Dataset name to filter by.\n",
    "\n",
    "    Returns:\n",
    "        DataFrame: Filtered DataFrame with predictions.\n",
    "    \"\"\"\n",
    "    return df[df[\"dataset\"] == dataset]"
   ]
  },
  {
   "cell_type": "code",
   "execution_count": 7,
   "id": "e0f7c9ea",
   "metadata": {},
   "outputs": [],
   "source": [
    "def plot_pred_label_distribution(model, task, dataset):\n",
    "    \"\"\"\n",
    "    Plot the distribution of predictions and labels.\n",
    "\n",
    "    Args:\n",
    "        preds (array-like): Predictions from the model.\n",
    "        labels (array-like): True labels.\n",
    "        model (str): Model name.\n",
    "        task (str): Task name.\n",
    "        dataset (str): Dataset name.\n",
    "    \"\"\"\n",
    "    single_df = get_predictions_by_model_task_dataset(\n",
    "        all_predictions_df, \n",
    "        model=model, \n",
    "        task=task, \n",
    "        dataset=dataset\n",
    "    )\n",
    "    preds = single_df['predictions'].values\n",
    "    labels = single_df['labels'].values\n",
    "    plt.figure(figsize=(6, 4))\n",
    "    plt.hist(preds, bins=30, alpha=0.5, label=\"Predictions\", color=\"royalblue\")\n",
    "    plt.hist(labels, bins=60, alpha=0.5, label='Labels', color='orange')\n",
    "    plt.title(f'Prediction and Label Distribution\\nModel: {model}, Task: {task}, Dataset: {dataset}')\n",
    "    plt.xlabel('Value')\n",
    "    plt.ylabel('Frequency')\n",
    "    plt.axvline(x=0.5, color=\"black\", linestyle=\"dotted\", label=\"Threshold (0.5)\")\n",
    "    plt.legend()\n",
    "    plt.show()"
   ]
  },
  {
   "cell_type": "code",
   "execution_count": 10,
   "id": "e55cb34e",
   "metadata": {},
   "outputs": [],
   "source": [
    "outputfolder_path_list = [\n",
    "    r\"C:/Users/janbe/Documents/GitHub Repos/pulse/output/CNN\",\n",
    "]"
   ]
  },
  {
   "cell_type": "code",
   "execution_count": 11,
   "id": "57378dd3",
   "metadata": {},
   "outputs": [
    {
     "name": "stdout",
     "output_type": "stream",
     "text": [
      "Metrics Report Files:\n",
      "C:/Users/janbe/Documents/GitHub Repos/pulse/output/CNN\\CNNModel_metrics_report.json\n",
      "\n",
      "Metadata Files:\n",
      "C:/Users/janbe/Documents/GitHub Repos/pulse/output/CNN\\CNNModel_aki_eicu_20250603_135441_metadata.csv\n",
      "C:/Users/janbe/Documents/GitHub Repos/pulse/output/CNN\\CNNModel_aki_hirid_20250603_135441_metadata.csv\n",
      "C:/Users/janbe/Documents/GitHub Repos/pulse/output/CNN\\CNNModel_aki_miiv_20250603_135441_metadata.csv\n",
      "C:/Users/janbe/Documents/GitHub Repos/pulse/output/CNN\\CNNModel_mortality_eicu_20250603_135441_metadata.csv\n",
      "C:/Users/janbe/Documents/GitHub Repos/pulse/output/CNN\\CNNModel_mortality_hirid_20250603_135441_metadata.csv\n",
      "C:/Users/janbe/Documents/GitHub Repos/pulse/output/CNN\\CNNModel_mortality_miiv_20250603_135441_metadata.csv\n",
      "C:/Users/janbe/Documents/GitHub Repos/pulse/output/CNN\\CNNModel_sepsis_eicu_20250603_135441_metadata.csv\n",
      "C:/Users/janbe/Documents/GitHub Repos/pulse/output/CNN\\CNNModel_sepsis_hirid_20250603_135441_metadata.csv\n",
      "C:/Users/janbe/Documents/GitHub Repos/pulse/output/CNN\\CNNModel_sepsis_miiv_20250603_135441_metadata.csv\n",
      "\n",
      "Log Files:\n",
      "C:/Users/janbe/Documents/GitHub Repos/pulse/output/CNN\\log_20250603_135441.log\n",
      "\n",
      "Prediction Files:\n",
      "C:/Users/janbe/Documents/GitHub Repos/pulse/output/CNN\\CNNModel_aki_eicu_20250603_135441_predictions.csv\n",
      "C:/Users/janbe/Documents/GitHub Repos/pulse/output/CNN\\CNNModel_aki_hirid_20250603_135441_predictions.csv\n",
      "C:/Users/janbe/Documents/GitHub Repos/pulse/output/CNN\\CNNModel_aki_miiv_20250603_135441_predictions.csv\n",
      "C:/Users/janbe/Documents/GitHub Repos/pulse/output/CNN\\CNNModel_mortality_eicu_20250603_135441_predictions.csv\n",
      "C:/Users/janbe/Documents/GitHub Repos/pulse/output/CNN\\CNNModel_mortality_hirid_20250603_135441_predictions.csv\n",
      "C:/Users/janbe/Documents/GitHub Repos/pulse/output/CNN\\CNNModel_mortality_miiv_20250603_135441_predictions.csv\n",
      "C:/Users/janbe/Documents/GitHub Repos/pulse/output/CNN\\CNNModel_sepsis_eicu_20250603_135441_predictions.csv\n",
      "C:/Users/janbe/Documents/GitHub Repos/pulse/output/CNN\\CNNModel_sepsis_hirid_20250603_135441_predictions.csv\n",
      "C:/Users/janbe/Documents/GitHub Repos/pulse/output/CNN\\CNNModel_sepsis_miiv_20250603_135441_predictions.csv\n"
     ]
    }
   ],
   "source": [
    "cat_files = categorize_files(outputfolder_path_list)"
   ]
  },
  {
   "cell_type": "code",
   "execution_count": 12,
   "id": "11adbdd5",
   "metadata": {},
   "outputs": [
    {
     "data": {
      "application/vnd.microsoft.datawrangler.viewer.v0+json": {
       "columns": [
        {
         "name": "index",
         "rawType": "int64",
         "type": "integer"
        },
        {
         "name": "predictions",
         "rawType": "float64",
         "type": "float"
        },
        {
         "name": "labels",
         "rawType": "float64",
         "type": "float"
        },
        {
         "name": "binary_predictions",
         "rawType": "int64",
         "type": "integer"
        },
        {
         "name": "model",
         "rawType": "object",
         "type": "string"
        },
        {
         "name": "task",
         "rawType": "object",
         "type": "string"
        },
        {
         "name": "dataset",
         "rawType": "object",
         "type": "string"
        }
       ],
       "ref": "ecc90c6a-0664-48c2-a9df-654dc3bb26c5",
       "rows": [
        [
         "0",
         "0.8774988040888225",
         "0.0",
         "1",
         "unknown",
         "unknown",
         "unknown"
        ],
        [
         "1",
         "0.8439377408022166",
         "0.0",
         "1",
         "unknown",
         "unknown",
         "unknown"
        ],
        [
         "2",
         "0.7810666089749682",
         "0.0",
         "1",
         "unknown",
         "unknown",
         "unknown"
        ],
        [
         "3",
         "0.7356698977007501",
         "0.0",
         "1",
         "unknown",
         "unknown",
         "unknown"
        ],
        [
         "4",
         "0.5552859487806185",
         "0.0",
         "1",
         "unknown",
         "unknown",
         "unknown"
        ],
        [
         "5",
         "0.6784314058768958",
         "0.0",
         "1",
         "unknown",
         "unknown",
         "unknown"
        ],
        [
         "6",
         "0.8418272717385616",
         "0.0",
         "1",
         "unknown",
         "unknown",
         "unknown"
        ],
        [
         "7",
         "0.7176096247482439",
         "0.0",
         "1",
         "unknown",
         "unknown",
         "unknown"
        ],
        [
         "8",
         "0.7372830580253702",
         "0.0",
         "1",
         "unknown",
         "unknown",
         "unknown"
        ],
        [
         "9",
         "0.7904474940112771",
         "0.0",
         "1",
         "unknown",
         "unknown",
         "unknown"
        ],
        [
         "10",
         "0.7978649323933138",
         "0.0",
         "1",
         "unknown",
         "unknown",
         "unknown"
        ],
        [
         "11",
         "0.8795329652162016",
         "1.0",
         "1",
         "unknown",
         "unknown",
         "unknown"
        ],
        [
         "12",
         "0.9702614474809588",
         "1.0",
         "1",
         "unknown",
         "unknown",
         "unknown"
        ],
        [
         "13",
         "0.9878565600151311",
         "1.0",
         "1",
         "unknown",
         "unknown",
         "unknown"
        ],
        [
         "14",
         "0.9920391721590438",
         "1.0",
         "1",
         "unknown",
         "unknown",
         "unknown"
        ]
       ],
       "shape": {
        "columns": 6,
        "rows": 15
       }
      },
      "text/html": [
       "<div>\n",
       "<style scoped>\n",
       "    .dataframe tbody tr th:only-of-type {\n",
       "        vertical-align: middle;\n",
       "    }\n",
       "\n",
       "    .dataframe tbody tr th {\n",
       "        vertical-align: top;\n",
       "    }\n",
       "\n",
       "    .dataframe thead th {\n",
       "        text-align: right;\n",
       "    }\n",
       "</style>\n",
       "<table border=\"1\" class=\"dataframe\">\n",
       "  <thead>\n",
       "    <tr style=\"text-align: right;\">\n",
       "      <th></th>\n",
       "      <th>predictions</th>\n",
       "      <th>labels</th>\n",
       "      <th>binary_predictions</th>\n",
       "      <th>model</th>\n",
       "      <th>task</th>\n",
       "      <th>dataset</th>\n",
       "    </tr>\n",
       "  </thead>\n",
       "  <tbody>\n",
       "    <tr>\n",
       "      <th>0</th>\n",
       "      <td>0.877499</td>\n",
       "      <td>0.0</td>\n",
       "      <td>1</td>\n",
       "      <td>unknown</td>\n",
       "      <td>unknown</td>\n",
       "      <td>unknown</td>\n",
       "    </tr>\n",
       "    <tr>\n",
       "      <th>1</th>\n",
       "      <td>0.843938</td>\n",
       "      <td>0.0</td>\n",
       "      <td>1</td>\n",
       "      <td>unknown</td>\n",
       "      <td>unknown</td>\n",
       "      <td>unknown</td>\n",
       "    </tr>\n",
       "    <tr>\n",
       "      <th>2</th>\n",
       "      <td>0.781067</td>\n",
       "      <td>0.0</td>\n",
       "      <td>1</td>\n",
       "      <td>unknown</td>\n",
       "      <td>unknown</td>\n",
       "      <td>unknown</td>\n",
       "    </tr>\n",
       "    <tr>\n",
       "      <th>3</th>\n",
       "      <td>0.735670</td>\n",
       "      <td>0.0</td>\n",
       "      <td>1</td>\n",
       "      <td>unknown</td>\n",
       "      <td>unknown</td>\n",
       "      <td>unknown</td>\n",
       "    </tr>\n",
       "    <tr>\n",
       "      <th>4</th>\n",
       "      <td>0.555286</td>\n",
       "      <td>0.0</td>\n",
       "      <td>1</td>\n",
       "      <td>unknown</td>\n",
       "      <td>unknown</td>\n",
       "      <td>unknown</td>\n",
       "    </tr>\n",
       "    <tr>\n",
       "      <th>5</th>\n",
       "      <td>0.678431</td>\n",
       "      <td>0.0</td>\n",
       "      <td>1</td>\n",
       "      <td>unknown</td>\n",
       "      <td>unknown</td>\n",
       "      <td>unknown</td>\n",
       "    </tr>\n",
       "    <tr>\n",
       "      <th>6</th>\n",
       "      <td>0.841827</td>\n",
       "      <td>0.0</td>\n",
       "      <td>1</td>\n",
       "      <td>unknown</td>\n",
       "      <td>unknown</td>\n",
       "      <td>unknown</td>\n",
       "    </tr>\n",
       "    <tr>\n",
       "      <th>7</th>\n",
       "      <td>0.717610</td>\n",
       "      <td>0.0</td>\n",
       "      <td>1</td>\n",
       "      <td>unknown</td>\n",
       "      <td>unknown</td>\n",
       "      <td>unknown</td>\n",
       "    </tr>\n",
       "    <tr>\n",
       "      <th>8</th>\n",
       "      <td>0.737283</td>\n",
       "      <td>0.0</td>\n",
       "      <td>1</td>\n",
       "      <td>unknown</td>\n",
       "      <td>unknown</td>\n",
       "      <td>unknown</td>\n",
       "    </tr>\n",
       "    <tr>\n",
       "      <th>9</th>\n",
       "      <td>0.790447</td>\n",
       "      <td>0.0</td>\n",
       "      <td>1</td>\n",
       "      <td>unknown</td>\n",
       "      <td>unknown</td>\n",
       "      <td>unknown</td>\n",
       "    </tr>\n",
       "    <tr>\n",
       "      <th>10</th>\n",
       "      <td>0.797865</td>\n",
       "      <td>0.0</td>\n",
       "      <td>1</td>\n",
       "      <td>unknown</td>\n",
       "      <td>unknown</td>\n",
       "      <td>unknown</td>\n",
       "    </tr>\n",
       "    <tr>\n",
       "      <th>11</th>\n",
       "      <td>0.879533</td>\n",
       "      <td>1.0</td>\n",
       "      <td>1</td>\n",
       "      <td>unknown</td>\n",
       "      <td>unknown</td>\n",
       "      <td>unknown</td>\n",
       "    </tr>\n",
       "    <tr>\n",
       "      <th>12</th>\n",
       "      <td>0.970261</td>\n",
       "      <td>1.0</td>\n",
       "      <td>1</td>\n",
       "      <td>unknown</td>\n",
       "      <td>unknown</td>\n",
       "      <td>unknown</td>\n",
       "    </tr>\n",
       "    <tr>\n",
       "      <th>13</th>\n",
       "      <td>0.987857</td>\n",
       "      <td>1.0</td>\n",
       "      <td>1</td>\n",
       "      <td>unknown</td>\n",
       "      <td>unknown</td>\n",
       "      <td>unknown</td>\n",
       "    </tr>\n",
       "    <tr>\n",
       "      <th>14</th>\n",
       "      <td>0.992039</td>\n",
       "      <td>1.0</td>\n",
       "      <td>1</td>\n",
       "      <td>unknown</td>\n",
       "      <td>unknown</td>\n",
       "      <td>unknown</td>\n",
       "    </tr>\n",
       "  </tbody>\n",
       "</table>\n",
       "</div>"
      ],
      "text/plain": [
       "    predictions  labels  binary_predictions    model     task  dataset\n",
       "0      0.877499     0.0                   1  unknown  unknown  unknown\n",
       "1      0.843938     0.0                   1  unknown  unknown  unknown\n",
       "2      0.781067     0.0                   1  unknown  unknown  unknown\n",
       "3      0.735670     0.0                   1  unknown  unknown  unknown\n",
       "4      0.555286     0.0                   1  unknown  unknown  unknown\n",
       "5      0.678431     0.0                   1  unknown  unknown  unknown\n",
       "6      0.841827     0.0                   1  unknown  unknown  unknown\n",
       "7      0.717610     0.0                   1  unknown  unknown  unknown\n",
       "8      0.737283     0.0                   1  unknown  unknown  unknown\n",
       "9      0.790447     0.0                   1  unknown  unknown  unknown\n",
       "10     0.797865     0.0                   1  unknown  unknown  unknown\n",
       "11     0.879533     1.0                   1  unknown  unknown  unknown\n",
       "12     0.970261     1.0                   1  unknown  unknown  unknown\n",
       "13     0.987857     1.0                   1  unknown  unknown  unknown\n",
       "14     0.992039     1.0                   1  unknown  unknown  unknown"
      ]
     },
     "execution_count": 12,
     "metadata": {},
     "output_type": "execute_result"
    }
   ],
   "source": [
    "from sklearn.calibration import expit\n",
    "\n",
    "\n",
    "all_predictions_df = pd.DataFrame()\n",
    "\n",
    "# Regex pattern to extract model, task, dataset from filename\n",
    "pattern = re.compile(r'([A-Za-z0-9]+)_([a-z]+)_([a-z]+)_predictions\\.csv')\n",
    "\n",
    "for file_path in cat_files['prediction_files']:\n",
    "    df_temp = pd.read_csv(file_path)\n",
    "    # Check if predictions are logits (e.g., outside [0, 1]) and convert to probabilities if needed\n",
    "    if df_temp['predictions'].min() < 0 or df_temp['predictions'].max() > 1:\n",
    "        df_temp['predictions'] = expit(df_temp['predictions'])  # convert logits to probabilities\n",
    "    df_temp['binary_predictions'] = df_temp['predictions'].apply(lambda x: 1 if x >= 0.5 else 0)\n",
    "    filename = os.path.basename(file_path)\n",
    "    match = pattern.match(filename)\n",
    "    if match:\n",
    "        model, task, dataset = match.groups()\n",
    "        df_temp['model'] = model\n",
    "        df_temp['task'] = task\n",
    "        df_temp['dataset'] = dataset\n",
    "    else:\n",
    "        df_temp['model'] = 'unknown'\n",
    "        df_temp['task'] = 'unknown'\n",
    "        df_temp['dataset'] = 'unknown'\n",
    "    all_predictions_df = pd.concat([all_predictions_df, df_temp], ignore_index=True)\n",
    "\n",
    "all_predictions_df.head(15)"
   ]
  },
  {
   "cell_type": "code",
   "execution_count": 28,
   "id": "014859ab",
   "metadata": {},
   "outputs": [],
   "source": [
    "# Filter for a single model, task, and dataset combination\n",
    "single_df = get_predictions_by_model_task_dataset(\n",
    "    all_predictions_df, \n",
    "    model='RandomForest', \n",
    "    task='mortality', \n",
    "    dataset='miiv'  # Adjust dataset as needed\n",
    ")\n",
    "\n",
    "# Extract predictions and labels\n",
    "preds = single_df['predictions'].values\n",
    "labels = single_df['labels'].values"
   ]
  },
  {
   "cell_type": "code",
   "execution_count": 29,
   "id": "bc2e53c6",
   "metadata": {},
   "outputs": [
    {
     "data": {
      "image/png": "[encoded data removed]",
      "text/plain": [
       "<Figure size 600x400 with 1 Axes>"
      ]
     },
     "metadata": {},
     "output_type": "display_data"
    }
   ],
   "source": [
    "plot_pred_label_distribution('RandomForest', 'mortality', 'miiv')"
   ]
  },
  {
   "cell_type": "code",
   "execution_count": 30,
   "id": "588c1a69",
   "metadata": {},
   "outputs": [
    {
     "data": {
      "image/png": "[encoded data removed]",
      "text/plain": [
       "<Figure size 600x400 with 1 Axes>"
      ]
     },
     "metadata": {},
     "output_type": "display_data"
    }
   ],
   "source": [
    "plot_pred_label_distribution('LSTM', 'mortality', 'miiv')"
   ]
  },
  {
   "cell_type": "code",
   "execution_count": null,
   "id": "3b104a89",
   "metadata": {},
   "outputs": [
    {
     "data": {
      "text/plain": [
       "array([0, 0, 0, 0, 0, 0, 0, 0, 0, 0, 0, 0, 0, 0, 0, 0, 0, 0, 0, 0, 0, 0,\n",
       "       0, 0, 0, 0, 0, 0, 0, 0, 0, 0, 0, 0, 0, 0, 0, 0, 0, 0, 0, 0, 0, 0,\n",
       "       0, 0, 0, 0, 0, 0, 0, 0, 0, 0, 0, 0, 0, 0, 0, 0, 0, 0, 0, 0, 0, 0,\n",
       "       0, 0, 0, 0, 0, 0, 0, 0, 0, 0, 0, 0, 0, 0, 0, 0, 0, 0, 0, 0, 0, 0,\n",
       "       0, 0, 0, 0, 0, 0, 0, 0, 0, 0, 0, 0])"
      ]
     },
     "execution_count": 54,
     "metadata": {},
     "output_type": "execute_result"
    }
   ],
   "source": [
    "from scipy.special import expit  # sigmoid function\n",
    "\n",
    "binary_preds = (preds >= 0.5).astype(int)\n",
    "binary_preds"
   ]
  },
  {
   "cell_type": "code",
   "execution_count": null,
   "id": "a41eb12d",
   "metadata": {},
   "outputs": [
    {
     "name": "stdout",
     "output_type": "stream",
     "text": [
      "MCC: 0.3663319999660611\n"
     ]
    }
   ],
   "source": [
    "# Calculate MCC\n",
    "mcc = calculate_mcc(binary_preds, labels)\n",
    "print(\"MCC:\", mcc)"
   ]
  }
 ],
 "metadata": {
  "kernelspec": {
   "display_name": ".venv",
   "language": "python",
   "name": "python3"
  },
  "language_info": {
   "codemirror_mode": {
    "name": "ipython",
    "version": 3
   },
   "file_extension": ".py",
   "mimetype": "text/x-python",
   "name": "python",
   "nbconvert_exporter": "python",
   "pygments_lexer": "ipython3",
   "version": "3.12.2"
  }
 },
 "nbformat": 4,
 "nbformat_minor": 5
}
