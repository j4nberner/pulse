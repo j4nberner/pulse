{
 "cells": [
  {
   "cell_type": "code",
   "execution_count": null,
   "id": "bc548d4d",
   "metadata": {},
   "outputs": [
    {
     "name": "stdout",
     "output_type": "stream",
     "text": [
      "Requirement already satisfied: google-genai in c:\\users\\janbe\\documents\\github repos\\pulse\\.venv\\lib\\site-packages (1.18.0)\n",
      "Collecting google-genai\n",
      "  Downloading google_genai-1.20.0-py3-none-any.whl.metadata (35 kB)\n",
      "Requirement already satisfied: anyio<5.0.0,>=4.8.0 in c:\\users\\janbe\\documents\\github repos\\pulse\\.venv\\lib\\site-packages (from google-genai) (4.9.0)\n",
      "Requirement already satisfied: google-auth<3.0.0,>=2.14.1 in c:\\users\\janbe\\documents\\github repos\\pulse\\.venv\\lib\\site-packages (from google-genai) (2.40.2)\n",
      "Requirement already satisfied: httpx<1.0.0,>=0.28.1 in c:\\users\\janbe\\documents\\github repos\\pulse\\.venv\\lib\\site-packages (from google-genai) (0.28.1)\n",
      "Requirement already satisfied: pydantic<3.0.0,>=2.0.0 in c:\\users\\janbe\\documents\\github repos\\pulse\\.venv\\lib\\site-packages (from google-genai) (2.11.1)\n",
      "Requirement already satisfied: requests<3.0.0,>=2.28.1 in c:\\users\\janbe\\documents\\github repos\\pulse\\.venv\\lib\\site-packages (from google-genai) (2.32.3)\n",
      "Requirement already satisfied: websockets<15.1.0,>=13.0.0 in c:\\users\\janbe\\documents\\github repos\\pulse\\.venv\\lib\\site-packages (from google-genai) (15.0.1)\n",
      "Requirement already satisfied: typing-extensions<5.0.0,>=4.11.0 in c:\\users\\janbe\\documents\\github repos\\pulse\\.venv\\lib\\site-packages (from google-genai) (4.13.0)\n",
      "Requirement already satisfied: idna>=2.8 in c:\\users\\janbe\\documents\\github repos\\pulse\\.venv\\lib\\site-packages (from anyio<5.0.0,>=4.8.0->google-genai) (3.10)\n",
      "Requirement already satisfied: sniffio>=1.1 in c:\\users\\janbe\\documents\\github repos\\pulse\\.venv\\lib\\site-packages (from anyio<5.0.0,>=4.8.0->google-genai) (1.3.1)\n",
      "Requirement already satisfied: cachetools<6.0,>=2.0.0 in c:\\users\\janbe\\documents\\github repos\\pulse\\.venv\\lib\\site-packages (from google-auth<3.0.0,>=2.14.1->google-genai) (5.5.2)\n",
      "Requirement already satisfied: pyasn1-modules>=0.2.1 in c:\\users\\janbe\\documents\\github repos\\pulse\\.venv\\lib\\site-packages (from google-auth<3.0.0,>=2.14.1->google-genai) (0.4.2)\n",
      "Requirement already satisfied: rsa<5,>=3.1.4 in c:\\users\\janbe\\documents\\github repos\\pulse\\.venv\\lib\\site-packages (from google-auth<3.0.0,>=2.14.1->google-genai) (4.9.1)\n",
      "Requirement already satisfied: certifi in c:\\users\\janbe\\documents\\github repos\\pulse\\.venv\\lib\\site-packages (from httpx<1.0.0,>=0.28.1->google-genai) (2025.1.31)\n",
      "Requirement already satisfied: httpcore==1.* in c:\\users\\janbe\\documents\\github repos\\pulse\\.venv\\lib\\site-packages (from httpx<1.0.0,>=0.28.1->google-genai) (1.0.8)\n",
      "Requirement already satisfied: h11<0.15,>=0.13 in c:\\users\\janbe\\documents\\github repos\\pulse\\.venv\\lib\\site-packages (from httpcore==1.*->httpx<1.0.0,>=0.28.1->google-genai) (0.14.0)\n",
      "Requirement already satisfied: annotated-types>=0.6.0 in c:\\users\\janbe\\documents\\github repos\\pulse\\.venv\\lib\\site-packages (from pydantic<3.0.0,>=2.0.0->google-genai) (0.7.0)\n",
      "Requirement already satisfied: pydantic-core==2.33.0 in c:\\users\\janbe\\documents\\github repos\\pulse\\.venv\\lib\\site-packages (from pydantic<3.0.0,>=2.0.0->google-genai) (2.33.0)\n",
      "Requirement already satisfied: typing-inspection>=0.4.0 in c:\\users\\janbe\\documents\\github repos\\pulse\\.venv\\lib\\site-packages (from pydantic<3.0.0,>=2.0.0->google-genai) (0.4.0)\n",
      "Requirement already satisfied: charset-normalizer<4,>=2 in c:\\users\\janbe\\documents\\github repos\\pulse\\.venv\\lib\\site-packages (from requests<3.0.0,>=2.28.1->google-genai) (3.4.1)\n",
      "Requirement already satisfied: urllib3<3,>=1.21.1 in c:\\users\\janbe\\documents\\github repos\\pulse\\.venv\\lib\\site-packages (from requests<3.0.0,>=2.28.1->google-genai) (2.3.0)\n",
      "Requirement already satisfied: pyasn1>=0.1.3 in c:\\users\\janbe\\documents\\github repos\\pulse\\.venv\\lib\\site-packages (from rsa<5,>=3.1.4->google-auth<3.0.0,>=2.14.1->google-genai) (0.6.1)\n",
      "Downloading google_genai-1.20.0-py3-none-any.whl (203 kB)\n",
      "Installing collected packages: google-genai\n",
      "  Attempting uninstall: google-genai\n",
      "    Found existing installation: google-genai 1.18.0\n",
      "    Uninstalling google-genai-1.18.0:\n",
      "      Successfully uninstalled google-genai-1.18.0\n",
      "Successfully installed google-genai-1.20.0\n"
     ]
    },
    {
     "name": "stderr",
     "output_type": "stream",
     "text": [
      "\n",
      "[notice] A new release of pip is available: 25.1 -> 25.1.1\n",
      "[notice] To update, run: python.exe -m pip install --upgrade pip\n"
     ]
    }
   ],
   "source": [
    "# !pip3 install --upgrade google-genai\n",
    "# !pip install vertexai\n",
    "# pip install google-generativeai google-auth\n",
    "# gcloud auth application-default login"
   ]
  },
  {
   "cell_type": "code",
   "execution_count": 44,
   "id": "606ec83a",
   "metadata": {},
   "outputs": [],
   "source": [
    "import os\n",
    "from dotenv import load_dotenv\n",
    "\n",
    "# Load environment variables from .env file\n",
    "load_dotenv(r\"C:/Users/janbe/Documents/GitHub Repos/pulse/secrets/.env\", override=True)\n",
    "\n",
    "# Retrieve project ID and location from environment variables\n",
    "project_id = os.getenv(\"GOOGLE_CLOUD_PROJECT\")\n",
    "location = os.getenv(\"GOOGLE_CLOUD_LOCATION\")\n",
    "# GOOGLE_APPLICATION_CREDENTIALS will be picked up automatically by the SDK\n",
    "# GOOGLE_GENAI_USE_VERTEXAI=True also configures the SDK\n",
    "\n",
    "if not project_id or not location:\n",
    "    raise ValueError(\n",
    "        \"GOOGLE_CLOUD_PROJECT and GOOGLE_CLOUD_LOCATION must be set in your .env file.\"\n",
    "    )\n",
    "if not os.getenv(\"GOOGLE_APPLICATION_CREDENTIALS\"):\n",
    "    raise ValueError(\n",
    "        \"GOOGLE_APPLICATION_CREDENTIALS must be set in your .env file to the path of your service account key.\"\n",
    "    )"
   ]
  },
  {
   "cell_type": "code",
   "execution_count": 47,
   "id": "0d543ae1",
   "metadata": {},
   "outputs": [],
   "source": [
    "import vertexai\n",
    "from vertexai.generative_models import (\n",
    "    GenerativeModel,\n",
    "    Part,\n",
    "    HarmCategory,\n",
    "    HarmBlockThreshold,\n",
    ")\n",
    "\n",
    "\n",
    "def generate(prompt: str):\n",
    "    \"\"\"Generates text using Gemini 1.5 Flash model on Vertex AI.\"\"\"\n",
    "\n",
    "    print(f\"Initializing Vertex AI for project: {project_id}, location: {location}\")\n",
    "    # Initialize Vertex AI. The SDK will automatically use the credentials from GOOGLE_APPLICATION_CREDENTIALS.\n",
    "    vertexai.init(project=project_id, location=location)\n",
    "\n",
    "    # Specify the Gemini 1.5 Flash model\n",
    "    model = GenerativeModel(\"gemini-2.0-flash-001\")\n",
    "\n",
    "    print(f\"Sending prompt to model: {prompt}\")\n",
    "    response = model.generate_content(\n",
    "        contents=[prompt],\n",
    "        generation_config={\n",
    "            \"max_output_tokens\": 8192,  # Max tokens for 1.5 Flash\n",
    "            \"temperature\": 0.9,\n",
    "            \"top_p\": 1.0,\n",
    "            \"top_k\": 32,\n",
    "        },\n",
    "        safety_settings={\n",
    "            HarmCategory.HARM_CATEGORY_HATE_SPEECH: HarmBlockThreshold.BLOCK_MEDIUM_AND_ABOVE,\n",
    "            HarmCategory.HARM_CATEGORY_DANGEROUS_CONTENT: HarmBlockThreshold.BLOCK_MEDIUM_AND_ABOVE,\n",
    "            HarmCategory.HARM_CATEGORY_SEXUALLY_EXPLICIT: HarmBlockThreshold.BLOCK_MEDIUM_AND_ABOVE,\n",
    "            HarmCategory.HARM_CATEGORY_HARASSMENT: HarmBlockThreshold.BLOCK_MEDIUM_AND_ABOVE,\n",
    "        },\n",
    "    )\n",
    "    print(\"Inference successful!\")\n",
    "    return response.text"
   ]
  },
  {
   "cell_type": "code",
   "execution_count": 48,
   "id": "c1568b28",
   "metadata": {},
   "outputs": [
    {
     "name": "stdout",
     "output_type": "stream",
     "text": [
      "Initializing Vertex AI for project: pulse-462613, location: europe-central2\n",
      "Sending prompt to model: Explain the concept of quantum entanglement in simple terms.\n",
      "Inference successful!\n",
      "\n",
      "--- Generated Response ---\n",
      "Imagine you have two coins. Instead of flipping them normally, you have a special machine that *always* produces one coin that's heads and one that's tails. You put each coin in a separate box and send one box to your friend Alice on the moon and keep the other.\n",
      "\n",
      "Before you open your box, you don't know if you have heads or tails. Alice doesn't know either.\n",
      "\n",
      "But, as soon as you open your box and see that you have heads, you instantly know that Alice *must* have tails, even before she opens her box! It's like the coins are linked, or *entangled*, in a way that their fates are tied together.\n",
      "\n",
      "**Quantum entanglement is similar, but weirder! Here's the breakdown:**\n",
      "\n",
      "*   **Tiny Particles:** Instead of coins, we're talking about tiny particles like electrons or photons.\n",
      "\n",
      "*   **Properties, Not Heads/Tails:** These particles have properties like \"spin\" which can be thought of as pointing up or down.\n",
      "\n",
      "*   **Entangled Pair:** We can create pairs of these particles so their spins are linked. They're entangled.\n",
      "\n",
      "*   **The Weird Part:** Until you measure the spin of one particle, it's not really decided whether it's \"up\" or \"down.\" It's in a fuzzy, undefined state.\n",
      "\n",
      "*   **Instant Connection:** As soon as you measure the spin of your particle (let's say you find it's \"up\"), you instantly know that Alice's particle *must* be \"down.\" This happens *instantly*, even if Alice is light-years away.\n",
      "\n",
      "**Key takeaways:**\n",
      "\n",
      "*   **Linked Fates:** Entangled particles are linked so that their properties are correlated.\n",
      "*   **Instantaneous (Seemingly):** Knowing the property of one particle instantly tells you the property of the other, regardless of the distance between them.\n",
      "*   **Not Magic Communication:**  You can't use quantum entanglement to send information faster than light. While you instantly know the state of Alice's particle, you can't *control* what that state will be. Alice still needs to communicate with you through normal channels to confirm her measurement.\n",
      "*   **Still Mysterious:** Quantum entanglement is one of the most bizarre and fascinating phenomena in physics. Scientists are still trying to fully understand its implications.\n",
      "\n",
      "**In short:** Quantum entanglement is like having two coins linked in a spooky way where measuring one instantly determines the state of the other, no matter how far apart they are. It's a fundamental and bizarre aspect of the quantum world.\n",
      "\n"
     ]
    }
   ],
   "source": [
    "user_prompt = \"Explain the concept of quantum entanglement in simple terms.\"\n",
    "generated_text = generate(user_prompt)\n",
    "print(\"\\n--- Generated Response ---\")\n",
    "print(generated_text)"
   ]
  },
  {
   "cell_type": "code",
   "execution_count": 55,
   "id": "1f0ffbad",
   "metadata": {},
   "outputs": [
    {
     "name": "stdout",
     "output_type": "stream",
     "text": [
      "Input tokens (from response): 8\n",
      "Output tokens (from response): 795\n"
     ]
    }
   ],
   "source": [
    "usage_metadata = response.usage_metadata\n",
    "if usage_metadata:\n",
    "    print(f\"Input tokens (from response): {usage_metadata.prompt_token_count}\")\n",
    "    print(f\"Output tokens (from response): {usage_metadata.total_token_count - usage_metadata.prompt_token_count}\")\n",
    "else:\n",
    "    print(\"Usage metadata not available in the response.\")\n"
   ]
  },
  {
   "cell_type": "code",
   "execution_count": 57,
   "id": "0e023872",
   "metadata": {},
   "outputs": [
    {
     "data": {
      "text/plain": [
       "786"
      ]
     },
     "execution_count": 57,
     "metadata": {},
     "output_type": "execute_result"
    }
   ],
   "source": [
    "usage_metadata.thoughts_token_count"
   ]
  }
 ],
 "metadata": {
  "kernelspec": {
   "display_name": ".venv",
   "language": "python",
   "name": "python3"
  },
  "language_info": {
   "codemirror_mode": {
    "name": "ipython",
    "version": 3
   },
   "file_extension": ".py",
   "mimetype": "text/x-python",
   "name": "python",
   "nbconvert_exporter": "python",
   "pygments_lexer": "ipython3",
   "version": "3.12.2"
  }
 },
 "nbformat": 4,
 "nbformat_minor": 5
}
