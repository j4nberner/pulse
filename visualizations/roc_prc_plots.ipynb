{
 "cells": [
  {
   "cell_type": "markdown",
   "id": "531f33e2",
   "metadata": {},
   "source": [
    "# ROC and AUPRC Curve Plots for Model Performance\n",
    "\n",
    "This notebook generates ROC and AUPRC curve plots for each task-dataset combination, comparing the performance of all models on the same plot."
   ]
  },
  {
   "cell_type": "code",
   "execution_count": 274,
   "id": "74a62783",
   "metadata": {},
   "outputs": [],
   "source": [
    "# Import Required Libraries\n",
    "import os\n",
    "import pandas as pd\n",
    "import numpy as np\n",
    "import matplotlib.pyplot as plt\n",
    "from sklearn.metrics import roc_curve, auc, precision_recall_curve\n",
    "from scipy.special import expit  # Sigmoid function for logits"
   ]
  },
  {
   "cell_type": "code",
   "execution_count": 275,
   "id": "3d511427",
   "metadata": {},
   "outputs": [],
   "source": [
    "# Define file path and model types\n",
    "predictions_path = '/Users/sophiaehlers/Documents/pulse/output/predictions'\n",
    "model_types = {\n",
    "    'RandomForest': 'probability',\n",
    "    'LightGBM': 'probability',\n",
    "    'XGBoost': 'probability',\n",
    "    'CNN': 'logit',\n",
    "    'InceptionTime': 'logit',\n",
    "    'LSTM': 'logit',\n",
    "    'GRU': 'logit'\n",
    "}"
   ]
  },
  {
   "cell_type": "code",
   "execution_count": 276,
   "id": "029493bf",
   "metadata": {},
   "outputs": [],
   "source": [
    "# Load and process predictions\n",
    "def load_predictions(file_path, model_type):\n",
    "    df = pd.read_csv(file_path)\n",
    "    if model_type == 'logit':\n",
    "        df['predictions'] = expit(df['predictions'])  # Apply sigmoid to logits\n",
    "    return df['predictions'], df['labels']\n",
    "\n",
    "# Collect all task-dataset combinations\n",
    "files = os.listdir(predictions_path)\n",
    "combinations = {}\n",
    "for file in files:\n",
    "    parts = file.split('_')\n",
    "    model, task, dataset = parts[0], parts[1], parts[2]\n",
    "    key = (task, dataset)\n",
    "    if key not in combinations:\n",
    "        combinations[key] = []\n",
    "    combinations[key].append((model, os.path.join(predictions_path, file)))"
   ]
  },
  {
   "cell_type": "code",
   "execution_count": 277,
   "id": "67c49df3",
   "metadata": {},
   "outputs": [],
   "source": [
    "# Map dataset and task names\n",
    "dataset_name_mapping = {\"hirid\": \"HiRID\", \"miiv\": \"MIMIC-IV\", \"eicu\": \"eICU\"}\n",
    "task_name_mapping = {\n",
    "    \"mortality\": \"Mortality\",\n",
    "    \"aki\": \"AKI\",\n",
    "    \"sepsis\": \"Sepsis\",\n",
    "}\n",
    "\n",
    "# Define color mapping for models\n",
    "model_color_mapping = {\n",
    "    'RandomForest': '#0073e6',\n",
    "    'LightGBM': '#003d99',\n",
    "    'XGBoost': '#00bfff',\n",
    "    'CNN': '#a6d854',\n",
    "    'InceptionTime': '#32CD32',\n",
    "    'LSTM': '#228B22',\n",
    "    'GRU': '#006400',\n",
    "}\n",
    "\n",
    "# Define the order of tasks and datasets\n",
    "task_order = [\"mortality\", \"aki\", \"sepsis\"]\n",
    "dataset_order = [\"hirid\", \"miiv\", \"eicu\"]"
   ]
  },
  {
   "cell_type": "code",
   "execution_count": 278,
   "id": "c0bf6d48",
   "metadata": {},
   "outputs": [],
   "source": [
    "# Function to create plots (ROC or PRC)\n",
    "def create_plot(ax, task, dataset, model_files, curve_type):\n",
    "    for model, file_path in model_files:\n",
    "        model_type = model_types[model]\n",
    "        predictions, labels = load_predictions(file_path, model_type)\n",
    "        if curve_type == 'roc':\n",
    "            x, y, _ = roc_curve(labels, predictions)\n",
    "            auc_value = auc(x, y)\n",
    "            xlabel, ylabel = 'False Positive Rate', 'True Positive Rate'\n",
    "        elif curve_type == 'prc':\n",
    "            y, x, _ = precision_recall_curve(labels, predictions)\n",
    "            auc_value = auc(x, y)\n",
    "            xlabel, ylabel = 'Recall', 'Precision'\n",
    "        color = model_color_mapping.get(model, '#000000')\n",
    "        ax.plot(x, y, label=f'{model} (AUC = {auc_value:.2f})', color=color)\n",
    "    \n",
    "    # Add random guessing line\n",
    "    if curve_type == 'roc':\n",
    "        ax.plot([0, 1], [0, 1], 'r--', label='Random Guessing')\n",
    "    elif curve_type == 'prc':\n",
    "        ax.plot([0, 1], [0.5, 0.5], 'r--', label='Random Guessing')\n",
    "    ax.set_xlabel(xlabel, fontsize=14)\n",
    "    ax.set_ylabel(ylabel, fontsize=14)\n",
    "    ax.set_title(f'{task_name_mapping.get(task, task)} - {dataset_name_mapping.get(dataset, dataset)}', fontsize=18, fontweight='bold', pad=10)\n",
    "    ax.grid(True)\n",
    "    ax.set_xlim(0, 1)\n",
    "    ax.set_ylim(0, 1)\n",
    "    # Adjust legend ordering\n",
    "    handles, labels = ax.get_legend_handles_labels()\n",
    "    sorted_handles_labels = sorted(zip(handles, labels), key=lambda x: (['Random Guessing'] + list(model_color_mapping.keys())).index(x[1].split(' (')[0]))\n",
    "    sorted_handles, sorted_labels = zip(*sorted_handles_labels)\n",
    "    ax.legend(sorted_handles, sorted_labels, loc='lower right', fontsize=12)"
   ]
  },
  {
   "cell_type": "code",
   "execution_count": 279,
   "id": "2fa4a040",
   "metadata": {},
   "outputs": [],
   "source": [
    "# Function to generate and save plots\n",
    "def generate_plots(curve_type, output_suffix):\n",
    "    # Generate and save individual plots\n",
    "    for (task, dataset), model_files in combinations.items():\n",
    "        fig, ax = plt.subplots(figsize=(10, 8))\n",
    "        create_plot(ax, task, dataset, model_files, curve_type)\n",
    "        plt.savefig(os.path.join(output_dir, f'{task}_{dataset}_{output_suffix}.png'))\n",
    "        plt.close()\n",
    "\n",
    "    # Create a combined figure with all individual plots\n",
    "    fig, axes = plt.subplots(len(task_order), len(dataset_order), figsize=(20, 20))\n",
    "    fig.suptitle(f'Combined {curve_type.upper()} Curves for All Tasks and Datasets', fontsize=24, y=0.96)\n",
    "    fig.subplots_adjust(hspace=0.4, wspace=0.4, top=0.95)\n",
    "    for i, task in enumerate(task_order):\n",
    "        for j, dataset in enumerate(dataset_order):\n",
    "            ax = axes[i, j]\n",
    "            key = (task, dataset)\n",
    "            if key in combinations:\n",
    "                model_files = combinations[key]\n",
    "                create_plot(ax, task, dataset, model_files, curve_type)\n",
    "    for i in range(len(task_order) * len(dataset_order), len(axes.flatten())):\n",
    "        axes.flatten()[i].axis('off')\n",
    "    plt.tight_layout(rect=[0, 0, 1, 0.95])\n",
    "    plt.savefig(os.path.join(output_dir, f'combined_{output_suffix}.png'))\n",
    "    plt.close()\n",
    "\n",
    "# Generate both AUROC and AUPRC plots\n",
    "output_dir = '/Users/sophiaehlers/Documents/pulse/visualizations/roc_prc_curves'\n",
    "os.makedirs(output_dir, exist_ok=True)\n",
    "generate_plots('roc', 'roc_curve')\n",
    "generate_plots('prc', 'prc_curve')"
   ]
  }
 ],
 "metadata": {
  "kernelspec": {
   "display_name": "pulse",
   "language": "python",
   "name": "python3"
  },
  "language_info": {
   "codemirror_mode": {
    "name": "ipython",
    "version": 3
   },
   "file_extension": ".py",
   "mimetype": "text/x-python",
   "name": "python",
   "nbconvert_exporter": "python",
   "pygments_lexer": "ipython3",
   "version": "3.13.2"
  }
 },
 "nbformat": 4,
 "nbformat_minor": 5
}
