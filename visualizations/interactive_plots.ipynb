{
 "cells": [
  {
   "cell_type": "code",
   "execution_count": 42,
   "id": "057b6d76",
   "metadata": {},
   "outputs": [],
   "source": [
    "# Import Required Libraries\n",
    "import os\n",
    "import json\n",
    "import pandas as pd\n",
    "import numpy as np\n",
    "import os\n",
    "import plotly.graph_objects as go\n",
    "from plotly.subplots import make_subplots\n",
    "import plotly.express as px\n",
    "import plotly.graph_objects as go\n",
    "from plotly.colors import sequential\n",
    "import plotly.io as pio"
   ]
  },
  {
   "cell_type": "code",
   "execution_count": 43,
   "id": "d6400284",
   "metadata": {},
   "outputs": [
    {
     "name": "stdout",
     "output_type": "stream",
     "text": [
      "Loaded data with shape: (59, 16)\n",
      "Columns: Model, Task, Dataset, auroc, auprc, normalized_auprc, sensitivity, specificity, f1_score, accuracy, balanced_accuracy, precision, recall, mcc, kappa, minpse\n"
     ]
    },
    {
     "data": {
      "application/vnd.microsoft.datawrangler.viewer.v0+json": {
       "columns": [
        {
         "name": "index",
         "rawType": "int64",
         "type": "integer"
        },
        {
         "name": "Model",
         "rawType": "object",
         "type": "string"
        },
        {
         "name": "Task",
         "rawType": "object",
         "type": "string"
        },
        {
         "name": "Dataset",
         "rawType": "object",
         "type": "string"
        },
        {
         "name": "auroc",
         "rawType": "float64",
         "type": "float"
        },
        {
         "name": "auprc",
         "rawType": "float64",
         "type": "float"
        },
        {
         "name": "normalized_auprc",
         "rawType": "float64",
         "type": "float"
        },
        {
         "name": "sensitivity",
         "rawType": "float64",
         "type": "float"
        },
        {
         "name": "specificity",
         "rawType": "float64",
         "type": "float"
        },
        {
         "name": "f1_score",
         "rawType": "float64",
         "type": "float"
        },
        {
         "name": "accuracy",
         "rawType": "float64",
         "type": "float"
        },
        {
         "name": "balanced_accuracy",
         "rawType": "float64",
         "type": "float"
        },
        {
         "name": "precision",
         "rawType": "float64",
         "type": "float"
        },
        {
         "name": "recall",
         "rawType": "float64",
         "type": "float"
        },
        {
         "name": "mcc",
         "rawType": "float64",
         "type": "float"
        },
        {
         "name": "kappa",
         "rawType": "float64",
         "type": "float"
        },
        {
         "name": "minpse",
         "rawType": "float64",
         "type": "float"
        }
       ],
       "conversionMethod": "pd.DataFrame",
       "ref": "2f6ec1b3-c828-451e-9243-83f2de4191b7",
       "rows": [
        [
         "0",
         "RandomForest",
         "mortality",
         "hirid",
         "0.902",
         "0.614",
         "5.58",
         "0.182",
         "1.0",
         "0.308",
         "0.91",
         "0.591",
         "1.0",
         "0.182",
         "0.406",
         "0.283",
         "0.5"
        ],
        [
         "1",
         "RandomForest",
         "mortality",
         "miiv",
         "0.823",
         "0.652",
         "5.434",
         "0.0",
         "1.0",
         "0.0",
         "0.88",
         "0.5",
         "0.0",
         "0.0",
         "0.0",
         "0.0",
         "0.667"
        ],
        [
         "2",
         "RandomForest",
         "mortality",
         "eicu",
         "0.773",
         "0.469",
         "6.705",
         "0.143",
         "1.0",
         "0.25",
         "0.94",
         "0.571",
         "1.0",
         "0.143",
         "0.366",
         "0.237",
         "0.429"
        ],
        [
         "3",
         "RandomForest",
         "aki",
         "hirid",
         "0.741",
         "0.27",
         "3.051",
         "0.008",
         "1.0",
         "0.016",
         "0.912",
         "0.504",
         "1.0",
         "0.008",
         "0.086",
         "0.015",
         "0.256"
        ],
        [
         "4",
         "RandomForest",
         "aki",
         "miiv",
         "0.835",
         "0.526",
         "4.124",
         "0.092",
         "0.999",
         "0.167",
         "0.883",
         "0.545",
         "0.936",
         "0.092",
         "0.273",
         "0.148",
         "0.468"
        ]
       ],
       "shape": {
        "columns": 16,
        "rows": 5
       }
      },
      "text/html": [
       "<div>\n",
       "<style scoped>\n",
       "    .dataframe tbody tr th:only-of-type {\n",
       "        vertical-align: middle;\n",
       "    }\n",
       "\n",
       "    .dataframe tbody tr th {\n",
       "        vertical-align: top;\n",
       "    }\n",
       "\n",
       "    .dataframe thead th {\n",
       "        text-align: right;\n",
       "    }\n",
       "</style>\n",
       "<table border=\"1\" class=\"dataframe\">\n",
       "  <thead>\n",
       "    <tr style=\"text-align: right;\">\n",
       "      <th></th>\n",
       "      <th>Model</th>\n",
       "      <th>Task</th>\n",
       "      <th>Dataset</th>\n",
       "      <th>auroc</th>\n",
       "      <th>auprc</th>\n",
       "      <th>normalized_auprc</th>\n",
       "      <th>sensitivity</th>\n",
       "      <th>specificity</th>\n",
       "      <th>f1_score</th>\n",
       "      <th>accuracy</th>\n",
       "      <th>balanced_accuracy</th>\n",
       "      <th>precision</th>\n",
       "      <th>recall</th>\n",
       "      <th>mcc</th>\n",
       "      <th>kappa</th>\n",
       "      <th>minpse</th>\n",
       "    </tr>\n",
       "  </thead>\n",
       "  <tbody>\n",
       "    <tr>\n",
       "      <th>0</th>\n",
       "      <td>RandomForest</td>\n",
       "      <td>mortality</td>\n",
       "      <td>hirid</td>\n",
       "      <td>0.902</td>\n",
       "      <td>0.614</td>\n",
       "      <td>5.580</td>\n",
       "      <td>0.182</td>\n",
       "      <td>1.000</td>\n",
       "      <td>0.308</td>\n",
       "      <td>0.910</td>\n",
       "      <td>0.591</td>\n",
       "      <td>1.000</td>\n",
       "      <td>0.182</td>\n",
       "      <td>0.406</td>\n",
       "      <td>0.283</td>\n",
       "      <td>0.500</td>\n",
       "    </tr>\n",
       "    <tr>\n",
       "      <th>1</th>\n",
       "      <td>RandomForest</td>\n",
       "      <td>mortality</td>\n",
       "      <td>miiv</td>\n",
       "      <td>0.823</td>\n",
       "      <td>0.652</td>\n",
       "      <td>5.434</td>\n",
       "      <td>0.000</td>\n",
       "      <td>1.000</td>\n",
       "      <td>0.000</td>\n",
       "      <td>0.880</td>\n",
       "      <td>0.500</td>\n",
       "      <td>0.000</td>\n",
       "      <td>0.000</td>\n",
       "      <td>0.000</td>\n",
       "      <td>0.000</td>\n",
       "      <td>0.667</td>\n",
       "    </tr>\n",
       "    <tr>\n",
       "      <th>2</th>\n",
       "      <td>RandomForest</td>\n",
       "      <td>mortality</td>\n",
       "      <td>eicu</td>\n",
       "      <td>0.773</td>\n",
       "      <td>0.469</td>\n",
       "      <td>6.705</td>\n",
       "      <td>0.143</td>\n",
       "      <td>1.000</td>\n",
       "      <td>0.250</td>\n",
       "      <td>0.940</td>\n",
       "      <td>0.571</td>\n",
       "      <td>1.000</td>\n",
       "      <td>0.143</td>\n",
       "      <td>0.366</td>\n",
       "      <td>0.237</td>\n",
       "      <td>0.429</td>\n",
       "    </tr>\n",
       "    <tr>\n",
       "      <th>3</th>\n",
       "      <td>RandomForest</td>\n",
       "      <td>aki</td>\n",
       "      <td>hirid</td>\n",
       "      <td>0.741</td>\n",
       "      <td>0.270</td>\n",
       "      <td>3.051</td>\n",
       "      <td>0.008</td>\n",
       "      <td>1.000</td>\n",
       "      <td>0.016</td>\n",
       "      <td>0.912</td>\n",
       "      <td>0.504</td>\n",
       "      <td>1.000</td>\n",
       "      <td>0.008</td>\n",
       "      <td>0.086</td>\n",
       "      <td>0.015</td>\n",
       "      <td>0.256</td>\n",
       "    </tr>\n",
       "    <tr>\n",
       "      <th>4</th>\n",
       "      <td>RandomForest</td>\n",
       "      <td>aki</td>\n",
       "      <td>miiv</td>\n",
       "      <td>0.835</td>\n",
       "      <td>0.526</td>\n",
       "      <td>4.124</td>\n",
       "      <td>0.092</td>\n",
       "      <td>0.999</td>\n",
       "      <td>0.167</td>\n",
       "      <td>0.883</td>\n",
       "      <td>0.545</td>\n",
       "      <td>0.936</td>\n",
       "      <td>0.092</td>\n",
       "      <td>0.273</td>\n",
       "      <td>0.148</td>\n",
       "      <td>0.468</td>\n",
       "    </tr>\n",
       "  </tbody>\n",
       "</table>\n",
       "</div>"
      ],
      "text/plain": [
       "          Model       Task Dataset  auroc  auprc  normalized_auprc  \\\n",
       "0  RandomForest  mortality   hirid  0.902  0.614             5.580   \n",
       "1  RandomForest  mortality    miiv  0.823  0.652             5.434   \n",
       "2  RandomForest  mortality    eicu  0.773  0.469             6.705   \n",
       "3  RandomForest        aki   hirid  0.741  0.270             3.051   \n",
       "4  RandomForest        aki    miiv  0.835  0.526             4.124   \n",
       "\n",
       "   sensitivity  specificity  f1_score  accuracy  balanced_accuracy  precision  \\\n",
       "0        0.182        1.000     0.308     0.910              0.591      1.000   \n",
       "1        0.000        1.000     0.000     0.880              0.500      0.000   \n",
       "2        0.143        1.000     0.250     0.940              0.571      1.000   \n",
       "3        0.008        1.000     0.016     0.912              0.504      1.000   \n",
       "4        0.092        0.999     0.167     0.883              0.545      0.936   \n",
       "\n",
       "   recall    mcc  kappa  minpse  \n",
       "0   0.182  0.406  0.283   0.500  \n",
       "1   0.000  0.000  0.000   0.667  \n",
       "2   0.143  0.366  0.237   0.429  \n",
       "3   0.008  0.086  0.015   0.256  \n",
       "4   0.092  0.273  0.148   0.468  "
      ]
     },
     "execution_count": 43,
     "metadata": {},
     "output_type": "execute_result"
    }
   ],
   "source": [
    "# Load and Prepare Data\n",
    "# Load the JSON file\n",
    "with open(\"../docs/results.json\", \"r\") as f:\n",
    "    results_data = json.load(f)\n",
    "\n",
    "# Extract the results list\n",
    "results_list = results_data[\"results\"]\n",
    "\n",
    "# Create a flattened list of dictionaries for DataFrame creation\n",
    "flattened_results = []\n",
    "for result in results_list:\n",
    "    # Create a dictionary for each result\n",
    "    flat_result = {\n",
    "        \"Model\": result[\"model_id\"],\n",
    "        \"Task\": result[\"task_id\"],\n",
    "        \"Dataset\": result[\"dataset\"]\n",
    "    }\n",
    "    \n",
    "    # Add all metrics from the metrics_summary/overall section\n",
    "    if \"metrics_summary\" in result and \"overall\" in result[\"metrics_summary\"]:\n",
    "        metrics = result[\"metrics_summary\"][\"overall\"]\n",
    "        for metric_key, metric_value in metrics.items():\n",
    "            flat_result[metric_key] = metric_value\n",
    "    \n",
    "    flattened_results.append(flat_result)\n",
    "\n",
    "# Create DataFrame\n",
    "df = pd.DataFrame(flattened_results)\n",
    "\n",
    "print(f\"Loaded data with shape: {df.shape}\")\n",
    "print(f\"Columns: {', '.join(df.columns)}\")\n",
    "df.head()"
   ]
  },
  {
   "cell_type": "code",
   "execution_count": 48,
   "id": "78730ee4",
   "metadata": {},
   "outputs": [],
   "source": [
    "# Rename columns to consistent format\n",
    "df.columns = [col.strip().replace('\"', \"\") for col in df.columns]\n",
    "df[\"Task-Dataset\"] = df[\"Task\"] + \" - \" + df[\"Dataset\"]\n",
    "\n",
    "# Models, task-datasets, and metrics\n",
    "models = sorted(df[\"Model\"].unique())\n",
    "task_datasets = sorted(df[\"Task-Dataset\"].unique())\n",
    "metrics = [\n",
    "    \"auroc\",\n",
    "    \"auprc\",\n",
    "    \"normalized_auprc\",\n",
    "    \"sensitivity\",\n",
    "    \"specificity\",\n",
    "    \"f1_score\",\n",
    "    \"accuracy\",\n",
    "    \"balanced_accuracy\",\n",
    "    \"precision\",\n",
    "    \"recall\",\n",
    "    \"mcc\",\n",
    "    \"kappa\",\n",
    "    \"minpse\",\n",
    "]"
   ]
  },
  {
   "cell_type": "code",
   "execution_count": 49,
   "id": "a528ff98",
   "metadata": {},
   "outputs": [],
   "source": [
    "# Generate blue shades for task datasets\n",
    "task_dataset_colors = sequential.Blues[len(sequential.Blues) - len(task_datasets):][::-1]\n",
    "task_dataset_colors = task_dataset_colors[: len(task_datasets)]\n",
    "traces_per_metric = len(task_datasets)"
   ]
  },
  {
   "cell_type": "code",
   "execution_count": 46,
   "id": "424fe75a",
   "metadata": {},
   "outputs": [
    {
     "data": {
      "text/plain": [
       "['rgb(8,48,107)',\n",
       " 'rgb(8,81,156)',\n",
       " 'rgb(33,113,181)',\n",
       " 'rgb(66,146,198)',\n",
       " 'rgb(107,174,214)',\n",
       " 'rgb(158,202,225)',\n",
       " 'rgb(198,219,239)',\n",
       " 'rgb(222,235,247)',\n",
       " 'rgb(247,251,255)']"
      ]
     },
     "execution_count": 46,
     "metadata": {},
     "output_type": "execute_result"
    }
   ],
   "source": [
    "task_dataset_colors"
   ]
  },
  {
   "cell_type": "code",
   "execution_count": 66,
   "id": "fff1a0c3",
   "metadata": {},
   "outputs": [
    {
     "data": {
      "application/vnd.plotly.v1+json": {
       "config": {
        "plotlyServerURL": "https://plot.ly"
       },
       "data": [
        {
         "hovertemplate": "<b>Model:</b> %{x}<br><b>Task-Dataset:</b> %{meta}<br><b>Score:</b> %{y:.2f}<extra></extra>",
         "legendgroup": "aki - eicu",
         "marker": {
          "color": "rgb(8,48,107)"
         },
         "meta": [
          "aki - eicu",
          "aki - hirid",
          "aki - miiv",
          "mortality - eicu",
          "mortality - hirid",
          "mortality - miiv",
          "sepsis - eicu",
          "sepsis - hirid",
          "sepsis - miiv"
         ],
         "name": "aki - eicu",
         "type": "bar",
         "visible": true,
         "x": [
          "CNN",
          "GRU",
          "InceptionTime",
          "LSTM",
          "LightGBM",
          "RandomForest",
          "XGBoost"
         ],
         "y": [
          0.777,
          0.801,
          null,
          0.734,
          0.826,
          0.741,
          0.828
         ]
        },
        {
         "hovertemplate": "<b>Model:</b> %{x}<br><b>Task-Dataset:</b> %{meta}<br><b>Score:</b> %{y:.2f}<extra></extra>",
         "legendgroup": "aki - hirid",
         "marker": {
          "color": "rgb(8,81,156)"
         },
         "meta": [
          "aki - eicu",
          "aki - hirid",
          "aki - miiv",
          "mortality - eicu",
          "mortality - hirid",
          "mortality - miiv",
          "sepsis - eicu",
          "sepsis - hirid",
          "sepsis - miiv"
         ],
         "name": "aki - hirid",
         "type": "bar",
         "visible": true,
         "x": [
          "CNN",
          "GRU",
          "InceptionTime",
          "LSTM",
          "LightGBM",
          "RandomForest",
          "XGBoost"
         ],
         "y": [
          0.795,
          0.755,
          0.798,
          0.72,
          0.807,
          0.741,
          0.792
         ]
        },
        {
         "hovertemplate": "<b>Model:</b> %{x}<br><b>Task-Dataset:</b> %{meta}<br><b>Score:</b> %{y:.2f}<extra></extra>",
         "legendgroup": "aki - miiv",
         "marker": {
          "color": "rgb(33,113,181)"
         },
         "meta": [
          "aki - eicu",
          "aki - hirid",
          "aki - miiv",
          "mortality - eicu",
          "mortality - hirid",
          "mortality - miiv",
          "sepsis - eicu",
          "sepsis - hirid",
          "sepsis - miiv"
         ],
         "name": "aki - miiv",
         "type": "bar",
         "visible": true,
         "x": [
          "CNN",
          "GRU",
          "InceptionTime",
          "LSTM",
          "LightGBM",
          "RandomForest",
          "XGBoost"
         ],
         "y": [
          0.823,
          0.844,
          0.84,
          0.757,
          0.877,
          0.835,
          0.882
         ]
        },
        {
         "hovertemplate": "<b>Model:</b> %{x}<br><b>Task-Dataset:</b> %{meta}<br><b>Score:</b> %{y:.2f}<extra></extra>",
         "legendgroup": "mortality - eicu",
         "marker": {
          "color": "rgb(66,146,198)"
         },
         "meta": [
          "aki - eicu",
          "aki - hirid",
          "aki - miiv",
          "mortality - eicu",
          "mortality - hirid",
          "mortality - miiv",
          "sepsis - eicu",
          "sepsis - hirid",
          "sepsis - miiv"
         ],
         "name": "mortality - eicu",
         "type": "bar",
         "visible": true,
         "x": [
          "CNN",
          "GRU",
          "InceptionTime",
          "LSTM",
          "LightGBM",
          "RandomForest",
          "XGBoost"
         ],
         "y": [
          0.794,
          0.894,
          0.863,
          0.823,
          0.857,
          0.773,
          0.817
         ]
        },
        {
         "hovertemplate": "<b>Model:</b> %{x}<br><b>Task-Dataset:</b> %{meta}<br><b>Score:</b> %{y:.2f}<extra></extra>",
         "legendgroup": "mortality - hirid",
         "marker": {
          "color": "rgb(107,174,214)"
         },
         "meta": [
          "aki - eicu",
          "aki - hirid",
          "aki - miiv",
          "mortality - eicu",
          "mortality - hirid",
          "mortality - miiv",
          "sepsis - eicu",
          "sepsis - hirid",
          "sepsis - miiv"
         ],
         "name": "mortality - hirid",
         "type": "bar",
         "visible": true,
         "x": [
          "CNN",
          "GRU",
          "InceptionTime",
          "LSTM",
          "LightGBM",
          "RandomForest",
          "XGBoost"
         ],
         "y": [
          0.819,
          0.788,
          0.871,
          0.845,
          0.906,
          0.902,
          0.806
         ]
        },
        {
         "hovertemplate": "<b>Model:</b> %{x}<br><b>Task-Dataset:</b> %{meta}<br><b>Score:</b> %{y:.2f}<extra></extra>",
         "legendgroup": "mortality - miiv",
         "marker": {
          "color": "rgb(158,202,225)"
         },
         "meta": [
          "aki - eicu",
          "aki - hirid",
          "aki - miiv",
          "mortality - eicu",
          "mortality - hirid",
          "mortality - miiv",
          "sepsis - eicu",
          "sepsis - hirid",
          "sepsis - miiv"
         ],
         "name": "mortality - miiv",
         "type": "bar",
         "visible": true,
         "x": [
          "CNN",
          "GRU",
          "InceptionTime",
          "LSTM",
          "LightGBM",
          "RandomForest",
          "XGBoost"
         ],
         "y": [
          0.812,
          0.751,
          0.862,
          0.678,
          0.879,
          0.823,
          0.865
         ]
        },
        {
         "hovertemplate": "<b>Model:</b> %{x}<br><b>Task-Dataset:</b> %{meta}<br><b>Score:</b> %{y:.2f}<extra></extra>",
         "legendgroup": "sepsis - eicu",
         "marker": {
          "color": "rgb(198,219,239)"
         },
         "meta": [
          "aki - eicu",
          "aki - hirid",
          "aki - miiv",
          "mortality - eicu",
          "mortality - hirid",
          "mortality - miiv",
          "sepsis - eicu",
          "sepsis - hirid",
          "sepsis - miiv"
         ],
         "name": "sepsis - eicu",
         "type": "bar",
         "visible": true,
         "x": [
          "CNN",
          "GRU",
          "InceptionTime",
          "LSTM",
          "LightGBM",
          "RandomForest",
          "XGBoost"
         ],
         "y": [
          0.494,
          0.694,
          null,
          0.678,
          0.693,
          0.597,
          0.757
         ]
        },
        {
         "hovertemplate": "<b>Model:</b> %{x}<br><b>Task-Dataset:</b> %{meta}<br><b>Score:</b> %{y:.2f}<extra></extra>",
         "legendgroup": "sepsis - hirid",
         "marker": {
          "color": "rgb(222,235,247)"
         },
         "meta": [
          "aki - eicu",
          "aki - hirid",
          "aki - miiv",
          "mortality - eicu",
          "mortality - hirid",
          "mortality - miiv",
          "sepsis - eicu",
          "sepsis - hirid",
          "sepsis - miiv"
         ],
         "name": "sepsis - hirid",
         "type": "bar",
         "visible": true,
         "x": [
          "CNN",
          "GRU",
          "InceptionTime",
          "LSTM",
          "LightGBM",
          "RandomForest",
          "XGBoost"
         ],
         "y": [
          0.557,
          0.623,
          null,
          0.765,
          0.862,
          0.836,
          0.839
         ]
        },
        {
         "hovertemplate": "<b>Model:</b> %{x}<br><b>Task-Dataset:</b> %{meta}<br><b>Score:</b> %{y:.2f}<extra></extra>",
         "legendgroup": "sepsis - miiv",
         "marker": {
          "color": "rgb(247,251,255)"
         },
         "meta": [
          "aki - eicu",
          "aki - hirid",
          "aki - miiv",
          "mortality - eicu",
          "mortality - hirid",
          "mortality - miiv",
          "sepsis - eicu",
          "sepsis - hirid",
          "sepsis - miiv"
         ],
         "name": "sepsis - miiv",
         "type": "bar",
         "visible": true,
         "x": [
          "CNN",
          "GRU",
          "InceptionTime",
          "LSTM",
          "LightGBM",
          "RandomForest",
          "XGBoost"
         ],
         "y": [
          0.661,
          0.442,
          null,
          0.645,
          0.562,
          0.646,
          0.639
         ]
        },
        {
         "hovertemplate": "<b>Model:</b> %{x}<br><b>Task-Dataset:</b> %{meta}<br><b>Score:</b> %{y:.2f}<extra></extra>",
         "legendgroup": "aki - eicu",
         "marker": {
          "color": "rgb(8,48,107)"
         },
         "meta": [
          "aki - eicu",
          "aki - hirid",
          "aki - miiv",
          "mortality - eicu",
          "mortality - hirid",
          "mortality - miiv",
          "sepsis - eicu",
          "sepsis - hirid",
          "sepsis - miiv"
         ],
         "name": "aki - eicu",
         "type": "bar",
         "visible": false,
         "x": [
          "CNN",
          "GRU",
          "InceptionTime",
          "LSTM",
          "LightGBM",
          "RandomForest",
          "XGBoost"
         ],
         "y": [
          0.474,
          0.498,
          null,
          0.385,
          0.538,
          0.346,
          0.544
         ]
        },
        {
         "hovertemplate": "<b>Model:</b> %{x}<br><b>Task-Dataset:</b> %{meta}<br><b>Score:</b> %{y:.2f}<extra></extra>",
         "legendgroup": "aki - hirid",
         "marker": {
          "color": "rgb(8,81,156)"
         },
         "meta": [
          "aki - eicu",
          "aki - hirid",
          "aki - miiv",
          "mortality - eicu",
          "mortality - hirid",
          "mortality - miiv",
          "sepsis - eicu",
          "sepsis - hirid",
          "sepsis - miiv"
         ],
         "name": "aki - hirid",
         "type": "bar",
         "visible": false,
         "x": [
          "CNN",
          "GRU",
          "InceptionTime",
          "LSTM",
          "LightGBM",
          "RandomForest",
          "XGBoost"
         ],
         "y": [
          0.278,
          0.264,
          0.277,
          0.235,
          0.394,
          0.27,
          0.355
         ]
        },
        {
         "hovertemplate": "<b>Model:</b> %{x}<br><b>Task-Dataset:</b> %{meta}<br><b>Score:</b> %{y:.2f}<extra></extra>",
         "legendgroup": "aki - miiv",
         "marker": {
          "color": "rgb(33,113,181)"
         },
         "meta": [
          "aki - eicu",
          "aki - hirid",
          "aki - miiv",
          "mortality - eicu",
          "mortality - hirid",
          "mortality - miiv",
          "sepsis - eicu",
          "sepsis - hirid",
          "sepsis - miiv"
         ],
         "name": "aki - miiv",
         "type": "bar",
         "visible": false,
         "x": [
          "CNN",
          "GRU",
          "InceptionTime",
          "LSTM",
          "LightGBM",
          "RandomForest",
          "XGBoost"
         ],
         "y": [
          0.521,
          0.531,
          0.554,
          0.407,
          0.601,
          0.526,
          0.605
         ]
        },
        {
         "hovertemplate": "<b>Model:</b> %{x}<br><b>Task-Dataset:</b> %{meta}<br><b>Score:</b> %{y:.2f}<extra></extra>",
         "legendgroup": "mortality - eicu",
         "marker": {
          "color": "rgb(66,146,198)"
         },
         "meta": [
          "aki - eicu",
          "aki - hirid",
          "aki - miiv",
          "mortality - eicu",
          "mortality - hirid",
          "mortality - miiv",
          "sepsis - eicu",
          "sepsis - hirid",
          "sepsis - miiv"
         ],
         "name": "mortality - eicu",
         "type": "bar",
         "visible": false,
         "x": [
          "CNN",
          "GRU",
          "InceptionTime",
          "LSTM",
          "LightGBM",
          "RandomForest",
          "XGBoost"
         ],
         "y": [
          0.429,
          0.469,
          0.464,
          0.322,
          0.473,
          0.469,
          0.45
         ]
        },
        {
         "hovertemplate": "<b>Model:</b> %{x}<br><b>Task-Dataset:</b> %{meta}<br><b>Score:</b> %{y:.2f}<extra></extra>",
         "legendgroup": "mortality - hirid",
         "marker": {
          "color": "rgb(107,174,214)"
         },
         "meta": [
          "aki - eicu",
          "aki - hirid",
          "aki - miiv",
          "mortality - eicu",
          "mortality - hirid",
          "mortality - miiv",
          "sepsis - eicu",
          "sepsis - hirid",
          "sepsis - miiv"
         ],
         "name": "mortality - hirid",
         "type": "bar",
         "visible": false,
         "x": [
          "CNN",
          "GRU",
          "InceptionTime",
          "LSTM",
          "LightGBM",
          "RandomForest",
          "XGBoost"
         ],
         "y": [
          0.464,
          0.515,
          0.618,
          0.576,
          0.637,
          0.614,
          0.531
         ]
        },
        {
         "hovertemplate": "<b>Model:</b> %{x}<br><b>Task-Dataset:</b> %{meta}<br><b>Score:</b> %{y:.2f}<extra></extra>",
         "legendgroup": "mortality - miiv",
         "marker": {
          "color": "rgb(158,202,225)"
         },
         "meta": [
          "aki - eicu",
          "aki - hirid",
          "aki - miiv",
          "mortality - eicu",
          "mortality - hirid",
          "mortality - miiv",
          "sepsis - eicu",
          "sepsis - hirid",
          "sepsis - miiv"
         ],
         "name": "mortality - miiv",
         "type": "bar",
         "visible": false,
         "x": [
          "CNN",
          "GRU",
          "InceptionTime",
          "LSTM",
          "LightGBM",
          "RandomForest",
          "XGBoost"
         ],
         "y": [
          0.329,
          0.258,
          0.595,
          0.452,
          0.464,
          0.652,
          0.454
         ]
        },
        {
         "hovertemplate": "<b>Model:</b> %{x}<br><b>Task-Dataset:</b> %{meta}<br><b>Score:</b> %{y:.2f}<extra></extra>",
         "legendgroup": "sepsis - eicu",
         "marker": {
          "color": "rgb(198,219,239)"
         },
         "meta": [
          "aki - eicu",
          "aki - hirid",
          "aki - miiv",
          "mortality - eicu",
          "mortality - hirid",
          "mortality - miiv",
          "sepsis - eicu",
          "sepsis - hirid",
          "sepsis - miiv"
         ],
         "name": "sepsis - eicu",
         "type": "bar",
         "visible": false,
         "x": [
          "CNN",
          "GRU",
          "InceptionTime",
          "LSTM",
          "LightGBM",
          "RandomForest",
          "XGBoost"
         ],
         "y": [
          0.017,
          0.032,
          null,
          0.029,
          0.033,
          0.031,
          0.039
         ]
        },
        {
         "hovertemplate": "<b>Model:</b> %{x}<br><b>Task-Dataset:</b> %{meta}<br><b>Score:</b> %{y:.2f}<extra></extra>",
         "legendgroup": "sepsis - hirid",
         "marker": {
          "color": "rgb(222,235,247)"
         },
         "meta": [
          "aki - eicu",
          "aki - hirid",
          "aki - miiv",
          "mortality - eicu",
          "mortality - hirid",
          "mortality - miiv",
          "sepsis - eicu",
          "sepsis - hirid",
          "sepsis - miiv"
         ],
         "name": "sepsis - hirid",
         "type": "bar",
         "visible": false,
         "x": [
          "CNN",
          "GRU",
          "InceptionTime",
          "LSTM",
          "LightGBM",
          "RandomForest",
          "XGBoost"
         ],
         "y": [
          0.068,
          0.078,
          null,
          0.154,
          0.183,
          0.147,
          0.174
         ]
        },
        {
         "hovertemplate": "<b>Model:</b> %{x}<br><b>Task-Dataset:</b> %{meta}<br><b>Score:</b> %{y:.2f}<extra></extra>",
         "legendgroup": "sepsis - miiv",
         "marker": {
          "color": "rgb(247,251,255)"
         },
         "meta": [
          "aki - eicu",
          "aki - hirid",
          "aki - miiv",
          "mortality - eicu",
          "mortality - hirid",
          "mortality - miiv",
          "sepsis - eicu",
          "sepsis - hirid",
          "sepsis - miiv"
         ],
         "name": "sepsis - miiv",
         "type": "bar",
         "visible": false,
         "x": [
          "CNN",
          "GRU",
          "InceptionTime",
          "LSTM",
          "LightGBM",
          "RandomForest",
          "XGBoost"
         ],
         "y": [
          0.018,
          0.009,
          null,
          0.017,
          0.017,
          0.015,
          0.069
         ]
        },
        {
         "hovertemplate": "<b>Model:</b> %{x}<br><b>Task-Dataset:</b> %{meta}<br><b>Score:</b> %{y:.2f}<extra></extra>",
         "legendgroup": "aki - eicu",
         "marker": {
          "color": "rgb(8,48,107)"
         },
         "meta": [
          "aki - eicu",
          "aki - hirid",
          "aki - miiv",
          "mortality - eicu",
          "mortality - hirid",
          "mortality - miiv",
          "sepsis - eicu",
          "sepsis - hirid",
          "sepsis - miiv"
         ],
         "name": "aki - eicu",
         "type": "bar",
         "visible": false,
         "x": [
          "CNN",
          "GRU",
          "InceptionTime",
          "LSTM",
          "LightGBM",
          "RandomForest",
          "XGBoost"
         ],
         "y": [
          3.249,
          3.412,
          null,
          2.638,
          3.684,
          2.368,
          3.728
         ]
        },
        {
         "hovertemplate": "<b>Model:</b> %{x}<br><b>Task-Dataset:</b> %{meta}<br><b>Score:</b> %{y:.2f}<extra></extra>",
         "legendgroup": "aki - hirid",
         "marker": {
          "color": "rgb(8,81,156)"
         },
         "meta": [
          "aki - eicu",
          "aki - hirid",
          "aki - miiv",
          "mortality - eicu",
          "mortality - hirid",
          "mortality - miiv",
          "sepsis - eicu",
          "sepsis - hirid",
          "sepsis - miiv"
         ],
         "name": "aki - hirid",
         "type": "bar",
         "visible": false,
         "x": [
          "CNN",
          "GRU",
          "InceptionTime",
          "LSTM",
          "LightGBM",
          "RandomForest",
          "XGBoost"
         ],
         "y": [
          3.139,
          2.981,
          3.126,
          2.653,
          4.459,
          3.051,
          4.018
         ]
        },
        {
         "hovertemplate": "<b>Model:</b> %{x}<br><b>Task-Dataset:</b> %{meta}<br><b>Score:</b> %{y:.2f}<extra></extra>",
         "legendgroup": "aki - miiv",
         "marker": {
          "color": "rgb(33,113,181)"
         },
         "meta": [
          "aki - eicu",
          "aki - hirid",
          "aki - miiv",
          "mortality - eicu",
          "mortality - hirid",
          "mortality - miiv",
          "sepsis - eicu",
          "sepsis - hirid",
          "sepsis - miiv"
         ],
         "name": "aki - miiv",
         "type": "bar",
         "visible": false,
         "x": [
          "CNN",
          "GRU",
          "InceptionTime",
          "LSTM",
          "LightGBM",
          "RandomForest",
          "XGBoost"
         ],
         "y": [
          4.087,
          4.162,
          4.345,
          3.194,
          4.709,
          4.124,
          4.744
         ]
        },
        {
         "hovertemplate": "<b>Model:</b> %{x}<br><b>Task-Dataset:</b> %{meta}<br><b>Score:</b> %{y:.2f}<extra></extra>",
         "legendgroup": "mortality - eicu",
         "marker": {
          "color": "rgb(66,146,198)"
         },
         "meta": [
          "aki - eicu",
          "aki - hirid",
          "aki - miiv",
          "mortality - eicu",
          "mortality - hirid",
          "mortality - miiv",
          "sepsis - eicu",
          "sepsis - hirid",
          "sepsis - miiv"
         ],
         "name": "mortality - eicu",
         "type": "bar",
         "visible": false,
         "x": [
          "CNN",
          "GRU",
          "InceptionTime",
          "LSTM",
          "LightGBM",
          "RandomForest",
          "XGBoost"
         ],
         "y": [
          6.136,
          6.695,
          6.628,
          4.604,
          6.751,
          6.705,
          6.43
         ]
        },
        {
         "hovertemplate": "<b>Model:</b> %{x}<br><b>Task-Dataset:</b> %{meta}<br><b>Score:</b> %{y:.2f}<extra></extra>",
         "legendgroup": "mortality - hirid",
         "marker": {
          "color": "rgb(107,174,214)"
         },
         "meta": [
          "aki - eicu",
          "aki - hirid",
          "aki - miiv",
          "mortality - eicu",
          "mortality - hirid",
          "mortality - miiv",
          "sepsis - eicu",
          "sepsis - hirid",
          "sepsis - miiv"
         ],
         "name": "mortality - hirid",
         "type": "bar",
         "visible": false,
         "x": [
          "CNN",
          "GRU",
          "InceptionTime",
          "LSTM",
          "LightGBM",
          "RandomForest",
          "XGBoost"
         ],
         "y": [
          4.222,
          4.686,
          5.623,
          5.233,
          5.793,
          5.58,
          4.831
         ]
        },
        {
         "hovertemplate": "<b>Model:</b> %{x}<br><b>Task-Dataset:</b> %{meta}<br><b>Score:</b> %{y:.2f}<extra></extra>",
         "legendgroup": "mortality - miiv",
         "marker": {
          "color": "rgb(158,202,225)"
         },
         "meta": [
          "aki - eicu",
          "aki - hirid",
          "aki - miiv",
          "mortality - eicu",
          "mortality - hirid",
          "mortality - miiv",
          "sepsis - eicu",
          "sepsis - hirid",
          "sepsis - miiv"
         ],
         "name": "mortality - miiv",
         "type": "bar",
         "visible": false,
         "x": [
          "CNN",
          "GRU",
          "InceptionTime",
          "LSTM",
          "LightGBM",
          "RandomForest",
          "XGBoost"
         ],
         "y": [
          2.745,
          2.15,
          4.959,
          3.767,
          3.863,
          5.434,
          3.782
         ]
        },
        {
         "hovertemplate": "<b>Model:</b> %{x}<br><b>Task-Dataset:</b> %{meta}<br><b>Score:</b> %{y:.2f}<extra></extra>",
         "legendgroup": "sepsis - eicu",
         "marker": {
          "color": "rgb(198,219,239)"
         },
         "meta": [
          "aki - eicu",
          "aki - hirid",
          "aki - miiv",
          "mortality - eicu",
          "mortality - hirid",
          "mortality - miiv",
          "sepsis - eicu",
          "sepsis - hirid",
          "sepsis - miiv"
         ],
         "name": "sepsis - eicu",
         "type": "bar",
         "visible": false,
         "x": [
          "CNN",
          "GRU",
          "InceptionTime",
          "LSTM",
          "LightGBM",
          "RandomForest",
          "XGBoost"
         ],
         "y": [
          0.975,
          1.87,
          null,
          1.684,
          1.921,
          1.809,
          2.295
         ]
        },
        {
         "hovertemplate": "<b>Model:</b> %{x}<br><b>Task-Dataset:</b> %{meta}<br><b>Score:</b> %{y:.2f}<extra></extra>",
         "legendgroup": "sepsis - hirid",
         "marker": {
          "color": "rgb(222,235,247)"
         },
         "meta": [
          "aki - eicu",
          "aki - hirid",
          "aki - miiv",
          "mortality - eicu",
          "mortality - hirid",
          "mortality - miiv",
          "sepsis - eicu",
          "sepsis - hirid",
          "sepsis - miiv"
         ],
         "name": "sepsis - hirid",
         "type": "bar",
         "visible": false,
         "x": [
          "CNN",
          "GRU",
          "InceptionTime",
          "LSTM",
          "LightGBM",
          "RandomForest",
          "XGBoost"
         ],
         "y": [
          1.693,
          1.94,
          null,
          3.84,
          4.569,
          3.667,
          4.328
         ]
        },
        {
         "hovertemplate": "<b>Model:</b> %{x}<br><b>Task-Dataset:</b> %{meta}<br><b>Score:</b> %{y:.2f}<extra></extra>",
         "legendgroup": "sepsis - miiv",
         "marker": {
          "color": "rgb(247,251,255)"
         },
         "meta": [
          "aki - eicu",
          "aki - hirid",
          "aki - miiv",
          "mortality - eicu",
          "mortality - hirid",
          "mortality - miiv",
          "sepsis - eicu",
          "sepsis - hirid",
          "sepsis - miiv"
         ],
         "name": "sepsis - miiv",
         "type": "bar",
         "visible": false,
         "x": [
          "CNN",
          "GRU",
          "InceptionTime",
          "LSTM",
          "LightGBM",
          "RandomForest",
          "XGBoost"
         ],
         "y": [
          1.629,
          0.839,
          null,
          1.543,
          1.514,
          1.394,
          6.232
         ]
        },
        {
         "hovertemplate": "<b>Model:</b> %{x}<br><b>Task-Dataset:</b> %{meta}<br><b>Score:</b> %{y:.2f}<extra></extra>",
         "legendgroup": "aki - eicu",
         "marker": {
          "color": "rgb(8,48,107)"
         },
         "meta": [
          "aki - eicu",
          "aki - hirid",
          "aki - miiv",
          "mortality - eicu",
          "mortality - hirid",
          "mortality - miiv",
          "sepsis - eicu",
          "sepsis - hirid",
          "sepsis - miiv"
         ],
         "name": "aki - eicu",
         "type": "bar",
         "visible": false,
         "x": [
          "CNN",
          "GRU",
          "InceptionTime",
          "LSTM",
          "LightGBM",
          "RandomForest",
          "XGBoost"
         ],
         "y": [
          null,
          null,
          null,
          null,
          0.271,
          0.235,
          0.289
         ]
        },
        {
         "hovertemplate": "<b>Model:</b> %{x}<br><b>Task-Dataset:</b> %{meta}<br><b>Score:</b> %{y:.2f}<extra></extra>",
         "legendgroup": "aki - hirid",
         "marker": {
          "color": "rgb(8,81,156)"
         },
         "meta": [
          "aki - eicu",
          "aki - hirid",
          "aki - miiv",
          "mortality - eicu",
          "mortality - hirid",
          "mortality - miiv",
          "sepsis - eicu",
          "sepsis - hirid",
          "sepsis - miiv"
         ],
         "name": "aki - hirid",
         "type": "bar",
         "visible": false,
         "x": [
          "CNN",
          "GRU",
          "InceptionTime",
          "LSTM",
          "LightGBM",
          "RandomForest",
          "XGBoost"
         ],
         "y": [
          null,
          null,
          null,
          null,
          0.116,
          0.008,
          0.12
         ]
        },
        {
         "hovertemplate": "<b>Model:</b> %{x}<br><b>Task-Dataset:</b> %{meta}<br><b>Score:</b> %{y:.2f}<extra></extra>",
         "legendgroup": "aki - miiv",
         "marker": {
          "color": "rgb(33,113,181)"
         },
         "meta": [
          "aki - eicu",
          "aki - hirid",
          "aki - miiv",
          "mortality - eicu",
          "mortality - hirid",
          "mortality - miiv",
          "sepsis - eicu",
          "sepsis - hirid",
          "sepsis - miiv"
         ],
         "name": "aki - miiv",
         "type": "bar",
         "visible": false,
         "x": [
          "CNN",
          "GRU",
          "InceptionTime",
          "LSTM",
          "LightGBM",
          "RandomForest",
          "XGBoost"
         ],
         "y": [
          null,
          null,
          null,
          null,
          0.227,
          0.092,
          0.248
         ]
        },
        {
         "hovertemplate": "<b>Model:</b> %{x}<br><b>Task-Dataset:</b> %{meta}<br><b>Score:</b> %{y:.2f}<extra></extra>",
         "legendgroup": "mortality - eicu",
         "marker": {
          "color": "rgb(66,146,198)"
         },
         "meta": [
          "aki - eicu",
          "aki - hirid",
          "aki - miiv",
          "mortality - eicu",
          "mortality - hirid",
          "mortality - miiv",
          "sepsis - eicu",
          "sepsis - hirid",
          "sepsis - miiv"
         ],
         "name": "mortality - eicu",
         "type": "bar",
         "visible": false,
         "x": [
          "CNN",
          "GRU",
          "InceptionTime",
          "LSTM",
          "LightGBM",
          "RandomForest",
          "XGBoost"
         ],
         "y": [
          null,
          null,
          null,
          null,
          0.143,
          0.143,
          0.286
         ]
        },
        {
         "hovertemplate": "<b>Model:</b> %{x}<br><b>Task-Dataset:</b> %{meta}<br><b>Score:</b> %{y:.2f}<extra></extra>",
         "legendgroup": "mortality - hirid",
         "marker": {
          "color": "rgb(107,174,214)"
         },
         "meta": [
          "aki - eicu",
          "aki - hirid",
          "aki - miiv",
          "mortality - eicu",
          "mortality - hirid",
          "mortality - miiv",
          "sepsis - eicu",
          "sepsis - hirid",
          "sepsis - miiv"
         ],
         "name": "mortality - hirid",
         "type": "bar",
         "visible": false,
         "x": [
          "CNN",
          "GRU",
          "InceptionTime",
          "LSTM",
          "LightGBM",
          "RandomForest",
          "XGBoost"
         ],
         "y": [
          null,
          null,
          null,
          null,
          0.273,
          0.182,
          0.273
         ]
        },
        {
         "hovertemplate": "<b>Model:</b> %{x}<br><b>Task-Dataset:</b> %{meta}<br><b>Score:</b> %{y:.2f}<extra></extra>",
         "legendgroup": "mortality - miiv",
         "marker": {
          "color": "rgb(158,202,225)"
         },
         "meta": [
          "aki - eicu",
          "aki - hirid",
          "aki - miiv",
          "mortality - eicu",
          "mortality - hirid",
          "mortality - miiv",
          "sepsis - eicu",
          "sepsis - hirid",
          "sepsis - miiv"
         ],
         "name": "mortality - miiv",
         "type": "bar",
         "visible": false,
         "x": [
          "CNN",
          "GRU",
          "InceptionTime",
          "LSTM",
          "LightGBM",
          "RandomForest",
          "XGBoost"
         ],
         "y": [
          null,
          null,
          null,
          null,
          0,
          0,
          0
         ]
        },
        {
         "hovertemplate": "<b>Model:</b> %{x}<br><b>Task-Dataset:</b> %{meta}<br><b>Score:</b> %{y:.2f}<extra></extra>",
         "legendgroup": "sepsis - eicu",
         "marker": {
          "color": "rgb(198,219,239)"
         },
         "meta": [
          "aki - eicu",
          "aki - hirid",
          "aki - miiv",
          "mortality - eicu",
          "mortality - hirid",
          "mortality - miiv",
          "sepsis - eicu",
          "sepsis - hirid",
          "sepsis - miiv"
         ],
         "name": "sepsis - eicu",
         "type": "bar",
         "visible": false,
         "x": [
          "CNN",
          "GRU",
          "InceptionTime",
          "LSTM",
          "LightGBM",
          "RandomForest",
          "XGBoost"
         ],
         "y": [
          null,
          null,
          null,
          null,
          0,
          0,
          0
         ]
        },
        {
         "hovertemplate": "<b>Model:</b> %{x}<br><b>Task-Dataset:</b> %{meta}<br><b>Score:</b> %{y:.2f}<extra></extra>",
         "legendgroup": "sepsis - hirid",
         "marker": {
          "color": "rgb(222,235,247)"
         },
         "meta": [
          "aki - eicu",
          "aki - hirid",
          "aki - miiv",
          "mortality - eicu",
          "mortality - hirid",
          "mortality - miiv",
          "sepsis - eicu",
          "sepsis - hirid",
          "sepsis - miiv"
         ],
         "name": "sepsis - hirid",
         "type": "bar",
         "visible": false,
         "x": [
          "CNN",
          "GRU",
          "InceptionTime",
          "LSTM",
          "LightGBM",
          "RandomForest",
          "XGBoost"
         ],
         "y": [
          null,
          null,
          null,
          null,
          0,
          0,
          0.009
         ]
        },
        {
         "hovertemplate": "<b>Model:</b> %{x}<br><b>Task-Dataset:</b> %{meta}<br><b>Score:</b> %{y:.2f}<extra></extra>",
         "legendgroup": "sepsis - miiv",
         "marker": {
          "color": "rgb(247,251,255)"
         },
         "meta": [
          "aki - eicu",
          "aki - hirid",
          "aki - miiv",
          "mortality - eicu",
          "mortality - hirid",
          "mortality - miiv",
          "sepsis - eicu",
          "sepsis - hirid",
          "sepsis - miiv"
         ],
         "name": "sepsis - miiv",
         "type": "bar",
         "visible": false,
         "x": [
          "CNN",
          "GRU",
          "InceptionTime",
          "LSTM",
          "LightGBM",
          "RandomForest",
          "XGBoost"
         ],
         "y": [
          null,
          null,
          null,
          null,
          0,
          0,
          0.048
         ]
        },
        {
         "hovertemplate": "<b>Model:</b> %{x}<br><b>Task-Dataset:</b> %{meta}<br><b>Score:</b> %{y:.2f}<extra></extra>",
         "legendgroup": "aki - eicu",
         "marker": {
          "color": "rgb(8,48,107)"
         },
         "meta": [
          "aki - eicu",
          "aki - hirid",
          "aki - miiv",
          "mortality - eicu",
          "mortality - hirid",
          "mortality - miiv",
          "sepsis - eicu",
          "sepsis - hirid",
          "sepsis - miiv"
         ],
         "name": "aki - eicu",
         "type": "bar",
         "visible": false,
         "x": [
          "CNN",
          "GRU",
          "InceptionTime",
          "LSTM",
          "LightGBM",
          "RandomForest",
          "XGBoost"
         ],
         "y": [
          0.756,
          0.761,
          null,
          0.798,
          0.983,
          0.948,
          0.978
         ]
        },
        {
         "hovertemplate": "<b>Model:</b> %{x}<br><b>Task-Dataset:</b> %{meta}<br><b>Score:</b> %{y:.2f}<extra></extra>",
         "legendgroup": "aki - hirid",
         "marker": {
          "color": "rgb(8,81,156)"
         },
         "meta": [
          "aki - eicu",
          "aki - hirid",
          "aki - miiv",
          "mortality - eicu",
          "mortality - hirid",
          "mortality - miiv",
          "sepsis - eicu",
          "sepsis - hirid",
          "sepsis - miiv"
         ],
         "name": "aki - hirid",
         "type": "bar",
         "visible": false,
         "x": [
          "CNN",
          "GRU",
          "InceptionTime",
          "LSTM",
          "LightGBM",
          "RandomForest",
          "XGBoost"
         ],
         "y": [
          0.901,
          0.864,
          0.876,
          0.961,
          0.998,
          1,
          0.996
         ]
        },
        {
         "hovertemplate": "<b>Model:</b> %{x}<br><b>Task-Dataset:</b> %{meta}<br><b>Score:</b> %{y:.2f}<extra></extra>",
         "legendgroup": "aki - miiv",
         "marker": {
          "color": "rgb(33,113,181)"
         },
         "meta": [
          "aki - eicu",
          "aki - hirid",
          "aki - miiv",
          "mortality - eicu",
          "mortality - hirid",
          "mortality - miiv",
          "sepsis - eicu",
          "sepsis - hirid",
          "sepsis - miiv"
         ],
         "name": "aki - miiv",
         "type": "bar",
         "visible": false,
         "x": [
          "CNN",
          "GRU",
          "InceptionTime",
          "LSTM",
          "LightGBM",
          "RandomForest",
          "XGBoost"
         ],
         "y": [
          0.865,
          0.813,
          0.921,
          0.861,
          0.995,
          0.999,
          0.99
         ]
        },
        {
         "hovertemplate": "<b>Model:</b> %{x}<br><b>Task-Dataset:</b> %{meta}<br><b>Score:</b> %{y:.2f}<extra></extra>",
         "legendgroup": "mortality - eicu",
         "marker": {
          "color": "rgb(66,146,198)"
         },
         "meta": [
          "aki - eicu",
          "aki - hirid",
          "aki - miiv",
          "mortality - eicu",
          "mortality - hirid",
          "mortality - miiv",
          "sepsis - eicu",
          "sepsis - hirid",
          "sepsis - miiv"
         ],
         "name": "mortality - eicu",
         "type": "bar",
         "visible": false,
         "x": [
          "CNN",
          "GRU",
          "InceptionTime",
          "LSTM",
          "LightGBM",
          "RandomForest",
          "XGBoost"
         ],
         "y": [
          0.86,
          0.957,
          0.925,
          0.989,
          1,
          1,
          1
         ]
        },
        {
         "hovertemplate": "<b>Model:</b> %{x}<br><b>Task-Dataset:</b> %{meta}<br><b>Score:</b> %{y:.2f}<extra></extra>",
         "legendgroup": "mortality - hirid",
         "marker": {
          "color": "rgb(107,174,214)"
         },
         "meta": [
          "aki - eicu",
          "aki - hirid",
          "aki - miiv",
          "mortality - eicu",
          "mortality - hirid",
          "mortality - miiv",
          "sepsis - eicu",
          "sepsis - hirid",
          "sepsis - miiv"
         ],
         "name": "mortality - hirid",
         "type": "bar",
         "visible": false,
         "x": [
          "CNN",
          "GRU",
          "InceptionTime",
          "LSTM",
          "LightGBM",
          "RandomForest",
          "XGBoost"
         ],
         "y": [
          0.921,
          0.966,
          0.82,
          0.966,
          1,
          1,
          1
         ]
        },
        {
         "hovertemplate": "<b>Model:</b> %{x}<br><b>Task-Dataset:</b> %{meta}<br><b>Score:</b> %{y:.2f}<extra></extra>",
         "legendgroup": "mortality - miiv",
         "marker": {
          "color": "rgb(158,202,225)"
         },
         "meta": [
          "aki - eicu",
          "aki - hirid",
          "aki - miiv",
          "mortality - eicu",
          "mortality - hirid",
          "mortality - miiv",
          "sepsis - eicu",
          "sepsis - hirid",
          "sepsis - miiv"
         ],
         "name": "mortality - miiv",
         "type": "bar",
         "visible": false,
         "x": [
          "CNN",
          "GRU",
          "InceptionTime",
          "LSTM",
          "LightGBM",
          "RandomForest",
          "XGBoost"
         ],
         "y": [
          0.852,
          0.932,
          0.784,
          0.943,
          0.989,
          1,
          0.989
         ]
        },
        {
         "hovertemplate": "<b>Model:</b> %{x}<br><b>Task-Dataset:</b> %{meta}<br><b>Score:</b> %{y:.2f}<extra></extra>",
         "legendgroup": "sepsis - eicu",
         "marker": {
          "color": "rgb(198,219,239)"
         },
         "meta": [
          "aki - eicu",
          "aki - hirid",
          "aki - miiv",
          "mortality - eicu",
          "mortality - hirid",
          "mortality - miiv",
          "sepsis - eicu",
          "sepsis - hirid",
          "sepsis - miiv"
         ],
         "name": "sepsis - eicu",
         "type": "bar",
         "visible": false,
         "x": [
          "CNN",
          "GRU",
          "InceptionTime",
          "LSTM",
          "LightGBM",
          "RandomForest",
          "XGBoost"
         ],
         "y": [
          0.983,
          0.991,
          null,
          0.982,
          1,
          1,
          0.996
         ]
        },
        {
         "hovertemplate": "<b>Model:</b> %{x}<br><b>Task-Dataset:</b> %{meta}<br><b>Score:</b> %{y:.2f}<extra></extra>",
         "legendgroup": "sepsis - hirid",
         "marker": {
          "color": "rgb(222,235,247)"
         },
         "meta": [
          "aki - eicu",
          "aki - hirid",
          "aki - miiv",
          "mortality - eicu",
          "mortality - hirid",
          "mortality - miiv",
          "sepsis - eicu",
          "sepsis - hirid",
          "sepsis - miiv"
         ],
         "name": "sepsis - hirid",
         "type": "bar",
         "visible": false,
         "x": [
          "CNN",
          "GRU",
          "InceptionTime",
          "LSTM",
          "LightGBM",
          "RandomForest",
          "XGBoost"
         ],
         "y": [
          0.953,
          0.974,
          null,
          0.991,
          1,
          1,
          0.998
         ]
        },
        {
         "hovertemplate": "<b>Model:</b> %{x}<br><b>Task-Dataset:</b> %{meta}<br><b>Score:</b> %{y:.2f}<extra></extra>",
         "legendgroup": "sepsis - miiv",
         "marker": {
          "color": "rgb(247,251,255)"
         },
         "meta": [
          "aki - eicu",
          "aki - hirid",
          "aki - miiv",
          "mortality - eicu",
          "mortality - hirid",
          "mortality - miiv",
          "sepsis - eicu",
          "sepsis - hirid",
          "sepsis - miiv"
         ],
         "name": "sepsis - miiv",
         "type": "bar",
         "visible": false,
         "x": [
          "CNN",
          "GRU",
          "InceptionTime",
          "LSTM",
          "LightGBM",
          "RandomForest",
          "XGBoost"
         ],
         "y": [
          0.98,
          0.993,
          null,
          0.996,
          1,
          1,
          1
         ]
        },
        {
         "hovertemplate": "<b>Model:</b> %{x}<br><b>Task-Dataset:</b> %{meta}<br><b>Score:</b> %{y:.2f}<extra></extra>",
         "legendgroup": "aki - eicu",
         "marker": {
          "color": "rgb(8,48,107)"
         },
         "meta": [
          "aki - eicu",
          "aki - hirid",
          "aki - miiv",
          "mortality - eicu",
          "mortality - hirid",
          "mortality - miiv",
          "sepsis - eicu",
          "sepsis - hirid",
          "sepsis - miiv"
         ],
         "name": "aki - eicu",
         "type": "bar",
         "visible": false,
         "x": [
          "CNN",
          "GRU",
          "InceptionTime",
          "LSTM",
          "LightGBM",
          "RandomForest",
          "XGBoost"
         ],
         "y": [
          0.429,
          0.452,
          null,
          0.399,
          0.395,
          0.306,
          0.408
         ]
        },
        {
         "hovertemplate": "<b>Model:</b> %{x}<br><b>Task-Dataset:</b> %{meta}<br><b>Score:</b> %{y:.2f}<extra></extra>",
         "legendgroup": "aki - hirid",
         "marker": {
          "color": "rgb(8,81,156)"
         },
         "meta": [
          "aki - eicu",
          "aki - hirid",
          "aki - miiv",
          "mortality - eicu",
          "mortality - hirid",
          "mortality - miiv",
          "sepsis - eicu",
          "sepsis - hirid",
          "sepsis - miiv"
         ],
         "name": "aki - hirid",
         "type": "bar",
         "visible": false,
         "x": [
          "CNN",
          "GRU",
          "InceptionTime",
          "LSTM",
          "LightGBM",
          "RandomForest",
          "XGBoost"
         ],
         "y": [
          0.405,
          0.33,
          0.355,
          0.206,
          0.204,
          0.016,
          0.207
         ]
        },
        {
         "hovertemplate": "<b>Model:</b> %{x}<br><b>Task-Dataset:</b> %{meta}<br><b>Score:</b> %{y:.2f}<extra></extra>",
         "legendgroup": "aki - miiv",
         "marker": {
          "color": "rgb(33,113,181)"
         },
         "meta": [
          "aki - eicu",
          "aki - hirid",
          "aki - miiv",
          "mortality - eicu",
          "mortality - hirid",
          "mortality - miiv",
          "sepsis - eicu",
          "sepsis - hirid",
          "sepsis - miiv"
         ],
         "name": "aki - miiv",
         "type": "bar",
         "visible": false,
         "x": [
          "CNN",
          "GRU",
          "InceptionTime",
          "LSTM",
          "LightGBM",
          "RandomForest",
          "XGBoost"
         ],
         "y": [
          0.473,
          0.456,
          0.533,
          0.415,
          0.36,
          0.167,
          0.377
         ]
        },
        {
         "hovertemplate": "<b>Model:</b> %{x}<br><b>Task-Dataset:</b> %{meta}<br><b>Score:</b> %{y:.2f}<extra></extra>",
         "legendgroup": "mortality - eicu",
         "marker": {
          "color": "rgb(66,146,198)"
         },
         "meta": [
          "aki - eicu",
          "aki - hirid",
          "aki - miiv",
          "mortality - eicu",
          "mortality - hirid",
          "mortality - miiv",
          "sepsis - eicu",
          "sepsis - hirid",
          "sepsis - miiv"
         ],
         "name": "mortality - eicu",
         "type": "bar",
         "visible": false,
         "x": [
          "CNN",
          "GRU",
          "InceptionTime",
          "LSTM",
          "LightGBM",
          "RandomForest",
          "XGBoost"
         ],
         "y": [
          0.333,
          0.308,
          0.353,
          0.545,
          0.25,
          0.25,
          0.444
         ]
        },
        {
         "hovertemplate": "<b>Model:</b> %{x}<br><b>Task-Dataset:</b> %{meta}<br><b>Score:</b> %{y:.2f}<extra></extra>",
         "legendgroup": "mortality - hirid",
         "marker": {
          "color": "rgb(107,174,214)"
         },
         "meta": [
          "aki - eicu",
          "aki - hirid",
          "aki - miiv",
          "mortality - eicu",
          "mortality - hirid",
          "mortality - miiv",
          "sepsis - eicu",
          "sepsis - hirid",
          "sepsis - miiv"
         ],
         "name": "mortality - hirid",
         "type": "bar",
         "visible": false,
         "x": [
          "CNN",
          "GRU",
          "InceptionTime",
          "LSTM",
          "LightGBM",
          "RandomForest",
          "XGBoost"
         ],
         "y": [
          0.435,
          0.6,
          0.457,
          0.526,
          0.429,
          0.308,
          0.429
         ]
        },
        {
         "hovertemplate": "<b>Model:</b> %{x}<br><b>Task-Dataset:</b> %{meta}<br><b>Score:</b> %{y:.2f}<extra></extra>",
         "legendgroup": "mortality - miiv",
         "marker": {
          "color": "rgb(158,202,225)"
         },
         "meta": [
          "aki - eicu",
          "aki - hirid",
          "aki - miiv",
          "mortality - eicu",
          "mortality - hirid",
          "mortality - miiv",
          "sepsis - eicu",
          "sepsis - hirid",
          "sepsis - miiv"
         ],
         "name": "mortality - miiv",
         "type": "bar",
         "visible": false,
         "x": [
          "CNN",
          "GRU",
          "InceptionTime",
          "LSTM",
          "LightGBM",
          "RandomForest",
          "XGBoost"
         ],
         "y": [
          0.438,
          0.364,
          0.368,
          0.455,
          0,
          0,
          0
         ]
        },
        {
         "hovertemplate": "<b>Model:</b> %{x}<br><b>Task-Dataset:</b> %{meta}<br><b>Score:</b> %{y:.2f}<extra></extra>",
         "legendgroup": "sepsis - eicu",
         "marker": {
          "color": "rgb(198,219,239)"
         },
         "meta": [
          "aki - eicu",
          "aki - hirid",
          "aki - miiv",
          "mortality - eicu",
          "mortality - hirid",
          "mortality - miiv",
          "sepsis - eicu",
          "sepsis - hirid",
          "sepsis - miiv"
         ],
         "name": "sepsis - eicu",
         "type": "bar",
         "visible": false,
         "x": [
          "CNN",
          "GRU",
          "InceptionTime",
          "LSTM",
          "LightGBM",
          "RandomForest",
          "XGBoost"
         ],
         "y": [
          0.01,
          0.038,
          null,
          0.029,
          0,
          0,
          0
         ]
        },
        {
         "hovertemplate": "<b>Model:</b> %{x}<br><b>Task-Dataset:</b> %{meta}<br><b>Score:</b> %{y:.2f}<extra></extra>",
         "legendgroup": "sepsis - hirid",
         "marker": {
          "color": "rgb(222,235,247)"
         },
         "meta": [
          "aki - eicu",
          "aki - hirid",
          "aki - miiv",
          "mortality - eicu",
          "mortality - hirid",
          "mortality - miiv",
          "sepsis - eicu",
          "sepsis - hirid",
          "sepsis - miiv"
         ],
         "name": "sepsis - hirid",
         "type": "bar",
         "visible": false,
         "x": [
          "CNN",
          "GRU",
          "InceptionTime",
          "LSTM",
          "LightGBM",
          "RandomForest",
          "XGBoost"
         ],
         "y": [
          0.139,
          0.13,
          null,
          0.075,
          0,
          0,
          0.018
         ]
        },
        {
         "hovertemplate": "<b>Model:</b> %{x}<br><b>Task-Dataset:</b> %{meta}<br><b>Score:</b> %{y:.2f}<extra></extra>",
         "legendgroup": "sepsis - miiv",
         "marker": {
          "color": "rgb(247,251,255)"
         },
         "meta": [
          "aki - eicu",
          "aki - hirid",
          "aki - miiv",
          "mortality - eicu",
          "mortality - hirid",
          "mortality - miiv",
          "sepsis - eicu",
          "sepsis - hirid",
          "sepsis - miiv"
         ],
         "name": "sepsis - miiv",
         "type": "bar",
         "visible": false,
         "x": [
          "CNN",
          "GRU",
          "InceptionTime",
          "LSTM",
          "LightGBM",
          "RandomForest",
          "XGBoost"
         ],
         "y": [
          0,
          0,
          null,
          0,
          0,
          0,
          0.091
         ]
        },
        {
         "hovertemplate": "<b>Model:</b> %{x}<br><b>Task-Dataset:</b> %{meta}<br><b>Score:</b> %{y:.2f}<extra></extra>",
         "legendgroup": "aki - eicu",
         "marker": {
          "color": "rgb(8,48,107)"
         },
         "meta": [
          "aki - eicu",
          "aki - hirid",
          "aki - miiv",
          "mortality - eicu",
          "mortality - hirid",
          "mortality - miiv",
          "sepsis - eicu",
          "sepsis - hirid",
          "sepsis - miiv"
         ],
         "name": "aki - eicu",
         "type": "bar",
         "visible": false,
         "x": [
          "CNN",
          "GRU",
          "InceptionTime",
          "LSTM",
          "LightGBM",
          "RandomForest",
          "XGBoost"
         ],
         "y": [
          0.742,
          0.752,
          null,
          0.761,
          0.879,
          0.844,
          0.878
         ]
        },
        {
         "hovertemplate": "<b>Model:</b> %{x}<br><b>Task-Dataset:</b> %{meta}<br><b>Score:</b> %{y:.2f}<extra></extra>",
         "legendgroup": "aki - hirid",
         "marker": {
          "color": "rgb(8,81,156)"
         },
         "meta": [
          "aki - eicu",
          "aki - hirid",
          "aki - miiv",
          "mortality - eicu",
          "mortality - hirid",
          "mortality - miiv",
          "sepsis - eicu",
          "sepsis - hirid",
          "sepsis - miiv"
         ],
         "name": "aki - hirid",
         "type": "bar",
         "visible": false,
         "x": [
          "CNN",
          "GRU",
          "InceptionTime",
          "LSTM",
          "LightGBM",
          "RandomForest",
          "XGBoost"
         ],
         "y": [
          0.866,
          0.83,
          0.842,
          0.891,
          0.92,
          0.912,
          0.918
         ]
        },
        {
         "hovertemplate": "<b>Model:</b> %{x}<br><b>Task-Dataset:</b> %{meta}<br><b>Score:</b> %{y:.2f}<extra></extra>",
         "legendgroup": "aki - miiv",
         "marker": {
          "color": "rgb(33,113,181)"
         },
         "meta": [
          "aki - eicu",
          "aki - hirid",
          "aki - miiv",
          "mortality - eicu",
          "mortality - hirid",
          "mortality - miiv",
          "sepsis - eicu",
          "sepsis - hirid",
          "sepsis - miiv"
         ],
         "name": "aki - miiv",
         "type": "bar",
         "visible": false,
         "x": [
          "CNN",
          "GRU",
          "InceptionTime",
          "LSTM",
          "LightGBM",
          "RandomForest",
          "XGBoost"
         ],
         "y": [
          0.831,
          0.795,
          0.875,
          0.816,
          0.897,
          0.883,
          0.895
         ]
        },
        {
         "hovertemplate": "<b>Model:</b> %{x}<br><b>Task-Dataset:</b> %{meta}<br><b>Score:</b> %{y:.2f}<extra></extra>",
         "legendgroup": "mortality - eicu",
         "marker": {
          "color": "rgb(66,146,198)"
         },
         "meta": [
          "aki - eicu",
          "aki - hirid",
          "aki - miiv",
          "mortality - eicu",
          "mortality - hirid",
          "mortality - miiv",
          "sepsis - eicu",
          "sepsis - hirid",
          "sepsis - miiv"
         ],
         "name": "mortality - eicu",
         "type": "bar",
         "visible": false,
         "x": [
          "CNN",
          "GRU",
          "InceptionTime",
          "LSTM",
          "LightGBM",
          "RandomForest",
          "XGBoost"
         ],
         "y": [
          0.84,
          0.91,
          0.89,
          0.95,
          0.94,
          0.94,
          0.95
         ]
        },
        {
         "hovertemplate": "<b>Model:</b> %{x}<br><b>Task-Dataset:</b> %{meta}<br><b>Score:</b> %{y:.2f}<extra></extra>",
         "legendgroup": "mortality - hirid",
         "marker": {
          "color": "rgb(107,174,214)"
         },
         "meta": [
          "aki - eicu",
          "aki - hirid",
          "aki - miiv",
          "mortality - eicu",
          "mortality - hirid",
          "mortality - miiv",
          "sepsis - eicu",
          "sepsis - hirid",
          "sepsis - miiv"
         ],
         "name": "mortality - hirid",
         "type": "bar",
         "visible": false,
         "x": [
          "CNN",
          "GRU",
          "InceptionTime",
          "LSTM",
          "LightGBM",
          "RandomForest",
          "XGBoost"
         ],
         "y": [
          0.87,
          0.92,
          0.81,
          0.91,
          0.92,
          0.91,
          0.92
         ]
        },
        {
         "hovertemplate": "<b>Model:</b> %{x}<br><b>Task-Dataset:</b> %{meta}<br><b>Score:</b> %{y:.2f}<extra></extra>",
         "legendgroup": "mortality - miiv",
         "marker": {
          "color": "rgb(158,202,225)"
         },
         "meta": [
          "aki - eicu",
          "aki - hirid",
          "aki - miiv",
          "mortality - eicu",
          "mortality - hirid",
          "mortality - miiv",
          "sepsis - eicu",
          "sepsis - hirid",
          "sepsis - miiv"
         ],
         "name": "mortality - miiv",
         "type": "bar",
         "visible": false,
         "x": [
          "CNN",
          "GRU",
          "InceptionTime",
          "LSTM",
          "LightGBM",
          "RandomForest",
          "XGBoost"
         ],
         "y": [
          0.82,
          0.86,
          0.76,
          0.88,
          0.87,
          0.88,
          0.87
         ]
        },
        {
         "hovertemplate": "<b>Model:</b> %{x}<br><b>Task-Dataset:</b> %{meta}<br><b>Score:</b> %{y:.2f}<extra></extra>",
         "legendgroup": "sepsis - eicu",
         "marker": {
          "color": "rgb(198,219,239)"
         },
         "meta": [
          "aki - eicu",
          "aki - hirid",
          "aki - miiv",
          "mortality - eicu",
          "mortality - hirid",
          "mortality - miiv",
          "sepsis - eicu",
          "sepsis - hirid",
          "sepsis - miiv"
         ],
         "name": "sepsis - eicu",
         "type": "bar",
         "visible": false,
         "x": [
          "CNN",
          "GRU",
          "InceptionTime",
          "LSTM",
          "LightGBM",
          "RandomForest",
          "XGBoost"
         ],
         "y": [
          0.966,
          0.975,
          null,
          0.966,
          0.983,
          0.983,
          0.979
         ]
        },
        {
         "hovertemplate": "<b>Model:</b> %{x}<br><b>Task-Dataset:</b> %{meta}<br><b>Score:</b> %{y:.2f}<extra></extra>",
         "legendgroup": "sepsis - hirid",
         "marker": {
          "color": "rgb(222,235,247)"
         },
         "meta": [
          "aki - eicu",
          "aki - hirid",
          "aki - miiv",
          "mortality - eicu",
          "mortality - hirid",
          "mortality - miiv",
          "sepsis - eicu",
          "sepsis - hirid",
          "sepsis - miiv"
         ],
         "name": "sepsis - hirid",
         "type": "bar",
         "visible": false,
         "x": [
          "CNN",
          "GRU",
          "InceptionTime",
          "LSTM",
          "LightGBM",
          "RandomForest",
          "XGBoost"
         ],
         "y": [
          0.921,
          0.94,
          null,
          0.954,
          0.96,
          0.96,
          0.958
         ]
        },
        {
         "hovertemplate": "<b>Model:</b> %{x}<br><b>Task-Dataset:</b> %{meta}<br><b>Score:</b> %{y:.2f}<extra></extra>",
         "legendgroup": "sepsis - miiv",
         "marker": {
          "color": "rgb(247,251,255)"
         },
         "meta": [
          "aki - eicu",
          "aki - hirid",
          "aki - miiv",
          "mortality - eicu",
          "mortality - hirid",
          "mortality - miiv",
          "sepsis - eicu",
          "sepsis - hirid",
          "sepsis - miiv"
         ],
         "name": "sepsis - miiv",
         "type": "bar",
         "visible": false,
         "x": [
          "CNN",
          "GRU",
          "InceptionTime",
          "LSTM",
          "LightGBM",
          "RandomForest",
          "XGBoost"
         ],
         "y": [
          0.969,
          0.982,
          null,
          0.985,
          0.989,
          0.989,
          0.989
         ]
        },
        {
         "hovertemplate": "<b>Model:</b> %{x}<br><b>Task-Dataset:</b> %{meta}<br><b>Score:</b> %{y:.2f}<extra></extra>",
         "legendgroup": "aki - eicu",
         "marker": {
          "color": "rgb(8,48,107)"
         },
         "meta": [
          "aki - eicu",
          "aki - hirid",
          "aki - miiv",
          "mortality - eicu",
          "mortality - hirid",
          "mortality - miiv",
          "sepsis - eicu",
          "sepsis - hirid",
          "sepsis - miiv"
         ],
         "name": "aki - eicu",
         "type": "bar",
         "visible": false,
         "x": [
          "CNN",
          "GRU",
          "InceptionTime",
          "LSTM",
          "LightGBM",
          "RandomForest",
          "XGBoost"
         ],
         "y": [
          0.71,
          0.731,
          null,
          0.67,
          0.627,
          0.592,
          0.634
         ]
        },
        {
         "hovertemplate": "<b>Model:</b> %{x}<br><b>Task-Dataset:</b> %{meta}<br><b>Score:</b> %{y:.2f}<extra></extra>",
         "legendgroup": "aki - hirid",
         "marker": {
          "color": "rgb(8,81,156)"
         },
         "meta": [
          "aki - eicu",
          "aki - hirid",
          "aki - miiv",
          "mortality - eicu",
          "mortality - hirid",
          "mortality - miiv",
          "sepsis - eicu",
          "sepsis - hirid",
          "sepsis - miiv"
         ],
         "name": "aki - hirid",
         "type": "bar",
         "visible": false,
         "x": [
          "CNN",
          "GRU",
          "InceptionTime",
          "LSTM",
          "LightGBM",
          "RandomForest",
          "XGBoost"
         ],
         "y": [
          0.707,
          0.669,
          0.683,
          0.561,
          0.557,
          0.504,
          0.558
         ]
        },
        {
         "hovertemplate": "<b>Model:</b> %{x}<br><b>Task-Dataset:</b> %{meta}<br><b>Score:</b> %{y:.2f}<extra></extra>",
         "legendgroup": "aki - miiv",
         "marker": {
          "color": "rgb(33,113,181)"
         },
         "meta": [
          "aki - eicu",
          "aki - hirid",
          "aki - miiv",
          "mortality - eicu",
          "mortality - hirid",
          "mortality - miiv",
          "sepsis - eicu",
          "sepsis - hirid",
          "sepsis - miiv"
         ],
         "name": "aki - miiv",
         "type": "bar",
         "visible": false,
         "x": [
          "CNN",
          "GRU",
          "InceptionTime",
          "LSTM",
          "LightGBM",
          "RandomForest",
          "XGBoost"
         ],
         "y": [
          0.73,
          0.743,
          0.741,
          0.686,
          0.611,
          0.545,
          0.619
         ]
        },
        {
         "hovertemplate": "<b>Model:</b> %{x}<br><b>Task-Dataset:</b> %{meta}<br><b>Score:</b> %{y:.2f}<extra></extra>",
         "legendgroup": "mortality - eicu",
         "marker": {
          "color": "rgb(66,146,198)"
         },
         "meta": [
          "aki - eicu",
          "aki - hirid",
          "aki - miiv",
          "mortality - eicu",
          "mortality - hirid",
          "mortality - miiv",
          "sepsis - eicu",
          "sepsis - hirid",
          "sepsis - miiv"
         ],
         "name": "mortality - eicu",
         "type": "bar",
         "visible": false,
         "x": [
          "CNN",
          "GRU",
          "InceptionTime",
          "LSTM",
          "LightGBM",
          "RandomForest",
          "XGBoost"
         ],
         "y": [
          0.716,
          0.621,
          0.677,
          0.709,
          0.571,
          0.571,
          0.643
         ]
        },
        {
         "hovertemplate": "<b>Model:</b> %{x}<br><b>Task-Dataset:</b> %{meta}<br><b>Score:</b> %{y:.2f}<extra></extra>",
         "legendgroup": "mortality - hirid",
         "marker": {
          "color": "rgb(107,174,214)"
         },
         "meta": [
          "aki - eicu",
          "aki - hirid",
          "aki - miiv",
          "mortality - eicu",
          "mortality - hirid",
          "mortality - miiv",
          "sepsis - eicu",
          "sepsis - hirid",
          "sepsis - miiv"
         ],
         "name": "mortality - hirid",
         "type": "bar",
         "visible": false,
         "x": [
          "CNN",
          "GRU",
          "InceptionTime",
          "LSTM",
          "LightGBM",
          "RandomForest",
          "XGBoost"
         ],
         "y": [
          0.688,
          0.756,
          0.774,
          0.71,
          0.636,
          0.591,
          0.636
         ]
        },
        {
         "hovertemplate": "<b>Model:</b> %{x}<br><b>Task-Dataset:</b> %{meta}<br><b>Score:</b> %{y:.2f}<extra></extra>",
         "legendgroup": "mortality - miiv",
         "marker": {
          "color": "rgb(158,202,225)"
         },
         "meta": [
          "aki - eicu",
          "aki - hirid",
          "aki - miiv",
          "mortality - eicu",
          "mortality - hirid",
          "mortality - miiv",
          "sepsis - eicu",
          "sepsis - hirid",
          "sepsis - miiv"
         ],
         "name": "mortality - miiv",
         "type": "bar",
         "visible": false,
         "x": [
          "CNN",
          "GRU",
          "InceptionTime",
          "LSTM",
          "LightGBM",
          "RandomForest",
          "XGBoost"
         ],
         "y": [
          0.718,
          0.633,
          0.684,
          0.68,
          0.494,
          0.5,
          0.494
         ]
        },
        {
         "hovertemplate": "<b>Model:</b> %{x}<br><b>Task-Dataset:</b> %{meta}<br><b>Score:</b> %{y:.2f}<extra></extra>",
         "legendgroup": "sepsis - eicu",
         "marker": {
          "color": "rgb(198,219,239)"
         },
         "meta": [
          "aki - eicu",
          "aki - hirid",
          "aki - miiv",
          "mortality - eicu",
          "mortality - hirid",
          "mortality - miiv",
          "sepsis - eicu",
          "sepsis - hirid",
          "sepsis - miiv"
         ],
         "name": "sepsis - eicu",
         "type": "bar",
         "visible": false,
         "x": [
          "CNN",
          "GRU",
          "InceptionTime",
          "LSTM",
          "LightGBM",
          "RandomForest",
          "XGBoost"
         ],
         "y": [
          0.496,
          0.51,
          null,
          0.506,
          0.5,
          0.5,
          0.498
         ]
        },
        {
         "hovertemplate": "<b>Model:</b> %{x}<br><b>Task-Dataset:</b> %{meta}<br><b>Score:</b> %{y:.2f}<extra></extra>",
         "legendgroup": "sepsis - hirid",
         "marker": {
          "color": "rgb(222,235,247)"
         },
         "meta": [
          "aki - eicu",
          "aki - hirid",
          "aki - miiv",
          "mortality - eicu",
          "mortality - hirid",
          "mortality - miiv",
          "sepsis - eicu",
          "sepsis - hirid",
          "sepsis - miiv"
         ],
         "name": "sepsis - hirid",
         "type": "bar",
         "visible": false,
         "x": [
          "CNN",
          "GRU",
          "InceptionTime",
          "LSTM",
          "LightGBM",
          "RandomForest",
          "XGBoost"
         ],
         "y": [
          0.556,
          0.543,
          null,
          0.519,
          0.5,
          0.5,
          0.504
         ]
        },
        {
         "hovertemplate": "<b>Model:</b> %{x}<br><b>Task-Dataset:</b> %{meta}<br><b>Score:</b> %{y:.2f}<extra></extra>",
         "legendgroup": "sepsis - miiv",
         "marker": {
          "color": "rgb(247,251,255)"
         },
         "meta": [
          "aki - eicu",
          "aki - hirid",
          "aki - miiv",
          "mortality - eicu",
          "mortality - hirid",
          "mortality - miiv",
          "sepsis - eicu",
          "sepsis - hirid",
          "sepsis - miiv"
         ],
         "name": "sepsis - miiv",
         "type": "bar",
         "visible": false,
         "x": [
          "CNN",
          "GRU",
          "InceptionTime",
          "LSTM",
          "LightGBM",
          "RandomForest",
          "XGBoost"
         ],
         "y": [
          0.49,
          0.496,
          null,
          0.498,
          0.5,
          0.5,
          0.524
         ]
        },
        {
         "hovertemplate": "<b>Model:</b> %{x}<br><b>Task-Dataset:</b> %{meta}<br><b>Score:</b> %{y:.2f}<extra></extra>",
         "legendgroup": "aki - eicu",
         "marker": {
          "color": "rgb(8,48,107)"
         },
         "meta": [
          "aki - eicu",
          "aki - hirid",
          "aki - miiv",
          "mortality - eicu",
          "mortality - hirid",
          "mortality - miiv",
          "sepsis - eicu",
          "sepsis - hirid",
          "sepsis - miiv"
         ],
         "name": "aki - eicu",
         "type": "bar",
         "visible": false,
         "x": [
          "CNN",
          "GRU",
          "InceptionTime",
          "LSTM",
          "LightGBM",
          "RandomForest",
          "XGBoost"
         ],
         "y": [
          0.317,
          0.334,
          null,
          0.315,
          0.731,
          0.438,
          0.695
         ]
        },
        {
         "hovertemplate": "<b>Model:</b> %{x}<br><b>Task-Dataset:</b> %{meta}<br><b>Score:</b> %{y:.2f}<extra></extra>",
         "legendgroup": "aki - hirid",
         "marker": {
          "color": "rgb(8,81,156)"
         },
         "meta": [
          "aki - eicu",
          "aki - hirid",
          "aki - miiv",
          "mortality - eicu",
          "mortality - hirid",
          "mortality - miiv",
          "sepsis - eicu",
          "sepsis - hirid",
          "sepsis - miiv"
         ],
         "name": "aki - hirid",
         "type": "bar",
         "visible": false,
         "x": [
          "CNN",
          "GRU",
          "InceptionTime",
          "LSTM",
          "LightGBM",
          "RandomForest",
          "XGBoost"
         ],
         "y": [
          0.334,
          0.253,
          0.278,
          0.288,
          0.829,
          1,
          0.732
         ]
        },
        {
         "hovertemplate": "<b>Model:</b> %{x}<br><b>Task-Dataset:</b> %{meta}<br><b>Score:</b> %{y:.2f}<extra></extra>",
         "legendgroup": "aki - miiv",
         "marker": {
          "color": "rgb(33,113,181)"
         },
         "meta": [
          "aki - eicu",
          "aki - hirid",
          "aki - miiv",
          "mortality - eicu",
          "mortality - hirid",
          "mortality - miiv",
          "sepsis - eicu",
          "sepsis - hirid",
          "sepsis - miiv"
         ],
         "name": "aki - miiv",
         "type": "bar",
         "visible": false,
         "x": [
          "CNN",
          "GRU",
          "InceptionTime",
          "LSTM",
          "LightGBM",
          "RandomForest",
          "XGBoost"
         ],
         "y": [
          0.392,
          0.345,
          0.509,
          0.35,
          0.872,
          0.936,
          0.783
         ]
        },
        {
         "hovertemplate": "<b>Model:</b> %{x}<br><b>Task-Dataset:</b> %{meta}<br><b>Score:</b> %{y:.2f}<extra></extra>",
         "legendgroup": "mortality - eicu",
         "marker": {
          "color": "rgb(66,146,198)"
         },
         "meta": [
          "aki - eicu",
          "aki - hirid",
          "aki - miiv",
          "mortality - eicu",
          "mortality - hirid",
          "mortality - miiv",
          "sepsis - eicu",
          "sepsis - hirid",
          "sepsis - miiv"
         ],
         "name": "mortality - eicu",
         "type": "bar",
         "visible": false,
         "x": [
          "CNN",
          "GRU",
          "InceptionTime",
          "LSTM",
          "LightGBM",
          "RandomForest",
          "XGBoost"
         ],
         "y": [
          0.235,
          0.333,
          0.3,
          0.75,
          1,
          1,
          1
         ]
        },
        {
         "hovertemplate": "<b>Model:</b> %{x}<br><b>Task-Dataset:</b> %{meta}<br><b>Score:</b> %{y:.2f}<extra></extra>",
         "legendgroup": "mortality - hirid",
         "marker": {
          "color": "rgb(107,174,214)"
         },
         "meta": [
          "aki - eicu",
          "aki - hirid",
          "aki - miiv",
          "mortality - eicu",
          "mortality - hirid",
          "mortality - miiv",
          "sepsis - eicu",
          "sepsis - hirid",
          "sepsis - miiv"
         ],
         "name": "mortality - hirid",
         "type": "bar",
         "visible": false,
         "x": [
          "CNN",
          "GRU",
          "InceptionTime",
          "LSTM",
          "LightGBM",
          "RandomForest",
          "XGBoost"
         ],
         "y": [
          0.417,
          0.667,
          0.333,
          0.625,
          1,
          1,
          1
         ]
        },
        {
         "hovertemplate": "<b>Model:</b> %{x}<br><b>Task-Dataset:</b> %{meta}<br><b>Score:</b> %{y:.2f}<extra></extra>",
         "legendgroup": "mortality - miiv",
         "marker": {
          "color": "rgb(158,202,225)"
         },
         "meta": [
          "aki - eicu",
          "aki - hirid",
          "aki - miiv",
          "mortality - eicu",
          "mortality - hirid",
          "mortality - miiv",
          "sepsis - eicu",
          "sepsis - hirid",
          "sepsis - miiv"
         ],
         "name": "mortality - miiv",
         "type": "bar",
         "visible": false,
         "x": [
          "CNN",
          "GRU",
          "InceptionTime",
          "LSTM",
          "LightGBM",
          "RandomForest",
          "XGBoost"
         ],
         "y": [
          0.35,
          0.4,
          0.269,
          0.5,
          0,
          0,
          0
         ]
        },
        {
         "hovertemplate": "<b>Model:</b> %{x}<br><b>Task-Dataset:</b> %{meta}<br><b>Score:</b> %{y:.2f}<extra></extra>",
         "legendgroup": "sepsis - eicu",
         "marker": {
          "color": "rgb(198,219,239)"
         },
         "meta": [
          "aki - eicu",
          "aki - hirid",
          "aki - miiv",
          "mortality - eicu",
          "mortality - hirid",
          "mortality - miiv",
          "sepsis - eicu",
          "sepsis - hirid",
          "sepsis - miiv"
         ],
         "name": "sepsis - eicu",
         "type": "bar",
         "visible": false,
         "x": [
          "CNN",
          "GRU",
          "InceptionTime",
          "LSTM",
          "LightGBM",
          "RandomForest",
          "XGBoost"
         ],
         "y": [
          0.01,
          0.054,
          null,
          0.028,
          0,
          0,
          0
         ]
        },
        {
         "hovertemplate": "<b>Model:</b> %{x}<br><b>Task-Dataset:</b> %{meta}<br><b>Score:</b> %{y:.2f}<extra></extra>",
         "legendgroup": "sepsis - hirid",
         "marker": {
          "color": "rgb(222,235,247)"
         },
         "meta": [
          "aki - eicu",
          "aki - hirid",
          "aki - miiv",
          "mortality - eicu",
          "mortality - hirid",
          "mortality - miiv",
          "sepsis - eicu",
          "sepsis - hirid",
          "sepsis - miiv"
         ],
         "name": "sepsis - hirid",
         "type": "bar",
         "visible": false,
         "x": [
          "CNN",
          "GRU",
          "InceptionTime",
          "LSTM",
          "LightGBM",
          "RandomForest",
          "XGBoost"
         ],
         "y": [
          0.123,
          0.154,
          null,
          0.185,
          0,
          0,
          0.167
         ]
        },
        {
         "hovertemplate": "<b>Model:</b> %{x}<br><b>Task-Dataset:</b> %{meta}<br><b>Score:</b> %{y:.2f}<extra></extra>",
         "legendgroup": "sepsis - miiv",
         "marker": {
          "color": "rgb(247,251,255)"
         },
         "meta": [
          "aki - eicu",
          "aki - hirid",
          "aki - miiv",
          "mortality - eicu",
          "mortality - hirid",
          "mortality - miiv",
          "sepsis - eicu",
          "sepsis - hirid",
          "sepsis - miiv"
         ],
         "name": "sepsis - miiv",
         "type": "bar",
         "visible": false,
         "x": [
          "CNN",
          "GRU",
          "InceptionTime",
          "LSTM",
          "LightGBM",
          "RandomForest",
          "XGBoost"
         ],
         "y": [
          0,
          0,
          null,
          0,
          0,
          0,
          0.75
         ]
        },
        {
         "hovertemplate": "<b>Model:</b> %{x}<br><b>Task-Dataset:</b> %{meta}<br><b>Score:</b> %{y:.2f}<extra></extra>",
         "legendgroup": "aki - eicu",
         "marker": {
          "color": "rgb(8,48,107)"
         },
         "meta": [
          "aki - eicu",
          "aki - hirid",
          "aki - miiv",
          "mortality - eicu",
          "mortality - hirid",
          "mortality - miiv",
          "sepsis - eicu",
          "sepsis - hirid",
          "sepsis - miiv"
         ],
         "name": "aki - eicu",
         "type": "bar",
         "visible": false,
         "x": [
          "CNN",
          "GRU",
          "InceptionTime",
          "LSTM",
          "LightGBM",
          "RandomForest",
          "XGBoost"
         ],
         "y": [
          0.664,
          0.7,
          null,
          0.543,
          0.271,
          0.235,
          0.289
         ]
        },
        {
         "hovertemplate": "<b>Model:</b> %{x}<br><b>Task-Dataset:</b> %{meta}<br><b>Score:</b> %{y:.2f}<extra></extra>",
         "legendgroup": "aki - hirid",
         "marker": {
          "color": "rgb(8,81,156)"
         },
         "meta": [
          "aki - eicu",
          "aki - hirid",
          "aki - miiv",
          "mortality - eicu",
          "mortality - hirid",
          "mortality - miiv",
          "sepsis - eicu",
          "sepsis - hirid",
          "sepsis - miiv"
         ],
         "name": "aki - hirid",
         "type": "bar",
         "visible": false,
         "x": [
          "CNN",
          "GRU",
          "InceptionTime",
          "LSTM",
          "LightGBM",
          "RandomForest",
          "XGBoost"
         ],
         "y": [
          0.514,
          0.474,
          0.49,
          0.161,
          0.116,
          0.008,
          0.12
         ]
        },
        {
         "hovertemplate": "<b>Model:</b> %{x}<br><b>Task-Dataset:</b> %{meta}<br><b>Score:</b> %{y:.2f}<extra></extra>",
         "legendgroup": "aki - miiv",
         "marker": {
          "color": "rgb(33,113,181)"
         },
         "meta": [
          "aki - eicu",
          "aki - hirid",
          "aki - miiv",
          "mortality - eicu",
          "mortality - hirid",
          "mortality - miiv",
          "sepsis - eicu",
          "sepsis - hirid",
          "sepsis - miiv"
         ],
         "name": "aki - miiv",
         "type": "bar",
         "visible": false,
         "x": [
          "CNN",
          "GRU",
          "InceptionTime",
          "LSTM",
          "LightGBM",
          "RandomForest",
          "XGBoost"
         ],
         "y": [
          0.596,
          0.673,
          0.56,
          0.51,
          0.227,
          0.092,
          0.248
         ]
        },
        {
         "hovertemplate": "<b>Model:</b> %{x}<br><b>Task-Dataset:</b> %{meta}<br><b>Score:</b> %{y:.2f}<extra></extra>",
         "legendgroup": "mortality - eicu",
         "marker": {
          "color": "rgb(66,146,198)"
         },
         "meta": [
          "aki - eicu",
          "aki - hirid",
          "aki - miiv",
          "mortality - eicu",
          "mortality - hirid",
          "mortality - miiv",
          "sepsis - eicu",
          "sepsis - hirid",
          "sepsis - miiv"
         ],
         "name": "mortality - eicu",
         "type": "bar",
         "visible": false,
         "x": [
          "CNN",
          "GRU",
          "InceptionTime",
          "LSTM",
          "LightGBM",
          "RandomForest",
          "XGBoost"
         ],
         "y": [
          0.571,
          0.286,
          0.429,
          0.429,
          0.143,
          0.143,
          0.286
         ]
        },
        {
         "hovertemplate": "<b>Model:</b> %{x}<br><b>Task-Dataset:</b> %{meta}<br><b>Score:</b> %{y:.2f}<extra></extra>",
         "legendgroup": "mortality - hirid",
         "marker": {
          "color": "rgb(107,174,214)"
         },
         "meta": [
          "aki - eicu",
          "aki - hirid",
          "aki - miiv",
          "mortality - eicu",
          "mortality - hirid",
          "mortality - miiv",
          "sepsis - eicu",
          "sepsis - hirid",
          "sepsis - miiv"
         ],
         "name": "mortality - hirid",
         "type": "bar",
         "visible": false,
         "x": [
          "CNN",
          "GRU",
          "InceptionTime",
          "LSTM",
          "LightGBM",
          "RandomForest",
          "XGBoost"
         ],
         "y": [
          0.455,
          0.545,
          0.727,
          0.455,
          0.273,
          0.182,
          0.273
         ]
        },
        {
         "hovertemplate": "<b>Model:</b> %{x}<br><b>Task-Dataset:</b> %{meta}<br><b>Score:</b> %{y:.2f}<extra></extra>",
         "legendgroup": "mortality - miiv",
         "marker": {
          "color": "rgb(158,202,225)"
         },
         "meta": [
          "aki - eicu",
          "aki - hirid",
          "aki - miiv",
          "mortality - eicu",
          "mortality - hirid",
          "mortality - miiv",
          "sepsis - eicu",
          "sepsis - hirid",
          "sepsis - miiv"
         ],
         "name": "mortality - miiv",
         "type": "bar",
         "visible": false,
         "x": [
          "CNN",
          "GRU",
          "InceptionTime",
          "LSTM",
          "LightGBM",
          "RandomForest",
          "XGBoost"
         ],
         "y": [
          0.583,
          0.333,
          0.583,
          0.417,
          0,
          0,
          0
         ]
        },
        {
         "hovertemplate": "<b>Model:</b> %{x}<br><b>Task-Dataset:</b> %{meta}<br><b>Score:</b> %{y:.2f}<extra></extra>",
         "legendgroup": "sepsis - eicu",
         "marker": {
          "color": "rgb(198,219,239)"
         },
         "meta": [
          "aki - eicu",
          "aki - hirid",
          "aki - miiv",
          "mortality - eicu",
          "mortality - hirid",
          "mortality - miiv",
          "sepsis - eicu",
          "sepsis - hirid",
          "sepsis - miiv"
         ],
         "name": "sepsis - eicu",
         "type": "bar",
         "visible": false,
         "x": [
          "CNN",
          "GRU",
          "InceptionTime",
          "LSTM",
          "LightGBM",
          "RandomForest",
          "XGBoost"
         ],
         "y": [
          0.01,
          0.03,
          null,
          0.03,
          0,
          0,
          0
         ]
        },
        {
         "hovertemplate": "<b>Model:</b> %{x}<br><b>Task-Dataset:</b> %{meta}<br><b>Score:</b> %{y:.2f}<extra></extra>",
         "legendgroup": "sepsis - hirid",
         "marker": {
          "color": "rgb(222,235,247)"
         },
         "meta": [
          "aki - eicu",
          "aki - hirid",
          "aki - miiv",
          "mortality - eicu",
          "mortality - hirid",
          "mortality - miiv",
          "sepsis - eicu",
          "sepsis - hirid",
          "sepsis - miiv"
         ],
         "name": "sepsis - hirid",
         "type": "bar",
         "visible": false,
         "x": [
          "CNN",
          "GRU",
          "InceptionTime",
          "LSTM",
          "LightGBM",
          "RandomForest",
          "XGBoost"
         ],
         "y": [
          0.159,
          0.112,
          null,
          0.047,
          0,
          0,
          0.009
         ]
        },
        {
         "hovertemplate": "<b>Model:</b> %{x}<br><b>Task-Dataset:</b> %{meta}<br><b>Score:</b> %{y:.2f}<extra></extra>",
         "legendgroup": "sepsis - miiv",
         "marker": {
          "color": "rgb(247,251,255)"
         },
         "meta": [
          "aki - eicu",
          "aki - hirid",
          "aki - miiv",
          "mortality - eicu",
          "mortality - hirid",
          "mortality - miiv",
          "sepsis - eicu",
          "sepsis - hirid",
          "sepsis - miiv"
         ],
         "name": "sepsis - miiv",
         "type": "bar",
         "visible": false,
         "x": [
          "CNN",
          "GRU",
          "InceptionTime",
          "LSTM",
          "LightGBM",
          "RandomForest",
          "XGBoost"
         ],
         "y": [
          0,
          0,
          null,
          0,
          0,
          0,
          0.048
         ]
        },
        {
         "hovertemplate": "<b>Model:</b> %{x}<br><b>Task-Dataset:</b> %{meta}<br><b>Score:</b> %{y:.2f}<extra></extra>",
         "legendgroup": "aki - eicu",
         "marker": {
          "color": "rgb(8,48,107)"
         },
         "meta": [
          "aki - eicu",
          "aki - hirid",
          "aki - miiv",
          "mortality - eicu",
          "mortality - hirid",
          "mortality - miiv",
          "sepsis - eicu",
          "sepsis - hirid",
          "sepsis - miiv"
         ],
         "name": "aki - eicu",
         "type": "bar",
         "visible": false,
         "x": [
          "CNN",
          "GRU",
          "InceptionTime",
          "LSTM",
          "LightGBM",
          "RandomForest",
          "XGBoost"
         ],
         "y": [
          0.322,
          0.353,
          null,
          0.277,
          0.396,
          0.241,
          0.395
         ]
        },
        {
         "hovertemplate": "<b>Model:</b> %{x}<br><b>Task-Dataset:</b> %{meta}<br><b>Score:</b> %{y:.2f}<extra></extra>",
         "legendgroup": "aki - hirid",
         "marker": {
          "color": "rgb(8,81,156)"
         },
         "meta": [
          "aki - eicu",
          "aki - hirid",
          "aki - miiv",
          "mortality - eicu",
          "mortality - hirid",
          "mortality - miiv",
          "sepsis - eicu",
          "sepsis - hirid",
          "sepsis - miiv"
         ],
         "name": "aki - hirid",
         "type": "bar",
         "visible": false,
         "x": [
          "CNN",
          "GRU",
          "InceptionTime",
          "LSTM",
          "LightGBM",
          "RandomForest",
          "XGBoost"
         ],
         "y": [
          0.343,
          0.258,
          0.287,
          0.16,
          0.292,
          0.086,
          0.275
         ]
        },
        {
         "hovertemplate": "<b>Model:</b> %{x}<br><b>Task-Dataset:</b> %{meta}<br><b>Score:</b> %{y:.2f}<extra></extra>",
         "legendgroup": "aki - miiv",
         "marker": {
          "color": "rgb(33,113,181)"
         },
         "meta": [
          "aki - eicu",
          "aki - hirid",
          "aki - miiv",
          "mortality - eicu",
          "mortality - hirid",
          "mortality - miiv",
          "sepsis - eicu",
          "sepsis - hirid",
          "sepsis - miiv"
         ],
         "name": "aki - miiv",
         "type": "bar",
         "visible": false,
         "x": [
          "CNN",
          "GRU",
          "InceptionTime",
          "LSTM",
          "LightGBM",
          "RandomForest",
          "XGBoost"
         ],
         "y": [
          0.389,
          0.375,
          0.462,
          0.318,
          0.414,
          0.273,
          0.403
         ]
        },
        {
         "hovertemplate": "<b>Model:</b> %{x}<br><b>Task-Dataset:</b> %{meta}<br><b>Score:</b> %{y:.2f}<extra></extra>",
         "legendgroup": "mortality - eicu",
         "marker": {
          "color": "rgb(66,146,198)"
         },
         "meta": [
          "aki - eicu",
          "aki - hirid",
          "aki - miiv",
          "mortality - eicu",
          "mortality - hirid",
          "mortality - miiv",
          "sepsis - eicu",
          "sepsis - hirid",
          "sepsis - miiv"
         ],
         "name": "mortality - eicu",
         "type": "bar",
         "visible": false,
         "x": [
          "CNN",
          "GRU",
          "InceptionTime",
          "LSTM",
          "LightGBM",
          "RandomForest",
          "XGBoost"
         ],
         "y": [
          0.293,
          0.261,
          0.3,
          0.544,
          0.366,
          0.366,
          0.521
         ]
        },
        {
         "hovertemplate": "<b>Model:</b> %{x}<br><b>Task-Dataset:</b> %{meta}<br><b>Score:</b> %{y:.2f}<extra></extra>",
         "legendgroup": "mortality - hirid",
         "marker": {
          "color": "rgb(107,174,214)"
         },
         "meta": [
          "aki - eicu",
          "aki - hirid",
          "aki - miiv",
          "mortality - eicu",
          "mortality - hirid",
          "mortality - miiv",
          "sepsis - eicu",
          "sepsis - hirid",
          "sepsis - miiv"
         ],
         "name": "mortality - hirid",
         "type": "bar",
         "visible": false,
         "x": [
          "CNN",
          "GRU",
          "InceptionTime",
          "LSTM",
          "LightGBM",
          "RandomForest",
          "XGBoost"
         ],
         "y": [
          0.362,
          0.56,
          0.401,
          0.485,
          0.5,
          0.406,
          0.5
         ]
        },
        {
         "hovertemplate": "<b>Model:</b> %{x}<br><b>Task-Dataset:</b> %{meta}<br><b>Score:</b> %{y:.2f}<extra></extra>",
         "legendgroup": "mortality - miiv",
         "marker": {
          "color": "rgb(158,202,225)"
         },
         "meta": [
          "aki - eicu",
          "aki - hirid",
          "aki - miiv",
          "mortality - eicu",
          "mortality - hirid",
          "mortality - miiv",
          "sepsis - eicu",
          "sepsis - hirid",
          "sepsis - miiv"
         ],
         "name": "mortality - miiv",
         "type": "bar",
         "visible": false,
         "x": [
          "CNN",
          "GRU",
          "InceptionTime",
          "LSTM",
          "LightGBM",
          "RandomForest",
          "XGBoost"
         ],
         "y": [
          0.354,
          0.287,
          0.272,
          0.39,
          -0.037,
          0,
          -0.037
         ]
        },
        {
         "hovertemplate": "<b>Model:</b> %{x}<br><b>Task-Dataset:</b> %{meta}<br><b>Score:</b> %{y:.2f}<extra></extra>",
         "legendgroup": "sepsis - eicu",
         "marker": {
          "color": "rgb(198,219,239)"
         },
         "meta": [
          "aki - eicu",
          "aki - hirid",
          "aki - miiv",
          "mortality - eicu",
          "mortality - hirid",
          "mortality - miiv",
          "sepsis - eicu",
          "sepsis - hirid",
          "sepsis - miiv"
         ],
         "name": "sepsis - eicu",
         "type": "bar",
         "visible": false,
         "x": [
          "CNN",
          "GRU",
          "InceptionTime",
          "LSTM",
          "LightGBM",
          "RandomForest",
          "XGBoost"
         ],
         "y": [
          -0.007,
          0.028,
          null,
          0.012,
          0,
          0,
          -0.008
         ]
        },
        {
         "hovertemplate": "<b>Model:</b> %{x}<br><b>Task-Dataset:</b> %{meta}<br><b>Score:</b> %{y:.2f}<extra></extra>",
         "legendgroup": "sepsis - hirid",
         "marker": {
          "color": "rgb(222,235,247)"
         },
         "meta": [
          "aki - eicu",
          "aki - hirid",
          "aki - miiv",
          "mortality - eicu",
          "mortality - hirid",
          "mortality - miiv",
          "sepsis - eicu",
          "sepsis - hirid",
          "sepsis - miiv"
         ],
         "name": "sepsis - hirid",
         "type": "bar",
         "visible": false,
         "x": [
          "CNN",
          "GRU",
          "InceptionTime",
          "LSTM",
          "LightGBM",
          "RandomForest",
          "XGBoost"
         ],
         "y": [
          0.099,
          0.101,
          null,
          0.075,
          -0.004,
          0,
          0.031
         ]
        },
        {
         "hovertemplate": "<b>Model:</b> %{x}<br><b>Task-Dataset:</b> %{meta}<br><b>Score:</b> %{y:.2f}<extra></extra>",
         "legendgroup": "sepsis - miiv",
         "marker": {
          "color": "rgb(247,251,255)"
         },
         "meta": [
          "aki - eicu",
          "aki - hirid",
          "aki - miiv",
          "mortality - eicu",
          "mortality - hirid",
          "mortality - miiv",
          "sepsis - eicu",
          "sepsis - hirid",
          "sepsis - miiv"
         ],
         "name": "sepsis - miiv",
         "type": "bar",
         "visible": false,
         "x": [
          "CNN",
          "GRU",
          "InceptionTime",
          "LSTM",
          "LightGBM",
          "RandomForest",
          "XGBoost"
         ],
         "y": [
          -0.015,
          -0.009,
          null,
          -0.006,
          -0.001,
          0,
          0.189
         ]
        },
        {
         "hovertemplate": "<b>Model:</b> %{x}<br><b>Task-Dataset:</b> %{meta}<br><b>Score:</b> %{y:.2f}<extra></extra>",
         "legendgroup": "aki - eicu",
         "marker": {
          "color": "rgb(8,48,107)"
         },
         "meta": [
          "aki - eicu",
          "aki - hirid",
          "aki - miiv",
          "mortality - eicu",
          "mortality - hirid",
          "mortality - miiv",
          "sepsis - eicu",
          "sepsis - hirid",
          "sepsis - miiv"
         ],
         "name": "aki - eicu",
         "type": "bar",
         "visible": false,
         "x": [
          "CNN",
          "GRU",
          "InceptionTime",
          "LSTM",
          "LightGBM",
          "RandomForest",
          "XGBoost"
         ],
         "y": [
          0.289,
          0.317,
          null,
          0.262,
          0.343,
          0.227,
          0.353
         ]
        },
        {
         "hovertemplate": "<b>Model:</b> %{x}<br><b>Task-Dataset:</b> %{meta}<br><b>Score:</b> %{y:.2f}<extra></extra>",
         "legendgroup": "aki - hirid",
         "marker": {
          "color": "rgb(8,81,156)"
         },
         "meta": [
          "aki - eicu",
          "aki - hirid",
          "aki - miiv",
          "mortality - eicu",
          "mortality - hirid",
          "mortality - miiv",
          "sepsis - eicu",
          "sepsis - hirid",
          "sepsis - miiv"
         ],
         "name": "aki - hirid",
         "type": "bar",
         "visible": false,
         "x": [
          "CNN",
          "GRU",
          "InceptionTime",
          "LSTM",
          "LightGBM",
          "RandomForest",
          "XGBoost"
         ],
         "y": [
          0.334,
          0.243,
          0.273,
          0.152,
          0.186,
          0.015,
          0.187
         ]
        },
        {
         "hovertemplate": "<b>Model:</b> %{x}<br><b>Task-Dataset:</b> %{meta}<br><b>Score:</b> %{y:.2f}<extra></extra>",
         "legendgroup": "aki - miiv",
         "marker": {
          "color": "rgb(33,113,181)"
         },
         "meta": [
          "aki - eicu",
          "aki - hirid",
          "aki - miiv",
          "mortality - eicu",
          "mortality - hirid",
          "mortality - miiv",
          "sepsis - eicu",
          "sepsis - hirid",
          "sepsis - miiv"
         ],
         "name": "aki - miiv",
         "type": "bar",
         "visible": false,
         "x": [
          "CNN",
          "GRU",
          "InceptionTime",
          "LSTM",
          "LightGBM",
          "RandomForest",
          "XGBoost"
         ],
         "y": [
          0.377,
          0.346,
          0.461,
          0.31,
          0.325,
          0.148,
          0.336
         ]
        },
        {
         "hovertemplate": "<b>Model:</b> %{x}<br><b>Task-Dataset:</b> %{meta}<br><b>Score:</b> %{y:.2f}<extra></extra>",
         "legendgroup": "mortality - eicu",
         "marker": {
          "color": "rgb(66,146,198)"
         },
         "meta": [
          "aki - eicu",
          "aki - hirid",
          "aki - miiv",
          "mortality - eicu",
          "mortality - hirid",
          "mortality - miiv",
          "sepsis - eicu",
          "sepsis - hirid",
          "sepsis - miiv"
         ],
         "name": "mortality - eicu",
         "type": "bar",
         "visible": false,
         "x": [
          "CNN",
          "GRU",
          "InceptionTime",
          "LSTM",
          "LightGBM",
          "RandomForest",
          "XGBoost"
         ],
         "y": [
          0.26,
          0.26,
          0.295,
          0.521,
          0.237,
          0.237,
          0.427
         ]
        },
        {
         "hovertemplate": "<b>Model:</b> %{x}<br><b>Task-Dataset:</b> %{meta}<br><b>Score:</b> %{y:.2f}<extra></extra>",
         "legendgroup": "mortality - hirid",
         "marker": {
          "color": "rgb(107,174,214)"
         },
         "meta": [
          "aki - eicu",
          "aki - hirid",
          "aki - miiv",
          "mortality - eicu",
          "mortality - hirid",
          "mortality - miiv",
          "sepsis - eicu",
          "sepsis - hirid",
          "sepsis - miiv"
         ],
         "name": "mortality - hirid",
         "type": "bar",
         "visible": false,
         "x": [
          "CNN",
          "GRU",
          "InceptionTime",
          "LSTM",
          "LightGBM",
          "RandomForest",
          "XGBoost"
         ],
         "y": [
          0.361,
          0.556,
          0.361,
          0.478,
          0.4,
          0.283,
          0.4
         ]
        },
        {
         "hovertemplate": "<b>Model:</b> %{x}<br><b>Task-Dataset:</b> %{meta}<br><b>Score:</b> %{y:.2f}<extra></extra>",
         "legendgroup": "mortality - miiv",
         "marker": {
          "color": "rgb(158,202,225)"
         },
         "meta": [
          "aki - eicu",
          "aki - hirid",
          "aki - miiv",
          "mortality - eicu",
          "mortality - hirid",
          "mortality - miiv",
          "sepsis - eicu",
          "sepsis - hirid",
          "sepsis - miiv"
         ],
         "name": "mortality - miiv",
         "type": "bar",
         "visible": false,
         "x": [
          "CNN",
          "GRU",
          "InceptionTime",
          "LSTM",
          "LightGBM",
          "RandomForest",
          "XGBoost"
         ],
         "y": [
          0.338,
          0.286,
          0.244,
          0.388,
          -0.019,
          0,
          -0.019
         ]
        },
        {
         "hovertemplate": "<b>Model:</b> %{x}<br><b>Task-Dataset:</b> %{meta}<br><b>Score:</b> %{y:.2f}<extra></extra>",
         "legendgroup": "sepsis - eicu",
         "marker": {
          "color": "rgb(198,219,239)"
         },
         "meta": [
          "aki - eicu",
          "aki - hirid",
          "aki - miiv",
          "mortality - eicu",
          "mortality - hirid",
          "mortality - miiv",
          "sepsis - eicu",
          "sepsis - hirid",
          "sepsis - miiv"
         ],
         "name": "sepsis - eicu",
         "type": "bar",
         "visible": false,
         "x": [
          "CNN",
          "GRU",
          "InceptionTime",
          "LSTM",
          "LightGBM",
          "RandomForest",
          "XGBoost"
         ],
         "y": [
          -0.007,
          0.026,
          null,
          0.012,
          0,
          0,
          -0.006
         ]
        },
        {
         "hovertemplate": "<b>Model:</b> %{x}<br><b>Task-Dataset:</b> %{meta}<br><b>Score:</b> %{y:.2f}<extra></extra>",
         "legendgroup": "sepsis - hirid",
         "marker": {
          "color": "rgb(222,235,247)"
         },
         "meta": [
          "aki - eicu",
          "aki - hirid",
          "aki - miiv",
          "mortality - eicu",
          "mortality - hirid",
          "mortality - miiv",
          "sepsis - eicu",
          "sepsis - hirid",
          "sepsis - miiv"
         ],
         "name": "sepsis - hirid",
         "type": "bar",
         "visible": false,
         "x": [
          "CNN",
          "GRU",
          "InceptionTime",
          "LSTM",
          "LightGBM",
          "RandomForest",
          "XGBoost"
         ],
         "y": [
          0.098,
          0.099,
          null,
          0.059,
          -0.001,
          0,
          0.013
         ]
        },
        {
         "hovertemplate": "<b>Model:</b> %{x}<br><b>Task-Dataset:</b> %{meta}<br><b>Score:</b> %{y:.2f}<extra></extra>",
         "legendgroup": "sepsis - miiv",
         "marker": {
          "color": "rgb(247,251,255)"
         },
         "meta": [
          "aki - eicu",
          "aki - hirid",
          "aki - miiv",
          "mortality - eicu",
          "mortality - hirid",
          "mortality - miiv",
          "sepsis - eicu",
          "sepsis - hirid",
          "sepsis - miiv"
         ],
         "name": "sepsis - miiv",
         "type": "bar",
         "visible": false,
         "x": [
          "CNN",
          "GRU",
          "InceptionTime",
          "LSTM",
          "LightGBM",
          "RandomForest",
          "XGBoost"
         ],
         "y": [
          -0.014,
          -0.009,
          null,
          -0.006,
          0,
          0,
          0.09
         ]
        },
        {
         "hovertemplate": "<b>Model:</b> %{x}<br><b>Task-Dataset:</b> %{meta}<br><b>Score:</b> %{y:.2f}<extra></extra>",
         "legendgroup": "aki - eicu",
         "marker": {
          "color": "rgb(8,48,107)"
         },
         "meta": [
          "aki - eicu",
          "aki - hirid",
          "aki - miiv",
          "mortality - eicu",
          "mortality - hirid",
          "mortality - miiv",
          "sepsis - eicu",
          "sepsis - hirid",
          "sepsis - miiv"
         ],
         "name": "aki - eicu",
         "type": "bar",
         "visible": false,
         "x": [
          "CNN",
          "GRU",
          "InceptionTime",
          "LSTM",
          "LightGBM",
          "RandomForest",
          "XGBoost"
         ],
         "y": [
          0.446,
          0.491,
          null,
          0.4,
          0.518,
          0.413,
          0.524
         ]
        },
        {
         "hovertemplate": "<b>Model:</b> %{x}<br><b>Task-Dataset:</b> %{meta}<br><b>Score:</b> %{y:.2f}<extra></extra>",
         "legendgroup": "aki - hirid",
         "marker": {
          "color": "rgb(8,81,156)"
         },
         "meta": [
          "aki - eicu",
          "aki - hirid",
          "aki - miiv",
          "mortality - eicu",
          "mortality - hirid",
          "mortality - miiv",
          "sepsis - eicu",
          "sepsis - hirid",
          "sepsis - miiv"
         ],
         "name": "aki - hirid",
         "type": "bar",
         "visible": false,
         "x": [
          "CNN",
          "GRU",
          "InceptionTime",
          "LSTM",
          "LightGBM",
          "RandomForest",
          "XGBoost"
         ],
         "y": [
          0.356,
          0.318,
          0.375,
          0.274,
          0.363,
          0.256,
          0.36
         ]
        },
        {
         "hovertemplate": "<b>Model:</b> %{x}<br><b>Task-Dataset:</b> %{meta}<br><b>Score:</b> %{y:.2f}<extra></extra>",
         "legendgroup": "aki - miiv",
         "marker": {
          "color": "rgb(33,113,181)"
         },
         "meta": [
          "aki - eicu",
          "aki - hirid",
          "aki - miiv",
          "mortality - eicu",
          "mortality - hirid",
          "mortality - miiv",
          "sepsis - eicu",
          "sepsis - hirid",
          "sepsis - miiv"
         ],
         "name": "aki - miiv",
         "type": "bar",
         "visible": false,
         "x": [
          "CNN",
          "GRU",
          "InceptionTime",
          "LSTM",
          "LightGBM",
          "RandomForest",
          "XGBoost"
         ],
         "y": [
          0.473,
          0.497,
          0.522,
          0.425,
          0.546,
          0.468,
          0.546
         ]
        },
        {
         "hovertemplate": "<b>Model:</b> %{x}<br><b>Task-Dataset:</b> %{meta}<br><b>Score:</b> %{y:.2f}<extra></extra>",
         "legendgroup": "mortality - eicu",
         "marker": {
          "color": "rgb(66,146,198)"
         },
         "meta": [
          "aki - eicu",
          "aki - hirid",
          "aki - miiv",
          "mortality - eicu",
          "mortality - hirid",
          "mortality - miiv",
          "sepsis - eicu",
          "sepsis - hirid",
          "sepsis - miiv"
         ],
         "name": "mortality - eicu",
         "type": "bar",
         "visible": false,
         "x": [
          "CNN",
          "GRU",
          "InceptionTime",
          "LSTM",
          "LightGBM",
          "RandomForest",
          "XGBoost"
         ],
         "y": [
          0.375,
          0.333,
          0.429,
          0.429,
          0.429,
          0.429,
          0.429
         ]
        },
        {
         "hovertemplate": "<b>Model:</b> %{x}<br><b>Task-Dataset:</b> %{meta}<br><b>Score:</b> %{y:.2f}<extra></extra>",
         "legendgroup": "mortality - hirid",
         "marker": {
          "color": "rgb(107,174,214)"
         },
         "meta": [
          "aki - eicu",
          "aki - hirid",
          "aki - miiv",
          "mortality - eicu",
          "mortality - hirid",
          "mortality - miiv",
          "sepsis - eicu",
          "sepsis - hirid",
          "sepsis - miiv"
         ],
         "name": "mortality - hirid",
         "type": "bar",
         "visible": false,
         "x": [
          "CNN",
          "GRU",
          "InceptionTime",
          "LSTM",
          "LightGBM",
          "RandomForest",
          "XGBoost"
         ],
         "y": [
          0.417,
          0.545,
          0.455,
          0.545,
          0.545,
          0.5,
          0.455
         ]
        },
        {
         "hovertemplate": "<b>Model:</b> %{x}<br><b>Task-Dataset:</b> %{meta}<br><b>Score:</b> %{y:.2f}<extra></extra>",
         "legendgroup": "mortality - miiv",
         "marker": {
          "color": "rgb(158,202,225)"
         },
         "meta": [
          "aki - eicu",
          "aki - hirid",
          "aki - miiv",
          "mortality - eicu",
          "mortality - hirid",
          "mortality - miiv",
          "sepsis - eicu",
          "sepsis - hirid",
          "sepsis - miiv"
         ],
         "name": "mortality - miiv",
         "type": "bar",
         "visible": false,
         "x": [
          "CNN",
          "GRU",
          "InceptionTime",
          "LSTM",
          "LightGBM",
          "RandomForest",
          "XGBoost"
         ],
         "y": [
          0.412,
          0.4,
          0.5,
          0.417,
          0.5,
          0.667,
          0.583
         ]
        },
        {
         "hovertemplate": "<b>Model:</b> %{x}<br><b>Task-Dataset:</b> %{meta}<br><b>Score:</b> %{y:.2f}<extra></extra>",
         "legendgroup": "sepsis - eicu",
         "marker": {
          "color": "rgb(198,219,239)"
         },
         "meta": [
          "aki - eicu",
          "aki - hirid",
          "aki - miiv",
          "mortality - eicu",
          "mortality - hirid",
          "mortality - miiv",
          "sepsis - eicu",
          "sepsis - hirid",
          "sepsis - miiv"
         ],
         "name": "sepsis - eicu",
         "type": "bar",
         "visible": false,
         "x": [
          "CNN",
          "GRU",
          "InceptionTime",
          "LSTM",
          "LightGBM",
          "RandomForest",
          "XGBoost"
         ],
         "y": [
          0.026,
          0.054,
          null,
          0.052,
          0.088,
          0.06,
          0.054
         ]
        },
        {
         "hovertemplate": "<b>Model:</b> %{x}<br><b>Task-Dataset:</b> %{meta}<br><b>Score:</b> %{y:.2f}<extra></extra>",
         "legendgroup": "sepsis - hirid",
         "marker": {
          "color": "rgb(222,235,247)"
         },
         "meta": [
          "aki - eicu",
          "aki - hirid",
          "aki - miiv",
          "mortality - eicu",
          "mortality - hirid",
          "mortality - miiv",
          "sepsis - eicu",
          "sepsis - hirid",
          "sepsis - miiv"
         ],
         "name": "sepsis - hirid",
         "type": "bar",
         "visible": false,
         "x": [
          "CNN",
          "GRU",
          "InceptionTime",
          "LSTM",
          "LightGBM",
          "RandomForest",
          "XGBoost"
         ],
         "y": [
          0.139,
          0.14,
          null,
          0.168,
          0.234,
          0.183,
          0.274
         ]
        },
        {
         "hovertemplate": "<b>Model:</b> %{x}<br><b>Task-Dataset:</b> %{meta}<br><b>Score:</b> %{y:.2f}<extra></extra>",
         "legendgroup": "sepsis - miiv",
         "marker": {
          "color": "rgb(247,251,255)"
         },
         "meta": [
          "aki - eicu",
          "aki - hirid",
          "aki - miiv",
          "mortality - eicu",
          "mortality - hirid",
          "mortality - miiv",
          "sepsis - eicu",
          "sepsis - hirid",
          "sepsis - miiv"
         ],
         "name": "sepsis - miiv",
         "type": "bar",
         "visible": false,
         "x": [
          "CNN",
          "GRU",
          "InceptionTime",
          "LSTM",
          "LightGBM",
          "RandomForest",
          "XGBoost"
         ],
         "y": [
          0.025,
          0.012,
          null,
          0.031,
          0.048,
          0.02,
          0.054
         ]
        }
       ],
       "layout": {
        "barmode": "group",
        "height": 650,
        "legend": {
         "font": {
          "size": 14
         },
         "title": {
          "font": {
           "size": 16
          },
          "text": "Task-Dataset"
         }
        },
        "paper_bgcolor": "rgba(255, 255, 255, 1.0)",
        "plot_bgcolor": "rgba(0, 0, 0, 0.1)",
        "template": {
         "data": {
          "bar": [
           {
            "error_x": {
             "color": "#2a3f5f"
            },
            "error_y": {
             "color": "#2a3f5f"
            },
            "marker": {
             "line": {
              "color": "#E5ECF6",
              "width": 0.5
             },
             "pattern": {
              "fillmode": "overlay",
              "size": 10,
              "solidity": 0.2
             }
            },
            "type": "bar"
           }
          ],
          "barpolar": [
           {
            "marker": {
             "line": {
              "color": "#E5ECF6",
              "width": 0.5
             },
             "pattern": {
              "fillmode": "overlay",
              "size": 10,
              "solidity": 0.2
             }
            },
            "type": "barpolar"
           }
          ],
          "carpet": [
           {
            "aaxis": {
             "endlinecolor": "#2a3f5f",
             "gridcolor": "white",
             "linecolor": "white",
             "minorgridcolor": "white",
             "startlinecolor": "#2a3f5f"
            },
            "baxis": {
             "endlinecolor": "#2a3f5f",
             "gridcolor": "white",
             "linecolor": "white",
             "minorgridcolor": "white",
             "startlinecolor": "#2a3f5f"
            },
            "type": "carpet"
           }
          ],
          "choropleth": [
           {
            "colorbar": {
             "outlinewidth": 0,
             "ticks": ""
            },
            "type": "choropleth"
           }
          ],
          "contour": [
           {
            "colorbar": {
             "outlinewidth": 0,
             "ticks": ""
            },
            "colorscale": [
             [
              0,
              "#0d0887"
             ],
             [
              0.1111111111111111,
              "#46039f"
             ],
             [
              0.2222222222222222,
              "#7201a8"
             ],
             [
              0.3333333333333333,
              "#9c179e"
             ],
             [
              0.4444444444444444,
              "#bd3786"
             ],
             [
              0.5555555555555556,
              "#d8576b"
             ],
             [
              0.6666666666666666,
              "#ed7953"
             ],
             [
              0.7777777777777778,
              "#fb9f3a"
             ],
             [
              0.8888888888888888,
              "#fdca26"
             ],
             [
              1,
              "#f0f921"
             ]
            ],
            "type": "contour"
           }
          ],
          "contourcarpet": [
           {
            "colorbar": {
             "outlinewidth": 0,
             "ticks": ""
            },
            "type": "contourcarpet"
           }
          ],
          "heatmap": [
           {
            "colorbar": {
             "outlinewidth": 0,
             "ticks": ""
            },
            "colorscale": [
             [
              0,
              "#0d0887"
             ],
             [
              0.1111111111111111,
              "#46039f"
             ],
             [
              0.2222222222222222,
              "#7201a8"
             ],
             [
              0.3333333333333333,
              "#9c179e"
             ],
             [
              0.4444444444444444,
              "#bd3786"
             ],
             [
              0.5555555555555556,
              "#d8576b"
             ],
             [
              0.6666666666666666,
              "#ed7953"
             ],
             [
              0.7777777777777778,
              "#fb9f3a"
             ],
             [
              0.8888888888888888,
              "#fdca26"
             ],
             [
              1,
              "#f0f921"
             ]
            ],
            "type": "heatmap"
           }
          ],
          "histogram": [
           {
            "marker": {
             "pattern": {
              "fillmode": "overlay",
              "size": 10,
              "solidity": 0.2
             }
            },
            "type": "histogram"
           }
          ],
          "histogram2d": [
           {
            "colorbar": {
             "outlinewidth": 0,
             "ticks": ""
            },
            "colorscale": [
             [
              0,
              "#0d0887"
             ],
             [
              0.1111111111111111,
              "#46039f"
             ],
             [
              0.2222222222222222,
              "#7201a8"
             ],
             [
              0.3333333333333333,
              "#9c179e"
             ],
             [
              0.4444444444444444,
              "#bd3786"
             ],
             [
              0.5555555555555556,
              "#d8576b"
             ],
             [
              0.6666666666666666,
              "#ed7953"
             ],
             [
              0.7777777777777778,
              "#fb9f3a"
             ],
             [
              0.8888888888888888,
              "#fdca26"
             ],
             [
              1,
              "#f0f921"
             ]
            ],
            "type": "histogram2d"
           }
          ],
          "histogram2dcontour": [
           {
            "colorbar": {
             "outlinewidth": 0,
             "ticks": ""
            },
            "colorscale": [
             [
              0,
              "#0d0887"
             ],
             [
              0.1111111111111111,
              "#46039f"
             ],
             [
              0.2222222222222222,
              "#7201a8"
             ],
             [
              0.3333333333333333,
              "#9c179e"
             ],
             [
              0.4444444444444444,
              "#bd3786"
             ],
             [
              0.5555555555555556,
              "#d8576b"
             ],
             [
              0.6666666666666666,
              "#ed7953"
             ],
             [
              0.7777777777777778,
              "#fb9f3a"
             ],
             [
              0.8888888888888888,
              "#fdca26"
             ],
             [
              1,
              "#f0f921"
             ]
            ],
            "type": "histogram2dcontour"
           }
          ],
          "mesh3d": [
           {
            "colorbar": {
             "outlinewidth": 0,
             "ticks": ""
            },
            "type": "mesh3d"
           }
          ],
          "parcoords": [
           {
            "line": {
             "colorbar": {
              "outlinewidth": 0,
              "ticks": ""
             }
            },
            "type": "parcoords"
           }
          ],
          "pie": [
           {
            "automargin": true,
            "type": "pie"
           }
          ],
          "scatter": [
           {
            "fillpattern": {
             "fillmode": "overlay",
             "size": 10,
             "solidity": 0.2
            },
            "type": "scatter"
           }
          ],
          "scatter3d": [
           {
            "line": {
             "colorbar": {
              "outlinewidth": 0,
              "ticks": ""
             }
            },
            "marker": {
             "colorbar": {
              "outlinewidth": 0,
              "ticks": ""
             }
            },
            "type": "scatter3d"
           }
          ],
          "scattercarpet": [
           {
            "marker": {
             "colorbar": {
              "outlinewidth": 0,
              "ticks": ""
             }
            },
            "type": "scattercarpet"
           }
          ],
          "scattergeo": [
           {
            "marker": {
             "colorbar": {
              "outlinewidth": 0,
              "ticks": ""
             }
            },
            "type": "scattergeo"
           }
          ],
          "scattergl": [
           {
            "marker": {
             "colorbar": {
              "outlinewidth": 0,
              "ticks": ""
             }
            },
            "type": "scattergl"
           }
          ],
          "scattermap": [
           {
            "marker": {
             "colorbar": {
              "outlinewidth": 0,
              "ticks": ""
             }
            },
            "type": "scattermap"
           }
          ],
          "scattermapbox": [
           {
            "marker": {
             "colorbar": {
              "outlinewidth": 0,
              "ticks": ""
             }
            },
            "type": "scattermapbox"
           }
          ],
          "scatterpolar": [
           {
            "marker": {
             "colorbar": {
              "outlinewidth": 0,
              "ticks": ""
             }
            },
            "type": "scatterpolar"
           }
          ],
          "scatterpolargl": [
           {
            "marker": {
             "colorbar": {
              "outlinewidth": 0,
              "ticks": ""
             }
            },
            "type": "scatterpolargl"
           }
          ],
          "scatterternary": [
           {
            "marker": {
             "colorbar": {
              "outlinewidth": 0,
              "ticks": ""
             }
            },
            "type": "scatterternary"
           }
          ],
          "surface": [
           {
            "colorbar": {
             "outlinewidth": 0,
             "ticks": ""
            },
            "colorscale": [
             [
              0,
              "#0d0887"
             ],
             [
              0.1111111111111111,
              "#46039f"
             ],
             [
              0.2222222222222222,
              "#7201a8"
             ],
             [
              0.3333333333333333,
              "#9c179e"
             ],
             [
              0.4444444444444444,
              "#bd3786"
             ],
             [
              0.5555555555555556,
              "#d8576b"
             ],
             [
              0.6666666666666666,
              "#ed7953"
             ],
             [
              0.7777777777777778,
              "#fb9f3a"
             ],
             [
              0.8888888888888888,
              "#fdca26"
             ],
             [
              1,
              "#f0f921"
             ]
            ],
            "type": "surface"
           }
          ],
          "table": [
           {
            "cells": {
             "fill": {
              "color": "#EBF0F8"
             },
             "line": {
              "color": "white"
             }
            },
            "header": {
             "fill": {
              "color": "#C8D4E3"
             },
             "line": {
              "color": "white"
             }
            },
            "type": "table"
           }
          ]
         },
         "layout": {
          "annotationdefaults": {
           "arrowcolor": "#2a3f5f",
           "arrowhead": 0,
           "arrowwidth": 1
          },
          "autotypenumbers": "strict",
          "coloraxis": {
           "colorbar": {
            "outlinewidth": 0,
            "ticks": ""
           }
          },
          "colorscale": {
           "diverging": [
            [
             0,
             "#8e0152"
            ],
            [
             0.1,
             "#c51b7d"
            ],
            [
             0.2,
             "#de77ae"
            ],
            [
             0.3,
             "#f1b6da"
            ],
            [
             0.4,
             "#fde0ef"
            ],
            [
             0.5,
             "#f7f7f7"
            ],
            [
             0.6,
             "#e6f5d0"
            ],
            [
             0.7,
             "#b8e186"
            ],
            [
             0.8,
             "#7fbc41"
            ],
            [
             0.9,
             "#4d9221"
            ],
            [
             1,
             "#276419"
            ]
           ],
           "sequential": [
            [
             0,
             "#0d0887"
            ],
            [
             0.1111111111111111,
             "#46039f"
            ],
            [
             0.2222222222222222,
             "#7201a8"
            ],
            [
             0.3333333333333333,
             "#9c179e"
            ],
            [
             0.4444444444444444,
             "#bd3786"
            ],
            [
             0.5555555555555556,
             "#d8576b"
            ],
            [
             0.6666666666666666,
             "#ed7953"
            ],
            [
             0.7777777777777778,
             "#fb9f3a"
            ],
            [
             0.8888888888888888,
             "#fdca26"
            ],
            [
             1,
             "#f0f921"
            ]
           ],
           "sequentialminus": [
            [
             0,
             "#0d0887"
            ],
            [
             0.1111111111111111,
             "#46039f"
            ],
            [
             0.2222222222222222,
             "#7201a8"
            ],
            [
             0.3333333333333333,
             "#9c179e"
            ],
            [
             0.4444444444444444,
             "#bd3786"
            ],
            [
             0.5555555555555556,
             "#d8576b"
            ],
            [
             0.6666666666666666,
             "#ed7953"
            ],
            [
             0.7777777777777778,
             "#fb9f3a"
            ],
            [
             0.8888888888888888,
             "#fdca26"
            ],
            [
             1,
             "#f0f921"
            ]
           ]
          },
          "colorway": [
           "#636efa",
           "#EF553B",
           "#00cc96",
           "#ab63fa",
           "#FFA15A",
           "#19d3f3",
           "#FF6692",
           "#B6E880",
           "#FF97FF",
           "#FECB52"
          ],
          "font": {
           "color": "#2a3f5f"
          },
          "geo": {
           "bgcolor": "white",
           "lakecolor": "white",
           "landcolor": "#E5ECF6",
           "showlakes": true,
           "showland": true,
           "subunitcolor": "white"
          },
          "hoverlabel": {
           "align": "left"
          },
          "hovermode": "closest",
          "mapbox": {
           "style": "light"
          },
          "paper_bgcolor": "white",
          "plot_bgcolor": "#E5ECF6",
          "polar": {
           "angularaxis": {
            "gridcolor": "white",
            "linecolor": "white",
            "ticks": ""
           },
           "bgcolor": "#E5ECF6",
           "radialaxis": {
            "gridcolor": "white",
            "linecolor": "white",
            "ticks": ""
           }
          },
          "scene": {
           "xaxis": {
            "backgroundcolor": "#E5ECF6",
            "gridcolor": "white",
            "gridwidth": 2,
            "linecolor": "white",
            "showbackground": true,
            "ticks": "",
            "zerolinecolor": "white"
           },
           "yaxis": {
            "backgroundcolor": "#E5ECF6",
            "gridcolor": "white",
            "gridwidth": 2,
            "linecolor": "white",
            "showbackground": true,
            "ticks": "",
            "zerolinecolor": "white"
           },
           "zaxis": {
            "backgroundcolor": "#E5ECF6",
            "gridcolor": "white",
            "gridwidth": 2,
            "linecolor": "white",
            "showbackground": true,
            "ticks": "",
            "zerolinecolor": "white"
           }
          },
          "shapedefaults": {
           "line": {
            "color": "#2a3f5f"
           }
          },
          "ternary": {
           "aaxis": {
            "gridcolor": "white",
            "linecolor": "white",
            "ticks": ""
           },
           "baxis": {
            "gridcolor": "white",
            "linecolor": "white",
            "ticks": ""
           },
           "bgcolor": "#E5ECF6",
           "caxis": {
            "gridcolor": "white",
            "linecolor": "white",
            "ticks": ""
           }
          },
          "title": {
           "x": 0.05
          },
          "xaxis": {
           "automargin": true,
           "gridcolor": "white",
           "linecolor": "white",
           "ticks": "",
           "title": {
            "standoff": 15
           },
           "zerolinecolor": "white",
           "zerolinewidth": 2
          },
          "yaxis": {
           "automargin": true,
           "gridcolor": "white",
           "linecolor": "white",
           "ticks": "",
           "title": {
            "standoff": 15
           },
           "zerolinecolor": "white",
           "zerolinewidth": 2
          }
         }
        },
        "title": {
         "font": {
          "size": 20
         },
         "text": "PULSE Scores",
         "x": 0.5,
         "y": 0.95
        },
        "updatemenus": [
         {
          "buttons": [
           {
            "args": [
             {
              "visible": [
               true,
               true,
               true,
               true,
               true,
               true,
               true,
               true,
               true,
               false,
               false,
               false,
               false,
               false,
               false,
               false,
               false,
               false,
               false,
               false,
               false,
               false,
               false,
               false,
               false,
               false,
               false,
               false,
               false,
               false,
               false,
               false,
               false,
               false,
               false,
               false,
               false,
               false,
               false,
               false,
               false,
               false,
               false,
               false,
               false,
               false,
               false,
               false,
               false,
               false,
               false,
               false,
               false,
               false,
               false,
               false,
               false,
               false,
               false,
               false,
               false,
               false,
               false,
               false,
               false,
               false,
               false,
               false,
               false,
               false,
               false,
               false,
               false,
               false,
               false,
               false,
               false,
               false,
               false,
               false,
               false,
               false,
               false,
               false,
               false,
               false,
               false,
               false,
               false,
               false,
               false,
               false,
               false,
               false,
               false,
               false,
               false,
               false,
               false,
               false,
               false,
               false,
               false,
               false,
               false,
               false,
               false,
               false,
               false,
               false,
               false,
               false,
               false,
               false,
               false,
               false,
               false
              ]
             },
             {
              "title": "Benchmarking: auroc"
             }
            ],
            "label": "auroc",
            "method": "update"
           },
           {
            "args": [
             {
              "visible": [
               false,
               false,
               false,
               false,
               false,
               false,
               false,
               false,
               false,
               true,
               true,
               true,
               true,
               true,
               true,
               true,
               true,
               true,
               false,
               false,
               false,
               false,
               false,
               false,
               false,
               false,
               false,
               false,
               false,
               false,
               false,
               false,
               false,
               false,
               false,
               false,
               false,
               false,
               false,
               false,
               false,
               false,
               false,
               false,
               false,
               false,
               false,
               false,
               false,
               false,
               false,
               false,
               false,
               false,
               false,
               false,
               false,
               false,
               false,
               false,
               false,
               false,
               false,
               false,
               false,
               false,
               false,
               false,
               false,
               false,
               false,
               false,
               false,
               false,
               false,
               false,
               false,
               false,
               false,
               false,
               false,
               false,
               false,
               false,
               false,
               false,
               false,
               false,
               false,
               false,
               false,
               false,
               false,
               false,
               false,
               false,
               false,
               false,
               false,
               false,
               false,
               false,
               false,
               false,
               false,
               false,
               false,
               false,
               false,
               false,
               false,
               false,
               false,
               false,
               false,
               false,
               false
              ]
             },
             {
              "title": "Benchmarking: auprc"
             }
            ],
            "label": "auprc",
            "method": "update"
           },
           {
            "args": [
             {
              "visible": [
               false,
               false,
               false,
               false,
               false,
               false,
               false,
               false,
               false,
               false,
               false,
               false,
               false,
               false,
               false,
               false,
               false,
               false,
               true,
               true,
               true,
               true,
               true,
               true,
               true,
               true,
               true,
               false,
               false,
               false,
               false,
               false,
               false,
               false,
               false,
               false,
               false,
               false,
               false,
               false,
               false,
               false,
               false,
               false,
               false,
               false,
               false,
               false,
               false,
               false,
               false,
               false,
               false,
               false,
               false,
               false,
               false,
               false,
               false,
               false,
               false,
               false,
               false,
               false,
               false,
               false,
               false,
               false,
               false,
               false,
               false,
               false,
               false,
               false,
               false,
               false,
               false,
               false,
               false,
               false,
               false,
               false,
               false,
               false,
               false,
               false,
               false,
               false,
               false,
               false,
               false,
               false,
               false,
               false,
               false,
               false,
               false,
               false,
               false,
               false,
               false,
               false,
               false,
               false,
               false,
               false,
               false,
               false,
               false,
               false,
               false,
               false,
               false,
               false,
               false,
               false,
               false
              ]
             },
             {
              "title": "Benchmarking: normalized_auprc"
             }
            ],
            "label": "normalized_auprc",
            "method": "update"
           },
           {
            "args": [
             {
              "visible": [
               false,
               false,
               false,
               false,
               false,
               false,
               false,
               false,
               false,
               false,
               false,
               false,
               false,
               false,
               false,
               false,
               false,
               false,
               false,
               false,
               false,
               false,
               false,
               false,
               false,
               false,
               false,
               true,
               true,
               true,
               true,
               true,
               true,
               true,
               true,
               true,
               false,
               false,
               false,
               false,
               false,
               false,
               false,
               false,
               false,
               false,
               false,
               false,
               false,
               false,
               false,
               false,
               false,
               false,
               false,
               false,
               false,
               false,
               false,
               false,
               false,
               false,
               false,
               false,
               false,
               false,
               false,
               false,
               false,
               false,
               false,
               false,
               false,
               false,
               false,
               false,
               false,
               false,
               false,
               false,
               false,
               false,
               false,
               false,
               false,
               false,
               false,
               false,
               false,
               false,
               false,
               false,
               false,
               false,
               false,
               false,
               false,
               false,
               false,
               false,
               false,
               false,
               false,
               false,
               false,
               false,
               false,
               false,
               false,
               false,
               false,
               false,
               false,
               false,
               false,
               false,
               false
              ]
             },
             {
              "title": "Benchmarking: sensitivity"
             }
            ],
            "label": "sensitivity",
            "method": "update"
           },
           {
            "args": [
             {
              "visible": [
               false,
               false,
               false,
               false,
               false,
               false,
               false,
               false,
               false,
               false,
               false,
               false,
               false,
               false,
               false,
               false,
               false,
               false,
               false,
               false,
               false,
               false,
               false,
               false,
               false,
               false,
               false,
               false,
               false,
               false,
               false,
               false,
               false,
               false,
               false,
               false,
               true,
               true,
               true,
               true,
               true,
               true,
               true,
               true,
               true,
               false,
               false,
               false,
               false,
               false,
               false,
               false,
               false,
               false,
               false,
               false,
               false,
               false,
               false,
               false,
               false,
               false,
               false,
               false,
               false,
               false,
               false,
               false,
               false,
               false,
               false,
               false,
               false,
               false,
               false,
               false,
               false,
               false,
               false,
               false,
               false,
               false,
               false,
               false,
               false,
               false,
               false,
               false,
               false,
               false,
               false,
               false,
               false,
               false,
               false,
               false,
               false,
               false,
               false,
               false,
               false,
               false,
               false,
               false,
               false,
               false,
               false,
               false,
               false,
               false,
               false,
               false,
               false,
               false,
               false,
               false,
               false
              ]
             },
             {
              "title": "Benchmarking: specificity"
             }
            ],
            "label": "specificity",
            "method": "update"
           },
           {
            "args": [
             {
              "visible": [
               false,
               false,
               false,
               false,
               false,
               false,
               false,
               false,
               false,
               false,
               false,
               false,
               false,
               false,
               false,
               false,
               false,
               false,
               false,
               false,
               false,
               false,
               false,
               false,
               false,
               false,
               false,
               false,
               false,
               false,
               false,
               false,
               false,
               false,
               false,
               false,
               false,
               false,
               false,
               false,
               false,
               false,
               false,
               false,
               false,
               true,
               true,
               true,
               true,
               true,
               true,
               true,
               true,
               true,
               false,
               false,
               false,
               false,
               false,
               false,
               false,
               false,
               false,
               false,
               false,
               false,
               false,
               false,
               false,
               false,
               false,
               false,
               false,
               false,
               false,
               false,
               false,
               false,
               false,
               false,
               false,
               false,
               false,
               false,
               false,
               false,
               false,
               false,
               false,
               false,
               false,
               false,
               false,
               false,
               false,
               false,
               false,
               false,
               false,
               false,
               false,
               false,
               false,
               false,
               false,
               false,
               false,
               false,
               false,
               false,
               false,
               false,
               false,
               false,
               false,
               false,
               false
              ]
             },
             {
              "title": "Benchmarking: f1_score"
             }
            ],
            "label": "f1_score",
            "method": "update"
           },
           {
            "args": [
             {
              "visible": [
               false,
               false,
               false,
               false,
               false,
               false,
               false,
               false,
               false,
               false,
               false,
               false,
               false,
               false,
               false,
               false,
               false,
               false,
               false,
               false,
               false,
               false,
               false,
               false,
               false,
               false,
               false,
               false,
               false,
               false,
               false,
               false,
               false,
               false,
               false,
               false,
               false,
               false,
               false,
               false,
               false,
               false,
               false,
               false,
               false,
               false,
               false,
               false,
               false,
               false,
               false,
               false,
               false,
               false,
               true,
               true,
               true,
               true,
               true,
               true,
               true,
               true,
               true,
               false,
               false,
               false,
               false,
               false,
               false,
               false,
               false,
               false,
               false,
               false,
               false,
               false,
               false,
               false,
               false,
               false,
               false,
               false,
               false,
               false,
               false,
               false,
               false,
               false,
               false,
               false,
               false,
               false,
               false,
               false,
               false,
               false,
               false,
               false,
               false,
               false,
               false,
               false,
               false,
               false,
               false,
               false,
               false,
               false,
               false,
               false,
               false,
               false,
               false,
               false,
               false,
               false,
               false
              ]
             },
             {
              "title": "Benchmarking: accuracy"
             }
            ],
            "label": "accuracy",
            "method": "update"
           },
           {
            "args": [
             {
              "visible": [
               false,
               false,
               false,
               false,
               false,
               false,
               false,
               false,
               false,
               false,
               false,
               false,
               false,
               false,
               false,
               false,
               false,
               false,
               false,
               false,
               false,
               false,
               false,
               false,
               false,
               false,
               false,
               false,
               false,
               false,
               false,
               false,
               false,
               false,
               false,
               false,
               false,
               false,
               false,
               false,
               false,
               false,
               false,
               false,
               false,
               false,
               false,
               false,
               false,
               false,
               false,
               false,
               false,
               false,
               false,
               false,
               false,
               false,
               false,
               false,
               false,
               false,
               false,
               true,
               true,
               true,
               true,
               true,
               true,
               true,
               true,
               true,
               false,
               false,
               false,
               false,
               false,
               false,
               false,
               false,
               false,
               false,
               false,
               false,
               false,
               false,
               false,
               false,
               false,
               false,
               false,
               false,
               false,
               false,
               false,
               false,
               false,
               false,
               false,
               false,
               false,
               false,
               false,
               false,
               false,
               false,
               false,
               false,
               false,
               false,
               false,
               false,
               false,
               false,
               false,
               false,
               false
              ]
             },
             {
              "title": "Benchmarking: balanced_accuracy"
             }
            ],
            "label": "balanced_accuracy",
            "method": "update"
           },
           {
            "args": [
             {
              "visible": [
               false,
               false,
               false,
               false,
               false,
               false,
               false,
               false,
               false,
               false,
               false,
               false,
               false,
               false,
               false,
               false,
               false,
               false,
               false,
               false,
               false,
               false,
               false,
               false,
               false,
               false,
               false,
               false,
               false,
               false,
               false,
               false,
               false,
               false,
               false,
               false,
               false,
               false,
               false,
               false,
               false,
               false,
               false,
               false,
               false,
               false,
               false,
               false,
               false,
               false,
               false,
               false,
               false,
               false,
               false,
               false,
               false,
               false,
               false,
               false,
               false,
               false,
               false,
               false,
               false,
               false,
               false,
               false,
               false,
               false,
               false,
               false,
               true,
               true,
               true,
               true,
               true,
               true,
               true,
               true,
               true,
               false,
               false,
               false,
               false,
               false,
               false,
               false,
               false,
               false,
               false,
               false,
               false,
               false,
               false,
               false,
               false,
               false,
               false,
               false,
               false,
               false,
               false,
               false,
               false,
               false,
               false,
               false,
               false,
               false,
               false,
               false,
               false,
               false,
               false,
               false,
               false
              ]
             },
             {
              "title": "Benchmarking: precision"
             }
            ],
            "label": "precision",
            "method": "update"
           },
           {
            "args": [
             {
              "visible": [
               false,
               false,
               false,
               false,
               false,
               false,
               false,
               false,
               false,
               false,
               false,
               false,
               false,
               false,
               false,
               false,
               false,
               false,
               false,
               false,
               false,
               false,
               false,
               false,
               false,
               false,
               false,
               false,
               false,
               false,
               false,
               false,
               false,
               false,
               false,
               false,
               false,
               false,
               false,
               false,
               false,
               false,
               false,
               false,
               false,
               false,
               false,
               false,
               false,
               false,
               false,
               false,
               false,
               false,
               false,
               false,
               false,
               false,
               false,
               false,
               false,
               false,
               false,
               false,
               false,
               false,
               false,
               false,
               false,
               false,
               false,
               false,
               false,
               false,
               false,
               false,
               false,
               false,
               false,
               false,
               false,
               true,
               true,
               true,
               true,
               true,
               true,
               true,
               true,
               true,
               false,
               false,
               false,
               false,
               false,
               false,
               false,
               false,
               false,
               false,
               false,
               false,
               false,
               false,
               false,
               false,
               false,
               false,
               false,
               false,
               false,
               false,
               false,
               false,
               false,
               false,
               false
              ]
             },
             {
              "title": "Benchmarking: recall"
             }
            ],
            "label": "recall",
            "method": "update"
           },
           {
            "args": [
             {
              "visible": [
               false,
               false,
               false,
               false,
               false,
               false,
               false,
               false,
               false,
               false,
               false,
               false,
               false,
               false,
               false,
               false,
               false,
               false,
               false,
               false,
               false,
               false,
               false,
               false,
               false,
               false,
               false,
               false,
               false,
               false,
               false,
               false,
               false,
               false,
               false,
               false,
               false,
               false,
               false,
               false,
               false,
               false,
               false,
               false,
               false,
               false,
               false,
               false,
               false,
               false,
               false,
               false,
               false,
               false,
               false,
               false,
               false,
               false,
               false,
               false,
               false,
               false,
               false,
               false,
               false,
               false,
               false,
               false,
               false,
               false,
               false,
               false,
               false,
               false,
               false,
               false,
               false,
               false,
               false,
               false,
               false,
               false,
               false,
               false,
               false,
               false,
               false,
               false,
               false,
               false,
               true,
               true,
               true,
               true,
               true,
               true,
               true,
               true,
               true,
               false,
               false,
               false,
               false,
               false,
               false,
               false,
               false,
               false,
               false,
               false,
               false,
               false,
               false,
               false,
               false,
               false,
               false
              ]
             },
             {
              "title": "Benchmarking: mcc"
             }
            ],
            "label": "mcc",
            "method": "update"
           },
           {
            "args": [
             {
              "visible": [
               false,
               false,
               false,
               false,
               false,
               false,
               false,
               false,
               false,
               false,
               false,
               false,
               false,
               false,
               false,
               false,
               false,
               false,
               false,
               false,
               false,
               false,
               false,
               false,
               false,
               false,
               false,
               false,
               false,
               false,
               false,
               false,
               false,
               false,
               false,
               false,
               false,
               false,
               false,
               false,
               false,
               false,
               false,
               false,
               false,
               false,
               false,
               false,
               false,
               false,
               false,
               false,
               false,
               false,
               false,
               false,
               false,
               false,
               false,
               false,
               false,
               false,
               false,
               false,
               false,
               false,
               false,
               false,
               false,
               false,
               false,
               false,
               false,
               false,
               false,
               false,
               false,
               false,
               false,
               false,
               false,
               false,
               false,
               false,
               false,
               false,
               false,
               false,
               false,
               false,
               false,
               false,
               false,
               false,
               false,
               false,
               false,
               false,
               false,
               true,
               true,
               true,
               true,
               true,
               true,
               true,
               true,
               true,
               false,
               false,
               false,
               false,
               false,
               false,
               false,
               false,
               false
              ]
             },
             {
              "title": "Benchmarking: kappa"
             }
            ],
            "label": "kappa",
            "method": "update"
           },
           {
            "args": [
             {
              "visible": [
               false,
               false,
               false,
               false,
               false,
               false,
               false,
               false,
               false,
               false,
               false,
               false,
               false,
               false,
               false,
               false,
               false,
               false,
               false,
               false,
               false,
               false,
               false,
               false,
               false,
               false,
               false,
               false,
               false,
               false,
               false,
               false,
               false,
               false,
               false,
               false,
               false,
               false,
               false,
               false,
               false,
               false,
               false,
               false,
               false,
               false,
               false,
               false,
               false,
               false,
               false,
               false,
               false,
               false,
               false,
               false,
               false,
               false,
               false,
               false,
               false,
               false,
               false,
               false,
               false,
               false,
               false,
               false,
               false,
               false,
               false,
               false,
               false,
               false,
               false,
               false,
               false,
               false,
               false,
               false,
               false,
               false,
               false,
               false,
               false,
               false,
               false,
               false,
               false,
               false,
               false,
               false,
               false,
               false,
               false,
               false,
               false,
               false,
               false,
               false,
               false,
               false,
               false,
               false,
               false,
               false,
               false,
               false,
               true,
               true,
               true,
               true,
               true,
               true,
               true,
               true,
               true
              ]
             },
             {
              "title": "Benchmarking: minpse"
             }
            ],
            "label": "minpse",
            "method": "update"
           }
          ],
          "direction": "down",
          "showactive": true,
          "x": 1.15,
          "xanchor": "left",
          "y": 1.15,
          "yanchor": "top"
         }
        ],
        "width": 1100,
        "xaxis": {
         "tickangle": -30,
         "tickfont": {
          "size": 12
         },
         "title": {
          "font": {
           "size": 16
          },
          "text": "Model"
         }
        },
        "yaxis": {
         "tickfont": {
          "size": 12
         },
         "title": {
          "font": {
           "size": 16
          },
          "text": "Score"
         }
        }
       }
      }
     },
     "metadata": {},
     "output_type": "display_data"
    }
   ],
   "source": [
    "# Create traces for all (metric, task-dataset) pairs\n",
    "fig = go.Figure()\n",
    "\n",
    "initial_metric_index = 0  # Show only the first metric at start\n",
    "\n",
    "for metric_index, metric in enumerate(metrics):\n",
    "    metric_df = df.copy()\n",
    "    for task_dataset in task_datasets:\n",
    "        sub_df = metric_df[metric_df[\"Task-Dataset\"] == task_dataset]\n",
    "        y_vals = [\n",
    "            (\n",
    "                sub_df[sub_df[\"Model\"] == model][metric].values[0]\n",
    "                if model in sub_df[\"Model\"].values\n",
    "                else None\n",
    "            )\n",
    "            for model in models\n",
    "        ]\n",
    "        # Only show traces for the first metric initially\n",
    "        visible = metric_index == initial_metric_index\n",
    "        fig.add_trace(\n",
    "            go.Bar(\n",
    "                x=models,\n",
    "                y=y_vals,\n",
    "                name=task_dataset,\n",
    "                marker_color=task_dataset_colors[task_datasets.index(task_dataset)],\n",
    "                legendgroup=task_dataset,\n",
    "                visible=visible,\n",
    "            )\n",
    "        )\n",
    "\n",
    "# Create dropdown visibility logic\n",
    "visibility_map = []\n",
    "for i in range(len(metrics)):\n",
    "    vis = [False] * len(metrics) * traces_per_metric\n",
    "    start = i * traces_per_metric\n",
    "    vis[start : start + traces_per_metric] = [True] * traces_per_metric\n",
    "    visibility_map.append(vis)\n",
    "\n",
    "# Add dropdown menu\n",
    "fig.update_layout(\n",
    "    updatemenus=[\n",
    "        {\n",
    "            \"buttons\": [\n",
    "                {\n",
    "                    \"label\": metric,\n",
    "                    \"method\": \"update\",\n",
    "                    \"args\": [{\"visible\": vis}, {\"title\": f\"Benchmarking: {metric}\"}],\n",
    "                }\n",
    "                for metric, vis in zip(metrics, visibility_map)\n",
    "            ],\n",
    "            \"direction\": \"down\",\n",
    "            \"showactive\": True,\n",
    "            \"x\": 1.15,\n",
    "            \"xanchor\": \"left\",\n",
    "            \"y\": 1.15,\n",
    "            \"yanchor\": \"top\",\n",
    "        }\n",
    "    ],\n",
    "    barmode=\"group\",\n",
    "    title=f\"PULSE Scores: {metrics[0]}\",\n",
    "    xaxis_title=\"Model\",\n",
    "    yaxis_title=\"Score\",\n",
    "    legend_title=\"Task-Dataset\",\n",
    "    xaxis_tickangle=-30,\n",
    "    width=1100,\n",
    "    height=650,\n",
    ")\n",
    "\n",
    "# Update layout for better readability\n",
    "fig.update_layout(\n",
    "    title_font=dict(size=20),\n",
    "    xaxis_title_font=dict(size=16),\n",
    "    yaxis_title_font=dict(size=16),\n",
    "    legend_title_font=dict(size=16),\n",
    "    legend_font=dict(size=14),\n",
    "    xaxis_tickfont=dict(size=12),\n",
    "    yaxis_tickfont=dict(size=12),\n",
    ")\n",
    "\n",
    "# Add hover template for better readability\n",
    "fig.update_traces(\n",
    "    hovertemplate=\"<b>Model:</b> %{x}<br><b>Task-Dataset:</b> %{meta}<br><b>Score:</b> %{y:.2f}<extra></extra>\",\n",
    "    meta=[task_dataset for task_dataset in task_datasets]\n",
    ")\n",
    "\n",
    "# Add a title to the figure\n",
    "fig.update_layout(\n",
    "    title_text=\"PULSE Scores\",\n",
    "    title_x=0.5,\n",
    "    title_y=0.95,\n",
    ")\n",
    "\n",
    "# Add a background color\n",
    "fig.update_layout(\n",
    "    plot_bgcolor=\"rgba(0, 0, 0, 0.1)\",\n",
    "    paper_bgcolor=\"rgba(255, 255, 255, 1.0)\",\n",
    ")\n",
    "\n",
    "\n",
    "\n",
    "# Save the interactive chart to HTML\n",
    "pio.write_html(fig, file=\"benchmark_plot.html\", full_html=True, include_plotlyjs=\"cdn\")\n",
    "fig.show()"
   ]
  },
  {
   "cell_type": "code",
   "execution_count": null,
   "id": "4dde7fa8",
   "metadata": {},
   "outputs": [],
   "source": []
  }
 ],
 "metadata": {
  "kernelspec": {
   "display_name": ".venv",
   "language": "python",
   "name": "python3"
  },
  "language_info": {
   "codemirror_mode": {
    "name": "ipython",
    "version": 3
   },
   "file_extension": ".py",
   "mimetype": "text/x-python",
   "name": "python",
   "nbconvert_exporter": "python",
   "pygments_lexer": "ipython3",
   "version": "3.12.2"
  }
 },
 "nbformat": 4,
 "nbformat_minor": 5
}
