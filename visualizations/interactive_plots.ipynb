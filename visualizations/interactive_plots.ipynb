{
 "cells": [
  {
   "cell_type": "code",
   "execution_count": 1,
   "id": "057b6d76",
   "metadata": {},
   "outputs": [],
   "source": [
    "# Import Required Libraries\n",
    "import os\n",
    "import json\n",
    "import pandas as pd\n",
    "import numpy as np\n",
    "import os\n",
    "import plotly.graph_objects as go\n",
    "from plotly.subplots import make_subplots\n",
    "import plotly.express as px\n",
    "import plotly.graph_objects as go\n",
    "from plotly.colors import sequential\n",
    "import plotly.io as pio"
   ]
  },
  {
   "cell_type": "code",
   "execution_count": 2,
   "id": "d6400284",
   "metadata": {},
   "outputs": [
    {
     "ename": "TypeError",
     "evalue": "list indices must be integers or slices, not str",
     "output_type": "error",
     "traceback": [
      "\u001b[31m---------------------------------------------------------------------------\u001b[39m",
      "\u001b[31mTypeError\u001b[39m                                 Traceback (most recent call last)",
      "\u001b[36mCell\u001b[39m\u001b[36m \u001b[39m\u001b[32mIn[2]\u001b[39m\u001b[32m, line 14\u001b[39m\n\u001b[32m     10\u001b[39m flattened_results = []\n\u001b[32m     11\u001b[39m \u001b[38;5;28;01mfor\u001b[39;00m result \u001b[38;5;129;01min\u001b[39;00m results_list:\n\u001b[32m     12\u001b[39m     \u001b[38;5;66;03m# Create a dictionary for each result\u001b[39;00m\n\u001b[32m     13\u001b[39m     flat_result = {\n\u001b[32m---> \u001b[39m\u001b[32m14\u001b[39m         \u001b[33m\"\u001b[39m\u001b[33mModel\u001b[39m\u001b[33m\"\u001b[39m: \u001b[43mresult\u001b[49m\u001b[43m[\u001b[49m\u001b[33;43m\"\u001b[39;49m\u001b[33;43mmodel_id\u001b[39;49m\u001b[33;43m\"\u001b[39;49m\u001b[43m]\u001b[49m,\n\u001b[32m     15\u001b[39m         \u001b[33m\"\u001b[39m\u001b[33mTask\u001b[39m\u001b[33m\"\u001b[39m: result[\u001b[33m\"\u001b[39m\u001b[33mtask_id\u001b[39m\u001b[33m\"\u001b[39m],\n\u001b[32m     16\u001b[39m         \u001b[33m\"\u001b[39m\u001b[33mDataset\u001b[39m\u001b[33m\"\u001b[39m: result[\u001b[33m\"\u001b[39m\u001b[33mdataset\u001b[39m\u001b[33m\"\u001b[39m]\n\u001b[32m     17\u001b[39m     }\n\u001b[32m     19\u001b[39m     \u001b[38;5;66;03m# Add all metrics from the metrics_summary/overall section\u001b[39;00m\n\u001b[32m     20\u001b[39m     \u001b[38;5;28;01mif\u001b[39;00m \u001b[33m\"\u001b[39m\u001b[33mmetrics_summary\u001b[39m\u001b[33m\"\u001b[39m \u001b[38;5;129;01min\u001b[39;00m result \u001b[38;5;129;01mand\u001b[39;00m \u001b[33m\"\u001b[39m\u001b[33moverall\u001b[39m\u001b[33m\"\u001b[39m \u001b[38;5;129;01min\u001b[39;00m result[\u001b[33m\"\u001b[39m\u001b[33mmetrics_summary\u001b[39m\u001b[33m\"\u001b[39m]:\n",
      "\u001b[31mTypeError\u001b[39m: list indices must be integers or slices, not str"
     ]
    }
   ],
   "source": [
    "# Load and Prepare Data\n",
    "# Load the JSON file\n",
    "with open(\"../docs/results.json\", \"r\") as f:\n",
    "    results_data = json.load(f)\n",
    "\n",
    "# Extract the results list\n",
    "results_list = results_data[\"results\"]\n",
    "\n",
    "# Create a flattened list of dictionaries for DataFrame creation\n",
    "flattened_results = []\n",
    "for result in results_list:\n",
    "    # Create a dictionary for each result\n",
    "    flat_result = {\n",
    "        \"Model\": result[\"model_id\"],\n",
    "        \"Task\": result[\"task_id\"],\n",
    "        \"Dataset\": result[\"dataset\"]\n",
    "    }\n",
    "    \n",
    "    # Add all metrics from the metrics_summary/overall section\n",
    "    if \"metrics_summary\" in result and \"overall\" in result[\"metrics_summary\"]:\n",
    "        metrics = result[\"metrics_summary\"][\"overall\"]\n",
    "        for metric_key, metric_value in metrics.items():\n",
    "            flat_result[metric_key] = metric_value\n",
    "    \n",
    "    flattened_results.append(flat_result)\n",
    "\n",
    "# Create DataFrame\n",
    "df = pd.DataFrame(flattened_results)\n",
    "\n",
    "print(f\"Loaded data with shape: {df.shape}\")\n",
    "print(f\"Columns: {', '.join(df.columns)}\")\n",
    "df"
   ]
  },
  {
   "cell_type": "code",
   "execution_count": null,
   "id": "828e0276",
   "metadata": {},
   "outputs": [],
   "source": [
    "# Rename columns to consistent format\n",
    "df.columns = [col.strip().replace('\"', \"\") for col in df.columns]\n",
    "df[\"Task-Dataset\"] = df[\"Task\"] + \" - \" + df[\"Dataset\"]\n",
    "\n",
    "# Models, task-datasets, and metrics\n",
    "models = sorted(df[\"Model\"].unique())\n",
    "models = [\n",
    "    \"LightGBM\",\n",
    "    \"RandomForest\",\n",
    "    \"XGBoost\",\n",
    "    \"CNN\",\n",
    "    \"GRU\",\n",
    "    \"InceptionTime\",\n",
    "    \"LSTM\",\n",
    "    \"DeepseekR1Llama8b\",\n",
    "    \"Gemini2p5flash\",\n",
    "    \"Gemma3\",\n",
    "    \"Mistral\",\n",
    "    \"Llama3\",\n",
    "]"
   ]
  },
  {
   "cell_type": "code",
   "execution_count": null,
   "id": "78730ee4",
   "metadata": {},
   "outputs": [],
   "source": [
    "\n",
    "task_datasets = sorted(df[\"Task-Dataset\"].unique())\n",
    "metrics = [\n",
    "    \"auroc\",\n",
    "    \"auprc\",\n",
    "    \"normalized_auprc\",\n",
    "    # \"sensitivity\",\n",
    "    # \"specificity\",\n",
    "    # \"f1_score\",\n",
    "    # \"accuracy\",\n",
    "    # \"balanced_accuracy\",\n",
    "    # \"precision\",\n",
    "    # \"recall\",\n",
    "    \"mcc\",\n",
    "    # \"kappa\",\n",
    "    \"minpse\",\n",
    "]"
   ]
  },
  {
   "cell_type": "code",
   "execution_count": null,
   "id": "2b3fc7a1",
   "metadata": {},
   "outputs": [],
   "source": [
    "task_datasets = [\n",
    "    \"aki - eicu\",\n",
    "    \"mortality - eicu\",\n",
    "    \"sepsis - eicu\",\n",
    "]"
   ]
  },
  {
   "cell_type": "code",
   "execution_count": null,
   "id": "a528ff98",
   "metadata": {},
   "outputs": [],
   "source": [
    "# Generate blue shades for task datasets\n",
    "task_dataset_colors = sequential.Blues[len(sequential.Blues) - len(task_datasets):][::-1]\n",
    "task_dataset_colors = task_dataset_colors[: len(task_datasets)]\n",
    "traces_per_metric = len(task_datasets)"
   ]
  },
  {
   "cell_type": "code",
   "execution_count": null,
   "id": "424fe75a",
   "metadata": {},
   "outputs": [
    {
     "data": {
      "text/plain": [
       "['rgb(8,48,107)', 'rgb(8,81,156)', 'rgb(33,113,181)']"
      ]
     },
     "execution_count": 19,
     "metadata": {},
     "output_type": "execute_result"
    }
   ],
   "source": [
    "task_dataset_colors"
   ]
  },
  {
   "cell_type": "code",
   "execution_count": null,
   "id": "fff1a0c3",
   "metadata": {},
   "outputs": [
    {
     "data": {
      "application/vnd.plotly.v1+json": {
       "config": {
        "plotlyServerURL": "https://plot.ly"
       },
       "data": [
        {
         "hovertemplate": "<b>Model:</b> %{x}<br><b>Task-Dataset:</b> %{meta}<br><b>Score:</b> %{y:.2f}<extra></extra>",
         "legendgroup": "aki - eicu",
         "marker": {
          "color": "rgb(8,48,107)"
         },
         "meta": "aki - eicu",
         "name": "aki - eicu",
         "type": "bar",
         "visible": true,
         "x": [
          "LightGBM",
          "RandomForest",
          "XGBoost",
          "CNN",
          "GRU",
          "InceptionTime",
          "LSTM",
          "DeepseekR1Llama8b",
          "Gemini2p5flash",
          "Gemma3",
          "Mistral",
          "Llama3"
         ],
         "y": [
          0.802,
          0.749,
          0.779,
          0.78,
          0.756,
          0.631,
          0.41,
          0.586,
          0.609,
          0.61,
          0.48,
          0.506
         ]
        },
        {
         "hovertemplate": "<b>Model:</b> %{x}<br><b>Task-Dataset:</b> %{meta}<br><b>Score:</b> %{y:.2f}<extra></extra>",
         "legendgroup": "mortality - eicu",
         "marker": {
          "color": "rgb(8,81,156)"
         },
         "meta": "mortality - eicu",
         "name": "mortality - eicu",
         "type": "bar",
         "visible": true,
         "x": [
          "LightGBM",
          "RandomForest",
          "XGBoost",
          "CNN",
          "GRU",
          "InceptionTime",
          "LSTM",
          "DeepseekR1Llama8b",
          "Gemini2p5flash",
          "Gemma3",
          "Mistral",
          "Llama3"
         ],
         "y": [
          0.857,
          0.773,
          0.806,
          0.845,
          0.86,
          0.851,
          0.845,
          0.661,
          0.83,
          0.505,
          0.416,
          0.5
         ]
        },
        {
         "hovertemplate": "<b>Model:</b> %{x}<br><b>Task-Dataset:</b> %{meta}<br><b>Score:</b> %{y:.2f}<extra></extra>",
         "legendgroup": "sepsis - eicu",
         "marker": {
          "color": "rgb(33,113,181)"
         },
         "meta": "sepsis - eicu",
         "name": "sepsis - eicu",
         "type": "bar",
         "visible": true,
         "x": [
          "LightGBM",
          "RandomForest",
          "XGBoost",
          "CNN",
          "GRU",
          "InceptionTime",
          "LSTM",
          "DeepseekR1Llama8b",
          "Gemini2p5flash",
          "Gemma3",
          "Mistral",
          "Llama3"
         ],
         "y": [
          0.676,
          0.584,
          0.546,
          0.529,
          0.624,
          0.559,
          0.698,
          0.52,
          0.613,
          0.611,
          0.478,
          0.545
         ]
        },
        {
         "hovertemplate": "<b>Model:</b> %{x}<br><b>Task-Dataset:</b> %{meta}<br><b>Score:</b> %{y:.2f}<extra></extra>",
         "legendgroup": "aki - eicu",
         "marker": {
          "color": "rgb(8,48,107)"
         },
         "meta": "aki - eicu",
         "name": "aki - eicu",
         "type": "bar",
         "visible": false,
         "x": [
          "LightGBM",
          "RandomForest",
          "XGBoost",
          "CNN",
          "GRU",
          "InceptionTime",
          "LSTM",
          "DeepseekR1Llama8b",
          "Gemini2p5flash",
          "Gemma3",
          "Mistral",
          "Llama3"
         ],
         "y": [
          0.665,
          0.604,
          0.658,
          0.625,
          0.59,
          0.429,
          0.297,
          0.392,
          0.499,
          0.279,
          0.489,
          0.36
         ]
        },
        {
         "hovertemplate": "<b>Model:</b> %{x}<br><b>Task-Dataset:</b> %{meta}<br><b>Score:</b> %{y:.2f}<extra></extra>",
         "legendgroup": "mortality - eicu",
         "marker": {
          "color": "rgb(8,81,156)"
         },
         "meta": "mortality - eicu",
         "name": "mortality - eicu",
         "type": "bar",
         "visible": false,
         "x": [
          "LightGBM",
          "RandomForest",
          "XGBoost",
          "CNN",
          "GRU",
          "InceptionTime",
          "LSTM",
          "DeepseekR1Llama8b",
          "Gemini2p5flash",
          "Gemma3",
          "Mistral",
          "Llama3"
         ],
         "y": [
          0.473,
          0.469,
          0.477,
          0.452,
          0.386,
          0.462,
          0.507,
          0.234,
          0.389,
          0.535,
          0.192,
          0.535
         ]
        },
        {
         "hovertemplate": "<b>Model:</b> %{x}<br><b>Task-Dataset:</b> %{meta}<br><b>Score:</b> %{y:.2f}<extra></extra>",
         "legendgroup": "sepsis - eicu",
         "marker": {
          "color": "rgb(33,113,181)"
         },
         "meta": "sepsis - eicu",
         "name": "sepsis - eicu",
         "type": "bar",
         "visible": false,
         "x": [
          "LightGBM",
          "RandomForest",
          "XGBoost",
          "CNN",
          "GRU",
          "InceptionTime",
          "LSTM",
          "DeepseekR1Llama8b",
          "Gemini2p5flash",
          "Gemma3",
          "Mistral",
          "Llama3"
         ],
         "y": [
          0.087,
          0.062,
          0.056,
          0.051,
          0.063,
          0.052,
          0.076,
          0.054,
          0.057,
          0.035,
          0.024,
          0.052
         ]
        },
        {
         "hovertemplate": "<b>Model:</b> %{x}<br><b>Task-Dataset:</b> %{meta}<br><b>Score:</b> %{y:.2f}<extra></extra>",
         "legendgroup": "aki - eicu",
         "marker": {
          "color": "rgb(8,48,107)"
         },
         "meta": "aki - eicu",
         "name": "aki - eicu",
         "type": "bar",
         "visible": false,
         "x": [
          "LightGBM",
          "RandomForest",
          "XGBoost",
          "CNN",
          "GRU",
          "InceptionTime",
          "LSTM",
          "DeepseekR1Llama8b",
          "Gemini2p5flash",
          "Gemma3",
          "Mistral",
          "Llama3"
         ],
         "y": [
          2.146,
          1.948,
          2.121,
          2.017,
          1.904,
          1.385,
          0.959,
          1.264,
          1.609,
          0.902,
          1.577,
          1.16
         ]
        },
        {
         "hovertemplate": "<b>Model:</b> %{x}<br><b>Task-Dataset:</b> %{meta}<br><b>Score:</b> %{y:.2f}<extra></extra>",
         "legendgroup": "mortality - eicu",
         "marker": {
          "color": "rgb(8,81,156)"
         },
         "meta": "mortality - eicu",
         "name": "mortality - eicu",
         "type": "bar",
         "visible": false,
         "x": [
          "LightGBM",
          "RandomForest",
          "XGBoost",
          "CNN",
          "GRU",
          "InceptionTime",
          "LSTM",
          "DeepseekR1Llama8b",
          "Gemini2p5flash",
          "Gemma3",
          "Mistral",
          "Llama3"
         ],
         "y": [
          6.751,
          6.705,
          6.818,
          6.457,
          5.519,
          6.595,
          7.241,
          3.344,
          5.56,
          7.648,
          2.747,
          7.643
         ]
        },
        {
         "hovertemplate": "<b>Model:</b> %{x}<br><b>Task-Dataset:</b> %{meta}<br><b>Score:</b> %{y:.2f}<extra></extra>",
         "legendgroup": "sepsis - eicu",
         "marker": {
          "color": "rgb(33,113,181)"
         },
         "meta": "sepsis - eicu",
         "name": "sepsis - eicu",
         "type": "bar",
         "visible": false,
         "x": [
          "LightGBM",
          "RandomForest",
          "XGBoost",
          "CNN",
          "GRU",
          "InceptionTime",
          "LSTM",
          "DeepseekR1Llama8b",
          "Gemini2p5flash",
          "Gemma3",
          "Mistral",
          "Llama3"
         ],
         "y": [
          1.816,
          1.283,
          1.174,
          1.057,
          1.306,
          1.092,
          1.587,
          1.134,
          1.19,
          0.738,
          0.5,
          1.081
         ]
        },
        {
         "hovertemplate": "<b>Model:</b> %{x}<br><b>Task-Dataset:</b> %{meta}<br><b>Score:</b> %{y:.2f}<extra></extra>",
         "legendgroup": "aki - eicu",
         "marker": {
          "color": "rgb(8,48,107)"
         },
         "meta": "aki - eicu",
         "name": "aki - eicu",
         "type": "bar",
         "visible": false,
         "x": [
          "LightGBM",
          "RandomForest",
          "XGBoost",
          "CNN",
          "GRU",
          "InceptionTime",
          "LSTM",
          "DeepseekR1Llama8b",
          "Gemini2p5flash",
          "Gemma3",
          "Mistral",
          "Llama3"
         ],
         "y": [
          0.368,
          0.341,
          0.35,
          0.438,
          0.359,
          0.204,
          0,
          0.123,
          0.218,
          0.083,
          0,
          0.038
         ]
        },
        {
         "hovertemplate": "<b>Model:</b> %{x}<br><b>Task-Dataset:</b> %{meta}<br><b>Score:</b> %{y:.2f}<extra></extra>",
         "legendgroup": "mortality - eicu",
         "marker": {
          "color": "rgb(8,81,156)"
         },
         "meta": "mortality - eicu",
         "name": "mortality - eicu",
         "type": "bar",
         "visible": false,
         "x": [
          "LightGBM",
          "RandomForest",
          "XGBoost",
          "CNN",
          "GRU",
          "InceptionTime",
          "LSTM",
          "DeepseekR1Llama8b",
          "Gemini2p5flash",
          "Gemma3",
          "Mistral",
          "Llama3"
         ],
         "y": [
          0.366,
          0.366,
          0.366,
          0.382,
          0.261,
          0.353,
          0.411,
          0.17,
          0.248,
          0,
          0,
          0
         ]
        },
        {
         "hovertemplate": "<b>Model:</b> %{x}<br><b>Task-Dataset:</b> %{meta}<br><b>Score:</b> %{y:.2f}<extra></extra>",
         "legendgroup": "sepsis - eicu",
         "marker": {
          "color": "rgb(33,113,181)"
         },
         "meta": "sepsis - eicu",
         "name": "sepsis - eicu",
         "type": "bar",
         "visible": false,
         "x": [
          "LightGBM",
          "RandomForest",
          "XGBoost",
          "CNN",
          "GRU",
          "InceptionTime",
          "LSTM",
          "DeepseekR1Llama8b",
          "Gemini2p5flash",
          "Gemma3",
          "Mistral",
          "Llama3"
         ],
         "y": [
          0,
          0,
          0,
          -0.032,
          0.08,
          0.048,
          0,
          0.025,
          0.038,
          0.048,
          -0.047,
          0.051
         ]
        },
        {
         "hovertemplate": "<b>Model:</b> %{x}<br><b>Task-Dataset:</b> %{meta}<br><b>Score:</b> %{y:.2f}<extra></extra>",
         "legendgroup": "aki - eicu",
         "marker": {
          "color": "rgb(8,48,107)"
         },
         "meta": "aki - eicu",
         "name": "aki - eicu",
         "type": "bar",
         "visible": false,
         "x": [
          "LightGBM",
          "RandomForest",
          "XGBoost",
          "CNN",
          "GRU",
          "InceptionTime",
          "LSTM",
          "DeepseekR1Llama8b",
          "Gemini2p5flash",
          "Gemma3",
          "Mistral",
          "Llama3"
         ],
         "y": [
          0.594,
          0.574,
          0.593,
          0.595,
          0.564,
          0.449,
          0.31,
          0.382,
          0.377,
          0.409,
          0.31,
          0.31
         ]
        },
        {
         "hovertemplate": "<b>Model:</b> %{x}<br><b>Task-Dataset:</b> %{meta}<br><b>Score:</b> %{y:.2f}<extra></extra>",
         "legendgroup": "mortality - eicu",
         "marker": {
          "color": "rgb(8,81,156)"
         },
         "meta": "mortality - eicu",
         "name": "mortality - eicu",
         "type": "bar",
         "visible": false,
         "x": [
          "LightGBM",
          "RandomForest",
          "XGBoost",
          "CNN",
          "GRU",
          "InceptionTime",
          "LSTM",
          "DeepseekR1Llama8b",
          "Gemini2p5flash",
          "Gemma3",
          "Mistral",
          "Llama3"
         ],
         "y": [
          0.429,
          0.429,
          0.429,
          0.429,
          0.333,
          0.429,
          0.429,
          0.135,
          0.3,
          0.071,
          0.07,
          0.07
         ]
        },
        {
         "hovertemplate": "<b>Model:</b> %{x}<br><b>Task-Dataset:</b> %{meta}<br><b>Score:</b> %{y:.2f}<extra></extra>",
         "legendgroup": "sepsis - eicu",
         "marker": {
          "color": "rgb(33,113,181)"
         },
         "meta": "sepsis - eicu",
         "name": "sepsis - eicu",
         "type": "bar",
         "visible": false,
         "x": [
          "LightGBM",
          "RandomForest",
          "XGBoost",
          "CNN",
          "GRU",
          "InceptionTime",
          "LSTM",
          "DeepseekR1Llama8b",
          "Gemini2p5flash",
          "Gemma3",
          "Mistral",
          "Llama3"
         ],
         "y": [
          0.163,
          0.092,
          0.127,
          0.085,
          0.083,
          0.067,
          0.1,
          0.054,
          0.07,
          0.064,
          0.048,
          0.055
         ]
        }
       ],
       "layout": {
        "barmode": "group",
        "height": 650,
        "legend": {
         "font": {
          "size": 14
         },
         "title": {
          "font": {
           "size": 16
          },
          "text": "Task-Dataset"
         }
        },
        "paper_bgcolor": "rgba(255, 255, 255, 1.0)",
        "plot_bgcolor": "rgba(0, 0, 0, 0.1)",
        "template": {
         "data": {
          "bar": [
           {
            "error_x": {
             "color": "#2a3f5f"
            },
            "error_y": {
             "color": "#2a3f5f"
            },
            "marker": {
             "line": {
              "color": "#E5ECF6",
              "width": 0.5
             },
             "pattern": {
              "fillmode": "overlay",
              "size": 10,
              "solidity": 0.2
             }
            },
            "type": "bar"
           }
          ],
          "barpolar": [
           {
            "marker": {
             "line": {
              "color": "#E5ECF6",
              "width": 0.5
             },
             "pattern": {
              "fillmode": "overlay",
              "size": 10,
              "solidity": 0.2
             }
            },
            "type": "barpolar"
           }
          ],
          "carpet": [
           {
            "aaxis": {
             "endlinecolor": "#2a3f5f",
             "gridcolor": "white",
             "linecolor": "white",
             "minorgridcolor": "white",
             "startlinecolor": "#2a3f5f"
            },
            "baxis": {
             "endlinecolor": "#2a3f5f",
             "gridcolor": "white",
             "linecolor": "white",
             "minorgridcolor": "white",
             "startlinecolor": "#2a3f5f"
            },
            "type": "carpet"
           }
          ],
          "choropleth": [
           {
            "colorbar": {
             "outlinewidth": 0,
             "ticks": ""
            },
            "type": "choropleth"
           }
          ],
          "contour": [
           {
            "colorbar": {
             "outlinewidth": 0,
             "ticks": ""
            },
            "colorscale": [
             [
              0,
              "#0d0887"
             ],
             [
              0.1111111111111111,
              "#46039f"
             ],
             [
              0.2222222222222222,
              "#7201a8"
             ],
             [
              0.3333333333333333,
              "#9c179e"
             ],
             [
              0.4444444444444444,
              "#bd3786"
             ],
             [
              0.5555555555555556,
              "#d8576b"
             ],
             [
              0.6666666666666666,
              "#ed7953"
             ],
             [
              0.7777777777777778,
              "#fb9f3a"
             ],
             [
              0.8888888888888888,
              "#fdca26"
             ],
             [
              1,
              "#f0f921"
             ]
            ],
            "type": "contour"
           }
          ],
          "contourcarpet": [
           {
            "colorbar": {
             "outlinewidth": 0,
             "ticks": ""
            },
            "type": "contourcarpet"
           }
          ],
          "heatmap": [
           {
            "colorbar": {
             "outlinewidth": 0,
             "ticks": ""
            },
            "colorscale": [
             [
              0,
              "#0d0887"
             ],
             [
              0.1111111111111111,
              "#46039f"
             ],
             [
              0.2222222222222222,
              "#7201a8"
             ],
             [
              0.3333333333333333,
              "#9c179e"
             ],
             [
              0.4444444444444444,
              "#bd3786"
             ],
             [
              0.5555555555555556,
              "#d8576b"
             ],
             [
              0.6666666666666666,
              "#ed7953"
             ],
             [
              0.7777777777777778,
              "#fb9f3a"
             ],
             [
              0.8888888888888888,
              "#fdca26"
             ],
             [
              1,
              "#f0f921"
             ]
            ],
            "type": "heatmap"
           }
          ],
          "histogram": [
           {
            "marker": {
             "pattern": {
              "fillmode": "overlay",
              "size": 10,
              "solidity": 0.2
             }
            },
            "type": "histogram"
           }
          ],
          "histogram2d": [
           {
            "colorbar": {
             "outlinewidth": 0,
             "ticks": ""
            },
            "colorscale": [
             [
              0,
              "#0d0887"
             ],
             [
              0.1111111111111111,
              "#46039f"
             ],
             [
              0.2222222222222222,
              "#7201a8"
             ],
             [
              0.3333333333333333,
              "#9c179e"
             ],
             [
              0.4444444444444444,
              "#bd3786"
             ],
             [
              0.5555555555555556,
              "#d8576b"
             ],
             [
              0.6666666666666666,
              "#ed7953"
             ],
             [
              0.7777777777777778,
              "#fb9f3a"
             ],
             [
              0.8888888888888888,
              "#fdca26"
             ],
             [
              1,
              "#f0f921"
             ]
            ],
            "type": "histogram2d"
           }
          ],
          "histogram2dcontour": [
           {
            "colorbar": {
             "outlinewidth": 0,
             "ticks": ""
            },
            "colorscale": [
             [
              0,
              "#0d0887"
             ],
             [
              0.1111111111111111,
              "#46039f"
             ],
             [
              0.2222222222222222,
              "#7201a8"
             ],
             [
              0.3333333333333333,
              "#9c179e"
             ],
             [
              0.4444444444444444,
              "#bd3786"
             ],
             [
              0.5555555555555556,
              "#d8576b"
             ],
             [
              0.6666666666666666,
              "#ed7953"
             ],
             [
              0.7777777777777778,
              "#fb9f3a"
             ],
             [
              0.8888888888888888,
              "#fdca26"
             ],
             [
              1,
              "#f0f921"
             ]
            ],
            "type": "histogram2dcontour"
           }
          ],
          "mesh3d": [
           {
            "colorbar": {
             "outlinewidth": 0,
             "ticks": ""
            },
            "type": "mesh3d"
           }
          ],
          "parcoords": [
           {
            "line": {
             "colorbar": {
              "outlinewidth": 0,
              "ticks": ""
             }
            },
            "type": "parcoords"
           }
          ],
          "pie": [
           {
            "automargin": true,
            "type": "pie"
           }
          ],
          "scatter": [
           {
            "fillpattern": {
             "fillmode": "overlay",
             "size": 10,
             "solidity": 0.2
            },
            "type": "scatter"
           }
          ],
          "scatter3d": [
           {
            "line": {
             "colorbar": {
              "outlinewidth": 0,
              "ticks": ""
             }
            },
            "marker": {
             "colorbar": {
              "outlinewidth": 0,
              "ticks": ""
             }
            },
            "type": "scatter3d"
           }
          ],
          "scattercarpet": [
           {
            "marker": {
             "colorbar": {
              "outlinewidth": 0,
              "ticks": ""
             }
            },
            "type": "scattercarpet"
           }
          ],
          "scattergeo": [
           {
            "marker": {
             "colorbar": {
              "outlinewidth": 0,
              "ticks": ""
             }
            },
            "type": "scattergeo"
           }
          ],
          "scattergl": [
           {
            "marker": {
             "colorbar": {
              "outlinewidth": 0,
              "ticks": ""
             }
            },
            "type": "scattergl"
           }
          ],
          "scattermap": [
           {
            "marker": {
             "colorbar": {
              "outlinewidth": 0,
              "ticks": ""
             }
            },
            "type": "scattermap"
           }
          ],
          "scattermapbox": [
           {
            "marker": {
             "colorbar": {
              "outlinewidth": 0,
              "ticks": ""
             }
            },
            "type": "scattermapbox"
           }
          ],
          "scatterpolar": [
           {
            "marker": {
             "colorbar": {
              "outlinewidth": 0,
              "ticks": ""
             }
            },
            "type": "scatterpolar"
           }
          ],
          "scatterpolargl": [
           {
            "marker": {
             "colorbar": {
              "outlinewidth": 0,
              "ticks": ""
             }
            },
            "type": "scatterpolargl"
           }
          ],
          "scatterternary": [
           {
            "marker": {
             "colorbar": {
              "outlinewidth": 0,
              "ticks": ""
             }
            },
            "type": "scatterternary"
           }
          ],
          "surface": [
           {
            "colorbar": {
             "outlinewidth": 0,
             "ticks": ""
            },
            "colorscale": [
             [
              0,
              "#0d0887"
             ],
             [
              0.1111111111111111,
              "#46039f"
             ],
             [
              0.2222222222222222,
              "#7201a8"
             ],
             [
              0.3333333333333333,
              "#9c179e"
             ],
             [
              0.4444444444444444,
              "#bd3786"
             ],
             [
              0.5555555555555556,
              "#d8576b"
             ],
             [
              0.6666666666666666,
              "#ed7953"
             ],
             [
              0.7777777777777778,
              "#fb9f3a"
             ],
             [
              0.8888888888888888,
              "#fdca26"
             ],
             [
              1,
              "#f0f921"
             ]
            ],
            "type": "surface"
           }
          ],
          "table": [
           {
            "cells": {
             "fill": {
              "color": "#EBF0F8"
             },
             "line": {
              "color": "white"
             }
            },
            "header": {
             "fill": {
              "color": "#C8D4E3"
             },
             "line": {
              "color": "white"
             }
            },
            "type": "table"
           }
          ]
         },
         "layout": {
          "annotationdefaults": {
           "arrowcolor": "#2a3f5f",
           "arrowhead": 0,
           "arrowwidth": 1
          },
          "autotypenumbers": "strict",
          "coloraxis": {
           "colorbar": {
            "outlinewidth": 0,
            "ticks": ""
           }
          },
          "colorscale": {
           "diverging": [
            [
             0,
             "#8e0152"
            ],
            [
             0.1,
             "#c51b7d"
            ],
            [
             0.2,
             "#de77ae"
            ],
            [
             0.3,
             "#f1b6da"
            ],
            [
             0.4,
             "#fde0ef"
            ],
            [
             0.5,
             "#f7f7f7"
            ],
            [
             0.6,
             "#e6f5d0"
            ],
            [
             0.7,
             "#b8e186"
            ],
            [
             0.8,
             "#7fbc41"
            ],
            [
             0.9,
             "#4d9221"
            ],
            [
             1,
             "#276419"
            ]
           ],
           "sequential": [
            [
             0,
             "#0d0887"
            ],
            [
             0.1111111111111111,
             "#46039f"
            ],
            [
             0.2222222222222222,
             "#7201a8"
            ],
            [
             0.3333333333333333,
             "#9c179e"
            ],
            [
             0.4444444444444444,
             "#bd3786"
            ],
            [
             0.5555555555555556,
             "#d8576b"
            ],
            [
             0.6666666666666666,
             "#ed7953"
            ],
            [
             0.7777777777777778,
             "#fb9f3a"
            ],
            [
             0.8888888888888888,
             "#fdca26"
            ],
            [
             1,
             "#f0f921"
            ]
           ],
           "sequentialminus": [
            [
             0,
             "#0d0887"
            ],
            [
             0.1111111111111111,
             "#46039f"
            ],
            [
             0.2222222222222222,
             "#7201a8"
            ],
            [
             0.3333333333333333,
             "#9c179e"
            ],
            [
             0.4444444444444444,
             "#bd3786"
            ],
            [
             0.5555555555555556,
             "#d8576b"
            ],
            [
             0.6666666666666666,
             "#ed7953"
            ],
            [
             0.7777777777777778,
             "#fb9f3a"
            ],
            [
             0.8888888888888888,
             "#fdca26"
            ],
            [
             1,
             "#f0f921"
            ]
           ]
          },
          "colorway": [
           "#636efa",
           "#EF553B",
           "#00cc96",
           "#ab63fa",
           "#FFA15A",
           "#19d3f3",
           "#FF6692",
           "#B6E880",
           "#FF97FF",
           "#FECB52"
          ],
          "font": {
           "color": "#2a3f5f"
          },
          "geo": {
           "bgcolor": "white",
           "lakecolor": "white",
           "landcolor": "#E5ECF6",
           "showlakes": true,
           "showland": true,
           "subunitcolor": "white"
          },
          "hoverlabel": {
           "align": "left"
          },
          "hovermode": "closest",
          "mapbox": {
           "style": "light"
          },
          "paper_bgcolor": "white",
          "plot_bgcolor": "#E5ECF6",
          "polar": {
           "angularaxis": {
            "gridcolor": "white",
            "linecolor": "white",
            "ticks": ""
           },
           "bgcolor": "#E5ECF6",
           "radialaxis": {
            "gridcolor": "white",
            "linecolor": "white",
            "ticks": ""
           }
          },
          "scene": {
           "xaxis": {
            "backgroundcolor": "#E5ECF6",
            "gridcolor": "white",
            "gridwidth": 2,
            "linecolor": "white",
            "showbackground": true,
            "ticks": "",
            "zerolinecolor": "white"
           },
           "yaxis": {
            "backgroundcolor": "#E5ECF6",
            "gridcolor": "white",
            "gridwidth": 2,
            "linecolor": "white",
            "showbackground": true,
            "ticks": "",
            "zerolinecolor": "white"
           },
           "zaxis": {
            "backgroundcolor": "#E5ECF6",
            "gridcolor": "white",
            "gridwidth": 2,
            "linecolor": "white",
            "showbackground": true,
            "ticks": "",
            "zerolinecolor": "white"
           }
          },
          "shapedefaults": {
           "line": {
            "color": "#2a3f5f"
           }
          },
          "ternary": {
           "aaxis": {
            "gridcolor": "white",
            "linecolor": "white",
            "ticks": ""
           },
           "baxis": {
            "gridcolor": "white",
            "linecolor": "white",
            "ticks": ""
           },
           "bgcolor": "#E5ECF6",
           "caxis": {
            "gridcolor": "white",
            "linecolor": "white",
            "ticks": ""
           }
          },
          "title": {
           "x": 0.05
          },
          "xaxis": {
           "automargin": true,
           "gridcolor": "white",
           "linecolor": "white",
           "ticks": "",
           "title": {
            "standoff": 15
           },
           "zerolinecolor": "white",
           "zerolinewidth": 2
          },
          "yaxis": {
           "automargin": true,
           "gridcolor": "white",
           "linecolor": "white",
           "ticks": "",
           "title": {
            "standoff": 15
           },
           "zerolinecolor": "white",
           "zerolinewidth": 2
          }
         }
        },
        "title": {
         "font": {
          "size": 20
         },
         "text": "PULSE Scores",
         "x": 0.5,
         "y": 0.95
        },
        "updatemenus": [
         {
          "buttons": [
           {
            "args": [
             {
              "visible": [
               true,
               true,
               true,
               false,
               false,
               false,
               false,
               false,
               false,
               false,
               false,
               false,
               false,
               false,
               false
              ]
             },
             {
              "title": "Benchmarking: auroc"
             }
            ],
            "label": "auroc",
            "method": "update"
           },
           {
            "args": [
             {
              "visible": [
               false,
               false,
               false,
               true,
               true,
               true,
               false,
               false,
               false,
               false,
               false,
               false,
               false,
               false,
               false
              ]
             },
             {
              "title": "Benchmarking: auprc"
             }
            ],
            "label": "auprc",
            "method": "update"
           },
           {
            "args": [
             {
              "visible": [
               false,
               false,
               false,
               false,
               false,
               false,
               true,
               true,
               true,
               false,
               false,
               false,
               false,
               false,
               false
              ]
             },
             {
              "title": "Benchmarking: normalized_auprc"
             }
            ],
            "label": "normalized_auprc",
            "method": "update"
           },
           {
            "args": [
             {
              "visible": [
               false,
               false,
               false,
               false,
               false,
               false,
               false,
               false,
               false,
               true,
               true,
               true,
               false,
               false,
               false
              ]
             },
             {
              "title": "Benchmarking: mcc"
             }
            ],
            "label": "mcc",
            "method": "update"
           },
           {
            "args": [
             {
              "visible": [
               false,
               false,
               false,
               false,
               false,
               false,
               false,
               false,
               false,
               false,
               false,
               false,
               true,
               true,
               true
              ]
             },
             {
              "title": "Benchmarking: minpse"
             }
            ],
            "label": "minpse",
            "method": "update"
           }
          ],
          "direction": "down",
          "showactive": true,
          "x": 1.15,
          "xanchor": "left",
          "y": 1.15,
          "yanchor": "top"
         }
        ],
        "width": 1100,
        "xaxis": {
         "tickangle": -30,
         "tickfont": {
          "size": 12
         },
         "title": {
          "font": {
           "size": 16
          },
          "text": "Model"
         }
        },
        "yaxis": {
         "tickfont": {
          "size": 12
         },
         "title": {
          "font": {
           "size": 16
          },
          "text": "Score"
         }
        }
       }
      }
     },
     "metadata": {},
     "output_type": "display_data"
    }
   ],
   "source": [
    "# Create traces for all (metric, task-dataset) pairs\n",
    "fig = go.Figure()\n",
    "\n",
    "initial_metric_index = 0  # Show only the first metric at start\n",
    "\n",
    "for metric_index, metric in enumerate(metrics):\n",
    "    metric_df = df.copy()\n",
    "    for task_dataset in task_datasets:\n",
    "        sub_df = metric_df[metric_df[\"Task-Dataset\"] == task_dataset]\n",
    "        y_vals = [\n",
    "            (\n",
    "                sub_df[sub_df[\"Model\"] == model][metric].values[0]\n",
    "                if model in sub_df[\"Model\"].values\n",
    "                else None\n",
    "            )\n",
    "            for model in models\n",
    "        ]\n",
    "        # Only show traces for the first metric initially\n",
    "        visible = metric_index == initial_metric_index\n",
    "        fig.add_trace(\n",
    "            go.Bar(\n",
    "                x=models,\n",
    "                y=y_vals,\n",
    "                name=task_dataset,\n",
    "                marker_color=task_dataset_colors[task_datasets.index(task_dataset)],\n",
    "                legendgroup=task_dataset,\n",
    "                visible=visible,\n",
    "                meta=task_dataset,\n",
    "            )\n",
    "        )\n",
    "\n",
    "# Create dropdown visibility logic\n",
    "visibility_map = []\n",
    "for i in range(len(metrics)):\n",
    "    vis = [False] * len(metrics) * traces_per_metric\n",
    "    start = i * traces_per_metric\n",
    "    vis[start : start + traces_per_metric] = [True] * traces_per_metric\n",
    "    visibility_map.append(vis)\n",
    "\n",
    "# Add dropdown menu\n",
    "fig.update_layout(\n",
    "    updatemenus=[\n",
    "        {\n",
    "            \"buttons\": [\n",
    "                {\n",
    "                    \"label\": metric,\n",
    "                    \"method\": \"update\",\n",
    "                    \"args\": [{\"visible\": vis}, {\"title\": f\"Benchmarking: {metric}\"}],\n",
    "                }\n",
    "                for metric, vis in zip(metrics, visibility_map)\n",
    "            ],\n",
    "            \"direction\": \"down\",\n",
    "            \"showactive\": True,\n",
    "            \"x\": 1.15,\n",
    "            \"xanchor\": \"left\",\n",
    "            \"y\": 1.15,\n",
    "            \"yanchor\": \"top\",\n",
    "        }\n",
    "    ],\n",
    "    barmode=\"group\",\n",
    "    title=f\"PULSE Scores: {metrics[0]}\",\n",
    "    xaxis_title=\"Model\",\n",
    "    yaxis_title=\"Score\",\n",
    "    legend_title=\"Task-Dataset\",\n",
    "    xaxis_tickangle=-30,\n",
    "    width=1100,\n",
    "    height=650,\n",
    ")\n",
    "\n",
    "# Update layout for better readability\n",
    "fig.update_layout(\n",
    "    title_font=dict(size=20),\n",
    "    xaxis_title_font=dict(size=16),\n",
    "    yaxis_title_font=dict(size=16),\n",
    "    legend_title_font=dict(size=16),\n",
    "    legend_font=dict(size=14),\n",
    "    xaxis_tickfont=dict(size=12),\n",
    "    yaxis_tickfont=dict(size=12),\n",
    ")\n",
    "\n",
    "# Add hover template for better readability\n",
    "# fig.update_traces(\n",
    "#     hovertemplate=\"<b>Model:</b> %{x}<br><b>Task-Dataset:</b> %{meta}<br><b>Score:</b> %{y:.2f}<extra></extra>\",\n",
    "#     meta=[task_dataset for task_dataset in task_datasets]\n",
    "# )\n",
    "\n",
    "fig.update_traces(\n",
    "    hovertemplate=\"<b>Model:</b> %{x}<br><b>Task-Dataset:</b> %{meta}<br><b>Score:</b> %{y:.2f}<extra></extra>\",\n",
    ")\n",
    "\n",
    "# Add a title to the figure\n",
    "fig.update_layout(\n",
    "    title_text=\"PULSE Scores\",\n",
    "    title_x=0.5,\n",
    "    title_y=0.95,\n",
    ")\n",
    "\n",
    "# Add a background color\n",
    "fig.update_layout(\n",
    "    plot_bgcolor=\"rgba(0, 0, 0, 0.1)\",\n",
    "    paper_bgcolor=\"rgba(255, 255, 255, 1.0)\",\n",
    ")\n",
    "\n",
    "\n",
    "# Save the interactive chart to HTML\n",
    "pio.write_html(fig, file=\"benchmark_plot.html\", full_html=True, include_plotlyjs=\"cdn\")\n",
    "fig.show()"
   ]
  },
  {
   "cell_type": "code",
   "execution_count": null,
   "id": "4dde7fa8",
   "metadata": {},
   "outputs": [],
   "source": []
  }
 ],
 "metadata": {
  "kernelspec": {
   "display_name": ".venv",
   "language": "python",
   "name": "python3"
  },
  "language_info": {
   "codemirror_mode": {
    "name": "ipython",
    "version": 3
   },
   "file_extension": ".py",
   "mimetype": "text/x-python",
   "name": "python",
   "nbconvert_exporter": "python",
   "pygments_lexer": "ipython3",
   "version": "3.12.2"
  }
 },
 "nbformat": 4,
 "nbformat_minor": 5
}
